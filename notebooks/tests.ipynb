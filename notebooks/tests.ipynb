{
 "cells": [
  {
   "cell_type": "code",
   "id": "initial_id",
   "metadata": {
    "collapsed": true,
    "ExecuteTime": {
     "end_time": "2024-05-10T20:09:56.678090Z",
     "start_time": "2024-05-10T20:08:31.711306Z"
    }
   },
   "source": [
    "# Realistically, I would need a fail-save for when a dataset has weird values, like throwing that molecule out entirely.\n",
    "\n",
    "from grape.datasets import QM9\n",
    "%time dataset = QM9(log=False)\n"
   ],
   "outputs": [
    {
     "name": "stdout",
     "output_type": "stream",
     "text": [
      "CPU times: user 1min 20s, sys: 621 ms, total: 1min 21s\n",
      "Wall time: 1min 21s\n"
     ]
    }
   ],
   "execution_count": 1
  },
  {
   "metadata": {
    "ExecuteTime": {
     "end_time": "2024-05-10T20:11:37.042359Z",
     "start_time": "2024-05-10T20:11:37.038947Z"
    }
   },
   "cell_type": "code",
   "source": "print(len(dataset))",
   "id": "95a044b9714cbf6",
   "outputs": [
    {
     "name": "stdout",
     "output_type": "stream",
     "text": [
      "128096\n"
     ]
    }
   ],
   "execution_count": 2
  },
  {
   "metadata": {
    "ExecuteTime": {
     "end_time": "2024-05-16T12:13:40.143602Z",
     "start_time": "2024-05-16T12:13:39.795077Z"
    }
   },
   "cell_type": "code",
   "source": [
    "#from torch_geometric.datasets import MoleculeNet\n",
    "#data = MoleculeNet(root='', name='FreeSolv')\n",
    "from grape.datasets import FreeSolv\n",
    "data = FreeSolv()\n",
    "print(data.smiles)"
   ],
   "id": "88307db596789025",
   "outputs": [
    {
     "name": "stdout",
     "output_type": "stream",
     "text": [
      "['COc1ccc(C(=O)N(C)C)cc1' 'CS(=O)(=O)Cl' 'C=CC(C)C' 'CCc1cnccn1'\n",
      " 'CCCCCCCO' 'Cc1cc(C)cc(O)c1' 'CC(C)C(C)C' 'CCCC(C)(C)O'\n",
      " 'C[C@@H]1CCCC[C@@H]1C' 'CC[C@H](C)O' 'BrCBr' 'CC[C@@H](O)C(C)C'\n",
      " 'CCc1ccccn1' 'CCCCC(=O)OCC' 'Sc1ccccc1' 'CC(C)=CCC/C(C)=C\\\\CO'\n",
      " 'c1ccc2c(c1)CCC2' 'CCOc1ccccc1' 'Oc1ccc(Br)cc1' 'CCCC(C)(C)C'\n",
      " 'CC(=O)OCCOC(C)=O' 'CCOP(=S)(OCC)SCSP(=S)(OCC)OCC' 'OC1CCCCCC1'\n",
      " 'COC(=O)C1CC1' 'N#Cc1ccccc1' 'CCCCC#N' 'CC(C)(C)O' 'CC(C)C(=O)C(C)C'\n",
      " 'CCC=O' 'CN(C)C=O' 'Cc1ccc(C)cc1' 'C=CCC=C' 'Cc1cccc(Nc2ccccc2C(=O)O)c1C'\n",
      " 'CN(C)C(=O)c1ccccc1' 'CCNCC' 'CC(C)(C)c1ccc(O)cc1' 'CC(C)CCOC=O'\n",
      " 'CCCCCCCCCCO' 'CCOC(=O)CC' 'CCCCCCCCC' 'CNC(C)=O' 'C=CCCCCCCC'\n",
      " 'Oc1ccc2ccccc2c1' 'Clc1ccc(Cl)c(Cl)c1'\n",
      " 'OC[C@@H](O)[C@@H](O)[C@H](O)[C@H](O)CO' 'CCCC(=O)OC' 'O=Cc1ccccc1O'\n",
      " 'C1CNC1' 'CCCNCCC' 'Nc1ccccc1' 'FC(F)(F)F' 'CC[C@@H](C)CO' 'Oc1ccccc1I'\n",
      " 'COc1cccc(OC)c1O' 'C#CCC' 'FC(F)(F)c1ccccc1' 'Cc1ccccn1'\n",
      " 'CCNc1nc(Cl)nc(NCC)n1' 'Clc1cc2c(cc1Cl)Oc1ccccc1O2' 'CCCCCCCCN'\n",
      " 'FC(F)(F)c1ccccc1C(F)(F)F' 'COC(=O)c1ccc(O)cc1' 'CCCCCc1ccccc1' 'CC(F)F'\n",
      " 'Nc1cnn(-c2ccccc2)c(=O)c1Cl' 'C=CC=C' 'CN(C)C' 'CCCCCC(N)=O'\n",
      " 'CC(C)CO[N+](=O)[O-]' 'O=C1c2ccccc2C(=O)c2c(NCCO)cccc21'\n",
      " 'O=[N+]([O-])OCCO' 'CCCCCCC(C)=O' 'CN1CCNCC1' 'CCN' 'C1=CC=CCC=C1'\n",
      " 'c1ccc2c(c1)Cc1ccccc1C2' 'CC(Cl)Cl' 'COc1cccc(O)c1'\n",
      " 'c1cc2c3c(cccc3c1)CC2' 'CCCCCCCCBr' 'OCc1ccccc1'\n",
      " 'O=c1[nH]cc(Br)c(=O)[nH]1' 'CCCC' 'CCl' 'CC(C)CBr' 'CC(C)SC(C)C'\n",
      " 'CCCCCCC' 'c1c[nH]cn1' 'Clc1ccc2c(c1)Oc1cc(Cl)c(Cl)c(Cl)c1O2'\n",
      " 'CC[C@H](C)n1c(=O)[nH]c(C)c(Br)c1=O' 'ICI' 'CCCSC(=O)N(CCC)CCC'\n",
      " 'C[N+](=O)[O-]' 'CCOC' 'COC(CCl)(OC)OC' 'CC(C)C' 'CC(C)CC(=O)O'\n",
      " 'CCOP(=O)(OCC)O/C(=C/Cl)c1ccc(Cl)cc1Cl' 'CCCCl' 'CCCSCCC'\n",
      " 'CCC[C@@H](O)CC' 'CC#N' 'CN(CC(F)(F)F)c1ccccc1' 'FC(F)O[C@H](Cl)C(F)(F)F'\n",
      " 'C=CCCC=C' 'Cc1cccc(C)c1' 'COC(C)=O' 'COC(OC)(OC)c1ccccc1'\n",
      " 'CCOC(=O)c1ccccc1' 'CCCS' 'CCCCCC(C)=O' 'CNC(=O)Oc1cccc2c1OC(C)(C)C2'\n",
      " 'BrCc1ccccc1' 'CCCCCC(=O)OCC' 'CCCOC' 'CN1CCOCC1' 'N#Cc1cccc(O)c1'\n",
      " 'Clc1ccc(-c2c(Cl)c(Cl)cc(Cl)c2Cl)cc1Cl' 'CCCc1ccccc1'\n",
      " 'Cn1c(=O)c2c(ncn2C)n(C)c1=O' 'CNC' 'FC(F)=C(F)C(F)(F)F' 'Oc1ccc(Cl)cc1'\n",
      " 'C1CCNCC1' 'c1ccc2c(c1)ccc1ccccc12' 'CI' 'COc1c(Cl)cc(Cl)c(OC)c1O'\n",
      " 'Cl/C=C/Cl' 'CCCCC' 'CCCC#N' 'F[C@H](Br)C(F)(F)F' 'CC(C)Cc1cnccn1'\n",
      " 'CC[C@H](C)O[N+](=O)[O-]' 'Clc1ccc(Cl)c(-c2ccccc2)c1'\n",
      " 'Clc1cc(-c2ccccc2)c(Cl)c(Cl)c1Cl' 'CC[C@@H](C)C(C)C' 'CC(C)C[C@@H](C)O'\n",
      " 'C1CCOCC1' 'C1CC1' 'Clc1cc(-c2cc(Cl)c(Cl)c(Cl)c2Cl)cc(Cl)c1Cl'\n",
      " 'C=C(Cl)Cl' 'CC(C)CO' 'CCCOC(=O)CC' 'ClC(Cl)(Cl)C(Cl)(Cl)Cl' 'CSc1ccccc1'\n",
      " 'CCc1ccccc1O' 'CC(C)(C)Cl' 'C=CC(=C)C' 'Cc1ccc(C(C)C)cc1' 'Cn1ccnc1'\n",
      " 'OCCO' 'Clc1ccccc1Cl' 'O=c1cc(Cl)[nH]c(=O)[nH]1' 'CCCOC=O'\n",
      " 'Clc1ccc2c(c1)Oc1ccccc1O2' 'CCCCCC(=O)O' 'CCOC(=O)CCC(=O)OCC'\n",
      " 'Cc1ccnc(C)c1' 'C1=CCCCC1' 'CN1CCN(C)CC1'\n",
      " 'Clc1ccc(-c2cc(Cl)c(Cl)c(Cl)c2Cl)cc1Cl' 'O=C1C=CC(=O)C=C1' 'COC(=O)CCl'\n",
      " 'CCCC=O' 'CCc1ccccc1' 'ClC=C(Cl)Cl' 'CCN(CC)CC'\n",
      " 'Clc1ccc2c(c1)Oc1c(Cl)c(Cl)c(Cl)c(Cl)c1O2' 'Cc1ccncc1C'\n",
      " 'O=c1[nH]c(=O)[nH]c(=O)[nH]1' 'O=Cc1ccccc1' 'Clc1ccccn1' 'C=CCCl'\n",
      " 'CC(=O)c1ccc(C)cc1' 'C=O' 'Cc1ccccc1Cl' 'CC(=O)N1CCCC1' 'COC(C)(OC)OC'\n",
      " 'CCCCc1ccccc1' 'CN(C)c1ccccc1' 'COC(C)C'\n",
      " 'Clc1c(Cl)c(Cl)c2c(c1Cl)Oc1c(Cl)c(Cl)c(Cl)c(Cl)c1O2'\n",
      " 'Clc1c(Cl)c(Cl)c(-c2c(Cl)c(Cl)c(Cl)c(Cl)c2Cl)c(Cl)c1Cl' 'ClCC(Cl)Cl'\n",
      " 'CNc1ccccc1' 'CC(=O)OC(C)C' 'c1ccccc1' 'Clc1cccc(Cl)c1Cl'\n",
      " 'CCOP(=S)(OCC)SCSc1ccc(Cl)cc1' 'COP(=S)(OC)SCn1nnc2ccccc2c1=O'\n",
      " 'Clc1cc(Cl)c2c(c1Cl)Oc1ccccc1O2' 'C=C(C)C(=C)C' 'C=CCCCC' 'CCOCC'\n",
      " 'CCNc1nc(NC(C)C)nc(SC)n1' 'CCCCOC(=O)c1ccc(O)cc1' 'CCCCCCOC(C)=O'\n",
      " 'O=C1CCCC1' 'CCCCC(=O)O' 'CCBr' 'Cc1ccc2cc(C)ccc2c1' 'CCCCCCO'\n",
      " 'Clc1ccccc1-c1ccccc1' 'CC1=CCCCC1' 'CCCCCCO[N+](=O)[O-]' 'BrC(Br)Br'\n",
      " 'CCc1ccc(O)cc1' 'CCCOCCO' 'O=COc1ccccc1' 'O=c1[nH]cc(I)c(=O)[nH]1'\n",
      " 'CCCC(=O)O' 'COC(OC)(OC)C(F)(F)F' 'O[C@@H]1[C@@H](O)[C@@H](O)OC[C@H]1O'\n",
      " 'FC(F)(F)Br' 'CCCCO' 'Fc1ccccc1' 'CCOC(C)=O' 'CC(C)COC(=O)C(C)C'\n",
      " 'COC(C)(C)C'\n",
      " 'ClC1=C(Cl)[C@]2(Cl)[C@@H]3[C@@H](Cl)C=C[C@@H]3[C@@]1(Cl)C2(Cl)Cl'\n",
      " 'CCC(=O)CC' 'COC(=O)C(F)(F)F' 'c1ccc2ccccc2c1'\n",
      " 'Clc1ccc(-c2cc(Cl)c(Cl)c(Cl)c2Cl)c(Cl)c1Cl' 'CC(=O)Oc1ccccc1C(=O)O'\n",
      " 'CC(=O)C(C)(C)C' 'COS(C)(=O)=O' 'CCc1ccncc1' 'CC(C)NC(C)C'\n",
      " 'Clc1ccc2c(c1)Oc1ccc(Cl)cc1O2' 'CCCCCCCN' 'CC1CCCC1' 'CCC' 'C[C@H]1CCCO1'\n",
      " 'CNC(=O)Oc1cccc2ccccc12' 'O=Cc1cccc(O)c1' 'c1ccc2cc3ccccc3cc2c1' 'ClCCl'\n",
      " 'COC(=O)C(C)(C)C' 'O=[N+]([O-])C(Cl)(Cl)Cl' '[O-][S+2]1([O-])CCCC1'\n",
      " 'Cc1cccc(C)c1O' 'Cc1cccc(O)c1' 'Nc1ccc(O)c2c1C(=O)c1ccccc1C2=O'\n",
      " 'Nc1ccc(N)c2c1C(=O)c1ccccc1C2=O' 'CCCCCCCC(C)=O' 'CCCCN' 'CCCC(=O)OCC'\n",
      " 'Cc1ccc(N)cc1' 'CCCCCCI' 'FC(F)(Cl)C(F)(Cl)Cl' 'COP(=O)(OC)OC'\n",
      " 'Clc1cccc(Cl)c1' 'Cc1cc(C)c2ccccc2c1' 'CCCC(C)C'\n",
      " 'CCOP(=S)(OCC)Oc1nc(Cl)c(Cl)cc1Cl' 'FC(F)(F)CCl' 'C=C' 'CCCCCI'\n",
      " 'COC(OC)OC' 'CCCCCCCCCC' 'C[C@@H](CO[N+](=O)[O-])O[N+](=O)[O-]' 'C=CC'\n",
      " 'Cc1c[nH]c2ccccc12' 'COP(=O)(OC)[C@@H](O)C(Cl)(Cl)Cl' 'C1CCCCC1'\n",
      " 'CC(C)=CCC/C(C)=C/CO' 'CC(C)c1ccccc1' 'CC(C)C(C)C(C)C' 'CC(=O)C(C)C'\n",
      " 'CCCCNCCCC' 'CCCCS' 'Clc1c(Cl)c(Cl)c2c(c1Cl)Oc1ccccc1O2'\n",
      " 'COc1c(O)c(OC)c(Cl)c(C=O)c1Cl' 'NC1CCCCC1' 'FC(F)Cl'\n",
      " 'COC(=O)c1ccc([N+](=O)[O-])cc1' 'CC(=O)c1cccnc1' 'C#CC' 'CCCCCCCCC=O'\n",
      " 'CCC(=O)O' 'ClC(Cl)Cl' 'Cc1cccc(C)c1C' 'ClCc1ccccc1' 'CC1CCCCC1'\n",
      " 'Cc1cccs1' 'c1ccncc1' 'CCCCCl' 'C[C@H]1CC[C@H](C)O1' 'COc1cc(C)ccc1O'\n",
      " 'ClC1=C(Cl)[C@]2(Cl)[C@@H]3[C@@H]([C@H](Cl)C[C@@H]3Cl)[C@@]1(Cl)C2(Cl)Cl'\n",
      " 'Cc1ccccc1' 'CC(C)COC=O' 'CCOC(=O)c1ccc(O)cc1' 'CCOCCOCC' 'CCCCCOC(=O)CC'\n",
      " 'CCCc1ccc(O)cc1' 'CC=C(C)C' 'ClCCCl' 'CCC(C)(C)CC' 'Cc1cc2ccccc2cc1C'\n",
      " 'Cc1cccc(C)n1' 'COC(F)(F)C(Cl)Cl' 'CCOCCOC(C)=O' 'COc1cccc(N)c1'\n",
      " 'O=Cc1cccnc1' 'CCC(C)(C)O' 'CCc1cccc(CC)c1N(COC)C(=O)CCl' 'Cn1cccc1'\n",
      " 'COCOC' 'CCC(O)CC' 'CCCCCCCCCC(C)=O' 'ClCCBr' 'Ic1ccccc1'\n",
      " 'CC1=CC(=O)CC(C)(C)C1' 'CCI' 'CCCc1ccc(O)c(OC)c1' 'CC(C)Br'\n",
      " 'Cc1ccc(Br)cc1' 'N#Cc1ccc(O)cc1' 'CS(C)(=O)=O' 'CCc1cccc(O)c1'\n",
      " 'C=C(C)[C@@H]1CC=C(C)[C@@H](O)C1' 'Brc1ccc(Br)cc1'\n",
      " 'COc1c(Cl)ccc(Cl)c1C(=O)O' 'C/C=C\\\\CC' 'CC' 'COc1ccccc1OC' 'CCSCC'\n",
      " 'N#Cc1cccnc1' 'Oc1ccc(Cl)c(Cl)c1' 'COc1ccccc1' 'Cc1ccc(C)c(O)c1'\n",
      " 'Clc1ccc(Cl)cc1' 'FCCl' 'C=CCCC' 'Clc1ccc(Cl)c(Cl)c1Cl' 'C#CCCCCC'\n",
      " 'CCCCCCCCC(C)=O' 'Clc1ccccc1' 'CN(C)CCOC(c1ccccc1)c1ccccc1' 'CCCCC=O'\n",
      " 'c1ccc(Oc2ccccc2)cc1' 'O=C1CCCCC1' 'CCCC[N+](=O)[O-]' 'O=Cc1ccncc1'\n",
      " 'ClCCOCCCl' 'CC[N+](=O)[O-]' 'Clc1cccnc1' 'CBr' 'CO' 'CCCCCCC=O'\n",
      " 'Clc1cccc(Cl)c1-c1c(Cl)cccc1Cl' 'Nc1ccccc1[N+](=O)[O-]' 'CN1CCCCC1'\n",
      " 'CCCCCCCC=O' 'O=[N+]([O-])c1ccccc1' 'CC(C)[C@@H]1CC[C@@H](C)CC1=O'\n",
      " 'OC[C@H]1O[C@@H](O)[C@H](O)[C@@H](O)[C@@H]1O' 'CF' 'CS(C)=O'\n",
      " 'c1ccc2c(c1)Oc1ccccc1O2' 'Cc1ccccc1N' 'CCCCBr' 'CCCCCCCCCO' 'Cc1ccncc1'\n",
      " 'ClC(Cl)=C(Cl)Cl' 'CC(C)(C)Br' 'C=C(c1ccccc1)c1ccccc1' 'CCc1ccc(C)cc1'\n",
      " 'Cc1cccnc1' 'COCC(OC)(OC)OC' 'c1ccc2c(c1)Cc1ccccc1-2' 'CC(N)=O'\n",
      " 'COS(=O)(=O)OC' 'ClC(Cl)C(Cl)Cl' 'COC(=O)C1CCCCC1' 'CCCCCCBr' 'CCCCCCCBr'\n",
      " 'Clc1cccc2c1Oc1ccccc1O2' 'COC(CC#N)(OC)OC' 'CC[C@H](C)Cl'\n",
      " 'CCCCCCc1ccccc1' 'COc1cc(C=O)c(Cl)c(OC)c1O' 'FC(F)(F)c1cccc(C(F)(F)F)c1'\n",
      " 'c1ccc(Cn2ccnc2)cc1' 'Nc1cccc2ccccc12' 'CCOC(=O)CC(=O)OCC' 'CC(=O)C1CC1'\n",
      " 'c1cc[nH]c1' 'O=C(O)c1cc(-c2ccc(F)cc2F)ccc1O' 'CC1CCC(C)CC1' 'OC1CCCCC1'\n",
      " 'CN(C)CCC=C1c2ccccc2CCc2ccccc21' 'Oc1ccc(F)cc1' 'Nc1ccccc1Cl'\n",
      " 'Cc1ccc(C)c(C)c1' 'CCc1ccccc1C' 'C=C(C)[C@@H]1CC[C@@H](C)C(=O)C1'\n",
      " 'c1ccc(-c2ccccc2)cc1' 'Cc1cccc(O)c1C'\n",
      " 'COP(=S)(OC)Oc1ccc([N+](=O)[O-])cc1'\n",
      " 'CCOP(=S)(OCC)Oc1ccc([N+](=O)[O-])cc1'\n",
      " 'CCN(CC)c1c([N+](=O)[O-])cc(C(F)(F)F)c(N)c1[N+](=O)[O-]' 'CSC'\n",
      " 'C[C@H](C(=O)O)c1cccc(C(=O)c2ccccc2)c1' 'OC1CCCC1' 'CCCCC(=O)OC'\n",
      " 'C=C(C)CCC' 'C[C@H](C(=O)O)c1ccc(-c2ccccc2)c(F)c1'\n",
      " 'CCCN(CCC)c1c([N+](=O)[O-])cc(S(C)(=O)=O)cc1[N+](=O)[O-]' 'C=CCl'\n",
      " 'Cc1ccc(C(=O)N(C)C)cc1' 'CCCC(=O)CCC' 'COC(=O)c1ccccc1' 'Cc1ccc(C=O)cc1'\n",
      " 'CCCOC(=O)CCC' 'C1CNCCN1' 'CCOP(=S)(OCC)S[C@@H](CCl)N1C(=O)c2ccccc2C1=O'\n",
      " 'CCOCCO' 'CCC(C)CC' 'Cc1cnccn1' 'CCC[N+](=O)[O-]' 'Cc1cc(C)cc(C)c1'\n",
      " 'O=c1[nH]cc(F)c(=O)[nH]1' 'CCO' 'Cc1ccc(C)c2ccccc12'\n",
      " 'Clc1cc2c(cc1Cl)Oc1cc(Cl)c(Cl)cc1O2' 'N#Cc1c(Cl)cccc1Cl' 'CCOC=O'\n",
      " 'Clc1cc(Cl)c(Cl)cc1Cl' 'CCOC(OCC)Oc1ccccc1' 'O=[N+]([O-])c1cccc(O)c1'\n",
      " 'CCCCCCCCO' 'C=CCC' 'ClC(Cl)(Cl)Cl' 'OCCc1ccccc1' 'CN(C)C(=O)Nc1ccccc1'\n",
      " 'CSSC' 'O=C1[C@@H]2CC=CC[C@H]2C(=O)N1SC(Cl)(Cl)Cl'\n",
      " 'CC(=O)OCC(COC(C)=O)OC(C)=O' 'COC' 'CCCCCC' 'BrCCBr' 'ClC(Cl)C(Cl)(Cl)Cl'\n",
      " 'O=c1[nH]cc(C(F)(F)F)c(=O)[nH]1' 'Cc1cccc(C)c1N' 'CCCOC(C)=O'\n",
      " 'c1ccc2ncccc2c1' 'CCS' 'CCSSCC' 'c1ccsc1' 'CCc1cccc2ccccc12' 'CCCC(C)=O'\n",
      " 'Clc1cc(-c2c(Cl)cc(Cl)c(Cl)c2Cl)c(Cl)c(Cl)c1Cl'\n",
      " 'CCCN(CC1CC1)c1c([N+](=O)[O-])cc(C(F)(F)F)cc1[N+](=O)[O-]' 'CC(=O)O'\n",
      " 'CC=O' 'Nc1cccc([N+](=O)[O-])c1' 'C#CCCCC' 'COc1ccccc1N' 'Oc1ccccc1'\n",
      " 'CCC#N' 'Oc1cccc2ccccc12' 'CCCCOC(C)=O' 'CNC(=O)O/N=C\\\\C(C)(C)SC'\n",
      " 'Cc1ccccc1O' 'CC(C)C=O' 'CCC(N)=O' 'CCCBr' 'CC(C)Cl' 'ClCCCCl'\n",
      " 'O=[N+]([O-])c1ccc(O)cc1' 'C[C@H](Cl)CCl' 'Nc1ccc(Cl)cc1'\n",
      " 'Nc1cccc2c1C(=O)c1ccccc1C2=O' 'Cc1cccnc1C' 'N#Cc1ccncc1'\n",
      " 'CCOP(=S)(OCC)SCSCC' 'CC(=O)C1CCCCC1' 'Cc1ccccc1C=O' 'CC(=O)c1ccncc1'\n",
      " 'Clc1cc2c(cc1Cl)Oc1c(Cl)c(Cl)c(Cl)c(Cl)c1O2' 'CC(C)=O' 'C=C(C)C'\n",
      " 'Clc1ccc(Cl)c(-c2cc(Cl)c(Cl)c(Cl)c2)c1' 'CCCCC[N+](=O)[O-]' 'CCC/C=C/C=O'\n",
      " 'CN(C)C(=O)c1ccc([N+](=O)[O-])cc1' 'C1CCOC1' 'CCCCCCCC'\n",
      " 'CCCN(CCC)c1c([N+](=O)[O-])cc(C(F)(F)F)cc1[N+](=O)[O-]'\n",
      " 'C=C[C@@](C)(CCC=C(C)C)OC(C)=O' 'C[C@@H](CCO[N+](=O)[O-])O[N+](=O)[O-]'\n",
      " 'CC(C)OC(C)C' 'CCCCC(C)C' 'O=[N+]([O-])c1c(Cl)c(Cl)c(Cl)c(Cl)c1Cl'\n",
      " 'FC(F)(F)[C@H](Cl)Br' 'CCCCOCCCC' 'CCCCCC1CCCC1' 'CC(C)CC(C)C'\n",
      " 'Cc1ccc(C)nc1' 'C/C=C/C=O' 'CCC[C@H](C)CC'\n",
      " 'Clc1cc(Cl)c(-c2c(Cl)cccc2Cl)c(Cl)c1' 'FC(F)[C@@H](F)Oc1ccccc1' 'COCCOC'\n",
      " 'CC[C@H](C)c1ccccc1' 'OCCCc1ccccc1'\n",
      " 'CC[C@@H](C)c1cc([N+](=O)[O-])cc([N+](=O)[O-])c1O' 'COC(=O)c1ccc(OC)cc1'\n",
      " 'CCC(=O)Nc1ccc(Cl)c(Cl)c1' 'COc1ccc2cc([C@H](C)C(=O)O)ccc2c1'\n",
      " 'FC1(F)C(F)(F)C(F)(F)C1(F)F' 'CC(=O)OCCC(C)C' 'CCCCCCCl' 'CC(=O)CC(C)C'\n",
      " 'CCCCCC=O' 'Nc1cccc(Cl)c1' 'C1COCCN1' 'CCOC(C)OCC'\n",
      " 'CCCCN(CC)c1c([N+](=O)[O-])cc(C(F)(F)F)cc1[N+](=O)[O-]' 'CS'\n",
      " 'O=S1OC[C@@H]2[C@H](CO1)[C@]1(Cl)C(Cl)=C(Cl)[C@@]2(Cl)C1(Cl)Cl'\n",
      " 'COc1ccc(C(C)=O)cc1' 'C=CCO' 'CCSC' 'CCCCCOC(C)=O'\n",
      " 'Clc1cc(Cl)c(Cl)c(Cl)c1' 'CC(=O)c1ccccc1' 'CCCl' 'CCCC1CCCC1'\n",
      " 'Clc1cc(Cl)cc(Cl)c1' 'CCCOC(=O)c1ccc(O)cc1' 'Oc1cccc(Cl)c1' 'CC(C)CCO'\n",
      " 'CCCCCN' 'Cc1[nH]c(=O)n(C(C)(C)C)c(=O)c1Cl' 'CC(C)CCC(C)(C)C' 'CCCCOCCO'\n",
      " 'ClC1=C(Cl)[C@]2(Cl)[C@H]3[C@H]4C[C@H]([C@@H]5O[C@H]45)[C@H]3[C@@]1(Cl)C2(Cl)Cl'\n",
      " 'NC(=O)c1ccccc1' 'CC(C)[N+](=O)[O-]' 'OCC(O)CO' 'CCCI' 'COCCN'\n",
      " 'ClCC(Cl)(Cl)Cl' 'CCC(=O)OC' 'C1CCCC1' 'CCc1cccnc1' 'Cc1cncc(C)c1'\n",
      " 'COCCO' 'COC=O' 'Nc1ccc2ccccc2c1' 'Cc1c[nH]cn1' 'Cc1cccc([N+](=O)[O-])c1'\n",
      " 'ClCCCCCl' 'CC(=O)CO[N+](=O)[O-]' 'CC(C)(C)c1ccccc1' 'CCCCCC(=O)OC'\n",
      " 'C[C@H](O)C(F)(F)F' 'CCCCCBr' 'C=CCCCCCC' 'CC1=CC(=O)[C@H](C(C)C)CC1'\n",
      " 'CC(C)O' 'CCCCCCN' 'O=[N+]([O-])OCCCO[N+](=O)[O-]' 'Cc1ccc(O)c(C)c1'\n",
      " 'CCCCCO' 'CCC[C@@H](C)O' 'CCCC[C@@H](C)CC'\n",
      " 'CC(C)Cc1ccc([C@H](C)C(=O)O)cc1' 'CCOC(=O)C[C@@H](SP(=S)(OC)OC)C(=O)OCC'\n",
      " 'Cc1ccc(O)cc1C' 'Cc1cc(O)ccc1Cl' 'C/C=C/CCCC' 'CCCOCCC'\n",
      " 'CC(C)[C@@H]1CC[C@@H](C)C[C@H]1O' 'CCNc1nc(NC(C)(C)C)nc(SC)n1'\n",
      " 'CC(C)CC(C)(C)C' 'CCCCC(=O)CCCC' 'CCCCN(CC)C(=O)SCCC' 'C=CCCCCC'\n",
      " 'CC(C)OC=O' 'CC(=O)OC(C)OC(C)=O' 'O=c1[nH]cc(Cl)c(=O)[nH]1'\n",
      " 'C=C(C)c1ccccc1' 'CCC(C)C' 'CCCCO[N+](=O)[O-]' 'Brc1ccccc1'\n",
      " 'CC(Cl)(Cl)Cl' 'C=C(C)[C@@H]1CC=C(C=O)CC1' 'Cc1ccccc1[N+](=O)[O-]'\n",
      " 'CCCCCCCI' 'c1cc2ccc3cccc4ccc(c1)c2c34' 'CCCCCCl' 'CC(=O)OCC(C)C'\n",
      " 'CCC(C)(C)C' 'Nc1ccc([N+](=O)[O-])cc1' 'COC(=O)CC#N' 'COc1ccc(N)cc1'\n",
      " 'CC(C)Cc1ccccc1' 'Clc1cc(Cl)c(-c2ccccc2)c(Cl)c1' 'CN' 'Oc1ccccc1Cl'\n",
      " 'Nc1ccc2c(c1)C(=O)c1ccccc1C2=O' 'Cl/C=C\\\\Cl' 'CCCCC(C)=O'\n",
      " 'O=[N+]([O-])OCCO[N+](=O)[O-]' 'Oc1ccccc1F'\n",
      " 'Cc1nc(N(C)C)nc(OC(=O)N(C)C)c1C' 'C=Cc1ccccc1' 'CCOP(=O)(OCC)OCC'\n",
      " 'OCC(F)(F)F' 'CCCCOC[C@H](C)O' 'CCCO' 'Cc1ccccc1C' 'CC(C)(C)C' 'C#CCCC'\n",
      " 'O=C1NC(=O)c2ccccc21' 'CCCCI' 'Cc1ccc(O)cc1' 'CC(C)I' 'COc1ccccc1O'\n",
      " 'C1=CCCC1' 'C[C@@H](O)C(F)(F)F' 'CCCN' 'O=[N+]([O-])c1ccccc1O'\n",
      " 'Cc1cccc2ccccc12' 'Clc1c(Cl)c(Cl)c(Cl)c(Cl)c1Cl' 'CCCCC/C=C/C=O'\n",
      " 'C#CCCCCCC' 'CCOP(=S)(OCC)Oc1cc(C)nc(C(C)C)n1' 'CCCCCCCC(=O)OC' 'C1CCNC1'\n",
      " 'O=Cc1ccc(O)cc1' 'CCCCCCCCl' 'C1COCCO1']\n"
     ]
    }
   ],
   "execution_count": 2
  },
  {
   "metadata": {
    "ExecuteTime": {
     "end_time": "2024-05-16T11:58:16.703677Z",
     "start_time": "2024-05-16T11:58:16.700290Z"
    }
   },
   "cell_type": "code",
   "source": "#print(data.smiles)",
   "id": "63ea9c1fd97b1f20",
   "outputs": [
    {
     "name": "stdout",
     "output_type": "stream",
     "text": [
      "['CN(C)C(=O)c1ccc(cc1)OC', 'CS(=O)(=O)Cl', 'CC(C)C=C', 'CCc1cnccn1', 'CCCCCCCO', 'Cc1cc(cc(c1)O)C', 'CC(C)C(C)C', 'CCCC(C)(C)O', 'C[C@@H]1CCCC[C@@H]1C', 'CC[C@H](C)O', 'C(Br)Br', 'CC[C@H](C(C)C)O', 'CCc1ccccn1', 'CCCCC(=O)OCC', 'c1ccc(cc1)S', 'CC(=CCC/C(=C\\\\CO)/C)C', 'c1ccc2c(c1)CCC2', 'CCOc1ccccc1', 'c1cc(ccc1O)Br', 'CCCC(C)(C)C', 'CC(=O)OCCOC(=O)C', 'CCOP(=S)(OCC)SCSP(=S)(OCC)OCC', 'C1CCCC(CC1)O', 'COC(=O)C1CC1', 'c1ccc(cc1)C#N', 'CCCCC#N', 'CC(C)(C)O', 'CC(C)C(=O)C(C)C', 'CCC=O', 'CN(C)C=O', 'Cc1ccc(cc1)C', 'C=CCC=C', 'Cc1cccc(c1C)Nc2ccccc2C(=O)O', 'CN(C)C(=O)c1ccccc1', 'CCNCC', 'CC(C)(C)c1ccc(cc1)O', 'CC(C)CCOC=O', 'CCCCCCCCCCO', 'CCC(=O)OCC', 'CCCCCCCCC', 'CC(=O)NC', 'CCCCCCCC=C', 'c1ccc2cc(ccc2c1)O', 'c1cc(c(cc1Cl)Cl)Cl', 'C([C@H]([C@H]([C@@H]([C@@H](CO)O)O)O)O)O', 'CCCC(=O)OC', 'c1ccc(c(c1)C=O)O', 'C1CNC1', 'CCCNCCC', 'c1ccc(cc1)N', 'C(F)(F)(F)F', 'CC[C@@H](C)CO', 'c1ccc(c(c1)O)I', 'COc1cccc(c1O)OC', 'CCC#C', 'c1ccc(cc1)C(F)(F)F', 'NN', 'Cc1ccccn1', 'CCNc1nc(nc(n1)Cl)NCC', 'c1ccc2c(c1)Oc3cc(c(cc3O2)Cl)Cl', 'CCCCCCCCN', 'N', 'c1ccc(c(c1)C(F)(F)F)C(F)(F)F', 'COC(=O)c1ccc(cc1)O', 'CCCCCc1ccccc1', 'CC(F)F', 'c1ccc(cc1)n2c(=O)c(c(cn2)N)Cl', 'C=CC=C', 'CN(C)C', 'CCCCCC(=O)N', 'CC(C)CO[N+](=O)[O-]', 'c1ccc2c(c1)C(=O)c3cccc(c3C2=O)NCCO', 'C(CO[N+](=O)[O-])O', 'CCCCCCC(=O)C', 'CN1CCNCC1', 'CCN', 'C1C=CC=CC=C1', 'c1ccc2c(c1)Cc3ccccc3C2', 'CC(Cl)Cl', 'COc1cccc(c1)O', 'c1cc2cccc3c2c(c1)CC3', 'CCCCCCCCBr', 'c1ccc(cc1)CO', 'c1c(c(=O)[nH]c(=O)[nH]1)Br', 'CCCC', 'CCl', 'CC(C)CBr', 'CC(C)SC(C)C', 'CCCCCCC', 'c1cnc[nH]1', 'c1cc2c(cc1Cl)Oc3cc(c(c(c3O2)Cl)Cl)Cl', 'CC[C@H](C)n1c(=O)c(c([nH]c1=O)C)Br', 'C(I)I', 'CCCN(CCC)C(=O)SCCC', 'C[N+](=O)[O-]', 'CCOC', 'COC(CCl)(OC)OC', 'CC(C)C', 'CC(C)CC(=O)O', 'CCOP(=O)(OCC)O/C(=C/Cl)/c1ccc(cc1Cl)Cl', 'CCCCl', 'CCCSCCC', 'CCC[C@H](CC)O', 'CC#N', 'CN(CC(F)(F)F)c1ccccc1', '[C@@H](C(F)(F)F)(OC(F)F)Cl', 'C=CCCC=C', 'Cc1cccc(c1)C', 'CC(=O)OC', 'COC(c1ccccc1)(OC)OC', 'CCOC(=O)c1ccccc1', 'CCCS', 'CCCCCC(=O)C', 'CC1(Cc2cccc(c2O1)OC(=O)NC)C', 'c1ccc(cc1)CBr', 'CCCCCC(=O)OCC', 'CCCOC', 'CN1CCOCC1', 'c1cc(cc(c1)O)C#N', 'c1cc(c(cc1c2c(c(cc(c2Cl)Cl)Cl)Cl)Cl)Cl', 'CCCc1ccccc1', 'Cn1cnc2c1c(=O)n(c(=O)n2C)C', 'CNC', 'C(=C(F)F)(C(F)(F)F)F', 'c1cc(ccc1O)Cl', 'C1CCNCC1', 'c1ccc2c(c1)ccc3c2cccc3', 'CI', 'COc1c(cc(c(c1O)OC)Cl)Cl', 'C(=C/Cl)\\\\Cl', 'CCCCC', 'CCCC#N', '[C@@H](C(F)(F)F)(F)Br', 'CC(C)Cc1cnccn1', 'CC[C@H](C)O[N+](=O)[O-]', 'c1ccc(cc1)c2cc(ccc2Cl)Cl', 'c1ccc(cc1)c2cc(c(c(c2Cl)Cl)Cl)Cl', 'CC[C@@H](C)C(C)C', 'C[C@H](CC(C)C)O', 'C1CCOCC1', 'C1CC1', 'c1c(cc(c(c1Cl)Cl)Cl)c2cc(c(c(c2Cl)Cl)Cl)Cl', 'C=C(Cl)Cl', 'CC(C)CO', 'CCCOC(=O)CC', 'C(C(Cl)(Cl)Cl)(Cl)(Cl)Cl', 'CSc1ccccc1', 'CCc1ccccc1O', 'CC(C)(C)Cl', 'CC(=C)C=C', 'Cc1ccc(cc1)C(C)C', 'Cn1ccnc1', 'C(CO)O', 'c1ccc(c(c1)Cl)Cl', 'c1c(=O)[nH]c(=O)[nH]c1Cl', 'CCCOC=O', 'c1ccc2c(c1)Oc3ccc(cc3O2)Cl', 'CCCCCC(=O)O', 'CCOC(=O)CCC(=O)OCC', 'Cc1ccnc(c1)C', 'C1CCC=CC1', 'CN1CCN(CC1)C', 'c1cc(c(cc1c2cc(c(c(c2Cl)Cl)Cl)Cl)Cl)Cl', 'C1=CC(=O)C=CC1=O', 'COC(=O)CCl', 'CCCC=O', 'CCc1ccccc1', 'C(=C(Cl)Cl)Cl', 'CCN(CC)CC', 'c1cc2c(cc1Cl)Oc3c(c(c(c(c3Cl)Cl)Cl)Cl)O2', 'Cc1ccncc1C', 'c1(=O)[nH]c(=O)[nH]c(=O)[nH]1', 'c1ccc(cc1)C=O', 'c1ccnc(c1)Cl', 'C=CCCl', 'Cc1ccc(cc1)C(=O)C', 'C=O', 'Cc1ccccc1Cl', 'CC(=O)N1CCCC1', 'CC(OC)(OC)OC', 'CCCCc1ccccc1', 'CN(C)c1ccccc1', 'CC(C)OC', 'c12c(c(c(c(c1Cl)Cl)Cl)Cl)Oc3c(c(c(c(c3Cl)Cl)Cl)Cl)O2', 'c1(c(c(c(c(c1Cl)Cl)Cl)Cl)Cl)c2c(c(c(c(c2Cl)Cl)Cl)Cl)Cl', 'C(C(Cl)Cl)Cl', 'CNc1ccccc1', 'CC(C)OC(=O)C', 'c1ccccc1', 'c1cc(c(c(c1)Cl)Cl)Cl', 'CCOP(=S)(OCC)SCSc1ccc(cc1)Cl', 'COP(=S)(OC)SCn1c(=O)c2ccccc2nn1', 'c1ccc2c(c1)Oc3c(cc(c(c3O2)Cl)Cl)Cl', 'CC(=C)C(=C)C', 'CCCCC=C', 'S', 'CCOCC', 'CCNc1nc(nc(n1)SC)NC(C)C', 'CCCCOC(=O)c1ccc(cc1)O', 'CCCCCCOC(=O)C', 'C1CCC(=O)C1', 'CCCCC(=O)O', 'CCBr', 'Cc1ccc2cc(ccc2c1)C', 'CCCCCCO', 'c1ccc(cc1)c2ccccc2Cl', 'CC1=CCCCC1', 'CCCCCCO[N+](=O)[O-]', 'C(Br)(Br)Br', 'CCc1ccc(cc1)O', 'CCCOCCO', 'c1ccc(cc1)OC=O', 'c1c(c(=O)[nH]c(=O)[nH]1)I', 'CCCC(=O)O', 'COC(C(F)(F)F)(OC)OC', 'C1[C@H]([C@@H]([C@H]([C@H](O1)O)O)O)O', 'C(F)(F)(F)Br', 'CCCCO', 'c1ccc(cc1)F', 'CCOC(=O)C', 'CC(C)COC(=O)C(C)C', 'CC(C)(C)OC', 'C1=C[C@@H]([C@@H]2[C@H]1[C@@]3(C(=C([C@]2(C3(Cl)Cl)Cl)Cl)Cl)Cl)Cl', 'CCC(=O)CC', 'COC(=O)C(F)(F)F', 'c1ccc2ccccc2c1', 'c1cc(c(c(c1c2cc(c(c(c2Cl)Cl)Cl)Cl)Cl)Cl)Cl', 'CC(=O)Oc1ccccc1C(=O)O', 'CC(=O)C(C)(C)C', 'COS(=O)(=O)C', 'CCc1ccncc1', 'CC(C)NC(C)C', 'c1cc2c(cc1Cl)Oc3ccc(cc3O2)Cl', 'CCCCCCCN', 'CC1CCCC1', 'CCC', 'C[C@H]1CCCO1', 'CNC(=O)Oc1cccc2c1cccc2', 'c1cc(cc(c1)O)C=O', 'c1ccc2cc3ccccc3cc2c1', 'C(Cl)Cl', 'CC(C)(C)C(=O)OC', 'C([N+](=O)[O-])(Cl)(Cl)Cl', 'C1CC[S+2](C1)([O-])[O-]', 'Cc1cccc(c1O)C', 'Cc1cccc(c1)O', 'c1ccc2c(c1)C(=O)c3c(ccc(c3C2=O)O)N', 'c1ccc2c(c1)C(=O)c3c(ccc(c3C2=O)N)N', 'CCCCCCCC(=O)C', 'CCCCN', 'CCCC(=O)OCC', 'Cc1ccc(cc1)N', 'CCCCCCI', 'C(C(F)(Cl)Cl)(F)(F)Cl', 'COP(=O)(OC)OC', 'c1cc(cc(c1)Cl)Cl', 'Cc1cc(c2ccccc2c1)C', 'CCCC(C)C', 'CCOP(=S)(OCC)Oc1c(cc(c(n1)Cl)Cl)Cl', 'C(C(F)(F)F)Cl', 'C=C', 'CCCCCI', 'COC(OC)OC', 'CCCCCCCCCC', 'C[C@@H](CO[N+](=O)[O-])O[N+](=O)[O-]', 'CC=C', 'Cc1c[nH]c2c1cccc2', 'COP(=O)([C@H](C(Cl)(Cl)Cl)O)OC', 'C1CCCCC1', 'CC(=CCC/C(=C/CO)/C)C', 'CC(C)c1ccccc1', 'CC(C)C(C)C(C)C', 'CC(C)C(=O)C', 'CCCCNCCCC', 'CCCCS', 'c1ccc2c(c1)Oc3c(c(c(c(c3Cl)Cl)Cl)Cl)O2', 'COc1c(c(c(c(c1Cl)C=O)Cl)OC)O', 'C1CCC(CC1)N', 'C(F)(F)Cl', 'COC(=O)c1ccc(cc1)[N+](=O)[O-]', 'CC(=O)c1cccnc1', 'CC#C', 'CCCCCCCCC=O', 'CCC(=O)O', 'C(Cl)(Cl)Cl', 'Cc1cccc(c1C)C', 'C', 'c1ccc(cc1)CCl', 'CC1CCCCC1', 'Cc1cccs1', 'c1ccncc1', 'CCCCCl', 'C[C@H]1CC[C@@H](O1)C', 'Cc1ccc(c(c1)OC)O', 'C1[C@H]([C@@H]2[C@H]([C@H]1Cl)[C@]3(C(=C([C@@]2(C3(Cl)Cl)Cl)Cl)Cl)Cl)Cl', 'Cc1ccccc1', 'CC(C)COC=O', 'CCOC(=O)c1ccc(cc1)O', 'CCOCCOCC', 'CCCCCOC(=O)CC', 'CCCc1ccc(cc1)O', 'CC=C(C)C', 'C(CCl)Cl', 'CCC(C)(C)CC', 'Cc1cc2ccccc2cc1C', 'Cc1cccc(n1)C', 'COC(C(Cl)Cl)(F)F', 'CCOCCOC(=O)C', 'COc1cccc(c1)N', 'c1cc(cnc1)C=O', 'CCC(C)(C)O', 'CCc1cccc(c1N(COC)C(=O)CCl)CC', 'Cn1cccc1', 'COCOC', 'CCC(CC)O', 'CCCCCCCCCC(=O)C', 'C(CBr)Cl', 'c1ccc(cc1)I', 'CC1=CC(=O)CC(C1)(C)C', 'CCI', 'CCCc1ccc(c(c1)OC)O', 'CC(C)Br', 'Cc1ccc(cc1)Br', 'c1cc(ccc1C#N)O', 'CS(=O)(=O)C', 'CCc1cccc(c1)O', 'CC1=CC[C@H](C[C@@H]1O)C(=C)C', 'c1cc(ccc1Br)Br', 'COc1c(ccc(c1C(=O)O)Cl)Cl', 'CC/C=C\\\\C', 'CC', 'COc1ccccc1OC', 'CCSCC', 'c1cc(cnc1)C#N', 'c1cc(c(cc1O)Cl)Cl', 'COc1ccccc1', 'Cc1ccc(c(c1)O)C', 'c1cc(ccc1Cl)Cl', 'C(F)Cl', 'CCCC=C', 'c1cc(c(c(c1Cl)Cl)Cl)Cl', 'CCCCCC#C', 'CCCCCCCCC(=O)C', 'c1ccc(cc1)Cl', 'CN(C)CCOC(c1ccccc1)c2ccccc2', 'CCCCC=O', 'c1ccc(cc1)Oc2ccccc2', 'C1CCC(=O)CC1', 'CCCC[N+](=O)[O-]', 'c1cnccc1C=O', 'C(CCl)OCCCl', 'CC[N+](=O)[O-]', 'c1cc(cnc1)Cl', 'CBr', 'CO', 'CCCCCCC=O', 'c1cc(c(c(c1)Cl)c2c(cccc2Cl)Cl)Cl', 'c1ccc(c(c1)N)[N+](=O)[O-]', 'CN1CCCCC1', 'CCCCCCCC=O', 'c1ccc(cc1)[N+](=O)[O-]', 'C[C@@H]1CC[C@H](C(=O)C1)C(C)C', 'C([C@@H]1[C@H]([C@@H]([C@H]([C@@H](O1)O)O)O)O)O', 'CF', 'CS(=O)C', 'c1ccc2c(c1)Oc3ccccc3O2', 'Cc1ccccc1N', 'CCCCBr', 'CCCCCCCCCO', 'Cc1ccncc1', 'C(=C(Cl)Cl)(Cl)Cl', 'CC(C)(C)Br', 'C=C(c1ccccc1)c2ccccc2', 'CCc1ccc(cc1)C', 'Cc1cccnc1', 'COCC(OC)(OC)OC', 'c1ccc-2c(c1)Cc3c2cccc3', 'CC(=O)N', 'COS(=O)(=O)OC', 'C(C(Cl)Cl)(Cl)Cl', 'COC(=O)C1CCCCC1', 'CCCCCCBr', 'CCCCCCCBr', 'c1ccc2c(c1)Oc3cccc(c3O2)Cl', 'COC(CC#N)(OC)OC', 'CC[C@H](C)Cl', 'CCCCCCc1ccccc1', 'COc1cc(c(c(c1O)OC)Cl)C=O', 'c1cc(cc(c1)C(F)(F)F)C(F)(F)F', 'c1ccc(cc1)Cn2ccnc2', 'c1ccc2c(c1)cccc2N', 'CCOC(=O)CC(=O)OCC', 'CC(=O)C1CC1', 'c1cc[nH]c1', 'c1cc(c(cc1c2ccc(cc2F)F)C(=O)O)O', 'CC1CCC(CC1)C', 'C1CCC(CC1)O', 'CN(C)CCC=C1c2ccccc2CCc3c1cccc3', 'c1cc(ccc1O)F', 'c1ccc(c(c1)N)Cl', 'Cc1ccc(c(c1)C)C', 'CCc1ccccc1C', 'C[C@@H]1CC[C@H](CC1=O)C(=C)C', 'c1ccc(cc1)c2ccccc2', 'Cc1cccc(c1C)O', 'COP(=S)(OC)Oc1ccc(cc1)[N+](=O)[O-]', 'CCOP(=S)(OCC)Oc1ccc(cc1)[N+](=O)[O-]', 'CCN(CC)c1c(cc(c(c1[N+](=O)[O-])N)C(F)(F)F)[N+](=O)[O-]', 'CSC', 'C[C@@H](c1cccc(c1)C(=O)c2ccccc2)C(=O)O', 'C1CCC(C1)O', 'CCCCC(=O)OC', 'CCCC(=C)C', 'C[C@@H](c1ccc(c(c1)F)c2ccccc2)C(=O)O', 'CCCN(CCC)c1c(cc(cc1[N+](=O)[O-])S(=O)(=O)C)[N+](=O)[O-]', 'C=CCl', 'Cc1ccc(cc1)C(=O)N(C)C', 'CCCC(=O)CCC', 'COC(=O)c1ccccc1', 'Cc1ccc(cc1)C=O', 'CCCC(=O)OCCC', 'C1CNCCN1', 'CCOP(=S)(OCC)S[C@@H](CCl)N1C(=O)c2ccccc2C1=O', 'CCOCCO', 'CCC(C)CC', 'Cc1cnccn1', 'CCC[N+](=O)[O-]', 'Cc1cc(cc(c1)C)C', 'c1c(c(=O)[nH]c(=O)[nH]1)F', 'CCO', 'Cc1ccc(c2c1cccc2)C', 'c1c2c(cc(c1Cl)Cl)Oc3cc(c(cc3O2)Cl)Cl', 'c1cc(c(c(c1)Cl)C#N)Cl', 'CCOC=O', 'c1c(c(cc(c1Cl)Cl)Cl)Cl', 'CCOC(OCC)Oc1ccccc1', 'c1cc(cc(c1)O)[N+](=O)[O-]', 'CCCCCCCCO', 'CCC=C', 'C(Cl)(Cl)(Cl)Cl', 'c1ccc(cc1)CCO', 'CN(C)C(=O)Nc1ccccc1', 'CSSC', 'C1C=CC[C@@H]2[C@@H]1C(=O)N(C2=O)SC(Cl)(Cl)Cl', 'CC(=O)OCC(COC(=O)C)OC(=O)C', 'COC', 'CCCCCC', 'C(CBr)Br', 'C(C(Cl)(Cl)Cl)(Cl)Cl', 'c1c(c(=O)[nH]c(=O)[nH]1)C(F)(F)F', 'Cc1cccc(c1N)C', 'CCCOC(=O)C', 'c1ccc2c(c1)cccn2', 'CCS', 'CCSSCC', 'c1ccsc1', 'CCc1cccc2c1cccc2', 'CCCC(=O)C', 'c1c(c(c(c(c1Cl)Cl)Cl)Cl)c2c(cc(c(c2Cl)Cl)Cl)Cl', 'CCC[N@@](CC1CC1)c2c(cc(cc2[N+](=O)[O-])C(F)(F)F)[N+](=O)[O-]', 'CC(=O)O', 'CC=O', 'c1cc(cc(c1)[N+](=O)[O-])N', 'CCCCC#C', 'COc1ccccc1N', 'c1ccc(cc1)O', 'CCC#N', 'c1ccc2c(c1)cccc2O', 'CCCCOC(=O)C', 'CC(C)(/C=N\\\\OC(=O)NC)SC', 'Cc1ccccc1O', 'CC(C)C=O', 'CCC(=O)N', 'CCCBr', 'CC(C)Cl', 'C(CCl)CCl', 'c1cc(ccc1[N+](=O)[O-])O', 'C[C@@H](CCl)Cl', 'c1cc(ccc1N)Cl', 'c1ccc2c(c1)C(=O)c3cccc(c3C2=O)N', 'Cc1cccnc1C', 'c1cnccc1C#N', 'CCOP(=S)(OCC)SCSCC', 'CC(=O)C1CCCCC1', 'Cc1ccccc1C=O', 'CC(=O)c1ccncc1', 'c1c2c(cc(c1Cl)Cl)Oc3c(c(c(c(c3Cl)Cl)Cl)Cl)O2', 'CC(=O)C', 'CC(=C)C', 'c1cc(c(cc1Cl)c2cc(c(c(c2)Cl)Cl)Cl)Cl', 'CCCCC[N+](=O)[O-]', 'CCC/C=C/C=O', 'CN(C)C(=O)c1ccc(cc1)[N+](=O)[O-]', 'C1CCOC1', 'CCCCCCCC', 'CCCN(CCC)c1c(cc(cc1[N+](=O)[O-])C(F)(F)F)[N+](=O)[O-]', 'CC(=CCC[C@](C)(C=C)OC(=O)C)C', 'C[C@@H](CCO[N+](=O)[O-])O[N+](=O)[O-]', 'CC(C)OC(C)C', 'CCCCC(C)C', 'c1(c(c(c(c(c1Cl)Cl)Cl)Cl)Cl)N(=O)=O', '[C@@H](C(F)(F)F)(Cl)Br', 'CCCCOCCCC', 'CCCCCC1CCCC1', 'CC(C)CC(C)C', 'Cc1ccc(nc1)C', 'C/C=C/C=O', 'CCC[C@H](C)CC', 'c1cc(c(c(c1)Cl)c2c(cc(cc2Cl)Cl)Cl)Cl', 'c1ccc(cc1)O[C@@H](C(F)F)F', 'COCCOC', 'CC[C@H](C)c1ccccc1', 'c1ccc(cc1)CCCO', 'CC[C@@H](C)c1cc(cc(c1O)[N+](=O)[O-])[N+](=O)[O-]', 'COc1ccc(cc1)C(=O)OC', 'CCC(=O)Nc1ccc(c(c1)Cl)Cl', 'C[C@@H](c1ccc2cc(ccc2c1)OC)C(=O)O', 'C1(C(C(C1(F)F)(F)F)(F)F)(F)F', 'CC(C)CCOC(=O)C', 'CCCCCCCl', 'CC(C)CC(=O)C', 'CCCCCC=O', 'c1cc(cc(c1)Cl)N', 'C1COCCN1', 'CCOC(C)OCC', 'CCCC[N@](CC)c1c(cc(cc1[N+](=O)[O-])C(F)(F)F)[N+](=O)[O-]', 'CS', 'C1[C@@H]2[C@H](COS(=O)O1)[C@@]3(C(=C([C@]2(C3(Cl)Cl)Cl)Cl)Cl)Cl', 'CC(=O)c1ccc(cc1)OC', 'C=CCO', 'CCSC', 'CCCCCOC(=O)C', 'c1c(cc(c(c1Cl)Cl)Cl)Cl', 'CC(=O)c1ccccc1', 'CCCl', 'CCCC1CCCC1', 'c1c(cc(cc1Cl)Cl)Cl', 'CCCOC(=O)c1ccc(cc1)O', 'c1cc(cc(c1)Cl)O', 'CC(C)CCO', 'CCCCCN', 'Cc1c(c(=O)n(c(=O)[nH]1)C(C)(C)C)Cl', 'CC(C)CCC(C)(C)C', 'CCCCOCCO', 'C1[C@@H]2[C@H]3[C@@H]([C@H]1[C@H]4[C@@H]2O4)[C@@]5(C(=C([C@]3(C5(Cl)Cl)Cl)Cl)Cl)Cl', 'c1ccc(cc1)C(=O)N', 'CC(C)[N+](=O)[O-]', 'C(C(CO)O)O', 'CCCI', 'COCCN', 'C(C(Cl)(Cl)Cl)Cl', 'CCC(=O)OC', 'C1CCCC1', 'CCc1cccnc1', 'Cc1cc(cnc1)C', 'COCCO', 'COC=O', 'c1ccc2cc(ccc2c1)N', 'Cc1c[nH]cn1', 'Cc1cccc(c1)[N+](=O)[O-]', 'C(CCCl)CCl', 'CC(=O)CO[N+](=O)[O-]', 'CC(C)(C)c1ccccc1', 'CCCCCC(=O)OC', 'C[C@@H](C(F)(F)F)O', 'CCCCCBr', 'CCCCCCC=C', 'CC1=CC(=O)[C@@H](CC1)C(C)C', 'CC(C)O', 'CCCCCCN', 'C(CO[N+](=O)[O-])CO[N+](=O)[O-]', 'Cc1ccc(c(c1)C)O', 'CCCCCO', 'CCC[C@@H](C)O', 'CCCC[C@@H](C)CC', 'C[C@@H](c1ccc(cc1)CC(C)C)C(=O)O', 'CCOC(=O)C[C@H](C(=O)OCC)SP(=S)(OC)OC', 'Cc1ccc(cc1C)O', 'Cc1cc(ccc1Cl)O', 'CCCC/C=C/C', 'CCCOCCC', 'C[C@@H]1CC[C@H]([C@@H](C1)O)C(C)C', 'CCNc1nc(nc(n1)SC)NC(C)(C)C', 'CC(C)CC(C)(C)C', 'CCCCC(=O)CCCC', 'CCCCN(CC)C(=O)SCCC', 'CCCCCC=C', 'CC(C)OC=O', 'CC(OC(=O)C)OC(=O)C', 'c1c(c(=O)[nH]c(=O)[nH]1)Cl', 'CC(=C)c1ccccc1', 'CCC(C)C', 'CCCCO[N+](=O)[O-]', 'c1ccc(cc1)Br', 'CC(Cl)(Cl)Cl', 'CC(=C)[C@H]1CCC(=CC1)C=O', 'Cc1ccccc1[N+](=O)[O-]', 'CCCCCCCI', 'c1cc2ccc3cccc4c3c2c(c1)cc4', 'CCCCCCl', 'CC(C)COC(=O)C', 'CCC(C)(C)C', 'c1cc(ccc1N)N(=O)=O', 'COC(=O)CC#N', 'COc1ccc(cc1)N', 'CC(C)Cc1ccccc1', 'c1ccc(cc1)c2c(cc(cc2Cl)Cl)Cl', 'CN', 'c1ccc(c(c1)O)Cl', 'c1ccc2c(c1)C(=O)c3ccc(cc3C2=O)N', 'C(=C\\\\Cl)\\\\Cl', 'CCCCC(=O)C', 'C(CO[N+](=O)[O-])O[N+](=O)[O-]', 'c1ccc(c(c1)O)F', 'Cc1c(nc(nc1OC(=O)N(C)C)N(C)C)C', 'C=Cc1ccccc1', 'CCOP(=O)(OCC)OCC', 'C(C(F)(F)F)O', 'CCCCOC[C@H](C)O', 'CCCO', 'Cc1ccccc1C', 'CC(C)(C)C', 'CCCC#C', 'c1ccc2c(c1)C(=O)NC2=O', 'CCCCI', 'Cc1ccc(cc1)O', 'CC(C)I', 'COc1ccccc1O', 'C1CC=CC1', 'C[C@H](C(F)(F)F)O', 'CCCN', 'c1ccc(c(c1)[N+](=O)[O-])O', 'Cc1cccc2c1cccc2', 'c1(c(c(c(c(c1Cl)Cl)Cl)Cl)Cl)Cl', 'CCCCC/C=C/C=O', 'CCCCCCC#C', 'CCOP(=S)(OCC)Oc1cc(nc(n1)C(C)C)C', 'CCCCCCCC(=O)OC', 'C1CCNC1', 'c1cc(ccc1C=O)O', 'CCCCCCCCl', 'C1COCCO1']\n"
     ]
    }
   ],
   "execution_count": 5
  },
  {
   "metadata": {},
   "cell_type": "code",
   "outputs": [],
   "execution_count": null,
   "source": "",
   "id": "a156850a80367618"
  }
 ],
 "metadata": {
  "kernelspec": {
   "display_name": "Python 3",
   "language": "python",
   "name": "python3"
  },
  "language_info": {
   "codemirror_mode": {
    "name": "ipython",
    "version": 2
   },
   "file_extension": ".py",
   "mimetype": "text/x-python",
   "name": "python",
   "nbconvert_exporter": "python",
   "pygments_lexer": "ipython2",
   "version": "2.7.6"
  }
 },
 "nbformat": 4,
 "nbformat_minor": 5
}
