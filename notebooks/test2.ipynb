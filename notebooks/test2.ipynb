{
 "cells": [
  {
   "cell_type": "code",
   "execution_count": 1,
   "id": "initial_id",
   "metadata": {
    "collapsed": true,
    "ExecuteTime": {
     "end_time": "2024-04-03T20:03:21.239408Z",
     "start_time": "2024-04-03T20:03:17.336262Z"
    }
   },
   "outputs": [
    {
     "name": "stdout",
     "output_type": "stream",
     "text": [
      "Loaded dataset.\n"
     ]
    },
    {
     "name": "stderr",
     "output_type": "stream",
     "text": [
      "epoch=0, training loss= 0.802, validation loss= 0.636: 100%|██████████| 1/1 [00:00<00:00,  1.41it/s]\n",
      "100%|██████████| 10/10 [00:00<00:00, 212.33it/s]\n"
     ]
    },
    {
     "name": "stdout",
     "output_type": "stream",
     "text": [
      "Test loss: 0.712\n"
     ]
    },
    {
     "name": "stderr",
     "output_type": "stream",
     "text": [
      "100%|██████████| 10/10 [00:00<00:00, 206.12it/s]\n"
     ]
    },
    {
     "data": {
      "text/plain": "{'mse': 0.725608113941884}"
     },
     "execution_count": 1,
     "metadata": {},
     "output_type": "execute_result"
    }
   ],
   "source": [
    "from grape.utils import DataSet\n",
    "data = DataSet(file_path='/Users/faerte/Desktop/grape/notebooks/data/processed/BradleyDoublePlus.pickle')\n",
    "train, test, val = data.get_splits()\n",
    "\n",
    "from grape.models import MGConv, SimpleGNN\n",
    "import torch\n",
    "\n",
    "node_hidden_dim = 64\n",
    "batch_size = 32\n",
    "\n",
    "model_message = MGConv(num_layers=5, edge_hidden_dim=64, node_hidden_dim=node_hidden_dim, \n",
    "                node_in_dim=data.num_node_features, edge_in_dim=data.num_edge_features)\n",
    "\n",
    "model = SimpleGNN(model_message=model_message,\n",
    "                      input_pool_size=node_hidden_dim, \n",
    "                      output_size=1)\n",
    "\n",
    "device = torch.device('cpu')\n",
    "\n",
    "from torch import nn\n",
    "\n",
    "loss_func = nn.functional.mse_loss\n",
    "optimizer = torch.optim.Adam(model.parameters(), lr=0.001, weight_decay=5e-4)\n",
    "\n",
    "from grape.utils import train_model\n",
    "\n",
    "train_loss, val_loss = train_model(model = model,\n",
    "                                   loss_func = loss_func,\n",
    "                                   optimizer = optimizer,\n",
    "                                   train_data_loader= train,\n",
    "                                   val_data_loader = val,\n",
    "                                   batch_size=batch_size,\n",
    "                                   epochs=1,\n",
    "                                   early_stopping=True,\n",
    "                                   patience=20)\n",
    "\n",
    "from grape.utils import test_model\n",
    "test_model(model = model,\n",
    "           test_data_loader= test,\n",
    "           loss_func= loss_func);\n",
    "\n",
    "\n",
    "from grape.utils import pred_metric\n",
    "from grape.utils import SubSet, torch_subset_to_SubSet\n",
    "import numpy as np\n",
    "\n",
    "# Generate predictions (we save the latents for later)\n",
    "preds, lats = test_model(model=model,\n",
    "                   test_data_loader=test,\n",
    "                   loss_func=None)\n",
    "\n",
    "test = torch_subset_to_SubSet(test)\n",
    "\n",
    "lats = lats.cpu().detach().numpy()\n",
    "\n",
    "pred_metric(preds, test.y)"
   ]
  },
  {
   "cell_type": "code",
   "execution_count": 2,
   "outputs": [
    {
     "name": "stdout",
     "output_type": "stream",
     "text": [
      "(64, 2)\n",
      "(299, 64)\n",
      "(299, 2)\n"
     ]
    }
   ],
   "source": [
    "from sklearn.decomposition import PCA\n",
    "model_pca = PCA(n_components=2)\n",
    "model_pca.fit(lats)\n",
    "\n",
    "V = model_pca.components_.T\n",
    "print(V.shape)\n",
    "print(lats.shape)\n",
    "projection = lats@V\n",
    "print(projection.shape)"
   ],
   "metadata": {
    "collapsed": false,
    "ExecuteTime": {
     "end_time": "2024-04-03T20:03:21.281967Z",
     "start_time": "2024-04-03T20:03:21.243033Z"
    }
   },
   "id": "ce27add128728ed0"
  },
  {
   "cell_type": "code",
   "execution_count": 3,
   "outputs": [
    {
     "name": "stdout",
     "output_type": "stream",
     "text": [
      "Found log file in working directory.\n",
      "Loaded existing log_file. Here is the data head:\n",
      "  filename                                             smiles\n",
      "0   0.json                                           CC(C)CCO\n",
      "1   1.json                                 COC(=O)c1ccc(I)cc1\n",
      "2   3.json                                              C=CCN\n",
      "3   0.json                                   N#Cc1ccc(C#N)cc1\n",
      "4   1.json  Clc1c(Cl)c(Cl)c(-c2c(Cl)c(Cl)c(Cl)c(Cl)c2Cl)c(...\n",
      "5   2.json                                CCOC(=O)c1ccc(O)cc1\n",
      "6   3.json             O=[N+]([O-])c1ccc(Cl)c([N+](=O)[O-])c1\n",
      "7   4.json                                O=C1CCN(c2ccccc2)N1\n",
      "8   5.json                                         CC=C(C)CCC\n",
      "9   6.json                        O=C(O)c1c(F)c(F)c(F)c(F)c1F\n",
      "Mol 4 in log datafile, so skipping it.\n",
      "Mol 9 in log datafile, so skipping it.\n"
     ]
    },
    {
     "name": "stderr",
     "output_type": "stream",
     "text": [
      "100%|██████████| 8/8 [00:14<00:00,  1.80s/it]\n"
     ]
    }
   ],
   "source": [
    "from grape.utils import classyfire, classyfire_result_analysis\n",
    "ids = classyfire(test.smiles[:10])\n",
    "mols_class, _ = classyfire_result_analysis()"
   ],
   "metadata": {
    "collapsed": false,
    "ExecuteTime": {
     "end_time": "2024-04-03T20:03:35.859585Z",
     "start_time": "2024-04-03T20:03:21.292412Z"
    }
   },
   "id": "26fe1643950c55ea"
  },
  {
   "cell_type": "code",
   "execution_count": 7,
   "outputs": [
    {
     "name": "stdout",
     "output_type": "stream",
     "text": [
      "{833: 'Lipids and lipid-like molecules', 1028: 'Hydrocarbons', 0: 'Benzenoids', 1: 'Organoheterocyclic compounds', 2: 'Hydrocarbons', 3: 'Lipids and lipid-like molecules', 5: 'Benzenoids', 6: 'Benzenoids', 7: 'Benzenoids', 8: 'Organic acids and derivatives'}\n",
      "[2 1 0 4 1 2 0 0 0 3]\n"
     ]
    }
   ],
   "source": [
    "mols_class, _ = classyfire_result_analysis(idx=ids)\n",
    "print(mols_class)\n",
    "from sklearn.preprocessing import LabelEncoder\n",
    "enc = LabelEncoder()\n",
    "labels = enc.fit_transform(list(mols_class.values()))\n",
    "print(labels)"
   ],
   "metadata": {
    "collapsed": false,
    "ExecuteTime": {
     "end_time": "2024-04-03T20:03:50.023098Z",
     "start_time": "2024-04-03T20:03:50.012523Z"
    }
   },
   "id": "7dd16e08014b5d99"
  },
  {
   "cell_type": "code",
   "execution_count": 8,
   "outputs": [
    {
     "data": {
      "text/plain": "<matplotlib.collections.PathCollection at 0x31a3a4e50>"
     },
     "execution_count": 8,
     "metadata": {},
     "output_type": "execute_result"
    },
    {
     "data": {
      "text/plain": "<Figure size 800x800 with 1 Axes>",
      "image/png": "[encoded data removed]"
     },
     "metadata": {},
     "output_type": "display_data"
    }
   ],
   "source": [
    "import matplotlib.pyplot as plt\n",
    "fig, ax = plt.subplots(figsize=(8,8))\n",
    "ax.scatter(projection[:10,0], projection[:10,1], c = labels)\n"
   ],
   "metadata": {
    "collapsed": false,
    "ExecuteTime": {
     "end_time": "2024-04-03T20:04:08.911362Z",
     "start_time": "2024-04-03T20:04:08.820345Z"
    }
   },
   "id": "8a695fd4e804ab3"
  },
  {
   "cell_type": "code",
   "execution_count": null,
   "outputs": [],
   "source": [
    "import os\n",
    "import pandas as pd\n",
    "\n",
    "def file_in_dir(directory, filename):\n",
    "    for root, dirs, files in os.walk(directory):\n",
    "        if filename in files:\n",
    "            return True\n",
    "\n",
    "\n",
    "class classyfire(object):\n",
    "    \"\"\"\n",
    "    \n",
    "    \"\"\"\n",
    "    \n",
    "    def __init__(self, path_to_export: str = None,\n",
    "               record_log_file: bool = True, existing_log_file: str = None):\n",
    "        \n",
    "        if path_to_export is None:\n",
    "\n",
    "            path_to_export = os.getcwd() + '/analysis_results'\n",
    "    \n",
    "            if not os.path.exists(path_to_export):\n",
    "                os.mkdir(path_to_export)\n",
    "    \n",
    "            if existing_log_file is None:\n",
    "                if file_in_dir(path_to_export, 'recorded_SMILES.csv'):\n",
    "                    print('Found log file in working directory.')\n",
    "                    existing_log_file = os.path.join(path_to_export,'recorded_SMILES.csv')\n",
    "                    \n",
    "        if record_log_file and existing_log_file is None:\n",
    "            self.log_file = os.path.join(path_to_export, 'recorded_SMILES.csv')\n",
    "            self.log_frame = pd.DataFrame({'filename':[], 'smiles':[]})\n",
    "        \n",
    "        elif existing_log_file is not None:\n",
    "            try:\n",
    "                self.log_frame = pd.read_csv(existing_log_file)\n",
    "                log_file = existing_log_file\n",
    "                print('Loaded existing log_file. Here is the data head:')\n",
    "                #print(log_frame.head(10))\n",
    "            except:\n",
    "                print('Passed log_file is not valid, creating a new one.')\n",
    "                self.log_file = os.path.join(path_to_export, 'recorded_SMILES.csv')\n",
    "                self.log_frame = pd.DataFrame({'filename': [], 'smiles': []})\n",
    "        \n",
    "    #def retrieve_classyfiles(self):\n",
    "        \n"
   ],
   "metadata": {
    "collapsed": false,
    "ExecuteTime": {
     "end_time": "2024-04-03T20:03:36.440511Z",
     "start_time": "2024-04-03T20:03:36.435930Z"
    }
   },
   "id": "3440f748ea3f775"
  },
  {
   "cell_type": "code",
   "execution_count": 1,
   "outputs": [
    {
     "ename": "ModuleNotFoundError",
     "evalue": "No module named 'grape.utils.data_splitting'",
     "output_type": "error",
     "traceback": [
      "\u001B[0;31m---------------------------------------------------------------------------\u001B[0m",
      "\u001B[0;31mModuleNotFoundError\u001B[0m                       Traceback (most recent call last)",
      "Cell \u001B[0;32mIn[1], line 2\u001B[0m\n\u001B[1;32m      1\u001B[0m \u001B[38;5;28;01mfrom\u001B[39;00m \u001B[38;5;21;01mgrape\u001B[39;00m\u001B[38;5;21;01m.\u001B[39;00m\u001B[38;5;21;01mdatasets\u001B[39;00m \u001B[38;5;28;01mimport\u001B[39;00m BradleyDoublePlus\n\u001B[0;32m----> 2\u001B[0m \u001B[38;5;28;01mfrom\u001B[39;00m \u001B[38;5;21;01mgrape\u001B[39;00m\u001B[38;5;21;01m.\u001B[39;00m\u001B[38;5;21;01mutils\u001B[39;00m\u001B[38;5;21;01m.\u001B[39;00m\u001B[38;5;21;01mdata_splitting\u001B[39;00m \u001B[38;5;28;01mimport\u001B[39;00m taylor_butina_clustering\n\u001B[1;32m      3\u001B[0m data \u001B[38;5;241m=\u001B[39m BradleyDoublePlus()\n\u001B[1;32m      5\u001B[0m train, val, test \u001B[38;5;241m=\u001B[39m taylor_butina_clustering(data, threshold\u001B[38;5;241m=\u001B[39m\u001B[38;5;241m0.8\u001B[39m, radius\u001B[38;5;241m=\u001B[39m\u001B[38;5;241m3\u001B[39m)\n",
      "\u001B[0;31mModuleNotFoundError\u001B[0m: No module named 'grape.utils.data_splitting'"
     ]
    }
   ],
   "source": [
    "from grape.datasets import BradleyDoublePlus\n",
    "from grape.utils.data_splitting import taylor_butina_clustering\n",
    "data = BradleyDoublePlus()\n",
    "\n",
    "train, val, test = taylor_butina_clustering(data, threshold=0.8, radius=3)"
   ],
   "metadata": {
    "collapsed": false,
    "ExecuteTime": {
     "end_time": "2024-04-06T15:33:03.656798Z",
     "start_time": "2024-04-06T15:32:58.127113Z"
    }
   },
   "id": "7358c6fff531beea"
  },
  {
   "cell_type": "code",
   "execution_count": 4,
   "outputs": [
    {
     "name": "stdout",
     "output_type": "stream",
     "text": [
      "Data(x=[9, 42], edge_index=[2, 18], edge_attr=[18, 12], y=[1])\n"
     ]
    }
   ],
   "source": [
    "print(train[0])"
   ],
   "metadata": {
    "collapsed": false,
    "ExecuteTime": {
     "end_time": "2024-04-04T07:08:37.911542Z",
     "start_time": "2024-04-04T07:08:37.900505Z"
    }
   },
   "id": "d6cc30169757d12c"
  },
  {
   "cell_type": "code",
   "execution_count": 2,
   "outputs": [
    {
     "name": "stdout",
     "output_type": "stream",
     "text": [
      "1\n",
      "2\n",
      "3\n"
     ]
    }
   ],
   "source": [
    "test = (1,2,3)\n",
    "for i in test:\n",
    "    print(i)"
   ],
   "metadata": {
    "collapsed": false,
    "ExecuteTime": {
     "end_time": "2024-04-06T15:33:07.400860Z",
     "start_time": "2024-04-06T15:33:07.387345Z"
    }
   },
   "id": "2ee3607da0a505a8"
  },
  {
   "cell_type": "code",
   "execution_count": 4,
   "outputs": [
    {
     "data": {
      "text/plain": "(1, 2, 3, 4)"
     },
     "execution_count": 4,
     "metadata": {},
     "output_type": "execute_result"
    }
   ],
   "source": [
    "def test(x):\n",
    "    for i in x:\n",
    "        yield i\n",
    "\n",
    "test((1,2,3,4))\n",
    "tuple(item for item in test((1,2,3,4)))"
   ],
   "metadata": {
    "collapsed": false,
    "ExecuteTime": {
     "end_time": "2024-04-06T15:37:06.393473Z",
     "start_time": "2024-04-06T15:37:06.383510Z"
    }
   },
   "id": "38b6467aaf151830"
  },
  {
   "cell_type": "code",
   "execution_count": 6,
   "outputs": [
    {
     "name": "stdout",
     "output_type": "stream",
     "text": [
      "Start initializing RDKit molecule instances...\n",
      "Creating RDKit molecule instance 400/2996\n",
      "Creating RDKit molecule instance 800/2996\n",
      "Creating RDKit molecule instance 1200/2996\n",
      "Creating RDKit molecule instance 1600/2996\n",
      "Creating RDKit molecule instance 2000/2996\n",
      "Creating RDKit molecule instance 2400/2996\n",
      "Creating RDKit molecule instance 2800/2996\n",
      "Start computing molecular weights.\n",
      "Computing molecular weight for compound 400/2996\n",
      "Computing molecular weight for compound 800/2996\n",
      "Computing molecular weight for compound 1200/2996\n",
      "Computing molecular weight for compound 1600/2996\n",
      "Computing molecular weight for compound 2000/2996\n",
      "Computing molecular weight for compound 2400/2996\n",
      "Computing molecular weight for compound 2800/2996\n"
     ]
    },
    {
     "data": {
      "text/plain": "[<dgl.data.utils.Subset at 0x31b853c90>,\n <dgl.data.utils.Subset at 0x31ef29810>,\n <dgl.data.utils.Subset at 0x31ab1b550>]"
     },
     "execution_count": 6,
     "metadata": {},
     "output_type": "execute_result"
    }
   ],
   "source": [
    "from grape.datasets import BradleyDoublePlus\n",
    "from dgllife.utils import splitters\n",
    "data = BradleyDoublePlus()\n",
    "import numpy as np\n",
    "\n",
    "def split_data(data, split_type: str = None, split_frac: float = None, custom_split: list = None,\n",
    "               labels: np.array = None, task_id: int = None, bucket_size: int = 10, **kwargs) -> tuple:\n",
    "    \"\"\"\n",
    "\n",
    "    Parameters\n",
    "    ------------\n",
    "    data: Any iterable\n",
    "        An object that can be accessed per an index and iterated upon. Ex: a DataSet or array object\n",
    "    split_type: str\n",
    "        Indicates what split should be used. Default: random. The options are: ['consecutive', 'random',\n",
    "        'molecular weight', 'scaffold', 'stratified', 'custom']\n",
    "    split_frac: list\n",
    "        Indicates what the split fractions should be. Default: [0.8, 0.1, 0.1]\n",
    "    custom_split: list\n",
    "        The custom split that should be applied. Has to be an array matching the length of the filtered smiles,\n",
    "        where 0 indicates a training sample, 1 a testing sample and 2 a validation sample. Default: None\n",
    "    labels: array\n",
    "        An array of shape (N,T) where N is the number of datasets points and T is the number of tasks. Used for the\n",
    "        Stratified Splitter.\n",
    "    task_id: int\n",
    "        The task that will be used for the Stratified Splitter.\n",
    "    bucket_size: int\n",
    "        Size of the bucket that is used in the Stratified Splitter. Default: 10\n",
    "\n",
    "\n",
    "    Returns\n",
    "    ---------\n",
    "    (train, val, test)\n",
    "        - Lists containing the respective datasets objects.\n",
    "\n",
    "    \"\"\"\n",
    "\n",
    "    if split_type is None:\n",
    "        split_type = 'random'\n",
    "\n",
    "    if split_frac is None:\n",
    "        split_frac = [0.8,0.1,0.1]\n",
    "\n",
    "\n",
    "\n",
    "    split_func = {\n",
    "        'consecutive': splitters.ConsecutiveSplitter,\n",
    "        'random': splitters.RandomSplitter,\n",
    "        'molecular_weight': splitters.MolecularWeightSplitter,\n",
    "        'scaffold': splitters.ScaffoldSplitter,\n",
    "        'stratified': splitters.SingleTaskStratifiedSplitter\n",
    "    }\n",
    "\n",
    "    if split_type == 'custom' or custom_split is not None:\n",
    "        assert custom_split is not None and len(custom_split) == len(data), (\n",
    "            'The custom split has to match the length of the filtered dataset.'\n",
    "            'Consider saving the filtered output with .get_smiles()')\n",
    "\n",
    "        return data[custom_split == 0], data[custom_split == 1], data[custom_split == 2]\n",
    "\n",
    "    match split_type:\n",
    "        case 'consecutive':\n",
    "            return split_func[split_type].train_val_test_split(data,frac_train=split_frac[0],frac_test=split_frac[1],\n",
    "                                                                frac_val=split_frac[2])\n",
    "        case 'random':\n",
    "            return split_func[split_type].train_val_test_split(data, frac_train=split_frac[0], frac_test=split_frac[1],\n",
    "                                                                frac_val=split_frac[2])\n",
    "        case 'molecular_weight':\n",
    "            return split_func[split_type].train_val_test_split(data, frac_train=split_frac[0], frac_test=split_frac[1],\n",
    "                                                               frac_val=split_frac[2], **kwargs)\n",
    "        case 'scaffold':\n",
    "            return split_func[split_type].train_val_test_split(data, frac_train=split_frac[0], frac_test=split_frac[1],\n",
    "                                                    frac_val=split_frac[2], log_every_n=1000, scaffold_func='decompose')\n",
    "        case 'stratified':\n",
    "            return split_func[split_type].train_val_test_split(data, labels, task_id, frac_train=split_frac[0],\n",
    "                                                frac_test=split_frac[1],frac_val=split_frac[2], bucket_size=bucket_size)\n",
    "        \n",
    "split_data(data, split_type='molecular_weight', log_every_n = 400)"
   ],
   "metadata": {
    "collapsed": false,
    "ExecuteTime": {
     "end_time": "2024-04-06T15:49:02.237762Z",
     "start_time": "2024-04-06T15:48:59.986450Z"
    }
   },
   "id": "e6016004a6992882"
  },
  {
   "cell_type": "code",
   "execution_count": 12,
   "outputs": [
    {
     "name": "stdout",
     "output_type": "stream",
     "text": [
      "Number of single molecule clusters: 765 and the ratio is: 0.631 of single molecule clusters.\n",
      "<grape.utils.split_utils.SubSet object at 0x31a3f88d0>\n"
     ]
    }
   ],
   "source": [
    "from grape.datasets import BradleyDoublePlus\n",
    "from grape.utils import split_data\n",
    "data = BradleyDoublePlus()\n",
    "import numpy as np\n",
    "\n",
    "train, val, test = split_data(data, split_type='butina', threshold=0.6)\n",
    "print(train)"
   ],
   "metadata": {
    "collapsed": false,
    "ExecuteTime": {
     "end_time": "2024-04-07T06:56:17.402790Z",
     "start_time": "2024-04-07T06:56:14.121522Z"
    }
   },
   "id": "5bea86f99bf54c8a"
  },
  {
   "cell_type": "code",
   "execution_count": 8,
   "outputs": [
    {
     "ename": "AttributeError",
     "evalue": "'numpy.ndarray' object has no attribute 'index'",
     "output_type": "error",
     "traceback": [
      "\u001B[0;31m---------------------------------------------------------------------------\u001B[0m",
      "\u001B[0;31mAttributeError\u001B[0m                            Traceback (most recent call last)",
      "Cell \u001B[0;32mIn[8], line 3\u001B[0m\n\u001B[1;32m      1\u001B[0m \u001B[38;5;28;01mimport\u001B[39;00m \u001B[38;5;21;01mnumpy\u001B[39;00m \u001B[38;5;28;01mas\u001B[39;00m \u001B[38;5;21;01mnp\u001B[39;00m\n\u001B[1;32m      2\u001B[0m test \u001B[38;5;241m=\u001B[39m np\u001B[38;5;241m.\u001B[39marray([\u001B[38;5;241m1\u001B[39m,\u001B[38;5;241m2\u001B[39m,\u001B[38;5;241m3\u001B[39m,\u001B[38;5;241m4\u001B[39m,\u001B[38;5;241m1\u001B[39m,\u001B[38;5;241m1\u001B[39m,\u001B[38;5;241m2\u001B[39m,\u001B[38;5;241m3\u001B[39m])\n\u001B[0;32m----> 3\u001B[0m \u001B[38;5;28mprint\u001B[39m(\u001B[43mtest\u001B[49m\u001B[38;5;241;43m.\u001B[39;49m\u001B[43mindex\u001B[49m(test\u001B[38;5;241m==\u001B[39m\u001B[38;5;241m1\u001B[39m))\n",
      "\u001B[0;31mAttributeError\u001B[0m: 'numpy.ndarray' object has no attribute 'index'"
     ]
    }
   ],
   "source": [
    "import numpy as np\n",
    "test = np.array([1,2,3,4,1,1,2,3])\n",
    "print(test.index(test==1))"
   ],
   "metadata": {
    "collapsed": false,
    "ExecuteTime": {
     "end_time": "2024-04-07T06:27:07.462538Z",
     "start_time": "2024-04-07T06:27:07.227943Z"
    }
   },
   "id": "466db8f66f78779b"
  },
  {
   "cell_type": "code",
   "execution_count": 10,
   "outputs": [
    {
     "name": "stdout",
     "output_type": "stream",
     "text": [
      "[-1.06810349 -0.11867817  0.83074716  1.78017249 -1.06810349 -1.06810349\n",
      " -0.11867817  0.83074716]\n",
      "[-1.06810349 -0.11867817  0.83074716  1.78017249 -1.06810349 -1.06810349\n",
      " -0.11867817  0.83074716]\n"
     ]
    }
   ],
   "source": [
    "test = np.array([1,2,3,4,1,1,2,3])\n",
    "test = (test-np.mean(test))/np.std(test)\n",
    "print(test)\n",
    "test = (test-np.mean(test))/np.std(test)\n",
    "print(test)"
   ],
   "metadata": {
    "collapsed": false,
    "ExecuteTime": {
     "end_time": "2024-04-07T06:31:40.338377Z",
     "start_time": "2024-04-07T06:31:40.325760Z"
    }
   },
   "id": "61ea0a98dadc0b84"
  },
  {
   "cell_type": "code",
   "execution_count": 3,
   "outputs": [
    {
     "name": "stdout",
     "output_type": "stream",
     "text": [
      "MPNN(\n",
      "  (lin_in): Linear(in_features=64, out_features=64, bias=True)\n",
      "  (gru): GRU(64, 64, num_layers=10)\n",
      "  (mlp): Sequential(\n",
      "    (0): Linear(in_features=64, out_features=64, bias=True)\n",
      "    (1): ReLU()\n",
      "    (2): Linear(in_features=64, out_features=64, bias=True)\n",
      "    (3): ReLU()\n",
      "    (4): Linear(in_features=64, out_features=4096, bias=True)\n",
      "  )\n",
      "  (gnn_layers): ModuleList(\n",
      "    (0-3): 4 x NNConv(64, 64, aggr=add, nn=Sequential(\n",
      "      (0): Linear(in_features=64, out_features=64, bias=True)\n",
      "      (1): ReLU()\n",
      "      (2): Linear(in_features=64, out_features=64, bias=True)\n",
      "      (3): ReLU()\n",
      "      (4): Linear(in_features=64, out_features=4096, bias=True)\n",
      "    ))\n",
      "  )\n",
      ")\n"
     ]
    }
   ],
   "source": [
    "from torch.nn import Module, Sequential\n",
    "import torch\n",
    "from grape.models import MPNN\n",
    "from grape.utils import reset_weights\n",
    "\n",
    "model = MPNN(64, 64)\n",
    "print(model)\n"
   ],
   "metadata": {
    "collapsed": false,
    "ExecuteTime": {
     "end_time": "2024-04-07T13:31:37.635602Z",
     "start_time": "2024-04-07T13:31:37.606907Z"
    }
   },
   "id": "a1be673f59e2f7e4"
  },
  {
   "cell_type": "code",
   "execution_count": 12,
   "outputs": [
    {
     "name": "stdout",
     "output_type": "stream",
     "text": [
      "Linear(in_features=64, out_features=64, bias=True)\n",
      "GRU(64, 64, num_layers=10)\n",
      "Sequential(\n",
      "  (0): Linear(in_features=64, out_features=64, bias=True)\n",
      "  (1): ReLU()\n",
      "  (2): Linear(in_features=64, out_features=64, bias=True)\n",
      "  (3): ReLU()\n",
      "  (4): Linear(in_features=64, out_features=4096, bias=True)\n",
      ")\n",
      "ModuleList(\n",
      "  (0-3): 4 x NNConv(64, 64, aggr=add, nn=Sequential(\n",
      "    (0): Linear(in_features=64, out_features=64, bias=True)\n",
      "    (1): ReLU()\n",
      "    (2): Linear(in_features=64, out_features=64, bias=True)\n",
      "    (3): ReLU()\n",
      "    (4): Linear(in_features=64, out_features=4096, bias=True)\n",
      "  ))\n",
      ")\n",
      "<generator object Module.children at 0x30ae38120>\n",
      "Linear(in_features=64, out_features=64, bias=True)\n",
      "tensor([[ 0.1021,  0.0348, -0.0363,  ..., -0.0731, -0.0287, -0.0903],\n",
      "        [ 0.0916, -0.0162,  0.0435,  ..., -0.1165,  0.0802, -0.0188],\n",
      "        [ 0.0897,  0.0470,  0.0829,  ..., -0.0558,  0.1143, -0.0566],\n",
      "        ...,\n",
      "        [-0.0355, -0.0944, -0.1071,  ...,  0.0206, -0.0467, -0.0611],\n",
      "        [-0.0103,  0.1057,  0.0383,  ...,  0.0904,  0.1116,  0.0447],\n",
      "        [-0.1099,  0.0526, -0.1131,  ..., -0.0474, -0.0559, -0.0971]])\n",
      "tensor([[1., 1., 1.,  ..., 1., 1., 1.],\n",
      "        [1., 1., 1.,  ..., 1., 1., 1.],\n",
      "        [1., 1., 1.,  ..., 1., 1., 1.],\n",
      "        ...,\n",
      "        [1., 1., 1.,  ..., 1., 1., 1.],\n",
      "        [1., 1., 1.,  ..., 1., 1., 1.],\n",
      "        [1., 1., 1.,  ..., 1., 1., 1.]])\n",
      "ReLU()\n",
      "Linear(in_features=64, out_features=64, bias=True)\n",
      "tensor([[-0.0836,  0.1249, -0.0490,  ...,  0.0738,  0.0184, -0.0129],\n",
      "        [ 0.0725, -0.0602,  0.0516,  ..., -0.0944,  0.0316, -0.1015],\n",
      "        [ 0.0077,  0.0826, -0.0753,  ..., -0.0090,  0.0968,  0.0613],\n",
      "        ...,\n",
      "        [ 0.0501, -0.0330,  0.0887,  ..., -0.0850, -0.0283, -0.0628],\n",
      "        [-0.0462,  0.0554, -0.1222,  ..., -0.0595, -0.1236,  0.0678],\n",
      "        [ 0.0330,  0.1018,  0.1171,  ...,  0.0275, -0.0049,  0.0395]])\n",
      "tensor([[1., 1., 1.,  ..., 1., 1., 1.],\n",
      "        [1., 1., 1.,  ..., 1., 1., 1.],\n",
      "        [1., 1., 1.,  ..., 1., 1., 1.],\n",
      "        ...,\n",
      "        [1., 1., 1.,  ..., 1., 1., 1.],\n",
      "        [1., 1., 1.,  ..., 1., 1., 1.],\n",
      "        [1., 1., 1.,  ..., 1., 1., 1.]])\n",
      "ReLU()\n",
      "Linear(in_features=64, out_features=4096, bias=True)\n",
      "tensor([[-0.1085,  0.1181, -0.0964,  ...,  0.1217, -0.0104, -0.1169],\n",
      "        [-0.1144,  0.0804, -0.0775,  ...,  0.0156,  0.0817, -0.0168],\n",
      "        [-0.0033, -0.0760, -0.0457,  ...,  0.0960,  0.0490, -0.0668],\n",
      "        ...,\n",
      "        [-0.0472,  0.0092,  0.0988,  ..., -0.0973, -0.0168,  0.0717],\n",
      "        [-0.1224,  0.0690,  0.1022,  ..., -0.0592,  0.0680,  0.0918],\n",
      "        [-0.0834, -0.0065, -0.1110,  ...,  0.0433, -0.0283, -0.0153]])\n",
      "tensor([[1., 1., 1.,  ..., 1., 1., 1.],\n",
      "        [1., 1., 1.,  ..., 1., 1., 1.],\n",
      "        [1., 1., 1.,  ..., 1., 1., 1.],\n",
      "        ...,\n",
      "        [1., 1., 1.,  ..., 1., 1., 1.],\n",
      "        [1., 1., 1.,  ..., 1., 1., 1.],\n",
      "        [1., 1., 1.,  ..., 1., 1., 1.]])\n",
      "Linear(in_features=64, out_features=64, bias=True)\n",
      "ReLU()\n",
      "Linear(in_features=64, out_features=64, bias=True)\n",
      "ReLU()\n",
      "Linear(in_features=64, out_features=4096, bias=True)\n",
      "NNConv(64, 64, aggr=add, nn=Sequential(\n",
      "  (0): Linear(in_features=64, out_features=64, bias=True)\n",
      "  (1): ReLU()\n",
      "  (2): Linear(in_features=64, out_features=64, bias=True)\n",
      "  (3): ReLU()\n",
      "  (4): Linear(in_features=64, out_features=4096, bias=True)\n",
      "))\n",
      "tensor([[-0.0277,  0.0009,  0.1223,  ...,  0.0494, -0.0842,  0.0637],\n",
      "        [-0.1064,  0.0404,  0.0916,  ..., -0.0482,  0.0760, -0.0218],\n",
      "        [-0.0905,  0.0619, -0.1144,  ..., -0.0866,  0.0376, -0.0160],\n",
      "        ...,\n",
      "        [-0.0523,  0.1087, -0.0734,  ...,  0.0275, -0.0792,  0.1134],\n",
      "        [ 0.0903, -0.0058,  0.1109,  ..., -0.1206, -0.0672,  0.0067],\n",
      "        [-0.0682,  0.1182,  0.0669,  ..., -0.0728, -0.0143,  0.0828]])\n",
      "NNConv(64, 64, aggr=add, nn=Sequential(\n",
      "  (0): Linear(in_features=64, out_features=64, bias=True)\n",
      "  (1): ReLU()\n",
      "  (2): Linear(in_features=64, out_features=64, bias=True)\n",
      "  (3): ReLU()\n",
      "  (4): Linear(in_features=64, out_features=4096, bias=True)\n",
      "))\n",
      "tensor([[-0.0498, -0.1166,  0.0373,  ..., -0.0923, -0.0864, -0.1183],\n",
      "        [-0.0995,  0.0340, -0.0101,  ...,  0.1221, -0.0744,  0.1235],\n",
      "        [ 0.0595,  0.0620,  0.0238,  ..., -0.1242,  0.0948,  0.0472],\n",
      "        ...,\n",
      "        [ 0.1148,  0.0193,  0.0366,  ...,  0.0063, -0.0547,  0.0478],\n",
      "        [ 0.0590, -0.0569, -0.0027,  ...,  0.0959,  0.0176,  0.0026],\n",
      "        [-0.1110,  0.0138,  0.0436,  ..., -0.0039, -0.1141, -0.0780]])\n",
      "NNConv(64, 64, aggr=add, nn=Sequential(\n",
      "  (0): Linear(in_features=64, out_features=64, bias=True)\n",
      "  (1): ReLU()\n",
      "  (2): Linear(in_features=64, out_features=64, bias=True)\n",
      "  (3): ReLU()\n",
      "  (4): Linear(in_features=64, out_features=4096, bias=True)\n",
      "))\n",
      "tensor([[-0.1150,  0.0908, -0.0513,  ...,  0.1120, -0.0606,  0.1017],\n",
      "        [ 0.1150,  0.0862, -0.0640,  ..., -0.0026,  0.0134,  0.0943],\n",
      "        [ 0.0740, -0.0562,  0.0876,  ..., -0.0381, -0.0210, -0.0749],\n",
      "        ...,\n",
      "        [-0.0346, -0.0470,  0.0892,  ..., -0.0135,  0.0609,  0.1154],\n",
      "        [ 0.0228, -0.0520,  0.0594,  ..., -0.1094,  0.0051, -0.0326],\n",
      "        [-0.0281, -0.0040, -0.1149,  ..., -0.1091,  0.0534,  0.0780]])\n",
      "NNConv(64, 64, aggr=add, nn=Sequential(\n",
      "  (0): Linear(in_features=64, out_features=64, bias=True)\n",
      "  (1): ReLU()\n",
      "  (2): Linear(in_features=64, out_features=64, bias=True)\n",
      "  (3): ReLU()\n",
      "  (4): Linear(in_features=64, out_features=4096, bias=True)\n",
      "))\n",
      "tensor([[-0.0032,  0.0136, -0.0973,  ...,  0.0911,  0.0873,  0.0316],\n",
      "        [ 0.0788, -0.0609, -0.0938,  ...,  0.0690,  0.1018,  0.0882],\n",
      "        [-0.0080,  0.0123,  0.0022,  ..., -0.0383,  0.0940, -0.0017],\n",
      "        ...,\n",
      "        [-0.0171,  0.0782, -0.0657,  ..., -0.0936, -0.1195, -0.0836],\n",
      "        [-0.0981, -0.1154,  0.0704,  ...,  0.0234, -0.0095,  0.0916],\n",
      "        [-0.0426,  0.1207, -0.0474,  ...,  0.0355,  0.0693, -0.1095]])\n"
     ]
    }
   ],
   "source": [
    "from torch.nn import Module, Sequential\n",
    "import torch\n",
    "from grape.models import MPNN\n",
    "from grape.utils import reset_weights, reset_model_weights\n",
    "\n",
    "model = MPNN(64, 64)\n",
    "for i in model.children():\n",
    "    print(i)\n",
    "\n",
    "print(model.mlp.children())\n",
    "for i in model.mlp.children():\n",
    "    print(i)\n",
    "    if hasattr(i, 'reset_parameters'):\n",
    "        print(i.weight.data)\n",
    "        i.weight.data = torch.ones(64,64)\n",
    "        print(i.weight.data)\n",
    "        \n",
    "reset_weights(model)\n",
    "for i in (model.children()):\n",
    "    for j in i.children():\n",
    "        print(j)\n",
    "        if hasattr(j, 'children'):\n",
    "            for z in j.children():\n",
    "                if hasattr(z, 'reset_parameters') and hasattr(z, 'weight'):\n",
    "                    print(z.weight.data)\n",
    "        elif hasattr(j, 'reset_parameters'):\n",
    "            print(j.weight.data)\n",
    "#    print(i)"
   ],
   "metadata": {
    "collapsed": false,
    "ExecuteTime": {
     "end_time": "2024-04-07T14:04:56.206333Z",
     "start_time": "2024-04-07T14:04:56.168034Z"
    }
   },
   "id": "66607097e91e1e10"
  },
  {
   "cell_type": "code",
   "execution_count": 13,
   "outputs": [
    {
     "name": "stdout",
     "output_type": "stream",
     "text": [
      "False\n"
     ]
    }
   ],
   "source": [
    "print(hasattr(model, 'reset_parameters'))"
   ],
   "metadata": {
    "collapsed": false,
    "ExecuteTime": {
     "end_time": "2024-04-07T14:05:28.031498Z",
     "start_time": "2024-04-07T14:05:27.997697Z"
    }
   },
   "id": "3e3e940537a709ba"
  },
  {
   "cell_type": "code",
   "execution_count": 5,
   "outputs": [
    {
     "name": "stdout",
     "output_type": "stream",
     "text": [
      "SimpleGNN(\n",
      "  (model_message): MGConv(\n",
      "    (gnn_layers): ModuleList(\n",
      "      (0-4): 5 x Weave()\n",
      "    )\n",
      "  )\n",
      "  (out): Sequential(\n",
      "    (0): Linear(in_features=64, out_features=128, bias=True)\n",
      "    (1): ReLU()\n",
      "    (2): Linear(in_features=128, out_features=1, bias=True)\n",
      "  )\n",
      ")\n"
     ]
    },
    {
     "name": "stderr",
     "output_type": "stream",
     "text": [
      "epoch=5, training loss= 0.282, validation loss= 0.288: 100%|██████████| 10/10 [00:06<00:00,  1.59it/s]\n",
      "100%|██████████| 10/10 [00:00<00:00, 218.67it/s]\n",
      "100%|██████████| 48/48 [01:26<00:00,  1.80s/it]"
     ]
    },
    {
     "name": "stdout",
     "output_type": "stream",
     "text": [
      "Some InChikeys were not available. Please check \"Missing_ichikeys.txt\" file.\n",
      "152\n",
      "152\n",
      "['Lipids and lipid-like molecules', 'Hydrocarbons', 'Benzenoids', 'Hydrocarbons', 'Organoheterocyclic compounds', 'Benzenoids', 'Hydrocarbons', 'Lipids and lipid-like molecules', 'Organoheterocyclic compounds', 'Benzenoids', 'Benzenoids', 'Organic nitrogen compounds', 'Organic oxygen compounds', 'Benzenoids', 'Benzenoids', 'Organic acids and derivatives', 'Organoheterocyclic compounds', 'Benzenoids', 'Organoheterocyclic compounds', 'Benzenoids', 'Organic acids and derivatives', 'Benzenoids', 'Benzenoids', 'Benzenoids', 'Benzenoids', 'Hydrocarbons', 'Benzenoids', 'Organic oxygen compounds', 'Lipids and lipid-like molecules', 'Organic oxygen compounds', 'Benzenoids', 'Hydrocarbons', 'Benzenoids', 'Organoheterocyclic compounds', 'Benzenoids', 'Benzenoids', 'Organic acids and derivatives', 'Benzenoids', 'Organic acids and derivatives', 'Organoheterocyclic compounds', 'Benzenoids', 'Benzenoids', 'Organoheterocyclic compounds', 'Benzenoids', 'Organic oxygen compounds', 'Organic nitrogen compounds', 'Benzenoids', 'Organic nitrogen compounds', 'Lipids and lipid-like molecules', 'Organic oxygen compounds', 'Benzenoids', 'Benzenoids', 'Benzenoids', 'Benzenoids', 'Organohalogen compounds', 'Organoheterocyclic compounds', 'Organoheterocyclic compounds', 'Benzenoids', 'Benzenoids', 'Benzenoids', 'Organoheterocyclic compounds', 'Organoheterocyclic compounds', 'Benzenoids', 'Organoheterocyclic compounds', 'Benzenoids', 'Benzenoids', 'Organoheterocyclic compounds', 'Phenylpropanoids and polyketides', 'Benzenoids', 'Benzenoids', 'Organoheterocyclic compounds', 'Organoheterocyclic compounds', 'Benzenoids', 'Benzenoids', 'Benzenoids', 'Benzenoids', 'Benzenoids', 'Organosulfur compounds', 'Benzenoids', 'Organic acids and derivatives', 'Organic oxygen compounds', 'Organoheterocyclic compounds', 'Benzenoids', 'Benzenoids', 'Organic acids and derivatives', 'Organic acids and derivatives', 'Organohalogen compounds', 'Organosulfur compounds', 'Organic oxygen compounds', 'Benzenoids', 'Benzenoids', 'Benzenoids', 'Benzenoids', 'Phenylpropanoids and polyketides', 'Organoheterocyclic compounds', 'Benzenoids', 'Lipids and lipid-like molecules', 'Hydrocarbons', 'Organic oxygen compounds', 'Phenylpropanoids and polyketides', 'Organic acids and derivatives', 'Organoheterocyclic compounds', 'Lipids and lipid-like molecules', 'Benzenoids', 'Benzenoids', 'Organic oxygen compounds', 'Organic acids and derivatives', 'Benzenoids', 'Benzenoids', 'Organoheterocyclic compounds', 'Benzenoids', 'Benzenoids', 'Benzenoids', 'Benzenoids', 'Organoheterocyclic compounds', 'Benzenoids', 'Organic oxygen compounds', 'Benzenoids', 'Benzenoids', 'Organic nitrogen compounds', 'Organoheterocyclic compounds', 'Lipids and lipid-like molecules', 'Lipids and lipid-like molecules', 'Benzenoids', 'Organoheterocyclic compounds', 'Benzenoids', 'Phenylpropanoids and polyketides', 'Benzenoids', 'Benzenoids', 'Hydrocarbons', 'Benzenoids', 'Organoheterocyclic compounds', 'Hydrocarbons', 'Benzenoids', 'Organic oxygen compounds', 'Organoheterocyclic compounds', 'Benzenoids', 'Organosulfur compounds', 'Organohalogen compounds', 'Benzenoids', 'Phenylpropanoids and polyketides', 'Benzenoids', 'Benzenoids', 'Acetylides', 'Organohalogen compounds', 'Benzenoids', 'Benzenoids', 'Hydrocarbons', 'Organoheterocyclic compounds', 'Organic acids and derivatives', 'Acetylides', 'Benzenoids']\n"
     ]
    },
    {
     "name": "stderr",
     "output_type": "stream",
     "text": [
      "\n"
     ]
    }
   ],
   "source": [
    "from grape.datasets import BradleyDoublePlus\n",
    "data = BradleyDoublePlus()\n",
    "\n",
    "train, val, test = data.get_splits(random_state = 0)\n",
    "\n",
    "from grape.models import MGConv, SimpleGNN\n",
    "from torch import nn\n",
    "import torch\n",
    "\n",
    "node_hidden_dim = 64\n",
    "batch_size = 32\n",
    "\n",
    "model_message = MGConv(num_layers=5, edge_hidden_dim=64, node_hidden_dim=node_hidden_dim, \n",
    "                node_in_dim=data.num_node_features, edge_in_dim=data.num_edge_features)\n",
    "\n",
    "out_model = nn.Sequential(\n",
    "    nn.Linear(node_hidden_dim, 128),\n",
    "    nn.ReLU(),\n",
    "    nn.Linear(128, 1)\n",
    ")\n",
    "\n",
    "\n",
    "model = SimpleGNN(model_message=model_message,\n",
    "                  out_model=out_model)\n",
    "                  \n",
    "\n",
    "print(model)\n",
    "\n",
    "device = torch.device('cpu')\n",
    "\n",
    "from torch import nn\n",
    "\n",
    "loss_func = nn.functional.mse_loss\n",
    "optimizer = torch.optim.Adam(model.parameters(), lr=0.001, weight_decay=5e-4)\n",
    "\n",
    "from grape.utils import train_model, test_model\n",
    "\n",
    "train_loss, val_loss = train_model(model = model,\n",
    "                                   loss_func = loss_func,\n",
    "                                   optimizer = optimizer,\n",
    "                                   train_data_loader= train,\n",
    "                                   val_data_loader = val,\n",
    "                                   batch_size=batch_size,\n",
    "                                   epochs=10,\n",
    "                                   early_stopping=True,\n",
    "                                   patience=20)\n",
    "\n",
    "preds, lats = test_model(model=model,\n",
    "                   test_data_loader=test,\n",
    "                   loss_func=None,\n",
    "                   return_latents=True)\n",
    "\n",
    "from grape.analysis import classyfire, classyfire_result_analysis\n",
    "\n",
    "ids, smiles_ind = classyfire(test.smiles[:200], log=False) # -> the ids are used for the result analysis\n",
    "\n",
    "print(len(ids))\n",
    "print(len(smiles_ind))\n",
    "\n",
    "class_dict, _ = classyfire_result_analysis(idx=ids, layer=1)\n",
    "\n",
    "indices = list(class_dict.keys())\n",
    "labels = list(class_dict.values())\n",
    "print(labels)\n",
    "\n",
    "import numpy as np\n",
    "np.save('labels.npy', labels)\n",
    "np.save('ind_smi.npy', smiles_ind)\n",
    "torch.save(lats, 'latent.pt')\n"
   ],
   "metadata": {
    "collapsed": false,
    "ExecuteTime": {
     "end_time": "2024-04-09T18:03:27.592398Z",
     "start_time": "2024-04-09T18:01:52.819939Z"
    }
   },
   "id": "f03a68688d290338"
  },
  {
   "cell_type": "code",
   "execution_count": 4,
   "outputs": [
    {
     "name": "stdout",
     "output_type": "stream",
     "text": [
      "152\n",
      "152\n"
     ]
    }
   ],
   "source": [
    "print(indices)\n",
    "print(ids)"
   ],
   "metadata": {
    "collapsed": false,
    "ExecuteTime": {
     "end_time": "2024-04-09T15:45:42.281206Z",
     "start_time": "2024-04-09T15:45:42.272465Z"
    }
   },
   "id": "ff0e85f86da4fc76"
  },
  {
   "cell_type": "code",
   "execution_count": 26,
   "outputs": [
    {
     "data": {
      "text/plain": "array([0])"
     },
     "execution_count": 26,
     "metadata": {},
     "output_type": "execute_result"
    }
   ],
   "source": [
    "import pandas as pd\n",
    "import numpy as np\n",
    "\n",
    "ls = ['a','b']\n",
    "index = np.array([0,1])\n",
    "df = pd.DataFrame({'num':['a','b','c','d']})\n",
    "index[df['num'][[0,2]] == ls]"
   ],
   "metadata": {
    "collapsed": false,
    "ExecuteTime": {
     "end_time": "2024-04-09T13:13:23.451698Z",
     "start_time": "2024-04-09T13:13:23.441605Z"
    }
   },
   "id": "58dc50422ab764dd"
  },
  {
   "cell_type": "code",
   "execution_count": 2,
   "outputs": [
    {
     "name": "stdout",
     "output_type": "stream",
     "text": [
      "in here\n",
      "Acetylides\n",
      "Benzenoids\n",
      "Hydrocarbons\n",
      "Lipids and lipid-like molecules\n",
      "Organic acids and derivatives\n",
      "Organic nitrogen compounds\n",
      "Organic oxygen compounds\n",
      "Organohalogen compounds\n",
      "Organoheterocyclic compounds\n",
      "Organosulfur compounds\n",
      "Phenylpropanoids and polyketides\n"
     ]
    },
    {
     "data": {
      "text/plain": "<Figure size 2000x1200 with 1 Axes>",
      "image/png": "[encoded data removed]"
     },
     "metadata": {},
     "output_type": "display_data"
    }
   ],
   "source": [
    "import numpy as np\n",
    "import torch\n",
    "labels = np.load('labels.npy')\n",
    "smiles_ind = np.load('ind_smi.npy')\n",
    "lats = torch.load('latent.pt')\n",
    "\n",
    "from grape.plots import pca_2d_plot\n",
    "ax = pca_2d_plot(latents=lats[smiles_ind], labels=labels, save_fig=True, fig_size=(20,12))"
   ],
   "metadata": {
    "collapsed": false,
    "ExecuteTime": {
     "end_time": "2024-04-09T18:07:02.459387Z",
     "start_time": "2024-04-09T18:07:02.048592Z"
    }
   },
   "id": "a0a6b7e81f4db008"
  },
  {
   "cell_type": "code",
   "execution_count": 2,
   "outputs": [
    {
     "name": "stdout",
     "output_type": "stream",
     "text": [
      "in here\n"
     ]
    },
    {
     "ename": "ValueError",
     "evalue": "'c' argument must be a color, a sequence of colors, or a sequence of numbers, not array(['Organic compounds', 'Organic compounds', 'Organic compounds',\n       'Organic compounds', 'Organic compounds', 'Organic compounds',\n       'Organic compounds', 'Organic compounds', 'Organic compounds',\n       'Organic compounds', 'Organic compounds', 'Organic compounds',\n       'Organic compounds', 'Organic compounds', 'Organic compounds',\n       'Organic compounds', 'Organic compounds', 'Organic compounds',\n       'Organic compounds', 'Organic compounds', 'Organic compounds',\n       'Organic compounds', 'Organic compounds', 'Organic compounds',\n       'Organic compounds', 'Organic compounds', 'Organic compounds',\n       'Organic compounds', 'Organic compounds', 'Organic compounds',\n       'Organic compounds', 'Organic compounds', 'Organic compounds',\n       'Organic compounds', 'Organic compounds', 'Organic compounds',\n       'Organic compounds', 'Organic compounds', 'Organic compounds',\n       'Organic compounds', 'Organic compounds', 'Organic compounds',\n       'Organic compounds', 'Organic compounds', 'Organic compounds',\n       'Organic compounds', 'Organic compounds', 'Organic compounds',\n       'Organic compounds', 'Organic compounds', 'Organic compounds',\n       'Organic compounds', 'Organic compounds', 'Organic compounds',\n       'Organic compounds', 'Organic compounds', 'Organic compounds',\n       'Organic compounds', 'Organic compounds', 'Organic compounds',\n       'Organic compounds', 'Organic compounds', 'Organic compounds',\n       'Organic compounds', 'Organic compounds', 'Organic compounds',\n       'Organic compounds', 'Organic compounds', 'Organic compounds',\n       'Organic compounds', 'Organic compounds', 'Organic compounds',\n       'Organic compounds', 'Organic compounds', 'Organic compounds',\n       'Organic compounds', 'Organic compounds', 'Organic compounds',\n       'Organic compounds', 'Organic compounds', 'Organic compounds',\n       'Organic compounds', 'Organic compounds', 'Organic compounds',\n       'Organic compounds', 'Organic compounds', 'Organic compounds',\n       'Organic compounds', 'Organic compounds', 'Organic compounds',\n       'Organic compounds', 'Organic compounds', 'Organic compounds',\n       'Organic compounds', 'Organic compounds', 'Organic compounds',\n       'Organic compounds', 'Organic compounds', 'Organic compounds',\n       'Organic compounds', 'Organic compounds', 'Organic compounds',\n       'Organic compounds', 'Organic compounds', 'Organic compounds',\n       'Organic compounds', 'Organic compounds', 'Organic compounds',\n       'Organic compounds', 'Organic compounds', 'Organic compounds',\n       'Organic compounds', 'Organic compounds', 'Organic compounds',\n       'Organic compounds', 'Organic compounds', 'Organic compounds',\n       'Organic compounds', 'Organic compounds', 'Organic compounds',\n       'Organic compounds', 'Organic compounds', 'Organic compounds',\n       'Organic compounds', 'Organic compounds', 'Organic compounds',\n       'Organic compounds', 'Organic compounds', 'Organic compounds',\n       'Organic compounds', 'Organic compounds', 'Organic compounds',\n       'Organic compounds', 'Organic compounds', 'Organic compounds',\n       'Organic compounds', 'Organic compounds', 'Organic compounds',\n       'Organic compounds', 'Organic compounds', 'Organic compounds',\n       'Organic compounds', 'Organic compounds', 'Organic compounds',\n       'Organic compounds', 'Organic compounds', 'Organic compounds',\n       'Organic compounds', 'Organic compounds', 'Organic compounds',\n       'Organic compounds', 'Organic compounds'], dtype='<U17')",
     "output_type": "error",
     "traceback": [
      "\u001B[0;31m---------------------------------------------------------------------------\u001B[0m",
      "\u001B[0;31mValueError\u001B[0m                                Traceback (most recent call last)",
      "File \u001B[0;32m~/Desktop/grape/venv/lib/python3.11/site-packages/matplotlib/axes/_axes.py:4486\u001B[0m, in \u001B[0;36mAxes._parse_scatter_color_args\u001B[0;34m(c, edgecolors, kwargs, xsize, get_next_color_func)\u001B[0m\n\u001B[1;32m   4485\u001B[0m \u001B[38;5;28;01mtry\u001B[39;00m:  \u001B[38;5;66;03m# Is 'c' acceptable as PathCollection facecolors?\u001B[39;00m\n\u001B[0;32m-> 4486\u001B[0m     colors \u001B[38;5;241m=\u001B[39m \u001B[43mmcolors\u001B[49m\u001B[38;5;241;43m.\u001B[39;49m\u001B[43mto_rgba_array\u001B[49m\u001B[43m(\u001B[49m\u001B[43mc\u001B[49m\u001B[43m)\u001B[49m\n\u001B[1;32m   4487\u001B[0m \u001B[38;5;28;01mexcept\u001B[39;00m (\u001B[38;5;167;01mTypeError\u001B[39;00m, \u001B[38;5;167;01mValueError\u001B[39;00m) \u001B[38;5;28;01mas\u001B[39;00m err:\n",
      "File \u001B[0;32m~/Desktop/grape/venv/lib/python3.11/site-packages/matplotlib/colors.py:505\u001B[0m, in \u001B[0;36mto_rgba_array\u001B[0;34m(c, alpha)\u001B[0m\n\u001B[1;32m    504\u001B[0m \u001B[38;5;28;01melse\u001B[39;00m:\n\u001B[0;32m--> 505\u001B[0m     rgba \u001B[38;5;241m=\u001B[39m np\u001B[38;5;241m.\u001B[39marray(\u001B[43m[\u001B[49m\u001B[43mto_rgba\u001B[49m\u001B[43m(\u001B[49m\u001B[43mcc\u001B[49m\u001B[43m)\u001B[49m\u001B[43m \u001B[49m\u001B[38;5;28;43;01mfor\u001B[39;49;00m\u001B[43m \u001B[49m\u001B[43mcc\u001B[49m\u001B[43m \u001B[49m\u001B[38;5;129;43;01min\u001B[39;49;00m\u001B[43m \u001B[49m\u001B[43mc\u001B[49m\u001B[43m]\u001B[49m)\n\u001B[1;32m    507\u001B[0m \u001B[38;5;28;01mif\u001B[39;00m alpha \u001B[38;5;129;01mis\u001B[39;00m \u001B[38;5;129;01mnot\u001B[39;00m \u001B[38;5;28;01mNone\u001B[39;00m:\n",
      "File \u001B[0;32m~/Desktop/grape/venv/lib/python3.11/site-packages/matplotlib/colors.py:505\u001B[0m, in \u001B[0;36m<listcomp>\u001B[0;34m(.0)\u001B[0m\n\u001B[1;32m    504\u001B[0m \u001B[38;5;28;01melse\u001B[39;00m:\n\u001B[0;32m--> 505\u001B[0m     rgba \u001B[38;5;241m=\u001B[39m np\u001B[38;5;241m.\u001B[39marray([\u001B[43mto_rgba\u001B[49m\u001B[43m(\u001B[49m\u001B[43mcc\u001B[49m\u001B[43m)\u001B[49m \u001B[38;5;28;01mfor\u001B[39;00m cc \u001B[38;5;129;01min\u001B[39;00m c])\n\u001B[1;32m    507\u001B[0m \u001B[38;5;28;01mif\u001B[39;00m alpha \u001B[38;5;129;01mis\u001B[39;00m \u001B[38;5;129;01mnot\u001B[39;00m \u001B[38;5;28;01mNone\u001B[39;00m:\n",
      "File \u001B[0;32m~/Desktop/grape/venv/lib/python3.11/site-packages/matplotlib/colors.py:302\u001B[0m, in \u001B[0;36mto_rgba\u001B[0;34m(c, alpha)\u001B[0m\n\u001B[1;32m    301\u001B[0m \u001B[38;5;28;01mif\u001B[39;00m rgba \u001B[38;5;129;01mis\u001B[39;00m \u001B[38;5;28;01mNone\u001B[39;00m:  \u001B[38;5;66;03m# Suppress exception chaining of cache lookup failure.\u001B[39;00m\n\u001B[0;32m--> 302\u001B[0m     rgba \u001B[38;5;241m=\u001B[39m \u001B[43m_to_rgba_no_colorcycle\u001B[49m\u001B[43m(\u001B[49m\u001B[43mc\u001B[49m\u001B[43m,\u001B[49m\u001B[43m \u001B[49m\u001B[43malpha\u001B[49m\u001B[43m)\u001B[49m\n\u001B[1;32m    303\u001B[0m     \u001B[38;5;28;01mtry\u001B[39;00m:\n",
      "File \u001B[0;32m~/Desktop/grape/venv/lib/python3.11/site-packages/matplotlib/colors.py:384\u001B[0m, in \u001B[0;36m_to_rgba_no_colorcycle\u001B[0;34m(c, alpha)\u001B[0m\n\u001B[1;32m    383\u001B[0m         \u001B[38;5;28;01mreturn\u001B[39;00m c, c, c, alpha \u001B[38;5;28;01mif\u001B[39;00m alpha \u001B[38;5;129;01mis\u001B[39;00m \u001B[38;5;129;01mnot\u001B[39;00m \u001B[38;5;28;01mNone\u001B[39;00m \u001B[38;5;28;01melse\u001B[39;00m \u001B[38;5;241m1.\u001B[39m\n\u001B[0;32m--> 384\u001B[0m     \u001B[38;5;28;01mraise\u001B[39;00m \u001B[38;5;167;01mValueError\u001B[39;00m(\u001B[38;5;124mf\u001B[39m\u001B[38;5;124m\"\u001B[39m\u001B[38;5;124mInvalid RGBA argument: \u001B[39m\u001B[38;5;132;01m{\u001B[39;00morig_c\u001B[38;5;132;01m!r}\u001B[39;00m\u001B[38;5;124m\"\u001B[39m)\n\u001B[1;32m    385\u001B[0m \u001B[38;5;66;03m# turn 2-D array into 1-D array\u001B[39;00m\n",
      "\u001B[0;31mValueError\u001B[0m: Invalid RGBA argument: 'Organic compounds'",
      "\nThe above exception was the direct cause of the following exception:\n",
      "\u001B[0;31mValueError\u001B[0m                                Traceback (most recent call last)",
      "Cell \u001B[0;32mIn[2], line 2\u001B[0m\n\u001B[1;32m      1\u001B[0m \u001B[38;5;28;01mfrom\u001B[39;00m \u001B[38;5;21;01mgrape\u001B[39;00m\u001B[38;5;21;01m.\u001B[39;00m\u001B[38;5;21;01mplots\u001B[39;00m \u001B[38;5;28;01mimport\u001B[39;00m pca_2d_plot\n\u001B[0;32m----> 2\u001B[0m ax \u001B[38;5;241m=\u001B[39m \u001B[43mpca_2d_plot\u001B[49m\u001B[43m(\u001B[49m\u001B[43mlatents\u001B[49m\u001B[38;5;241;43m=\u001B[39;49m\u001B[43mlats\u001B[49m\u001B[43m[\u001B[49m\u001B[43msmiles_ind\u001B[49m\u001B[43m]\u001B[49m\u001B[43m,\u001B[49m\u001B[43m \u001B[49m\u001B[43mlabels\u001B[49m\u001B[38;5;241;43m=\u001B[39;49m\u001B[43mlabels\u001B[49m\u001B[43m,\u001B[49m\u001B[43m \u001B[49m\u001B[43msave_fig\u001B[49m\u001B[38;5;241;43m=\u001B[39;49m\u001B[38;5;28;43;01mTrue\u001B[39;49;00m\u001B[43m)\u001B[49m\n",
      "File \u001B[0;32m~/Desktop/grape/grape/plots/post_plots.py:200\u001B[0m, in \u001B[0;36mpca_2d_plot\u001B[0;34m(latents, labels, fig_size, unique_labels, save_fig, path_to_export, log)\u001B[0m\n\u001B[1;32m    198\u001B[0m     ax\u001B[38;5;241m.\u001B[39mlegend()\n\u001B[1;32m    199\u001B[0m \u001B[38;5;28;01melif\u001B[39;00m labels \u001B[38;5;129;01mis\u001B[39;00m \u001B[38;5;129;01mnot\u001B[39;00m \u001B[38;5;28;01mNone\u001B[39;00m:\n\u001B[0;32m--> 200\u001B[0m     \u001B[43max\u001B[49m\u001B[38;5;241;43m.\u001B[39;49m\u001B[43mscatter\u001B[49m\u001B[43m(\u001B[49m\u001B[43mprojection\u001B[49m\u001B[43m[\u001B[49m\u001B[43m:\u001B[49m\u001B[43m,\u001B[49m\u001B[43m \u001B[49m\u001B[38;5;241;43m0\u001B[39;49m\u001B[43m]\u001B[49m\u001B[43m,\u001B[49m\u001B[43m \u001B[49m\u001B[43mprojection\u001B[49m\u001B[43m[\u001B[49m\u001B[43m:\u001B[49m\u001B[43m,\u001B[49m\u001B[43m \u001B[49m\u001B[38;5;241;43m1\u001B[39;49m\u001B[43m]\u001B[49m\u001B[43m,\u001B[49m\u001B[43m \u001B[49m\u001B[43mc\u001B[49m\u001B[38;5;241;43m=\u001B[39;49m\u001B[43mlabels\u001B[49m\u001B[43m)\u001B[49m\n\u001B[1;32m    201\u001B[0m \u001B[38;5;28;01melse\u001B[39;00m:\n\u001B[1;32m    202\u001B[0m     ax\u001B[38;5;241m.\u001B[39mscatter(projection[:, \u001B[38;5;241m0\u001B[39m], projection[:, \u001B[38;5;241m1\u001B[39m])\n",
      "File \u001B[0;32m~/Desktop/grape/venv/lib/python3.11/site-packages/matplotlib/__init__.py:1465\u001B[0m, in \u001B[0;36m_preprocess_data.<locals>.inner\u001B[0;34m(ax, data, *args, **kwargs)\u001B[0m\n\u001B[1;32m   1462\u001B[0m \u001B[38;5;129m@functools\u001B[39m\u001B[38;5;241m.\u001B[39mwraps(func)\n\u001B[1;32m   1463\u001B[0m \u001B[38;5;28;01mdef\u001B[39;00m \u001B[38;5;21minner\u001B[39m(ax, \u001B[38;5;241m*\u001B[39margs, data\u001B[38;5;241m=\u001B[39m\u001B[38;5;28;01mNone\u001B[39;00m, \u001B[38;5;241m*\u001B[39m\u001B[38;5;241m*\u001B[39mkwargs):\n\u001B[1;32m   1464\u001B[0m     \u001B[38;5;28;01mif\u001B[39;00m data \u001B[38;5;129;01mis\u001B[39;00m \u001B[38;5;28;01mNone\u001B[39;00m:\n\u001B[0;32m-> 1465\u001B[0m         \u001B[38;5;28;01mreturn\u001B[39;00m \u001B[43mfunc\u001B[49m\u001B[43m(\u001B[49m\u001B[43max\u001B[49m\u001B[43m,\u001B[49m\u001B[43m \u001B[49m\u001B[38;5;241;43m*\u001B[39;49m\u001B[38;5;28;43mmap\u001B[39;49m\u001B[43m(\u001B[49m\u001B[43msanitize_sequence\u001B[49m\u001B[43m,\u001B[49m\u001B[43m \u001B[49m\u001B[43margs\u001B[49m\u001B[43m)\u001B[49m\u001B[43m,\u001B[49m\u001B[43m \u001B[49m\u001B[38;5;241;43m*\u001B[39;49m\u001B[38;5;241;43m*\u001B[39;49m\u001B[43mkwargs\u001B[49m\u001B[43m)\u001B[49m\n\u001B[1;32m   1467\u001B[0m     bound \u001B[38;5;241m=\u001B[39m new_sig\u001B[38;5;241m.\u001B[39mbind(ax, \u001B[38;5;241m*\u001B[39margs, \u001B[38;5;241m*\u001B[39m\u001B[38;5;241m*\u001B[39mkwargs)\n\u001B[1;32m   1468\u001B[0m     auto_label \u001B[38;5;241m=\u001B[39m (bound\u001B[38;5;241m.\u001B[39marguments\u001B[38;5;241m.\u001B[39mget(label_namer)\n\u001B[1;32m   1469\u001B[0m                   \u001B[38;5;129;01mor\u001B[39;00m bound\u001B[38;5;241m.\u001B[39mkwargs\u001B[38;5;241m.\u001B[39mget(label_namer))\n",
      "File \u001B[0;32m~/Desktop/grape/venv/lib/python3.11/site-packages/matplotlib/axes/_axes.py:4673\u001B[0m, in \u001B[0;36mAxes.scatter\u001B[0;34m(self, x, y, s, c, marker, cmap, norm, vmin, vmax, alpha, linewidths, edgecolors, plotnonfinite, **kwargs)\u001B[0m\n\u001B[1;32m   4670\u001B[0m \u001B[38;5;28;01mif\u001B[39;00m edgecolors \u001B[38;5;129;01mis\u001B[39;00m \u001B[38;5;28;01mNone\u001B[39;00m:\n\u001B[1;32m   4671\u001B[0m     orig_edgecolor \u001B[38;5;241m=\u001B[39m kwargs\u001B[38;5;241m.\u001B[39mget(\u001B[38;5;124m'\u001B[39m\u001B[38;5;124medgecolor\u001B[39m\u001B[38;5;124m'\u001B[39m, \u001B[38;5;28;01mNone\u001B[39;00m)\n\u001B[1;32m   4672\u001B[0m c, colors, edgecolors \u001B[38;5;241m=\u001B[39m \\\n\u001B[0;32m-> 4673\u001B[0m     \u001B[38;5;28;43mself\u001B[39;49m\u001B[38;5;241;43m.\u001B[39;49m\u001B[43m_parse_scatter_color_args\u001B[49m\u001B[43m(\u001B[49m\n\u001B[1;32m   4674\u001B[0m \u001B[43m        \u001B[49m\u001B[43mc\u001B[49m\u001B[43m,\u001B[49m\u001B[43m \u001B[49m\u001B[43medgecolors\u001B[49m\u001B[43m,\u001B[49m\u001B[43m \u001B[49m\u001B[43mkwargs\u001B[49m\u001B[43m,\u001B[49m\u001B[43m \u001B[49m\u001B[43mx\u001B[49m\u001B[38;5;241;43m.\u001B[39;49m\u001B[43msize\u001B[49m\u001B[43m,\u001B[49m\n\u001B[1;32m   4675\u001B[0m \u001B[43m        \u001B[49m\u001B[43mget_next_color_func\u001B[49m\u001B[38;5;241;43m=\u001B[39;49m\u001B[38;5;28;43mself\u001B[39;49m\u001B[38;5;241;43m.\u001B[39;49m\u001B[43m_get_patches_for_fill\u001B[49m\u001B[38;5;241;43m.\u001B[39;49m\u001B[43mget_next_color\u001B[49m\u001B[43m)\u001B[49m\n\u001B[1;32m   4677\u001B[0m \u001B[38;5;28;01mif\u001B[39;00m plotnonfinite \u001B[38;5;129;01mand\u001B[39;00m colors \u001B[38;5;129;01mis\u001B[39;00m \u001B[38;5;28;01mNone\u001B[39;00m:\n\u001B[1;32m   4678\u001B[0m     c \u001B[38;5;241m=\u001B[39m np\u001B[38;5;241m.\u001B[39mma\u001B[38;5;241m.\u001B[39mmasked_invalid(c)\n",
      "File \u001B[0;32m~/Desktop/grape/venv/lib/python3.11/site-packages/matplotlib/axes/_axes.py:4495\u001B[0m, in \u001B[0;36mAxes._parse_scatter_color_args\u001B[0;34m(c, edgecolors, kwargs, xsize, get_next_color_func)\u001B[0m\n\u001B[1;32m   4492\u001B[0m             \u001B[38;5;28;01mraise\u001B[39;00m invalid_shape_exception(c\u001B[38;5;241m.\u001B[39msize, xsize) \u001B[38;5;28;01mfrom\u001B[39;00m \u001B[38;5;21;01merr\u001B[39;00m\n\u001B[1;32m   4493\u001B[0m         \u001B[38;5;66;03m# Both the mapping *and* the RGBA conversion failed: pretty\u001B[39;00m\n\u001B[1;32m   4494\u001B[0m         \u001B[38;5;66;03m# severe failure => one may appreciate a verbose feedback.\u001B[39;00m\n\u001B[0;32m-> 4495\u001B[0m         \u001B[38;5;28;01mraise\u001B[39;00m \u001B[38;5;167;01mValueError\u001B[39;00m(\n\u001B[1;32m   4496\u001B[0m             \u001B[38;5;124mf\u001B[39m\u001B[38;5;124m\"\u001B[39m\u001B[38;5;124m'\u001B[39m\u001B[38;5;124mc\u001B[39m\u001B[38;5;124m'\u001B[39m\u001B[38;5;124m argument must be a color, a sequence of colors, \u001B[39m\u001B[38;5;124m\"\u001B[39m\n\u001B[1;32m   4497\u001B[0m             \u001B[38;5;124mf\u001B[39m\u001B[38;5;124m\"\u001B[39m\u001B[38;5;124mor a sequence of numbers, not \u001B[39m\u001B[38;5;132;01m{\u001B[39;00mc\u001B[38;5;132;01m!r}\u001B[39;00m\u001B[38;5;124m\"\u001B[39m) \u001B[38;5;28;01mfrom\u001B[39;00m \u001B[38;5;21;01merr\u001B[39;00m\n\u001B[1;32m   4498\u001B[0m \u001B[38;5;28;01melse\u001B[39;00m:\n\u001B[1;32m   4499\u001B[0m     \u001B[38;5;28;01mif\u001B[39;00m \u001B[38;5;28mlen\u001B[39m(colors) \u001B[38;5;129;01mnot\u001B[39;00m \u001B[38;5;129;01min\u001B[39;00m (\u001B[38;5;241m0\u001B[39m, \u001B[38;5;241m1\u001B[39m, xsize):\n\u001B[1;32m   4500\u001B[0m         \u001B[38;5;66;03m# NB: remember that a single color is also acceptable.\u001B[39;00m\n\u001B[1;32m   4501\u001B[0m         \u001B[38;5;66;03m# Besides *colors* will be an empty array if c == 'none'.\u001B[39;00m\n",
      "\u001B[0;31mValueError\u001B[0m: 'c' argument must be a color, a sequence of colors, or a sequence of numbers, not array(['Organic compounds', 'Organic compounds', 'Organic compounds',\n       'Organic compounds', 'Organic compounds', 'Organic compounds',\n       'Organic compounds', 'Organic compounds', 'Organic compounds',\n       'Organic compounds', 'Organic compounds', 'Organic compounds',\n       'Organic compounds', 'Organic compounds', 'Organic compounds',\n       'Organic compounds', 'Organic compounds', 'Organic compounds',\n       'Organic compounds', 'Organic compounds', 'Organic compounds',\n       'Organic compounds', 'Organic compounds', 'Organic compounds',\n       'Organic compounds', 'Organic compounds', 'Organic compounds',\n       'Organic compounds', 'Organic compounds', 'Organic compounds',\n       'Organic compounds', 'Organic compounds', 'Organic compounds',\n       'Organic compounds', 'Organic compounds', 'Organic compounds',\n       'Organic compounds', 'Organic compounds', 'Organic compounds',\n       'Organic compounds', 'Organic compounds', 'Organic compounds',\n       'Organic compounds', 'Organic compounds', 'Organic compounds',\n       'Organic compounds', 'Organic compounds', 'Organic compounds',\n       'Organic compounds', 'Organic compounds', 'Organic compounds',\n       'Organic compounds', 'Organic compounds', 'Organic compounds',\n       'Organic compounds', 'Organic compounds', 'Organic compounds',\n       'Organic compounds', 'Organic compounds', 'Organic compounds',\n       'Organic compounds', 'Organic compounds', 'Organic compounds',\n       'Organic compounds', 'Organic compounds', 'Organic compounds',\n       'Organic compounds', 'Organic compounds', 'Organic compounds',\n       'Organic compounds', 'Organic compounds', 'Organic compounds',\n       'Organic compounds', 'Organic compounds', 'Organic compounds',\n       'Organic compounds', 'Organic compounds', 'Organic compounds',\n       'Organic compounds', 'Organic compounds', 'Organic compounds',\n       'Organic compounds', 'Organic compounds', 'Organic compounds',\n       'Organic compounds', 'Organic compounds', 'Organic compounds',\n       'Organic compounds', 'Organic compounds', 'Organic compounds',\n       'Organic compounds', 'Organic compounds', 'Organic compounds',\n       'Organic compounds', 'Organic compounds', 'Organic compounds',\n       'Organic compounds', 'Organic compounds', 'Organic compounds',\n       'Organic compounds', 'Organic compounds', 'Organic compounds',\n       'Organic compounds', 'Organic compounds', 'Organic compounds',\n       'Organic compounds', 'Organic compounds', 'Organic compounds',\n       'Organic compounds', 'Organic compounds', 'Organic compounds',\n       'Organic compounds', 'Organic compounds', 'Organic compounds',\n       'Organic compounds', 'Organic compounds', 'Organic compounds',\n       'Organic compounds', 'Organic compounds', 'Organic compounds',\n       'Organic compounds', 'Organic compounds', 'Organic compounds',\n       'Organic compounds', 'Organic compounds', 'Organic compounds',\n       'Organic compounds', 'Organic compounds', 'Organic compounds',\n       'Organic compounds', 'Organic compounds', 'Organic compounds',\n       'Organic compounds', 'Organic compounds', 'Organic compounds',\n       'Organic compounds', 'Organic compounds', 'Organic compounds',\n       'Organic compounds', 'Organic compounds', 'Organic compounds',\n       'Organic compounds', 'Organic compounds', 'Organic compounds',\n       'Organic compounds', 'Organic compounds', 'Organic compounds',\n       'Organic compounds', 'Organic compounds', 'Organic compounds',\n       'Organic compounds', 'Organic compounds'], dtype='<U17')"
     ]
    },
    {
     "data": {
      "text/plain": "<Figure size 1000x500 with 1 Axes>",
      "image/png": "[encoded data removed]"
     },
     "metadata": {},
     "output_type": "display_data"
    }
   ],
   "source": [],
   "metadata": {
    "collapsed": false,
    "ExecuteTime": {
     "end_time": "2024-04-09T15:54:36.374788Z",
     "start_time": "2024-04-09T15:54:32.938643Z"
    }
   },
   "id": "56f4a02d510cb77c"
  },
  {
   "cell_type": "code",
   "source": [
    "from grape.datasets import BradleyDoublePlus\n",
    "from grape.splits import taylor_butina_clustering, butina_realistic_splits, butina_train_val_test_splits\n",
    "data = BradleyDoublePlus()\n",
    "# print(butina_realistic_splits(data.smiles, [0.8, 0.1, 0.1]))\n",
    "train, val, test = butina_train_val_test_splits(data.smiles)\n",
    "print(len(train))\n",
    "print(len(val))\n",
    "print(len(test))\n",
    "\n"
   ],
   "metadata": {
    "collapsed": false,
    "ExecuteTime": {
     "end_time": "2024-04-10T09:09:37.750627Z",
     "start_time": "2024-04-10T09:09:31.833741Z"
    }
   },
   "id": "b622e82fe7eed343",
   "outputs": [
    {
     "name": "stdout",
     "output_type": "stream",
     "text": [
      "{0: (1811, 57, 59, 60, 63, 73, 82, 109, 115, 116, 117, 121, 124, 129, 130, 135, 144, 145, 179, 201, 202, 203, 228, 234, 248, 262, 276, 278, 288, 318, 322, 326, 329, 335, 336, 386, 390, 400, 401, 410, 416, 418, 428, 430, 432, 434, 436, 439, 451, 455, 471, 473, 477, 480, 486, 502, 506, 507, 508, 515, 520, 522, 525, 526, 530, 533, 537, 543, 561, 571, 586, 587, 597, 599, 600, 601, 603, 609, 616, 622, 624, 629, 630, 632, 638, 645, 656, 660, 674, 678, 680, 687, 694, 701, 706, 709, 711, 712, 714, 721, 728, 743, 744, 761, 771, 776, 778, 789, 793, 799, 813, 820, 821, 836, 838, 845, 851, 861, 867, 868, 869, 893, 912, 913, 917, 922, 925, 934, 945, 957, 958, 959, 969, 971, 981, 987, 991, 992, 993, 994, 995, 996, 1000, 1001, 1016, 1024, 1030, 1032, 1033, 1035, 1039, 1043, 1046, 1047, 1055, 1058, 1061, 1065, 1079, 1082, 1083, 1084, 1087, 1093, 1097, 1099, 1114, 1115, 1116, 1118, 1120, 1121, 1123, 1124, 1125, 1127, 1129, 1131, 1136, 1139, 1140, 1143, 1144, 1145, 1146, 1154, 1155, 1158, 1159, 1162, 1164, 1171, 1173, 1176, 1182, 1193, 1195, 1198, 1203, 1209, 1215, 1221, 1225, 1226, 1227, 1238, 1239, 1242, 1244, 1250, 1263, 1271, 1277, 1278, 1280, 1281, 1282, 1284, 1290, 1299, 1300, 1310, 1311, 1316, 1326, 1331, 1333, 1334, 1343, 1351, 1352, 1377, 1384, 1385, 1386, 1391, 1396, 1400, 1401, 1403, 1408, 1410, 1419, 1429, 1438, 1439, 1442, 1445, 1446, 1454, 1460, 1466, 1472, 1478, 1479, 1482, 1485, 1486, 1488, 1492, 1496, 1497, 1501, 1507, 1510, 1524, 1530, 1543, 1548, 1556, 1571, 1572, 1574, 1575, 1578, 1580, 1586, 1587, 1595, 1596, 1598, 1610, 1626, 1627, 1628, 1632, 1640, 1648, 1649, 1654, 1657, 1658, 1668, 1672, 1673, 1674, 1680, 1683, 1688, 1689, 1690, 1692, 1694, 1699, 1702, 1705, 1718, 1724, 1725, 1728, 1733, 1737, 1741, 1747, 1749, 1750, 1760, 1762, 1763, 1767, 1772, 1776, 1777, 1778, 1780, 1783, 1790, 1798, 1807, 1827, 1836, 1860, 1862, 1863, 1864, 1865, 1875, 1883, 1884, 1885, 1888, 1890, 1894, 1895, 1897, 1898, 1911, 1912, 1917, 1919, 1922, 1927, 1933, 1940, 1945, 1949, 1953, 1955, 1956, 1958, 1959, 1961, 1967, 1972, 1974, 1980, 1984, 1986, 1992, 2000, 2005, 2013, 2017, 2025, 2026, 2038, 2042, 2046, 2050, 2057, 2060, 2062, 2066, 2067, 2070, 2072, 2076, 2079, 2082, 2084, 2085, 2089, 2090, 2098, 2107, 2120, 2121, 2123, 2135, 2136, 2137, 2152, 2158, 2159, 2160, 2167, 2168, 2169, 2176, 2177, 2178, 2184, 2186, 2190, 2194, 2195, 2197, 2199, 2200, 2201, 2207, 2212, 2213, 2216, 2217, 2222, 2225, 2229, 2235, 2236, 2240, 2241, 2244, 2245, 2253, 2266, 2280, 2282, 2283, 2285, 2292, 2299, 2305, 2306, 2308, 2309, 2310, 2316, 2319, 2324, 2330, 2341, 2346, 2350, 2351, 2356, 2359, 2370, 2377, 2378, 2385, 2386, 2387, 2396, 2398, 2400, 2406, 2408, 2411, 2414, 2431, 2433, 2438, 2443, 2450, 2454, 2465, 2466, 2467, 2468, 2478, 2482, 2488, 2489, 2499, 2500, 2503, 2510, 2517, 2522, 2523, 2524, 2525, 2526, 2532, 2540, 2547, 2550, 2551, 2552, 2557, 2561, 2566, 2568, 2573, 2576, 2579, 2583, 2587, 2589, 2597, 2602, 2603, 2606, 2611, 2616, 2617, 2619, 2620, 2625, 2626, 2631, 2635, 2637, 2638, 2640, 2641, 2647, 2657, 2663, 2664, 2675, 2678, 2691, 2698, 2703, 2706, 2715, 2721, 2729, 2733, 2738, 2742, 2744, 2750, 2759, 2763, 2766, 2776, 2779, 2782, 2783, 2786, 2788, 2790, 2792, 2797, 2803, 2805, 2812, 2816, 2817, 2821, 2822, 2823, 2827, 2833, 2835, 2838, 2840, 2842, 2848, 2849, 2855, 2858, 2859, 2869, 2870, 2894, 2909, 2910, 2911, 2913, 2914, 2927, 2930, 2934, 2940, 2942, 2949, 2950, 2951, 2953, 2954, 2958, 2966, 2967, 2968, 2971, 2975, 2979, 2985, 2991), 1: (301, 1036, 13, 18, 21, 24, 1053, 1054, 34, 42, 2092, 2093, 2094, 1068, 49, 50, 1074, 2101, 54, 55, 1080, 61, 68, 2119, 77, 1108, 85, 1110, 87, 1119, 2147, 2148, 2149, 105, 2164, 118, 1153, 132, 141, 142, 1169, 146, 147, 150, 1175, 152, 2204, 157, 160, 2209, 1189, 2214, 167, 2219, 173, 174, 177, 2227, 2228, 188, 189, 194, 1222, 200, 1228, 206, 208, 2259, 212, 213, 214, 2262, 2263, 2264, 220, 223, 2272, 1251, 2277, 236, 239, 240, 242, 245, 252, 253, 255, 257, 260, 261, 265, 268, 269, 277, 279, 1305, 1307, 1308, 1309, 293, 1317, 298, 1324, 309, 2358, 312, 313, 314, 316, 1341, 1342, 2369, 1348, 328, 2384, 341, 1369, 1370, 348, 1372, 2399, 353, 2401, 2403, 356, 2407, 360, 2419, 372, 374, 375, 2424, 382, 385, 389, 392, 394, 2445, 405, 1430, 2471, 2474, 2475, 1458, 1461, 2492, 1471, 1474, 2506, 2508, 461, 1489, 1491, 1502, 1503, 1504, 1505, 2530, 1506, 1508, 487, 1512, 1513, 2541, 494, 497, 498, 2554, 2555, 2556, 511, 1536, 513, 514, 1540, 2569, 523, 2572, 1547, 2574, 528, 2581, 2594, 2595, 2598, 2599, 554, 2604, 557, 1581, 1588, 1589, 1590, 1591, 1594, 575, 576, 2628, 1608, 1609, 1611, 2636, 589, 2639, 1617, 1619, 604, 605, 608, 1634, 619, 623, 2681, 635, 2684, 1662, 2687, 1667, 648, 2696, 651, 2700, 2701, 655, 659, 2724, 1701, 684, 1711, 1727, 1731, 1732, 715, 1739, 2765, 2768, 1748, 725, 727, 2777, 1753, 1758, 1766, 2793, 754, 2808, 2809, 1785, 1800, 1803, 780, 781, 2831, 788, 2845, 2846, 1823, 801, 802, 808, 1835, 2861, 815, 1840, 818, 1843, 1847, 824, 2873, 2874, 828, 1877, 1878, 855, 1879, 858, 2907, 866, 1893, 2922, 877, 1901, 881, 882, 2939, 1915, 896, 1925, 1926, 2955, 1935, 2960, 1937, 2962, 2963, 2964, 1938, 2983, 938, 940, 941, 942, 1971, 1973, 956, 965, 972, 978, 2012, 997, 998, 999, 2021, 2041, 2043), 2: (791, 1025, 2058, 16, 1042, 2068, 1045, 2073, 1050, 2080, 2086, 1063, 2088, 1085, 2111, 2117, 1096, 74, 1100, 2124, 84, 1112, 90, 2144, 2145, 2146, 106, 1132, 112, 122, 2170, 2171, 1163, 2187, 1165, 2189, 2202, 1179, 164, 1192, 171, 2221, 184, 186, 193, 2242, 1220, 199, 2251, 205, 2260, 218, 2275, 2284, 2288, 2290, 251, 1275, 2311, 1291, 1292, 1293, 1294, 271, 1295, 1296, 2320, 1301, 1304, 2337, 1314, 1315, 2338, 1322, 2349, 1327, 1329, 1330, 1335, 1336, 323, 327, 1361, 2389, 2390, 1368, 2397, 2415, 1392, 2418, 2421, 2426, 2434, 1425, 2457, 415, 1440, 2463, 2464, 1451, 1456, 433, 1457, 2480, 2481, 2486, 456, 2507, 1484, 2509, 2512, 2513, 2514, 466, 1493, 474, 485, 1516, 2542, 2543, 1522, 501, 1525, 2553, 2560, 2563, 517, 2567, 2570, 1554, 2580, 1557, 535, 547, 1584, 1597, 1614, 592, 1621, 1624, 2653, 606, 1631, 2660, 1638, 2665, 2668, 2673, 631, 1661, 640, 1664, 1676, 2718, 1695, 2720, 2725, 2728, 682, 1709, 1712, 2746, 2751, 705, 2762, 1743, 2770, 724, 1751, 2780, 2781, 735, 736, 2807, 1784, 765, 2813, 2814, 2818, 2820, 1797, 1799, 1805, 2830, 2834, 2837, 2847, 800, 1832, 1848, 1851, 1871, 1872, 1873, 2904, 1889, 2917, 2918, 873, 1903, 1905, 1909, 1910, 890, 1916, 1918, 926, 929, 2977, 932, 2982, 1962, 1963, 1964, 1965, 2987, 1969, 1983, 962, 1990, 974, 979, 2004, 982, 2007, 984, 985, 986, 2024, 2034, 2036, 1020, 1021, 1022), 3: (123, 2564, 1029, 1542, 2565, 12, 1038, 1040, 17, 1558, 536, 2584, 2585, 2588, 1569, 546, 2083, 549, 551, 1577, 2091, 1071, 2095, 2608, 563, 564, 2105, 1091, 1092, 2115, 2122, 76, 590, 83, 1620, 2133, 1622, 2138, 1630, 611, 1637, 2153, 618, 2669, 2674, 2165, 2679, 1148, 2685, 2174, 1670, 1160, 650, 2192, 1174, 2198, 665, 2717, 670, 1184, 676, 1188, 1703, 1710, 2734, 691, 2231, 702, 1736, 716, 1231, 1232, 2256, 1241, 1245, 2784, 2276, 1768, 2298, 264, 273, 275, 2327, 1816, 1817, 2328, 2851, 2340, 296, 2345, 1834, 1328, 2357, 1337, 2362, 2877, 320, 834, 1353, 331, 843, 1356, 1358, 1359, 2380, 2895, 340, 1882, 1374, 359, 1388, 1900, 2925, 1404, 1406, 1932, 1934, 399, 911, 921, 1433, 2969, 2970, 1950, 931, 1957, 424, 1450, 1452, 2986, 431, 1455, 1970, 2994, 2484, 2485, 1463, 1977, 2490, 2491, 1469, 447, 2495, 454, 1991, 2505, 1994, 2515, 2533, 2534, 2035, 2039, 1531), 4: (1126, 510, 1544, 1549, 2065, 2578, 567, 569, 2624, 1601, 2113, 2632, 1613, 2128, 2151, 2667, 620, 2156, 2670, 1138, 2166, 2173, 1152, 2699, 1167, 2193, 1172, 662, 667, 1691, 1696, 1185, 1697, 1700, 1706, 683, 2224, 2736, 1720, 698, 1722, 1212, 2761, 2775, 2273, 2801, 1779, 2295, 2300, 2815, 1792, 2304, 2819, 1285, 2824, 784, 2321, 790, 2331, 2342, 2856, 1833, 1338, 2882, 2883, 2372, 842, 1354, 844, 1360, 2896, 860, 862, 1375, 2923, 2926, 1393, 2420, 2423, 888, 2425, 1402, 2944, 2442, 1931, 2959, 404, 1435, 2972, 1437, 927, 1449, 946, 947, 1978, 961, 2502, 457, 459, 2518, 2520, 2020, 2535, 491, 1519, 2040, 1532, 1533, 1534), 5: (198, 2053, 2054, 1545, 10, 19, 534, 23, 26, 27, 28, 33, 2593, 35, 40, 553, 555, 52, 53, 2613, 75, 78, 2140, 2655, 101, 2686, 140, 143, 148, 155, 2716, 159, 161, 162, 165, 166, 168, 170, 1197, 2735, 178, 1721, 2234, 704, 2755, 713, 2250, 2764, 729, 221, 224, 226, 229, 230, 231, 232, 233, 235, 238, 250, 1788, 254, 259, 775, 1289, 282, 286, 291, 294, 1319, 1321, 299, 302, 1340, 1344, 324, 1349, 1363, 344, 856, 351, 357, 870, 364, 368, 369, 371, 883, 380, 384, 398, 2961, 1459, 444, 448, 449, 1475, 1477, 1481, 973, 1511, 490, 1521, 499, 1012), 6: (2203, 2826, 1550, 2061, 2063, 2575, 2832, 2586, 539, 1818, 2081, 2352, 2097, 2354, 1850, 1855, 1607, 2889, 1867, 2379, 1111, 88, 1625, 1880, 2906, 1887, 612, 1382, 871, 2919, 2924, 621, 2671, 2416, 1652, 1908, 1655, 1656, 1659, 2430, 2943, 2432, 1665, 1666, 1923, 2693, 2441, 396, 2446, 1170, 915, 2965, 664, 666, 2714, 923, 924, 2719, 1954, 2211, 686, 1966, 949, 950, 951, 2498, 197, 453, 1230, 1487, 464, 2771, 983, 989, 1253, 2789, 1771, 2027, 492, 2546, 1013, 1279), 7: (2268, 267, 524, 1804, 2064, 283, 284, 2600, 44, 558, 2102, 56, 2364, 2366, 832, 2116, 70, 584, 2633, 1866, 80, 337, 2642, 1874, 2644, 2900, 2649, 2395, 865, 1891, 2916, 1130, 1899, 108, 1135, 1137, 1907, 2938, 131, 133, 136, 1929, 1677, 403, 1428, 663, 1431, 1434, 1180, 937, 2223, 2483, 438, 952, 2749, 1726, 446, 2249, 1993, 1229, 722, 2261, 216, 1246, 483, 484, 1005, 2029, 2033, 1010, 1526, 2044), 8: (2754, 11, 529, 20, 22, 287, 2852, 2854, 305, 822, 823, 2810, 64, 321, 1858, 2881, 2885, 839, 332, 334, 2383, 2902, 92, 355, 110, 111, 1653, 889, 1914, 383, 137, 1420, 397, 2447, 1424, 149, 918, 151, 2456, 2723, 2215, 1447, 2476, 2988, 175, 943, 1714, 190, 191, 1476, 204, 463, 210, 2002, 2772, 1499, 1509, 237, 762, 764), 9: (2666, 2312, 2313, 2317, 1806, 2069, 2329, 32, 1057, 1568, 2087, 2344, 1323, 2609, 2353, 1075, 2612, 1332, 310, 311, 319, 1088, 2126, 849, 1107, 1365, 859, 1633, 2658, 1906, 885, 1398, 634, 639, 2439, 2440, 2196, 1941, 1943, 1432, 2206, 672, 1952, 930, 2731, 2732, 1975, 1210, 2752, 1734, 2504, 1240, 988, 2269, 2538, 2539, 1775, 243, 509, 2303), 10: (2409, 899, 519, 777, 2059, 1551, 2705, 914, 2323, 532, 1813, 280, 920, 1564, 669, 542, 1181, 1693, 1698, 1059, 2980, 2984, 427, 2479, 688, 2992, 307, 2355, 1717, 1592, 2811, 2756, 1861, 2373, 2374, 2376, 2757, 2760, 2891, 970, 1618, 2011, 481, 2920, 489, 493, 1006, 2417, 753, 2932, 2806, 891, 125, 2047), 11: (1500, 0, 2688, 388, 1796, 263, 1288, 1546, 1808, 285, 158, 30, 541, 1821, 1787, 803, 1060, 1829, 38, 39, 2853, 41, 2601, 47, 2226, 308, 1844, 2100, 315, 2363, 445, 830, 2494, 195, 846, 2899, 86, 217, 89, 219, 2267, 94, 96, 98, 738, 358, 2150, 872, 361, 362, 496, 373, 2683, 1149), 12: (2558, 2946, 1795, 2948, 395, 2188, 14, 274, 409, 1822, 43, 2220, 2607, 1968, 2172, 2867, 2614, 2871, 1849, 443, 2621, 2367, 2112, 192, 2243, 580, 69, 72, 207, 976, 81, 2769, 2903, 2648, 345, 2650, 1498, 1243, 2015, 354, 2915, 1381, 2281, 127, 2289, 500, 2680, 505, 892, 1405), 13: (1453, 1156, 2444, 2191, 1426, 531, 2582, 1814, 1686, 2841, 2332, 2973, 928, 2978, 1573, 2472, 559, 1201, 1208, 2745, 2630, 966, 2132, 852, 2521, 1754, 2010, 610, 1636, 740, 742, 1256, 745, 2794, 2162, 2163, 628, 2931, 1523, 503, 1529, 763, 637, 2175), 14: (1339, 2947, 2692, 2437, 2449, 2710, 156, 1436, 2460, 1951, 2722, 1318, 1448, 1202, 51, 1076, 2103, 2360, 2233, 2875, 1090, 2884, 1989, 2248, 2131, 339, 726, 1366, 1113, 2651, 1371, 1117, 737, 2791, 1387, 1133, 1389, 1008, 2161, 626), 15: (2592, 256, 387, 1157, 2185, 1930, 15, 2071, 1306, 2843, 2210, 2596, 292, 552, 939, 556, 48, 181, 1593, 2623, 1600, 67, 1495, 352, 864, 99, 102, 874, 1514, 1902, 367, 370, 1527, 376, 249, 378, 381), 16: (1249, 646, 782, 1936, 1682, 1427, 1044, 2074, 668, 1565, 2208, 1443, 1191, 2727, 2473, 1070, 1207, 2365, 2622, 1981, 1982, 577, 964, 2375, 585, 1103, 594, 1235, 2134, 2008, 1376, 2155, 1782, 2294, 766), 17: (1346, 1793, 2436, 2183, 1161, 139, 1168, 2322, 894, 1942, 1566, 2462, 2339, 1187, 2343, 1072, 1713, 948, 2487, 2108, 1599, 1603, 2247, 1612, 1248, 2785, 2659, 739, 2154, 1151), 18: (46, 258, 2051, 66, 2371, 1286, 1287, 2055, 71, 270, 1423, 462, 2897, 1236, 1623, 1049, 2142, 1441, 2850, 37, 2661, 751, 176, 2104, 1465, 187, 572, 1789, 2110, 1535), 19: (2258, 2368, 1345, 1859, 2052, 2254, 1302, 1303, 2237, 2265, 1213, 1948, 2078, 990, 2402, 936, 1576, 2730, 1896, 876, 2610, 819, 627, 1015, 570, 1211, 1660, 2941), 20: (2662, 1283, 773, 1928, 1098, 2828, 1037, 1234, 596, 1876, 2388, 2455, 2905, 796, 1820, 2361, 1255, 681, 1770, 685, 1645, 944, 2741, 566, 2615, 2422, 185), 21: (613, 960, 2114, 835, 1987, 1019, 2056, 1868, 1357, 460, 527, 1679, 2257, 723, 2713, 1881, 2335, 953, 746, 1644, 2412, 1134, 2413, 1017, 1979, 2301), 22: (980, 2435, 644, 1802, 330, 591, 2577, 2645, 472, 347, 1247, 2016, 1122, 1379, 1635, 2018, 2470, 2726, 2218, 114, 1014, 120, 1147), 23: (1490, 1921, 516, 518, 968, 266, 333, 1233, 2709, 215, 1752, 25, 423, 2536, 811, 113, 565, 1011, 2232, 2677, 1407), 24: (2652, 1857, 2562, 1604, 402, 787, 2326, 1178, 1824, 2976, 1252, 2348, 2028, 2862, 1517, 879, 2106, 2427), 25: (2888, 2049, 1409, 1985, 2501, 1223, 1678, 720, 602, 2141, 2656, 679, 747, 1773, 1585, 817, 1841), 26: (295, 578, 1095, 2892, 211, 346, 349, 798, 350, 222, 2654, 163, 1320, 169, 809, 810, 1009), 27: (1150, 1027, 900, 1999, 593, 467, 468, 1567, 544, 225, 1066, 2995, 1268, 1078, 2748, 126), 28: (422, 770, 1538, 2179, 393, 2957, 1552, 2773, 2901, 1819, 2336, 36, 1395, 2549, 636), 29: (2077, 3, 419, 695, 906, 2864, 1297, 786, 1815, 2682, 476, 733, 734, 607), 30: (2014, 1738, 426, 1067, 1582, 1838, 2863, 916, 1205, 1846, 408, 2205, 2143), 31: (807, 2690, 1347, 196, 7, 2697, 841, 2125, 1837, 365, 343, 1467, 31), 32: (1444, 512, 450, 2531, 1639, 2799, 2800, 338, 306, 1399, 1273, 475), 33: (671, 325, 1350, 2075, 2634, 975, 2032, 598, 440, 697, 91, 1052), 34: (479, 641, 579, 414, 967, 1166, 2702, 2096, 2739, 633, 413), 35: (2844, 833, 1003, 2127, 241, 1812, 180, 244, 442, 863), 36: (2767, 1056, 391, 840, 138, 2452, 119, 2391, 857, 730), 37: (2537, 1089, 1605, 550, 2829, 2129, 595, 2643, 1142, 540), 38: (935, 1920, 2296, 1947, 2629, 1555, 469, 854, 1560, 1051), 39: (774, 875, 1217, 1473, 1563, 1854, 2545, 2672, 2743, 2981), 40: (209, 1997, 154, 95, 97, 1761, 363, 748, 1325, 1397), 41: (2516, 452, 1541, 2758, 2315, 2928, 1109, 1276, 2333), 42: (1480, 708, 2469, 1740, 300, 848, 977, 756, 2270), 43: (903, 290, 2252, 2544, 562, 1269, 2839, 379, 731), 44: (2318, 65, 1730, 1826, 1383, 1007, 2519, 504), 45: (1196, 227, 2279, 1064, 1579, 2798, 2711, 1081), 46: (805, 6, 1642, 172, 2548, 1845, 342, 2774), 47: (717, 673, 675, 677, 2989, 847, 1715, 2428), 48: (470, 772, 2887, 2347, 850, 2804, 1470, 1759), 49: (103, 545, 2274, 1765, 2694, 1707, 2393, 2334), 50: (2879, 465, 1367, 538, 1069, 1998, 1183), 51: (2392, 1856, 420, 1675, 653, 1745, 246), 52: (1852, 1651, 1559, 1254, 2182, 2825, 1257), 53: (831, 1267, 104, 2890, 1128, 1757, 2590), 54: (625, 583, 1960, 2287, 1616, 2429, 1853), 55: (2405, 1562, 1204, 2410, 1023, 2511), 56: (2404, 435, 1830, 2646, 1869, 1199), 57: (1995, 1904, 1708, 2381, 1102, 79), 58: (1515, 752, 1264, 642, 1190, 1774), 59: (837, 2802, 568, 1177, 955, 750), 60: (2872, 2307, 1237, 2297, 2795), 61: (2865, 1924, 377, 826, 2908), 62: (2712, 769, 1418, 1687, 2037), 63: (2458, 2528, 548, 1685, 1272), 64: (2023, 1200, 1219, 661, 1224), 65: (1976, 1716, 478, 1462, 1742), 66: (1886, 1669, 2099, 919, 2936), 67: (1791, 1105, 2737, 902, 2382), 68: (1769, 1048, 2459, 1663, 2255), 69: (1583, 134, 8, 1261, 2559), 70: (795, 2605, 100, 1828, 1373), 71: (29, 614, 1831, 1494, 366)}\n",
      "2146\n",
      "266\n",
      "298\n"
     ]
    }
   ],
   "execution_count": 1
  },
  {
   "metadata": {},
   "cell_type": "code",
   "outputs": [],
   "execution_count": null,
   "source": "",
   "id": "c44969b2a2318e5d"
  }
 ],
 "metadata": {
  "kernelspec": {
   "display_name": "Python 3",
   "language": "python",
   "name": "python3"
  },
  "language_info": {
   "codemirror_mode": {
    "name": "ipython",
    "version": 2
   },
   "file_extension": ".py",
   "mimetype": "text/x-python",
   "name": "python",
   "nbconvert_exporter": "python",
   "pygments_lexer": "ipython2",
   "version": "2.7.6"
  }
 },
 "nbformat": 4,
 "nbformat_minor": 5
}
