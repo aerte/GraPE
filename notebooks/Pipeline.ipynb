{
 "cells": [
  {
   "cell_type": "code",
   "execution_count": 1,
   "id": "initial_id",
   "metadata": {
    "collapsed": true,
    "ExecuteTime": {
     "end_time": "2024-02-21T14:20:56.298330Z",
     "start_time": "2024-02-21T14:20:52.727015Z"
    }
   },
   "outputs": [
    {
     "name": "stdout",
     "output_type": "stream",
     "text": [
      "SMILES c1cccn1 in index 308 is not valid.\n",
      "SMILES N#Cc3cncc3c1cccc2OC(F)(F)Oc12 in index 370 is not valid.\n",
      "SMILES COc1cc(cc(OC)c1OC)/C=C/C(=O)O[C@@H]3C[C@@H]4CN5CCc2c6ccc(OC)cc6nc2[C@H]5C[C@@H]4[C@@H]([C@H]3OC)C(=O)OC in index 662 is not valid.\n",
      "SMILES c1cncn1 in index 697 is not valid.\n",
      "SMILES c1cccc2nccc12 in index 698 is not valid.\n",
      "SMILES Cc1cc2nnnc2cc1 in index 728 is not valid.\n",
      "SMILES C in index 819 consists of less than 2 heavy atoms and will be ignored.\n",
      "SMILES Br in index 903 consists of less than 2 heavy atoms and will be ignored.\n",
      "SMILES O=C(OC)[C@@]2(C[C@H]4C[C@@](O)(CC)C[N@@](CCc1c3ccccc3nc12)C4)c5cc9c(cc5OC)N(C=O)[C@@H]6[C@]98CCN7CC=C[C@@](CC)([C@@H](OC(C)=O)[C@]6(O)C(=O)OC)[C@H]78 in index 933 is not valid.\n",
      "SMILES [O-][N+](=O)c1ccc2ncnc2c1 in index 1305 is not valid.\n",
      "SMILES [O-][N+](=O)c1cnc(C)n1 in index 1364 is not valid.\n",
      "SMILES c1cccc2ncnc12 in index 1820 is not valid.\n",
      "SMILES Cc2cnc1ccccc12 in index 2335 is not valid.\n",
      "SMILES c1cccc2nnnc12 in index 2516 is not valid.\n",
      "SMILES n2cnc(NCc1ccccc1)c3ncnc23 in index 2686 is not valid.\n",
      "SMILES n1c3ccccc3nc1c2cscn2 in index 2916 is not valid.\n",
      "SMILES N[C@@H](Cc1cncn1)C(=O)O in index 2944 is not valid.\n",
      "SMILES Sc1nc2ccccc2n1 in index 3018 is not valid.\n"
     ]
    }
   ],
   "source": [
    "import pandas as pd\n",
    "from dglchem.utils.data import MakeGraphDataSet, DataSet\n",
    "\n",
    "df = pd.read_excel('/Users/faerte/Desktop/dgl_chem/data-sets/BradleyDoublePlusGoodMeltingPointDataset.xlsx')\n",
    "\n",
    "# Making a graph dataset\n",
    "data = MakeGraphDataSet(smiles = df.smiles, target = df.mpC, log=True)"
   ]
  },
  {
   "cell_type": "code",
   "execution_count": 2,
   "outputs": [
    {
     "name": "stdout",
     "output_type": "stream",
     "text": [
      "2418\n",
      "302\n",
      "303\n"
     ]
    }
   ],
   "source": [
    "print(len(data.train))\n",
    "print(len(data.test))\n",
    "print(len(data.val))"
   ],
   "metadata": {
    "collapsed": false,
    "ExecuteTime": {
     "end_time": "2024-02-21T14:20:56.301403Z",
     "start_time": "2024-02-21T14:20:56.299289Z"
    }
   },
   "id": "b80a49f48dad8336"
  },
  {
   "cell_type": "code",
   "execution_count": 3,
   "outputs": [
    {
     "name": "stdout",
     "output_type": "stream",
     "text": [
      "Path to the saved file: \n",
      "File saved at: /Users/faerte/Desktop/dgl_chem/notebooks/data/data_test.pickle\n"
     ]
    }
   ],
   "source": [
    "data.save('data_test')"
   ],
   "metadata": {
    "collapsed": false,
    "ExecuteTime": {
     "end_time": "2024-02-21T14:20:56.462840Z",
     "start_time": "2024-02-21T14:20:56.302084Z"
    }
   },
   "id": "b2cec52f7d85fd7"
  },
  {
   "cell_type": "code",
   "execution_count": null,
   "outputs": [],
   "source": [],
   "metadata": {
    "collapsed": false
   },
   "id": "822e29c3db09aee3"
  }
 ],
 "metadata": {
  "kernelspec": {
   "display_name": "Python 3",
   "language": "python",
   "name": "python3"
  },
  "language_info": {
   "codemirror_mode": {
    "name": "ipython",
    "version": 2
   },
   "file_extension": ".py",
   "mimetype": "text/x-python",
   "name": "python",
   "nbconvert_exporter": "python",
   "pygments_lexer": "ipython2",
   "version": "2.7.6"
  }
 },
 "nbformat": 4,
 "nbformat_minor": 5
}
