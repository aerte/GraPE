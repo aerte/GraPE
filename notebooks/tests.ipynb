{
 "cells": [
  {
   "metadata": {
    "ExecuteTime": {
     "end_time": "2024-05-16T12:45:45.087599Z",
     "start_time": "2024-05-16T12:45:41.460398Z"
    }
   },
   "cell_type": "code",
   "source": [
    "from grape.datasets import FreeSolv\n",
    "data = FreeSolv()\n",
    "# %timeit FreeSolv()"
   ],
   "id": "e1d10277f4c0bd6f",
   "outputs": [],
   "execution_count": 1
  },
  {
   "metadata": {
    "ExecuteTime": {
     "end_time": "2024-05-16T12:45:45.379662Z",
     "start_time": "2024-05-16T12:45:45.088816Z"
    }
   },
   "cell_type": "code",
   "source": [
    "#from torch_geometric.datasets import MoleculeNet\n",
    "#data = MoleculeNet(root='', name='FreeSolv')\n",
    "from grape.datasets import FreeSolv\n",
    "data = FreeSolv()\n",
    "print(data.num_node_features, data.num_edge_features)\n"
   ],
   "id": "88307db596789025",
   "outputs": [
    {
     "name": "stdout",
     "output_type": "stream",
     "text": [
      "44 12\n"
     ]
    }
   ],
   "execution_count": 2
  },
  {
   "metadata": {
    "ExecuteTime": {
     "end_time": "2024-05-16T12:45:45.452071Z",
     "start_time": "2024-05-16T12:45:45.380459Z"
    }
   },
   "cell_type": "code",
   "source": [
    "from grape.models import AFP\n",
    "model = AFP(node_in_dim=44, edge_in_dim=12, mlp_out_hidden=[512,256, 128])"
   ],
   "id": "a156850a80367618",
   "outputs": [
    {
     "name": "stdout",
     "output_type": "stream",
     "text": [
      "512\n"
     ]
    }
   ],
   "execution_count": 3
  },
  {
   "metadata": {
    "ExecuteTime": {
     "end_time": "2024-05-16T12:45:45.453968Z",
     "start_time": "2024-05-16T12:45:45.452781Z"
    }
   },
   "cell_type": "code",
   "source": "",
   "id": "395c3d7ace4417a",
   "outputs": [],
   "execution_count": 3
  }
 ],
 "metadata": {
  "kernelspec": {
   "display_name": "Python 3",
   "language": "python",
   "name": "python3"
  },
  "language_info": {
   "codemirror_mode": {
    "name": "ipython",
    "version": 2
   },
   "file_extension": ".py",
   "mimetype": "text/x-python",
   "name": "python",
   "nbconvert_exporter": "python",
   "pygments_lexer": "ipython2",
   "version": "2.7.6"
  }
 },
 "nbformat": 4,
 "nbformat_minor": 5
}
