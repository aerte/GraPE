{
 "cells": [
  {
   "cell_type": "code",
   "execution_count": 1,
   "id": "initial_id",
   "metadata": {
    "collapsed": true,
    "ExecuteTime": {
     "end_time": "2024-04-03T20:03:21.239408Z",
     "start_time": "2024-04-03T20:03:17.336262Z"
    }
   },
   "outputs": [
    {
     "name": "stdout",
     "output_type": "stream",
     "text": [
      "Loaded dataset.\n"
     ]
    },
    {
     "name": "stderr",
     "output_type": "stream",
     "text": [
      "epoch=0, training loss= 0.802, validation loss= 0.636: 100%|██████████| 1/1 [00:00<00:00,  1.41it/s]\n",
      "100%|██████████| 10/10 [00:00<00:00, 212.33it/s]\n"
     ]
    },
    {
     "name": "stdout",
     "output_type": "stream",
     "text": [
      "Test loss: 0.712\n"
     ]
    },
    {
     "name": "stderr",
     "output_type": "stream",
     "text": [
      "100%|██████████| 10/10 [00:00<00:00, 206.12it/s]\n"
     ]
    },
    {
     "data": {
      "text/plain": "{'mse': 0.725608113941884}"
     },
     "execution_count": 1,
     "metadata": {},
     "output_type": "execute_result"
    }
   ],
   "source": [
    "from grape.utils import DataSet\n",
    "data = DataSet(file_path='/Users/faerte/Desktop/grape/notebooks/data/processed/BradleyDoublePlus.pickle')\n",
    "train, test, val = data.get_splits()\n",
    "\n",
    "from grape.models import MGConv, SimpleGNN\n",
    "import torch\n",
    "\n",
    "node_hidden_dim = 64\n",
    "batch_size = 32\n",
    "\n",
    "model_message = MGConv(num_layers=5, edge_hidden_dim=64, node_hidden_dim=node_hidden_dim, \n",
    "                node_in_dim=data.num_node_features, edge_in_dim=data.num_edge_features)\n",
    "\n",
    "model = SimpleGNN(model_message=model_message,\n",
    "                      input_pool_size=node_hidden_dim, \n",
    "                      output_size=1)\n",
    "\n",
    "device = torch.device('cpu')\n",
    "\n",
    "from torch import nn\n",
    "\n",
    "loss_func = nn.functional.mse_loss\n",
    "optimizer = torch.optim.Adam(model.parameters(), lr=0.001, weight_decay=5e-4)\n",
    "\n",
    "from grape.utils import train_model\n",
    "\n",
    "train_loss, val_loss = train_model(model = model,\n",
    "                                   loss_func = loss_func,\n",
    "                                   optimizer = optimizer,\n",
    "                                   train_data_loader= train,\n",
    "                                   val_data_loader = val,\n",
    "                                   batch_size=batch_size,\n",
    "                                   epochs=1,\n",
    "                                   early_stopping=True,\n",
    "                                   patience=20)\n",
    "\n",
    "from grape.utils import test_model\n",
    "test_model(model = model,\n",
    "           test_data_loader= test,\n",
    "           loss_func= loss_func);\n",
    "\n",
    "\n",
    "from grape.utils import pred_metric\n",
    "from grape.utils import SubSet, torch_subset_to_SubSet\n",
    "import numpy as np\n",
    "\n",
    "# Generate predictions (we save the latents for later)\n",
    "preds, lats = test_model(model=model,\n",
    "                   test_data_loader=test,\n",
    "                   loss_func=None)\n",
    "\n",
    "test = torch_subset_to_SubSet(test)\n",
    "\n",
    "lats = lats.cpu().detach().numpy()\n",
    "\n",
    "pred_metric(preds, test.y)"
   ]
  },
  {
   "cell_type": "code",
   "execution_count": 2,
   "outputs": [
    {
     "name": "stdout",
     "output_type": "stream",
     "text": [
      "(64, 2)\n",
      "(299, 64)\n",
      "(299, 2)\n"
     ]
    }
   ],
   "source": [
    "from sklearn.decomposition import PCA\n",
    "model_pca = PCA(n_components=2)\n",
    "model_pca.fit(lats)\n",
    "\n",
    "V = model_pca.components_.T\n",
    "print(V.shape)\n",
    "print(lats.shape)\n",
    "projection = lats@V\n",
    "print(projection.shape)"
   ],
   "metadata": {
    "collapsed": false,
    "ExecuteTime": {
     "end_time": "2024-04-03T20:03:21.281967Z",
     "start_time": "2024-04-03T20:03:21.243033Z"
    }
   },
   "id": "ce27add128728ed0"
  },
  {
   "cell_type": "code",
   "execution_count": 3,
   "outputs": [
    {
     "name": "stdout",
     "output_type": "stream",
     "text": [
      "Found log file in working directory.\n",
      "Loaded existing log_file. Here is the data head:\n",
      "  filename                                             smiles\n",
      "0   0.json                                           CC(C)CCO\n",
      "1   1.json                                 COC(=O)c1ccc(I)cc1\n",
      "2   3.json                                              C=CCN\n",
      "3   0.json                                   N#Cc1ccc(C#N)cc1\n",
      "4   1.json  Clc1c(Cl)c(Cl)c(-c2c(Cl)c(Cl)c(Cl)c(Cl)c2Cl)c(...\n",
      "5   2.json                                CCOC(=O)c1ccc(O)cc1\n",
      "6   3.json             O=[N+]([O-])c1ccc(Cl)c([N+](=O)[O-])c1\n",
      "7   4.json                                O=C1CCN(c2ccccc2)N1\n",
      "8   5.json                                         CC=C(C)CCC\n",
      "9   6.json                        O=C(O)c1c(F)c(F)c(F)c(F)c1F\n",
      "Mol 4 in log datafile, so skipping it.\n",
      "Mol 9 in log datafile, so skipping it.\n"
     ]
    },
    {
     "name": "stderr",
     "output_type": "stream",
     "text": [
      "100%|██████████| 8/8 [00:14<00:00,  1.80s/it]\n"
     ]
    }
   ],
   "source": [
    "from grape.utils import classyfire, classyfire_result_analysis\n",
    "ids = classyfire(test.smiles[:10])\n",
    "mols_class, _ = classyfire_result_analysis()"
   ],
   "metadata": {
    "collapsed": false,
    "ExecuteTime": {
     "end_time": "2024-04-03T20:03:35.859585Z",
     "start_time": "2024-04-03T20:03:21.292412Z"
    }
   },
   "id": "26fe1643950c55ea"
  },
  {
   "cell_type": "code",
   "execution_count": 7,
   "outputs": [
    {
     "name": "stdout",
     "output_type": "stream",
     "text": [
      "{833: 'Lipids and lipid-like molecules', 1028: 'Hydrocarbons', 0: 'Benzenoids', 1: 'Organoheterocyclic compounds', 2: 'Hydrocarbons', 3: 'Lipids and lipid-like molecules', 5: 'Benzenoids', 6: 'Benzenoids', 7: 'Benzenoids', 8: 'Organic acids and derivatives'}\n",
      "[2 1 0 4 1 2 0 0 0 3]\n"
     ]
    }
   ],
   "source": [
    "mols_class, _ = classyfire_result_analysis(idx=ids)\n",
    "print(mols_class)\n",
    "from sklearn.preprocessing import LabelEncoder\n",
    "enc = LabelEncoder()\n",
    "labels = enc.fit_transform(list(mols_class.values()))\n",
    "print(labels)"
   ],
   "metadata": {
    "collapsed": false,
    "ExecuteTime": {
     "end_time": "2024-04-03T20:03:50.023098Z",
     "start_time": "2024-04-03T20:03:50.012523Z"
    }
   },
   "id": "7dd16e08014b5d99"
  },
  {
   "cell_type": "code",
   "execution_count": 8,
   "outputs": [
    {
     "data": {
      "text/plain": "<matplotlib.collections.PathCollection at 0x31a3a4e50>"
     },
     "execution_count": 8,
     "metadata": {},
     "output_type": "execute_result"
    },
    {
     "data": {
      "text/plain": "<Figure size 800x800 with 1 Axes>",
      "image/png": "[encoded data removed]"
     },
     "metadata": {},
     "output_type": "display_data"
    }
   ],
   "source": [
    "import matplotlib.pyplot as plt\n",
    "fig, ax = plt.subplots(figsize=(8,8))\n",
    "ax.scatter(projection[:10,0], projection[:10,1], c = labels)\n"
   ],
   "metadata": {
    "collapsed": false,
    "ExecuteTime": {
     "end_time": "2024-04-03T20:04:08.911362Z",
     "start_time": "2024-04-03T20:04:08.820345Z"
    }
   },
   "id": "8a695fd4e804ab3"
  },
  {
   "cell_type": "code",
   "execution_count": null,
   "outputs": [],
   "source": [
    "import os\n",
    "import pandas as pd\n",
    "\n",
    "def file_in_dir(directory, filename):\n",
    "    for root, dirs, files in os.walk(directory):\n",
    "        if filename in files:\n",
    "            return True\n",
    "\n",
    "\n",
    "class classyfire(object):\n",
    "    \"\"\"\n",
    "    \n",
    "    \"\"\"\n",
    "    \n",
    "    def __init__(self, path_to_export: str = None,\n",
    "               record_log_file: bool = True, existing_log_file: str = None):\n",
    "        \n",
    "        if path_to_export is None:\n",
    "\n",
    "            path_to_export = os.getcwd() + '/analysis_results'\n",
    "    \n",
    "            if not os.path.exists(path_to_export):\n",
    "                os.mkdir(path_to_export)\n",
    "    \n",
    "            if existing_log_file is None:\n",
    "                if file_in_dir(path_to_export, 'recorded_SMILES.csv'):\n",
    "                    print('Found log file in working directory.')\n",
    "                    existing_log_file = os.path.join(path_to_export,'recorded_SMILES.csv')\n",
    "                    \n",
    "        if record_log_file and existing_log_file is None:\n",
    "            self.log_file = os.path.join(path_to_export, 'recorded_SMILES.csv')\n",
    "            self.log_frame = pd.DataFrame({'filename':[], 'smiles':[]})\n",
    "        \n",
    "        elif existing_log_file is not None:\n",
    "            try:\n",
    "                self.log_frame = pd.read_csv(existing_log_file)\n",
    "                log_file = existing_log_file\n",
    "                print('Loaded existing log_file. Here is the data head:')\n",
    "                #print(log_frame.head(10))\n",
    "            except:\n",
    "                print('Passed log_file is not valid, creating a new one.')\n",
    "                self.log_file = os.path.join(path_to_export, 'recorded_SMILES.csv')\n",
    "                self.log_frame = pd.DataFrame({'filename': [], 'smiles': []})\n",
    "        \n",
    "    #def retrieve_classyfiles(self):\n",
    "        \n"
   ],
   "metadata": {
    "collapsed": false,
    "ExecuteTime": {
     "end_time": "2024-04-03T20:03:36.440511Z",
     "start_time": "2024-04-03T20:03:36.435930Z"
    }
   },
   "id": "3440f748ea3f775"
  },
  {
   "cell_type": "code",
   "execution_count": 1,
   "outputs": [
    {
     "ename": "ModuleNotFoundError",
     "evalue": "No module named 'grape.utils.data_splitting'",
     "output_type": "error",
     "traceback": [
      "\u001B[0;31m---------------------------------------------------------------------------\u001B[0m",
      "\u001B[0;31mModuleNotFoundError\u001B[0m                       Traceback (most recent call last)",
      "Cell \u001B[0;32mIn[1], line 2\u001B[0m\n\u001B[1;32m      1\u001B[0m \u001B[38;5;28;01mfrom\u001B[39;00m \u001B[38;5;21;01mgrape\u001B[39;00m\u001B[38;5;21;01m.\u001B[39;00m\u001B[38;5;21;01mdatasets\u001B[39;00m \u001B[38;5;28;01mimport\u001B[39;00m BradleyDoublePlus\n\u001B[0;32m----> 2\u001B[0m \u001B[38;5;28;01mfrom\u001B[39;00m \u001B[38;5;21;01mgrape\u001B[39;00m\u001B[38;5;21;01m.\u001B[39;00m\u001B[38;5;21;01mutils\u001B[39;00m\u001B[38;5;21;01m.\u001B[39;00m\u001B[38;5;21;01mdata_splitting\u001B[39;00m \u001B[38;5;28;01mimport\u001B[39;00m taylor_butina_clustering\n\u001B[1;32m      3\u001B[0m data \u001B[38;5;241m=\u001B[39m BradleyDoublePlus()\n\u001B[1;32m      5\u001B[0m train, val, test \u001B[38;5;241m=\u001B[39m taylor_butina_clustering(data, threshold\u001B[38;5;241m=\u001B[39m\u001B[38;5;241m0.8\u001B[39m, radius\u001B[38;5;241m=\u001B[39m\u001B[38;5;241m3\u001B[39m)\n",
      "\u001B[0;31mModuleNotFoundError\u001B[0m: No module named 'grape.utils.data_splitting'"
     ]
    }
   ],
   "source": [
    "from grape.datasets import BradleyDoublePlus\n",
    "from grape.utils.data_splitting import taylor_butina_clustering\n",
    "data = BradleyDoublePlus()\n",
    "\n",
    "train, val, test = taylor_butina_clustering(data, threshold=0.8, radius=3)"
   ],
   "metadata": {
    "collapsed": false,
    "ExecuteTime": {
     "end_time": "2024-04-06T15:33:03.656798Z",
     "start_time": "2024-04-06T15:32:58.127113Z"
    }
   },
   "id": "7358c6fff531beea"
  },
  {
   "cell_type": "code",
   "execution_count": 4,
   "outputs": [
    {
     "name": "stdout",
     "output_type": "stream",
     "text": [
      "Data(x=[9, 42], edge_index=[2, 18], edge_attr=[18, 12], y=[1])\n"
     ]
    }
   ],
   "source": [
    "print(train[0])"
   ],
   "metadata": {
    "collapsed": false,
    "ExecuteTime": {
     "end_time": "2024-04-04T07:08:37.911542Z",
     "start_time": "2024-04-04T07:08:37.900505Z"
    }
   },
   "id": "d6cc30169757d12c"
  },
  {
   "cell_type": "code",
   "execution_count": 2,
   "outputs": [
    {
     "name": "stdout",
     "output_type": "stream",
     "text": [
      "1\n",
      "2\n",
      "3\n"
     ]
    }
   ],
   "source": [
    "test = (1,2,3)\n",
    "for i in test:\n",
    "    print(i)"
   ],
   "metadata": {
    "collapsed": false,
    "ExecuteTime": {
     "end_time": "2024-04-06T15:33:07.400860Z",
     "start_time": "2024-04-06T15:33:07.387345Z"
    }
   },
   "id": "2ee3607da0a505a8"
  },
  {
   "cell_type": "code",
   "execution_count": 4,
   "outputs": [
    {
     "data": {
      "text/plain": "(1, 2, 3, 4)"
     },
     "execution_count": 4,
     "metadata": {},
     "output_type": "execute_result"
    }
   ],
   "source": [
    "def test(x):\n",
    "    for i in x:\n",
    "        yield i\n",
    "\n",
    "test((1,2,3,4))\n",
    "tuple(item for item in test((1,2,3,4)))"
   ],
   "metadata": {
    "collapsed": false,
    "ExecuteTime": {
     "end_time": "2024-04-06T15:37:06.393473Z",
     "start_time": "2024-04-06T15:37:06.383510Z"
    }
   },
   "id": "38b6467aaf151830"
  },
  {
   "cell_type": "code",
   "execution_count": 6,
   "outputs": [
    {
     "name": "stdout",
     "output_type": "stream",
     "text": [
      "Start initializing RDKit molecule instances...\n",
      "Creating RDKit molecule instance 400/2996\n",
      "Creating RDKit molecule instance 800/2996\n",
      "Creating RDKit molecule instance 1200/2996\n",
      "Creating RDKit molecule instance 1600/2996\n",
      "Creating RDKit molecule instance 2000/2996\n",
      "Creating RDKit molecule instance 2400/2996\n",
      "Creating RDKit molecule instance 2800/2996\n",
      "Start computing molecular weights.\n",
      "Computing molecular weight for compound 400/2996\n",
      "Computing molecular weight for compound 800/2996\n",
      "Computing molecular weight for compound 1200/2996\n",
      "Computing molecular weight for compound 1600/2996\n",
      "Computing molecular weight for compound 2000/2996\n",
      "Computing molecular weight for compound 2400/2996\n",
      "Computing molecular weight for compound 2800/2996\n"
     ]
    },
    {
     "data": {
      "text/plain": "[<dgl.data.utils.Subset at 0x31b853c90>,\n <dgl.data.utils.Subset at 0x31ef29810>,\n <dgl.data.utils.Subset at 0x31ab1b550>]"
     },
     "execution_count": 6,
     "metadata": {},
     "output_type": "execute_result"
    }
   ],
   "source": [
    "from grape.datasets import BradleyDoublePlus\n",
    "from dgllife.utils import splitters\n",
    "data = BradleyDoublePlus()\n",
    "import numpy as np\n",
    "\n",
    "def split_data(data, split_type: str = None, split_frac: float = None, custom_split: list = None,\n",
    "               labels: np.array = None, task_id: int = None, bucket_size: int = 10, **kwargs) -> tuple:\n",
    "    \"\"\"\n",
    "\n",
    "    Parameters\n",
    "    ------------\n",
    "    data: Any iterable\n",
    "        An object that can be accessed per an index and iterated upon. Ex: a DataSet or array object\n",
    "    split_type: str\n",
    "        Indicates what split should be used. Default: random. The options are: ['consecutive', 'random',\n",
    "        'molecular weight', 'scaffold', 'stratified', 'custom']\n",
    "    split_frac: list\n",
    "        Indicates what the split fractions should be. Default: [0.8, 0.1, 0.1]\n",
    "    custom_split: list\n",
    "        The custom split that should be applied. Has to be an array matching the length of the filtered smiles,\n",
    "        where 0 indicates a training sample, 1 a testing sample and 2 a validation sample. Default: None\n",
    "    labels: array\n",
    "        An array of shape (N,T) where N is the number of datasets points and T is the number of tasks. Used for the\n",
    "        Stratified Splitter.\n",
    "    task_id: int\n",
    "        The task that will be used for the Stratified Splitter.\n",
    "    bucket_size: int\n",
    "        Size of the bucket that is used in the Stratified Splitter. Default: 10\n",
    "\n",
    "\n",
    "    Returns\n",
    "    ---------\n",
    "    (train, val, test)\n",
    "        - Lists containing the respective datasets objects.\n",
    "\n",
    "    \"\"\"\n",
    "\n",
    "    if split_type is None:\n",
    "        split_type = 'random'\n",
    "\n",
    "    if split_frac is None:\n",
    "        split_frac = [0.8,0.1,0.1]\n",
    "\n",
    "\n",
    "\n",
    "    split_func = {\n",
    "        'consecutive': splitters.ConsecutiveSplitter,\n",
    "        'random': splitters.RandomSplitter,\n",
    "        'molecular_weight': splitters.MolecularWeightSplitter,\n",
    "        'scaffold': splitters.ScaffoldSplitter,\n",
    "        'stratified': splitters.SingleTaskStratifiedSplitter\n",
    "    }\n",
    "\n",
    "    if split_type == 'custom' or custom_split is not None:\n",
    "        assert custom_split is not None and len(custom_split) == len(data), (\n",
    "            'The custom split has to match the length of the filtered dataset.'\n",
    "            'Consider saving the filtered output with .get_smiles()')\n",
    "\n",
    "        return data[custom_split == 0], data[custom_split == 1], data[custom_split == 2]\n",
    "\n",
    "    match split_type:\n",
    "        case 'consecutive':\n",
    "            return split_func[split_type].train_val_test_split(data,frac_train=split_frac[0],frac_test=split_frac[1],\n",
    "                                                                frac_val=split_frac[2])\n",
    "        case 'random':\n",
    "            return split_func[split_type].train_val_test_split(data, frac_train=split_frac[0], frac_test=split_frac[1],\n",
    "                                                                frac_val=split_frac[2])\n",
    "        case 'molecular_weight':\n",
    "            return split_func[split_type].train_val_test_split(data, frac_train=split_frac[0], frac_test=split_frac[1],\n",
    "                                                               frac_val=split_frac[2], **kwargs)\n",
    "        case 'scaffold':\n",
    "            return split_func[split_type].train_val_test_split(data, frac_train=split_frac[0], frac_test=split_frac[1],\n",
    "                                                    frac_val=split_frac[2], log_every_n=1000, scaffold_func='decompose')\n",
    "        case 'stratified':\n",
    "            return split_func[split_type].train_val_test_split(data, labels, task_id, frac_train=split_frac[0],\n",
    "                                                frac_test=split_frac[1],frac_val=split_frac[2], bucket_size=bucket_size)\n",
    "        \n",
    "split_data(data, split_type='molecular_weight', log_every_n = 400)"
   ],
   "metadata": {
    "collapsed": false,
    "ExecuteTime": {
     "end_time": "2024-04-06T15:49:02.237762Z",
     "start_time": "2024-04-06T15:48:59.986450Z"
    }
   },
   "id": "e6016004a6992882"
  },
  {
   "cell_type": "code",
   "execution_count": 12,
   "outputs": [
    {
     "name": "stdout",
     "output_type": "stream",
     "text": [
      "Number of single molecule clusters: 765 and the ratio is: 0.631 of single molecule clusters.\n",
      "<grape.utils.split_utils.SubSet object at 0x31a3f88d0>\n"
     ]
    }
   ],
   "source": [
    "from grape.datasets import BradleyDoublePlus\n",
    "from grape.utils import split_data\n",
    "data = BradleyDoublePlus()\n",
    "import numpy as np\n",
    "\n",
    "train, val, test = split_data(data, split_type='butina', threshold=0.6)\n",
    "print(train)"
   ],
   "metadata": {
    "collapsed": false,
    "ExecuteTime": {
     "end_time": "2024-04-07T06:56:17.402790Z",
     "start_time": "2024-04-07T06:56:14.121522Z"
    }
   },
   "id": "5bea86f99bf54c8a"
  },
  {
   "cell_type": "code",
   "execution_count": 8,
   "outputs": [
    {
     "ename": "AttributeError",
     "evalue": "'numpy.ndarray' object has no attribute 'index'",
     "output_type": "error",
     "traceback": [
      "\u001B[0;31m---------------------------------------------------------------------------\u001B[0m",
      "\u001B[0;31mAttributeError\u001B[0m                            Traceback (most recent call last)",
      "Cell \u001B[0;32mIn[8], line 3\u001B[0m\n\u001B[1;32m      1\u001B[0m \u001B[38;5;28;01mimport\u001B[39;00m \u001B[38;5;21;01mnumpy\u001B[39;00m \u001B[38;5;28;01mas\u001B[39;00m \u001B[38;5;21;01mnp\u001B[39;00m\n\u001B[1;32m      2\u001B[0m test \u001B[38;5;241m=\u001B[39m np\u001B[38;5;241m.\u001B[39marray([\u001B[38;5;241m1\u001B[39m,\u001B[38;5;241m2\u001B[39m,\u001B[38;5;241m3\u001B[39m,\u001B[38;5;241m4\u001B[39m,\u001B[38;5;241m1\u001B[39m,\u001B[38;5;241m1\u001B[39m,\u001B[38;5;241m2\u001B[39m,\u001B[38;5;241m3\u001B[39m])\n\u001B[0;32m----> 3\u001B[0m \u001B[38;5;28mprint\u001B[39m(\u001B[43mtest\u001B[49m\u001B[38;5;241;43m.\u001B[39;49m\u001B[43mindex\u001B[49m(test\u001B[38;5;241m==\u001B[39m\u001B[38;5;241m1\u001B[39m))\n",
      "\u001B[0;31mAttributeError\u001B[0m: 'numpy.ndarray' object has no attribute 'index'"
     ]
    }
   ],
   "source": [
    "import numpy as np\n",
    "test = np.array([1,2,3,4,1,1,2,3])\n",
    "print(test.index(test==1))"
   ],
   "metadata": {
    "collapsed": false,
    "ExecuteTime": {
     "end_time": "2024-04-07T06:27:07.462538Z",
     "start_time": "2024-04-07T06:27:07.227943Z"
    }
   },
   "id": "466db8f66f78779b"
  },
  {
   "cell_type": "code",
   "execution_count": 10,
   "outputs": [
    {
     "name": "stdout",
     "output_type": "stream",
     "text": [
      "[-1.06810349 -0.11867817  0.83074716  1.78017249 -1.06810349 -1.06810349\n",
      " -0.11867817  0.83074716]\n",
      "[-1.06810349 -0.11867817  0.83074716  1.78017249 -1.06810349 -1.06810349\n",
      " -0.11867817  0.83074716]\n"
     ]
    }
   ],
   "source": [
    "test = np.array([1,2,3,4,1,1,2,3])\n",
    "test = (test-np.mean(test))/np.std(test)\n",
    "print(test)\n",
    "test = (test-np.mean(test))/np.std(test)\n",
    "print(test)"
   ],
   "metadata": {
    "collapsed": false,
    "ExecuteTime": {
     "end_time": "2024-04-07T06:31:40.338377Z",
     "start_time": "2024-04-07T06:31:40.325760Z"
    }
   },
   "id": "61ea0a98dadc0b84"
  },
  {
   "cell_type": "code",
   "execution_count": 3,
   "outputs": [
    {
     "name": "stdout",
     "output_type": "stream",
     "text": [
      "MPNN(\n",
      "  (lin_in): Linear(in_features=64, out_features=64, bias=True)\n",
      "  (gru): GRU(64, 64, num_layers=10)\n",
      "  (mlp): Sequential(\n",
      "    (0): Linear(in_features=64, out_features=64, bias=True)\n",
      "    (1): ReLU()\n",
      "    (2): Linear(in_features=64, out_features=64, bias=True)\n",
      "    (3): ReLU()\n",
      "    (4): Linear(in_features=64, out_features=4096, bias=True)\n",
      "  )\n",
      "  (gnn_layers): ModuleList(\n",
      "    (0-3): 4 x NNConv(64, 64, aggr=add, nn=Sequential(\n",
      "      (0): Linear(in_features=64, out_features=64, bias=True)\n",
      "      (1): ReLU()\n",
      "      (2): Linear(in_features=64, out_features=64, bias=True)\n",
      "      (3): ReLU()\n",
      "      (4): Linear(in_features=64, out_features=4096, bias=True)\n",
      "    ))\n",
      "  )\n",
      ")\n"
     ]
    }
   ],
   "source": [
    "from torch.nn import Module, Sequential\n",
    "import torch\n",
    "from grape.models import MPNN\n",
    "from grape.utils import reset_weights\n",
    "\n",
    "model = MPNN(64, 64)\n",
    "print(model)\n"
   ],
   "metadata": {
    "collapsed": false,
    "ExecuteTime": {
     "end_time": "2024-04-07T13:31:37.635602Z",
     "start_time": "2024-04-07T13:31:37.606907Z"
    }
   },
   "id": "a1be673f59e2f7e4"
  },
  {
   "cell_type": "code",
   "execution_count": 12,
   "outputs": [
    {
     "name": "stdout",
     "output_type": "stream",
     "text": [
      "Linear(in_features=64, out_features=64, bias=True)\n",
      "GRU(64, 64, num_layers=10)\n",
      "Sequential(\n",
      "  (0): Linear(in_features=64, out_features=64, bias=True)\n",
      "  (1): ReLU()\n",
      "  (2): Linear(in_features=64, out_features=64, bias=True)\n",
      "  (3): ReLU()\n",
      "  (4): Linear(in_features=64, out_features=4096, bias=True)\n",
      ")\n",
      "ModuleList(\n",
      "  (0-3): 4 x NNConv(64, 64, aggr=add, nn=Sequential(\n",
      "    (0): Linear(in_features=64, out_features=64, bias=True)\n",
      "    (1): ReLU()\n",
      "    (2): Linear(in_features=64, out_features=64, bias=True)\n",
      "    (3): ReLU()\n",
      "    (4): Linear(in_features=64, out_features=4096, bias=True)\n",
      "  ))\n",
      ")\n",
      "<generator object Module.children at 0x30ae38120>\n",
      "Linear(in_features=64, out_features=64, bias=True)\n",
      "tensor([[ 0.1021,  0.0348, -0.0363,  ..., -0.0731, -0.0287, -0.0903],\n",
      "        [ 0.0916, -0.0162,  0.0435,  ..., -0.1165,  0.0802, -0.0188],\n",
      "        [ 0.0897,  0.0470,  0.0829,  ..., -0.0558,  0.1143, -0.0566],\n",
      "        ...,\n",
      "        [-0.0355, -0.0944, -0.1071,  ...,  0.0206, -0.0467, -0.0611],\n",
      "        [-0.0103,  0.1057,  0.0383,  ...,  0.0904,  0.1116,  0.0447],\n",
      "        [-0.1099,  0.0526, -0.1131,  ..., -0.0474, -0.0559, -0.0971]])\n",
      "tensor([[1., 1., 1.,  ..., 1., 1., 1.],\n",
      "        [1., 1., 1.,  ..., 1., 1., 1.],\n",
      "        [1., 1., 1.,  ..., 1., 1., 1.],\n",
      "        ...,\n",
      "        [1., 1., 1.,  ..., 1., 1., 1.],\n",
      "        [1., 1., 1.,  ..., 1., 1., 1.],\n",
      "        [1., 1., 1.,  ..., 1., 1., 1.]])\n",
      "ReLU()\n",
      "Linear(in_features=64, out_features=64, bias=True)\n",
      "tensor([[-0.0836,  0.1249, -0.0490,  ...,  0.0738,  0.0184, -0.0129],\n",
      "        [ 0.0725, -0.0602,  0.0516,  ..., -0.0944,  0.0316, -0.1015],\n",
      "        [ 0.0077,  0.0826, -0.0753,  ..., -0.0090,  0.0968,  0.0613],\n",
      "        ...,\n",
      "        [ 0.0501, -0.0330,  0.0887,  ..., -0.0850, -0.0283, -0.0628],\n",
      "        [-0.0462,  0.0554, -0.1222,  ..., -0.0595, -0.1236,  0.0678],\n",
      "        [ 0.0330,  0.1018,  0.1171,  ...,  0.0275, -0.0049,  0.0395]])\n",
      "tensor([[1., 1., 1.,  ..., 1., 1., 1.],\n",
      "        [1., 1., 1.,  ..., 1., 1., 1.],\n",
      "        [1., 1., 1.,  ..., 1., 1., 1.],\n",
      "        ...,\n",
      "        [1., 1., 1.,  ..., 1., 1., 1.],\n",
      "        [1., 1., 1.,  ..., 1., 1., 1.],\n",
      "        [1., 1., 1.,  ..., 1., 1., 1.]])\n",
      "ReLU()\n",
      "Linear(in_features=64, out_features=4096, bias=True)\n",
      "tensor([[-0.1085,  0.1181, -0.0964,  ...,  0.1217, -0.0104, -0.1169],\n",
      "        [-0.1144,  0.0804, -0.0775,  ...,  0.0156,  0.0817, -0.0168],\n",
      "        [-0.0033, -0.0760, -0.0457,  ...,  0.0960,  0.0490, -0.0668],\n",
      "        ...,\n",
      "        [-0.0472,  0.0092,  0.0988,  ..., -0.0973, -0.0168,  0.0717],\n",
      "        [-0.1224,  0.0690,  0.1022,  ..., -0.0592,  0.0680,  0.0918],\n",
      "        [-0.0834, -0.0065, -0.1110,  ...,  0.0433, -0.0283, -0.0153]])\n",
      "tensor([[1., 1., 1.,  ..., 1., 1., 1.],\n",
      "        [1., 1., 1.,  ..., 1., 1., 1.],\n",
      "        [1., 1., 1.,  ..., 1., 1., 1.],\n",
      "        ...,\n",
      "        [1., 1., 1.,  ..., 1., 1., 1.],\n",
      "        [1., 1., 1.,  ..., 1., 1., 1.],\n",
      "        [1., 1., 1.,  ..., 1., 1., 1.]])\n",
      "Linear(in_features=64, out_features=64, bias=True)\n",
      "ReLU()\n",
      "Linear(in_features=64, out_features=64, bias=True)\n",
      "ReLU()\n",
      "Linear(in_features=64, out_features=4096, bias=True)\n",
      "NNConv(64, 64, aggr=add, nn=Sequential(\n",
      "  (0): Linear(in_features=64, out_features=64, bias=True)\n",
      "  (1): ReLU()\n",
      "  (2): Linear(in_features=64, out_features=64, bias=True)\n",
      "  (3): ReLU()\n",
      "  (4): Linear(in_features=64, out_features=4096, bias=True)\n",
      "))\n",
      "tensor([[-0.0277,  0.0009,  0.1223,  ...,  0.0494, -0.0842,  0.0637],\n",
      "        [-0.1064,  0.0404,  0.0916,  ..., -0.0482,  0.0760, -0.0218],\n",
      "        [-0.0905,  0.0619, -0.1144,  ..., -0.0866,  0.0376, -0.0160],\n",
      "        ...,\n",
      "        [-0.0523,  0.1087, -0.0734,  ...,  0.0275, -0.0792,  0.1134],\n",
      "        [ 0.0903, -0.0058,  0.1109,  ..., -0.1206, -0.0672,  0.0067],\n",
      "        [-0.0682,  0.1182,  0.0669,  ..., -0.0728, -0.0143,  0.0828]])\n",
      "NNConv(64, 64, aggr=add, nn=Sequential(\n",
      "  (0): Linear(in_features=64, out_features=64, bias=True)\n",
      "  (1): ReLU()\n",
      "  (2): Linear(in_features=64, out_features=64, bias=True)\n",
      "  (3): ReLU()\n",
      "  (4): Linear(in_features=64, out_features=4096, bias=True)\n",
      "))\n",
      "tensor([[-0.0498, -0.1166,  0.0373,  ..., -0.0923, -0.0864, -0.1183],\n",
      "        [-0.0995,  0.0340, -0.0101,  ...,  0.1221, -0.0744,  0.1235],\n",
      "        [ 0.0595,  0.0620,  0.0238,  ..., -0.1242,  0.0948,  0.0472],\n",
      "        ...,\n",
      "        [ 0.1148,  0.0193,  0.0366,  ...,  0.0063, -0.0547,  0.0478],\n",
      "        [ 0.0590, -0.0569, -0.0027,  ...,  0.0959,  0.0176,  0.0026],\n",
      "        [-0.1110,  0.0138,  0.0436,  ..., -0.0039, -0.1141, -0.0780]])\n",
      "NNConv(64, 64, aggr=add, nn=Sequential(\n",
      "  (0): Linear(in_features=64, out_features=64, bias=True)\n",
      "  (1): ReLU()\n",
      "  (2): Linear(in_features=64, out_features=64, bias=True)\n",
      "  (3): ReLU()\n",
      "  (4): Linear(in_features=64, out_features=4096, bias=True)\n",
      "))\n",
      "tensor([[-0.1150,  0.0908, -0.0513,  ...,  0.1120, -0.0606,  0.1017],\n",
      "        [ 0.1150,  0.0862, -0.0640,  ..., -0.0026,  0.0134,  0.0943],\n",
      "        [ 0.0740, -0.0562,  0.0876,  ..., -0.0381, -0.0210, -0.0749],\n",
      "        ...,\n",
      "        [-0.0346, -0.0470,  0.0892,  ..., -0.0135,  0.0609,  0.1154],\n",
      "        [ 0.0228, -0.0520,  0.0594,  ..., -0.1094,  0.0051, -0.0326],\n",
      "        [-0.0281, -0.0040, -0.1149,  ..., -0.1091,  0.0534,  0.0780]])\n",
      "NNConv(64, 64, aggr=add, nn=Sequential(\n",
      "  (0): Linear(in_features=64, out_features=64, bias=True)\n",
      "  (1): ReLU()\n",
      "  (2): Linear(in_features=64, out_features=64, bias=True)\n",
      "  (3): ReLU()\n",
      "  (4): Linear(in_features=64, out_features=4096, bias=True)\n",
      "))\n",
      "tensor([[-0.0032,  0.0136, -0.0973,  ...,  0.0911,  0.0873,  0.0316],\n",
      "        [ 0.0788, -0.0609, -0.0938,  ...,  0.0690,  0.1018,  0.0882],\n",
      "        [-0.0080,  0.0123,  0.0022,  ..., -0.0383,  0.0940, -0.0017],\n",
      "        ...,\n",
      "        [-0.0171,  0.0782, -0.0657,  ..., -0.0936, -0.1195, -0.0836],\n",
      "        [-0.0981, -0.1154,  0.0704,  ...,  0.0234, -0.0095,  0.0916],\n",
      "        [-0.0426,  0.1207, -0.0474,  ...,  0.0355,  0.0693, -0.1095]])\n"
     ]
    }
   ],
   "source": [
    "from torch.nn import Module, Sequential\n",
    "import torch\n",
    "from grape.models import MPNN\n",
    "from grape.utils import reset_weights, reset_model_weights\n",
    "\n",
    "model = MPNN(64, 64)\n",
    "for i in model.children():\n",
    "    print(i)\n",
    "\n",
    "print(model.mlp.children())\n",
    "for i in model.mlp.children():\n",
    "    print(i)\n",
    "    if hasattr(i, 'reset_parameters'):\n",
    "        print(i.weight.data)\n",
    "        i.weight.data = torch.ones(64,64)\n",
    "        print(i.weight.data)\n",
    "        \n",
    "reset_weights(model)\n",
    "for i in (model.children()):\n",
    "    for j in i.children():\n",
    "        print(j)\n",
    "        if hasattr(j, 'children'):\n",
    "            for z in j.children():\n",
    "                if hasattr(z, 'reset_parameters') and hasattr(z, 'weight'):\n",
    "                    print(z.weight.data)\n",
    "        elif hasattr(j, 'reset_parameters'):\n",
    "            print(j.weight.data)\n",
    "#    print(i)"
   ],
   "metadata": {
    "collapsed": false,
    "ExecuteTime": {
     "end_time": "2024-04-07T14:04:56.206333Z",
     "start_time": "2024-04-07T14:04:56.168034Z"
    }
   },
   "id": "66607097e91e1e10"
  },
  {
   "cell_type": "code",
   "execution_count": 13,
   "outputs": [
    {
     "name": "stdout",
     "output_type": "stream",
     "text": [
      "False\n"
     ]
    }
   ],
   "source": [
    "print(hasattr(model, 'reset_parameters'))"
   ],
   "metadata": {
    "collapsed": false,
    "ExecuteTime": {
     "end_time": "2024-04-07T14:05:28.031498Z",
     "start_time": "2024-04-07T14:05:27.997697Z"
    }
   },
   "id": "3e3e940537a709ba"
  },
  {
   "cell_type": "code",
   "execution_count": null,
   "outputs": [],
   "source": [],
   "metadata": {
    "collapsed": false
   },
   "id": "f03a68688d290338"
  }
 ],
 "metadata": {
  "kernelspec": {
   "display_name": "Python 3",
   "language": "python",
   "name": "python3"
  },
  "language_info": {
   "codemirror_mode": {
    "name": "ipython",
    "version": 2
   },
   "file_extension": ".py",
   "mimetype": "text/x-python",
   "name": "python",
   "nbconvert_exporter": "python",
   "pygments_lexer": "ipython2",
   "version": "2.7.6"
  }
 },
 "nbformat": 4,
 "nbformat_minor": 5
}
