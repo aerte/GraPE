{
 "cells": [
  {
   "cell_type": "code",
   "execution_count": null,
   "id": "initial_id",
   "metadata": {
    "collapsed": true
   },
   "outputs": [],
   "source": [
    "from dglchem.utils import featurizer as fe\n",
    "from dglchem.utils import featurizer_old as fo\n",
    "from rdkit import Chem\n",
    "\n",
    "mol = Chem.MolFromSmiles('COO')\n",
    "feat = fe.AtomFeaturizer()\n",
    "feat_old = fo.AtomFeaturizerOld()\n",
    "\n",
    "bond = fe.BondFeaturizer()\n",
    "bond_old = fo.BondFeaturizer()\n",
    "\n",
    "assert feat(mol) is not None \n",
    "assert bond(mol) is not None\n",
    "assert (feat(mol)[0] == feat_old(mol)['h'][0]).all()\n",
    "assert (bond(mol)[0] == bond_old(mol)['e'][0]).all()\n",
    "print('Featurizers are fine!')\n",
    "\n",
    "#%timeit feat(mol)\n",
    "#%timeit feat_old(mol)\n",
    "#%timeit bond(mol)\n",
    "#%timeit bond_old(mol)"
   ]
  },
  {
   "cell_type": "markdown",
   "source": [],
   "metadata": {
    "collapsed": false
   },
   "id": "d1beabe02110806a"
  },
  {
   "cell_type": "code",
   "execution_count": null,
   "outputs": [],
   "source": [
    "from dglchem.datasets import BradleyDoublePlus\n",
    "data = BradleyDoublePlus()\n",
    "\n",
    "assert data.get_splits('consecutive') is not None\n",
    "print('consecutive is a success')\n",
    "assert data.get_splits('random') is not None\n",
    "print('random is a success')\n",
    "assert data.get_splits('molecular_weight') is not None\n",
    "print('molecular_weight is a success')\n",
    "#assert data.get_splits('stratified') is not None\n",
    "#print('stratified is a success')"
   ],
   "metadata": {
    "collapsed": false
   },
   "id": "d43e53d0da2fea5"
  },
  {
   "cell_type": "code",
   "execution_count": null,
   "outputs": [],
   "source": [
    "from dglchem.datasets import BradleyDoublePlus\n",
    "from dglchem.utils.data_splitting import taylor_butina_clustering\n",
    "data = BradleyDoublePlus()\n",
    "\n",
    "clusters = taylor_butina_clustering(data)"
   ],
   "metadata": {
    "collapsed": false
   },
   "id": "d9d20e2240833345"
  },
  {
   "cell_type": "code",
   "execution_count": null,
   "outputs": [],
   "source": [
    "from dglchem.datasets import BradleyDoublePlus\n",
    "data = BradleyDoublePlus()\n",
    "\n",
    "data.weight_vs_target_plot()"
   ],
   "metadata": {
    "collapsed": false
   },
   "id": "d68757835fc3f4d"
  },
  {
   "cell_type": "code",
   "execution_count": null,
   "outputs": [],
   "source": [
    "import torch\n",
    "import torch.nn.functional as F\n",
    "from dglchem.datasets import BradleyDoublePlus\n",
    "from dglchem.utils import DataSet\n",
    "from dglchem.models import MGConv\n",
    "from torch_geometric.loader import DataLoader\n",
    "\n",
    "dataset = DataSet(file_path='./data/processed/BradleyDoublePlus.pickle')\n",
    "#dataset.draw_smile(0).show()\n",
    "\n",
    "device = torch.device('cuda' if torch.cuda.is_available() else 'cpu')\n",
    "\n",
    "data = dataset[0].to(device)\n",
    "\n",
    "model = MGConv(num_layers=2, node_dim=data.num_node_features, edge_dim=data.num_edge_features).to(device)\n",
    "\n",
    "optimizer = torch.optim.Adam(model.parameters(), lr=0.01, weight_decay=5e-4)\n",
    "\n",
    "model.train()\n",
    "for epoch in range(200):\n",
    "    optimizer.zero_grad()\n",
    "    out = model(data)\n",
    "    loss = F.mse_loss(out, data.y)\n",
    "    print(loss.detach().numpy())\n",
    "    loss.backward()\n",
    "    optimizer.step()"
   ],
   "metadata": {
    "collapsed": false
   },
   "id": "6f98f441ccda6493"
  },
  {
   "cell_type": "code",
   "execution_count": null,
   "outputs": [],
   "source": [
    "from dglchem.utils import DataSet"
   ],
   "metadata": {
    "collapsed": false
   },
   "id": "eb418ef56e28ca23"
  },
  {
   "cell_type": "code",
   "execution_count": null,
   "outputs": [],
   "source": [
    "from torch import Tensor, cat\n",
    "y = Tensor([1,0,1,1])\n",
    "x = Tensor([0,1,2,3])\n",
    "\n",
    "print(cat((x,y)))"
   ],
   "metadata": {
    "collapsed": false
   },
   "id": "79d85775015a83d9"
  },
  {
   "cell_type": "code",
   "execution_count": null,
   "outputs": [],
   "source": [
    "%matplotlib inline\n",
    "from dglchem.datasets import BradleyDoublePlus\n",
    "dataset = BradleyDoublePlus()\n",
    "\n",
    "from dglchem.utils import classify_compounds\n",
    "_, num_dict = classify_compounds(dataset.smiles)\n",
    "l = 0\n",
    "for key in num_dict.keys():\n",
    "    l+=num_dict[key]\n",
    "print(f'Dataset length: {len(dataset.smiles)}', f'Dictionary length: {l}', sep='\\n')\n",
    "    \n",
    "\n",
    "from dglchem.utils import compound_nums_chart\n",
    "compound_nums_chart(dataset.smiles, save_fig=True)\n"
   ],
   "metadata": {
    "collapsed": false
   },
   "id": "224063445f4a743b"
  },
  {
   "cell_type": "code",
   "execution_count": null,
   "outputs": [],
   "source": [
    "from rdkit.Chem import MolFromSmiles\n",
    "\n",
    "def add_atom_mass_above_30(atom):\n",
    "            if atom.GetMass() > 15:\n",
    "                return [True]\n",
    "            else:\n",
    "                return [False]\n",
    "\n",
    "\n",
    "from dglchem.utils import AtomFeaturizer\n",
    "featurizer = AtomFeaturizer(atom_feature_list = ['atom_type_one_hot'])\n",
    "featurizer_raw = AtomFeaturizer(atom_feature_list = ['atom_type_one_hot'])\n",
    "featurizer.extend_features(['garbo'],[add_atom_mass_above_30])\n",
    "\n",
    "print(featurizer(MolFromSmiles('COO')))\n",
    "print(featurizer_raw(MolFromSmiles('COO')))\n",
    "print(featurizer.atom_feature_list)"
   ],
   "metadata": {
    "collapsed": false
   },
   "id": "1f455343e4abad35"
  },
  {
   "cell_type": "code",
   "execution_count": null,
   "outputs": [],
   "source": [
    "from dglchem.datasets import BradleyDoublePlus, LogP\n",
    "from dglchem.utils import compounds_dataset_heatmap\n",
    "\n",
    "smiles1 = BradleyDoublePlus().smiles\n",
    "smiles2 = LogP().smiles\n",
    "compounds_dataset_heatmap([smiles1,smiles2],['BDP','LogP'],save_fig=True)"
   ],
   "metadata": {
    "collapsed": false
   },
   "id": "9902648e440ffe7d"
  },
  {
   "cell_type": "code",
   "execution_count": null,
   "outputs": [],
   "source": [
    "import numpy as np\n",
    "from dglchem.utils import loss_plot\n",
    "from dglchem.utils import GraphDataSet\n",
    "from dglchem.utils import train_model\n",
    "from dglchem.models import MGConv\n",
    "import torch.nn.functional as F\n",
    "import torch\n",
    "\n",
    "device = torch.device('cpu')\n",
    "graph_data = GraphDataSet(file_path='./data/processed/BradleyDoublePlus.pickle',split=True)\n",
    "model = MGConv(num_layers=2, node_dim=graph_data.num_node_features, edge_dim=graph_data.num_edge_features).to(device)\n",
    "optimizer = torch.optim.Adam(model.parameters(), lr=0.01, weight_decay=5e-4)\n",
    "loss = F.mse_loss\n",
    "\n",
    "trl, tl = train_model(model, loss_func=loss, optimizer=optimizer, train_data_loader=graph_data.train,\n",
    "                      test_data_loader=graph_data.test, early_stopping=False)\n",
    "\n",
    "\n",
    "\n",
    "loss_plot([trl,tl],['train loss','test loss'])"
   ],
   "metadata": {
    "collapsed": false
   },
   "id": "60a1829b7a11310c"
  },
  {
   "cell_type": "code",
   "execution_count": null,
   "outputs": [],
   "source": [
    "import numpy as np\n",
    "from dglchem.utils import loss_plot\n",
    "from dglchem.utils import GraphDataSet\n",
    "from dglchem.utils import train_model\n",
    "from dglchem.models import MPNNModel\n",
    "import torch.nn.functional as F\n",
    "import torch\n",
    "\n",
    "device = torch.device('cpu')\n",
    "graph_data = GraphDataSet(file_path='./data/processed/BradleyDoublePlus.pickle',split=True)\n",
    "x = graph_data.train[0]\n",
    "model = MPNNModel(node_dim=graph_data.num_node_features, edge_dim=graph_data.num_edge_features,\n",
    "             num_layers=5, node_hidden_dim=64).to(device)\n",
    "model(x)"
   ],
   "metadata": {
    "collapsed": false
   },
   "id": "9699a53bcb50dc3a"
  },
  {
   "cell_type": "code",
   "execution_count": null,
   "outputs": [],
   "source": [
    "from dglchem.datasets import BradleyDoublePlus\n",
    "data = BradleyDoublePlus()\n",
    "data.draw_smile(2)"
   ],
   "metadata": {
    "collapsed": false
   },
   "id": "ad93a914d6d32b11"
  },
  {
   "cell_type": "code",
   "execution_count": null,
   "outputs": [],
   "source": [
    "from dglchem.datasets import BradleyDoublePlus\n",
    "data = BradleyDoublePlus()\n",
    "data.save_dataset()"
   ],
   "metadata": {
    "collapsed": false
   },
   "id": "b06fb317ccea6de"
  },
  {
   "cell_type": "code",
   "execution_count": null,
   "outputs": [],
   "source": [
    "from dglchem.datasets import LogP\n",
    "data = LogP()\n",
    "data.save_dataset()"
   ],
   "metadata": {
    "collapsed": false
   },
   "id": "c395a2a8f523d3c0"
  },
  {
   "cell_type": "code",
   "execution_count": null,
   "outputs": [],
   "source": [
    "from dglchem.utils import DataSet\n",
    "from dglchem.datasets import BradleyDoublePlus\n",
    "#data = DataSet(file_path='./data/processed/BradleyDoublePlus.pickle')\n",
    "%timeit data = DataSet(file_path='./data/processed/BradleyDoublePlus.pickle')\n",
    "%timeit data = BradleyDoublePlus()"
   ],
   "metadata": {
    "collapsed": false
   },
   "id": "a04b51cc010301ab"
  },
  {
   "cell_type": "code",
   "execution_count": null,
   "outputs": [],
   "source": [
    "from dglchem.datasets import LogP\n",
    "from dglchem.utils import DataSet\n",
    "%timeit data = DataSet(file_path='./data/processed/LogP.pickle')\n",
    "%timeit data = LogP()"
   ],
   "metadata": {
    "collapsed": false
   },
   "id": "adb1d6c18a4bb664"
  },
  {
   "cell_type": "code",
   "execution_count": 9,
   "outputs": [
    {
     "name": "stdout",
     "output_type": "stream",
     "text": [
      "['CC(Cl)Cl', 'CC(CO)(CO)[N+](=O)[O-]', 'Clc1cccs1', 'CCCOC(=O)CC', 'C=C(C)OC(C)=O']\n"
     ]
    }
   ],
   "source": [
    "from dglchem.datasets import BradleyDoublePlus\n",
    "import pandas as pd\n",
    "from rdkit.Chem import SmilesWriter, MolFromSmiles, MolToSmiles\n",
    "\n",
    "data = BradleyDoublePlus()\n",
    "data.get_mol()[:5]\n",
    "print(data.smiles[10:15])"
   ],
   "metadata": {
    "collapsed": false,
    "ExecuteTime": {
     "end_time": "2024-03-13T12:31:45.398928Z",
     "start_time": "2024-03-13T12:31:42.099859Z"
    }
   },
   "id": "685494ee8677e6b4"
  },
  {
   "cell_type": "code",
   "execution_count": 14,
   "outputs": [
    {
     "name": "stdout",
     "output_type": "stream",
     "text": [
      "torch.Size([762, 12])\n",
      "torch.Size([976, 12])\n",
      "torch.Size([762, 12])\n",
      "torch.Size([722, 12])\n",
      "torch.Size([876, 12])\n",
      "torch.Size([886, 12])\n",
      "torch.Size([750, 12])\n",
      "torch.Size([780, 12])\n",
      "torch.Size([772, 12])\n",
      "torch.Size([776, 12])\n",
      "torch.Size([706, 12])\n",
      "torch.Size([932, 12])\n",
      "torch.Size([758, 12])\n",
      "torch.Size([794, 12])\n",
      "torch.Size([640, 12])\n",
      "torch.Size([768, 12])\n",
      "torch.Size([824, 12])\n",
      "torch.Size([886, 12])\n",
      "torch.Size([730, 12])\n",
      "torch.Size([832, 12])\n",
      "torch.Size([674, 12])\n",
      "torch.Size([826, 12])\n",
      "torch.Size([828, 12])\n",
      "torch.Size([804, 12])\n",
      "torch.Size([640, 12])\n",
      "torch.Size([656, 12])\n",
      "torch.Size([708, 12])\n",
      "torch.Size([750, 12])\n",
      "torch.Size([846, 12])\n",
      "torch.Size([756, 12])\n",
      "torch.Size([730, 12])\n",
      "torch.Size([718, 12])\n",
      "torch.Size([868, 12])\n",
      "torch.Size([730, 12])\n",
      "torch.Size([790, 12])\n",
      "torch.Size([694, 12])\n",
      "torch.Size([772, 12])\n",
      "torch.Size([714, 12])\n",
      "torch.Size([762, 12])\n",
      "torch.Size([714, 12])\n",
      "torch.Size([596, 12])\n",
      "torch.Size([770, 12])\n",
      "torch.Size([840, 12])\n",
      "torch.Size([842, 12])\n",
      "torch.Size([684, 12])\n",
      "torch.Size([728, 12])\n",
      "torch.Size([710, 12])\n",
      "torch.Size([734, 12])\n",
      "torch.Size([798, 12])\n",
      "torch.Size([814, 12])\n",
      "torch.Size([750, 12])\n",
      "torch.Size([800, 12])\n",
      "torch.Size([716, 12])\n",
      "torch.Size([752, 12])\n",
      "torch.Size([700, 12])\n",
      "torch.Size([838, 12])\n",
      "torch.Size([652, 12])\n",
      "torch.Size([774, 12])\n",
      "torch.Size([794, 12])\n",
      "torch.Size([756, 12])\n",
      "torch.Size([780, 12])\n",
      "torch.Size([808, 12])\n",
      "torch.Size([878, 12])\n",
      "torch.Size([750, 12])\n",
      "torch.Size([832, 12])\n",
      "torch.Size([756, 12])\n",
      "torch.Size([762, 12])\n",
      "torch.Size([836, 12])\n",
      "torch.Size([736, 12])\n",
      "torch.Size([748, 12])\n",
      "torch.Size([648, 12])\n",
      "torch.Size([678, 12])\n",
      "torch.Size([728, 12])\n",
      "torch.Size([856, 12])\n",
      "torch.Size([798, 12])\n"
     ]
    }
   ],
   "source": [
    "from dglchem.datasets import BradleyDoublePlus\n",
    "from torch_geometric.loader import DataLoader\n",
    "data = BradleyDoublePlus()\n",
    "\n",
    "train, _, _ = data.get_splits()\n",
    "train_loader = DataLoader(train, batch_size=32)\n",
    "for batch in train_loader:\n",
    "    print(batch.edge_attr.shape)"
   ],
   "metadata": {
    "collapsed": false,
    "ExecuteTime": {
     "end_time": "2024-03-13T13:46:28.344302Z",
     "start_time": "2024-03-13T13:46:26.206519Z"
    }
   },
   "id": "96d9aa6650a7c0fb"
  },
  {
   "cell_type": "code",
   "execution_count": 5,
   "outputs": [],
   "source": [],
   "metadata": {
    "collapsed": false,
    "ExecuteTime": {
     "end_time": "2024-03-13T13:43:09.162055Z",
     "start_time": "2024-03-13T13:43:09.140044Z"
    }
   },
   "id": "a1608091c3e89c52"
  },
  {
   "cell_type": "code",
   "execution_count": null,
   "outputs": [],
   "source": [],
   "metadata": {
    "collapsed": false
   },
   "id": "8a0954c85d44c126"
  }
 ],
 "metadata": {
  "kernelspec": {
   "display_name": "Python 3",
   "language": "python",
   "name": "python3"
  },
  "language_info": {
   "codemirror_mode": {
    "name": "ipython",
    "version": 2
   },
   "file_extension": ".py",
   "mimetype": "text/x-python",
   "name": "python",
   "nbconvert_exporter": "python",
   "pygments_lexer": "ipython2",
   "version": "2.7.6"
  }
 },
 "nbformat": 4,
 "nbformat_minor": 5
}
