{
 "cells": [
  {
   "cell_type": "markdown",
   "source": [
    "### Load Jean-Claude Bradley double plus dataset:"
   ],
   "metadata": {
    "collapsed": false
   },
   "id": "680bb6f3843262a8"
  },
  {
   "cell_type": "code",
   "execution_count": null,
   "id": "initial_id",
   "metadata": {
    "collapsed": true
   },
   "outputs": [],
   "source": [
    "from dglchem.data import BradleyDoublePlus\n",
    "\n",
    "dataset = BradleyDoublePlus(target_string='mpC', global_features=['min', 'fun'])"
   ]
  },
  {
   "cell_type": "markdown",
   "source": [
    "### Example outputs:"
   ],
   "metadata": {
    "collapsed": false
   },
   "id": "1616bf48e437484f"
  },
  {
   "cell_type": "code",
   "execution_count": null,
   "outputs": [],
   "source": [
    "print(dataset.smiles[0:5])"
   ],
   "metadata": {
    "collapsed": false
   },
   "id": "712f9089f2e1562c"
  },
  {
   "cell_type": "code",
   "execution_count": null,
   "outputs": [],
   "source": [
    "print(dataset.data[0:5])"
   ],
   "metadata": {
    "collapsed": false
   },
   "id": "e1805985f1374687"
  },
  {
   "cell_type": "code",
   "execution_count": null,
   "outputs": [],
   "source": [
    "print(dataset.global_features[0:5])"
   ],
   "metadata": {
    "collapsed": false
   },
   "id": "656b4467910e0c08"
  },
  {
   "cell_type": "markdown",
   "source": [
    "### Analysis:"
   ],
   "metadata": {
    "collapsed": false
   },
   "id": "6a04c4c7803e241e"
  },
  {
   "cell_type": "code",
   "execution_count": null,
   "outputs": [],
   "source": [
    "%matplotlib inline\n",
    "\n",
    "results, figures = dataset.analysis(download=True, plots=['atom_type_frequency','total_num_h_frequency'], fig_size=[6,2])"
   ],
   "metadata": {
    "collapsed": false
   },
   "id": "5437924d04dac980"
  },
  {
   "cell_type": "code",
   "execution_count": null,
   "outputs": [],
   "source": [
    "results, figures = dataset.analysis(download=True, plots=['atom_type_frequency','total_num_h_fre'], fig_size=[6,2])"
   ],
   "metadata": {
    "collapsed": false
   },
   "id": "c401249f219e5c41"
  },
  {
   "cell_type": "markdown",
   "source": [
    "### Get data splits:"
   ],
   "metadata": {
    "collapsed": false
   },
   "id": "84a049270e99b664"
  },
  {
   "cell_type": "code",
   "execution_count": null,
   "outputs": [],
   "source": [
    "train, test, val = dataset.get_splits()\n",
    "\n",
    "print(train, test, val, sep='\\n')\n",
    "print(len(train), len(test), len(val), sep='\\n')\n",
    "print(train[0], train[1], sep='\\n')"
   ],
   "metadata": {
    "collapsed": false
   },
   "id": "198343ec29fb087f"
  },
  {
   "cell_type": "code",
   "execution_count": null,
   "outputs": [],
   "source": [
    "train, test, val = dataset.get_splits(split_frac=[0.5,0.25,0.25])\n",
    "\n",
    "print(train, test, val, sep='\\n')\n",
    "print(len(train), len(test), len(val), sep='\\n')"
   ],
   "metadata": {
    "collapsed": false
   },
   "id": "b065d17c0cdaf9c5"
  },
  {
   "cell_type": "code",
   "execution_count": null,
   "outputs": [],
   "source": [
    "train, test, val = dataset.get_splits(split_type='consecutive')\n",
    "\n",
    "print(train, test, val, sep='\\n')\n",
    "print(len(train), len(test), len(val), sep='\\n')\n",
    "print(train[0], train[1], sep='\\n')\n",
    "print('---------')\n",
    "print(dataset.data[0],dataset.data[1], sep='\\n')"
   ],
   "metadata": {
    "collapsed": false
   },
   "id": "106f1727e70a142a"
  },
  {
   "cell_type": "markdown",
   "source": [
    "### Save dataset:"
   ],
   "metadata": {
    "collapsed": false
   },
   "id": "f6c6508e41e68306"
  },
  {
   "cell_type": "code",
   "execution_count": null,
   "outputs": [],
   "source": [
    "dataset.save_data_set(filename='JeanClaude')"
   ],
   "metadata": {
    "collapsed": false
   },
   "id": "ab550aa953a6628c"
  },
  {
   "cell_type": "code",
   "execution_count": null,
   "outputs": [],
   "source": [],
   "metadata": {
    "collapsed": false
   },
   "id": "f3a4893ee98c38ed"
  }
 ],
 "metadata": {
  "kernelspec": {
   "display_name": "Python 3",
   "language": "python",
   "name": "python3"
  },
  "language_info": {
   "codemirror_mode": {
    "name": "ipython",
    "version": 2
   },
   "file_extension": ".py",
   "mimetype": "text/x-python",
   "name": "python",
   "nbconvert_exporter": "python",
   "pygments_lexer": "ipython2",
   "version": "2.7.6"
  }
 },
 "nbformat": 4,
 "nbformat_minor": 5
}
