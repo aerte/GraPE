{
 "cells": [
  {
   "cell_type": "code",
   "execution_count": null,
   "id": "initial_id",
   "metadata": {
    "collapsed": true
   },
   "outputs": [],
   "source": [
    "from dglchem.utils import featurizer as fe\n",
    "from dglchem.utils import featurizer_old as fo\n",
    "from rdkit import Chem\n",
    "\n",
    "mol = Chem.MolFromSmiles('COO')\n",
    "feat = fe.AtomFeaturizer()\n",
    "feat_old = fo.AtomFeaturizerOld()\n",
    "\n",
    "bond = fe.BondFeaturizer()\n",
    "bond_old = fo.BondFeaturizer()\n",
    "\n",
    "assert feat(mol) is not None \n",
    "assert bond(mol) is not None\n",
    "assert (feat(mol)[0] == feat_old(mol)['h'][0]).all()\n",
    "assert (bond(mol)[0] == bond_old(mol)['e'][0]).all()\n",
    "print('Featurizers are fine!')\n",
    "\n",
    "#%timeit feat(mol)\n",
    "#%timeit feat_old(mol)\n",
    "#%timeit bond(mol)\n",
    "#%timeit bond_old(mol)"
   ]
  },
  {
   "cell_type": "markdown",
   "source": [],
   "metadata": {
    "collapsed": false
   },
   "id": "d1beabe02110806a"
  },
  {
   "cell_type": "code",
   "execution_count": null,
   "outputs": [],
   "source": [
    "from dglchem.datasets import BradleyDoublePlus\n",
    "data = BradleyDoublePlus()\n",
    "\n",
    "assert data.get_splits('consecutive') is not None\n",
    "print('consecutive is a success')\n",
    "assert data.get_splits('random') is not None\n",
    "print('random is a success')\n",
    "assert data.get_splits('molecular_weight') is not None\n",
    "print('molecular_weight is a success')\n",
    "#assert data.get_splits('stratified') is not None\n",
    "#print('stratified is a success')"
   ],
   "metadata": {
    "collapsed": false
   },
   "id": "d43e53d0da2fea5"
  },
  {
   "cell_type": "code",
   "execution_count": null,
   "outputs": [],
   "source": [
    "from dglchem.datasets import BradleyDoublePlus\n",
    "from dglchem.utils.data_splitting import taylor_butina_clustering\n",
    "data = BradleyDoublePlus()\n",
    "\n",
    "clusters = taylor_butina_clustering(data)"
   ],
   "metadata": {
    "collapsed": false
   },
   "id": "d9d20e2240833345"
  },
  {
   "cell_type": "code",
   "execution_count": null,
   "outputs": [],
   "source": [
    "from dglchem.datasets import BradleyDoublePlus\n",
    "data = BradleyDoublePlus()\n",
    "\n",
    "data.weight_vs_target_plot()"
   ],
   "metadata": {
    "collapsed": false
   },
   "id": "d68757835fc3f4d"
  },
  {
   "cell_type": "code",
   "execution_count": null,
   "outputs": [],
   "source": [
    "import torch\n",
    "import torch.nn.functional as F\n",
    "from dglchem.datasets import BradleyDoublePlus\n",
    "from dglchem.utils import DataSet\n",
    "from dglchem.models import MGConv\n",
    "from torch_geometric.loader import DataLoader\n",
    "\n",
    "dataset = DataSet(file_path='./data/processed/BradleyDoublePlus.pickle')\n",
    "#dataset.draw_smile(0).show()\n",
    "\n",
    "device = torch.device('cuda' if torch.cuda.is_available() else 'cpu')\n",
    "\n",
    "data = dataset[0].to(device)\n",
    "\n",
    "model = MGConv(num_layers=2, node_dim=data.num_node_features, edge_dim=data.num_edge_features).to(device)\n",
    "\n",
    "optimizer = torch.optim.Adam(model.parameters(), lr=0.01, weight_decay=5e-4)\n",
    "\n",
    "model.train()\n",
    "for epoch in range(200):\n",
    "    optimizer.zero_grad()\n",
    "    out = model(data)\n",
    "    loss = F.mse_loss(out, data.y)\n",
    "    print(loss.detach().numpy())\n",
    "    loss.backward()\n",
    "    optimizer.step()"
   ],
   "metadata": {
    "collapsed": false
   },
   "id": "6f98f441ccda6493"
  },
  {
   "cell_type": "code",
   "execution_count": null,
   "outputs": [],
   "source": [
    "from dglchem.utils import DataSet"
   ],
   "metadata": {
    "collapsed": false
   },
   "id": "eb418ef56e28ca23"
  },
  {
   "cell_type": "code",
   "execution_count": null,
   "outputs": [],
   "source": [
    "from torch import Tensor, cat\n",
    "y = Tensor([1,0,1,1])\n",
    "x = Tensor([0,1,2,3])\n",
    "\n",
    "print(cat((x,y)))"
   ],
   "metadata": {
    "collapsed": false
   },
   "id": "79d85775015a83d9"
  },
  {
   "cell_type": "code",
   "execution_count": null,
   "outputs": [],
   "source": [
    "%matplotlib inline\n",
    "from dglchem.datasets import BradleyDoublePlus\n",
    "dataset = BradleyDoublePlus()\n",
    "\n",
    "from dglchem.utils import classify_compounds\n",
    "_, num_dict = classify_compounds(dataset.smiles)\n",
    "l = 0\n",
    "for key in num_dict.keys():\n",
    "    l+=num_dict[key]\n",
    "print(f'Dataset length: {len(dataset.smiles)}', f'Dictionary length: {l}', sep='\\n')\n",
    "    \n",
    "\n",
    "from dglchem.utils import compound_nums_chart\n",
    "compound_nums_chart(dataset.smiles, save_fig=True)\n"
   ],
   "metadata": {
    "collapsed": false
   },
   "id": "224063445f4a743b"
  },
  {
   "cell_type": "code",
   "execution_count": null,
   "outputs": [],
   "source": [
    "from rdkit.Chem import MolFromSmiles\n",
    "\n",
    "def add_atom_mass_above_30(atom):\n",
    "            if atom.GetMass() > 15:\n",
    "                return [True]\n",
    "            else:\n",
    "                return [False]\n",
    "\n",
    "\n",
    "from dglchem.utils import AtomFeaturizer\n",
    "featurizer = AtomFeaturizer(atom_feature_list = ['atom_type_one_hot'])\n",
    "featurizer_raw = AtomFeaturizer(atom_feature_list = ['atom_type_one_hot'])\n",
    "featurizer.extend_features(['garbo'],[add_atom_mass_above_30])\n",
    "\n",
    "print(featurizer(MolFromSmiles('COO')))\n",
    "print(featurizer_raw(MolFromSmiles('COO')))\n",
    "print(featurizer.atom_feature_list)"
   ],
   "metadata": {
    "collapsed": false
   },
   "id": "1f455343e4abad35"
  },
  {
   "cell_type": "code",
   "execution_count": null,
   "outputs": [],
   "source": [
    "from dglchem.datasets import BradleyDoublePlus, LogP\n",
    "from dglchem.utils import compounds_dataset_heatmap\n",
    "\n",
    "smiles1 = BradleyDoublePlus().smiles\n",
    "smiles2 = LogP().smiles\n",
    "compounds_dataset_heatmap([smiles1,smiles2],['BDP','LogP'],save_fig=True)"
   ],
   "metadata": {
    "collapsed": false
   },
   "id": "9902648e440ffe7d"
  },
  {
   "cell_type": "code",
   "execution_count": null,
   "outputs": [],
   "source": [
    "import numpy as np\n",
    "from dglchem.utils import loss_plot\n",
    "from dglchem.utils import GraphDataSet\n",
    "from dglchem.utils import train_model\n",
    "from dglchem.models import MGConv\n",
    "import torch.nn.functional as F\n",
    "import torch\n",
    "\n",
    "device = torch.device('cpu')\n",
    "graph_data = GraphDataSet(file_path='./data/processed/BradleyDoublePlus.pickle',split=True)\n",
    "model = MGConv(num_layers=2, node_dim=graph_data.num_node_features, edge_dim=graph_data.num_edge_features).to(device)\n",
    "optimizer = torch.optim.Adam(model.parameters(), lr=0.01, weight_decay=5e-4)\n",
    "loss = F.mse_loss\n",
    "\n",
    "trl, tl = train_model(model, loss_func=loss, optimizer=optimizer, train_data_loader=graph_data.train,\n",
    "                      test_data_loader=graph_data.test, early_stopping=False)\n",
    "\n",
    "\n",
    "\n",
    "loss_plot([trl,tl],['train loss','test loss'])"
   ],
   "metadata": {
    "collapsed": false
   },
   "id": "60a1829b7a11310c"
  },
  {
   "cell_type": "code",
   "execution_count": null,
   "outputs": [],
   "source": [
    "import numpy as np\n",
    "from dglchem.utils import loss_plot\n",
    "from dglchem.utils import GraphDataSet\n",
    "from dglchem.utils import train_model\n",
    "from dglchem.models import MPNNModel\n",
    "import torch.nn.functional as F\n",
    "import torch\n",
    "\n",
    "device = torch.device('cpu')\n",
    "graph_data = GraphDataSet(file_path='./data/processed/BradleyDoublePlus.pickle',split=True)\n",
    "x = graph_data.train[0]\n",
    "model = MPNNModel(node_dim=graph_data.num_node_features, edge_dim=graph_data.num_edge_features,\n",
    "             num_layers=5, node_hidden_dim=64).to(device)\n",
    "model(x)"
   ],
   "metadata": {
    "collapsed": false
   },
   "id": "9699a53bcb50dc3a"
  },
  {
   "cell_type": "code",
   "execution_count": null,
   "outputs": [],
   "source": [
    "from dglchem.datasets import BradleyDoublePlus\n",
    "data = BradleyDoublePlus()\n",
    "data.draw_smile(2)"
   ],
   "metadata": {
    "collapsed": false
   },
   "id": "ad93a914d6d32b11"
  },
  {
   "cell_type": "code",
   "execution_count": null,
   "outputs": [],
   "source": [
    "from dglchem.datasets import BradleyDoublePlus\n",
    "data = BradleyDoublePlus()\n",
    "data.save_dataset()"
   ],
   "metadata": {
    "collapsed": false
   },
   "id": "b06fb317ccea6de"
  },
  {
   "cell_type": "code",
   "execution_count": null,
   "outputs": [],
   "source": [
    "from dglchem.datasets import LogP\n",
    "data = LogP()\n",
    "data.save_dataset()"
   ],
   "metadata": {
    "collapsed": false
   },
   "id": "c395a2a8f523d3c0"
  },
  {
   "cell_type": "code",
   "execution_count": null,
   "outputs": [],
   "source": [
    "from dglchem.utils import DataSet\n",
    "from dglchem.datasets import BradleyDoublePlus\n",
    "#data = DataSet(file_path='./data/processed/BradleyDoublePlus.pickle')\n",
    "%timeit data = DataSet(file_path='./data/processed/BradleyDoublePlus.pickle')\n",
    "%timeit data = BradleyDoublePlus()"
   ],
   "metadata": {
    "collapsed": false
   },
   "id": "a04b51cc010301ab"
  },
  {
   "cell_type": "code",
   "execution_count": null,
   "outputs": [],
   "source": [
    "from dglchem.datasets import LogP\n",
    "from dglchem.utils import DataSet\n",
    "%timeit data = DataSet(file_path='./data/processed/LogP.pickle')\n",
    "%timeit data = LogP()"
   ],
   "metadata": {
    "collapsed": false
   },
   "id": "adb1d6c18a4bb664"
  },
  {
   "cell_type": "code",
   "execution_count": 9,
   "outputs": [
    {
     "name": "stdout",
     "output_type": "stream",
     "text": [
      "['CC(Cl)Cl', 'CC(CO)(CO)[N+](=O)[O-]', 'Clc1cccs1', 'CCCOC(=O)CC', 'C=C(C)OC(C)=O']\n"
     ]
    }
   ],
   "source": [
    "from dglchem.datasets import BradleyDoublePlus\n",
    "import pandas as pd\n",
    "from rdkit.Chem import SmilesWriter, MolFromSmiles, MolToSmiles\n",
    "\n",
    "data = BradleyDoublePlus()\n",
    "data.get_mol()[:5]\n",
    "print(data.smiles[10:15])"
   ],
   "metadata": {
    "collapsed": false,
    "ExecuteTime": {
     "end_time": "2024-03-13T12:31:45.398928Z",
     "start_time": "2024-03-13T12:31:42.099859Z"
    }
   },
   "id": "685494ee8677e6b4"
  },
  {
   "cell_type": "code",
   "execution_count": 14,
   "outputs": [
    {
     "name": "stdout",
     "output_type": "stream",
     "text": [
      "torch.Size([762, 12])\n",
      "torch.Size([976, 12])\n",
      "torch.Size([762, 12])\n",
      "torch.Size([722, 12])\n",
      "torch.Size([876, 12])\n",
      "torch.Size([886, 12])\n",
      "torch.Size([750, 12])\n",
      "torch.Size([780, 12])\n",
      "torch.Size([772, 12])\n",
      "torch.Size([776, 12])\n",
      "torch.Size([706, 12])\n",
      "torch.Size([932, 12])\n",
      "torch.Size([758, 12])\n",
      "torch.Size([794, 12])\n",
      "torch.Size([640, 12])\n",
      "torch.Size([768, 12])\n",
      "torch.Size([824, 12])\n",
      "torch.Size([886, 12])\n",
      "torch.Size([730, 12])\n",
      "torch.Size([832, 12])\n",
      "torch.Size([674, 12])\n",
      "torch.Size([826, 12])\n",
      "torch.Size([828, 12])\n",
      "torch.Size([804, 12])\n",
      "torch.Size([640, 12])\n",
      "torch.Size([656, 12])\n",
      "torch.Size([708, 12])\n",
      "torch.Size([750, 12])\n",
      "torch.Size([846, 12])\n",
      "torch.Size([756, 12])\n",
      "torch.Size([730, 12])\n",
      "torch.Size([718, 12])\n",
      "torch.Size([868, 12])\n",
      "torch.Size([730, 12])\n",
      "torch.Size([790, 12])\n",
      "torch.Size([694, 12])\n",
      "torch.Size([772, 12])\n",
      "torch.Size([714, 12])\n",
      "torch.Size([762, 12])\n",
      "torch.Size([714, 12])\n",
      "torch.Size([596, 12])\n",
      "torch.Size([770, 12])\n",
      "torch.Size([840, 12])\n",
      "torch.Size([842, 12])\n",
      "torch.Size([684, 12])\n",
      "torch.Size([728, 12])\n",
      "torch.Size([710, 12])\n",
      "torch.Size([734, 12])\n",
      "torch.Size([798, 12])\n",
      "torch.Size([814, 12])\n",
      "torch.Size([750, 12])\n",
      "torch.Size([800, 12])\n",
      "torch.Size([716, 12])\n",
      "torch.Size([752, 12])\n",
      "torch.Size([700, 12])\n",
      "torch.Size([838, 12])\n",
      "torch.Size([652, 12])\n",
      "torch.Size([774, 12])\n",
      "torch.Size([794, 12])\n",
      "torch.Size([756, 12])\n",
      "torch.Size([780, 12])\n",
      "torch.Size([808, 12])\n",
      "torch.Size([878, 12])\n",
      "torch.Size([750, 12])\n",
      "torch.Size([832, 12])\n",
      "torch.Size([756, 12])\n",
      "torch.Size([762, 12])\n",
      "torch.Size([836, 12])\n",
      "torch.Size([736, 12])\n",
      "torch.Size([748, 12])\n",
      "torch.Size([648, 12])\n",
      "torch.Size([678, 12])\n",
      "torch.Size([728, 12])\n",
      "torch.Size([856, 12])\n",
      "torch.Size([798, 12])\n"
     ]
    }
   ],
   "source": [
    "from dglchem.datasets import BradleyDoublePlus\n",
    "from torch_geometric.loader import DataLoader\n",
    "data = BradleyDoublePlus()\n",
    "\n",
    "train, _, _ = data.get_splits()\n",
    "train_loader = DataLoader(train, batch_size=32)\n",
    "for batch in train_loader:\n",
    "    print(batch.edge_attr.shape)"
   ],
   "metadata": {
    "collapsed": false,
    "ExecuteTime": {
     "end_time": "2024-03-13T13:46:28.344302Z",
     "start_time": "2024-03-13T13:46:26.206519Z"
    }
   },
   "id": "96d9aa6650a7c0fb"
  },
  {
   "cell_type": "code",
   "execution_count": 1,
   "outputs": [
    {
     "name": "stdout",
     "output_type": "stream",
     "text": [
      "no class name in the first layer\n",
      "no class name in the first layer\n",
      "no class name in the first layer\n",
      "no class name in the first layer\n",
      "{'Alkyl halides': 6, 'Fatty Acyls': 13, 'Organobromides': 12, 'Organic carbonic acids and derivatives': 1, 'Naphthalenes': 2, 'Halohydrins': 4, 'Vinyl halides': 5, 'Benzene and substituted derivatives': 15, 'Carboxylic acids and derivatives': 16, 'Organooxygen compounds': 8, 'Homogeneous halogens': 1, 'Cinnamic acids and derivatives': 2, 'Acyl halides': 2, 'Organonitrogen compounds': 2, 'Triphenyl compounds': 1, 'Keto acids and derivatives': 1, 'Phenols': 2, 'Allyl-type 1,3-dipolar organic compounds': 1, 'Organochlorides': 2}\n"
     ]
    }
   ],
   "source": [
    "import json\n",
    "import os\n",
    "classes  = dict()\n",
    "path = 'classyfire'\n",
    "for file in os.listdir(path):\n",
    "    file_path = os.path.join(path,file)\n",
    "    try:\n",
    "        class_name = json.load(open(file_path))['class']['name']\n",
    "        if class_name in classes.keys():\n",
    "            classes[class_name] += 1\n",
    "        else:\n",
    "            classes[class_name] = 1\n",
    "    except:\n",
    "        print('no class name in the first layer')\n"
   ],
   "metadata": {
    "collapsed": false,
    "ExecuteTime": {
     "end_time": "2024-03-13T15:31:24.281164Z",
     "start_time": "2024-03-13T15:31:24.265559Z"
    }
   },
   "id": "a1608091c3e89c52"
  },
  {
   "cell_type": "code",
   "execution_count": 5,
   "outputs": [
    {
     "name": "stdout",
     "output_type": "stream",
     "text": [
      "{'_id': 'GDTBXPJZTBHREO-UHFFFAOYSA-N', 'alternative_parents': [], 'ancestors': ['Chemical entities', 'Homogeneous halogens', 'Homogeneous non-metal compounds', 'Inorganic compounds'], 'class': {'chemont_id': 'CHEMONTID:0000432', 'description': 'Inorganic non-metallic compounds in which the largest atom is a nobel gas.', 'name': 'Homogeneous halogens', 'url': 'http://classyfire.wishartlab.com/tax_nodes/C0000432'}, 'classification_version': '2.1', 'description': 'This compound belongs to the class of inorganic compounds known as homogeneous halogens. These are inorganic non-metallic compounds in which the largest atom is a nobel gas.', 'direct_parent': {'chemont_id': 'CHEMONTID:0000432', 'description': 'Inorganic non-metallic compounds in which the largest atom is a nobel gas.', 'name': 'Homogeneous halogens', 'url': 'http://classyfire.wishartlab.com/tax_nodes/C0000432'}, 'external_descriptors': [{'annotations': ['diatomic bromine'], 'source': 'CHEBI', 'source_id': 'CHEBI:29224'}], 'inchikey': 'InChIKey=GDTBXPJZTBHREO-UHFFFAOYSA-N', 'intermediate_nodes': [], 'kingdom': {'chemont_id': 'CHEMONTID:0000001', 'description': 'Compounds that do not contain a C atom. Exceptions are made for isocyanide/cyanide and their non-hydrocarbyl derivatives, thiophosgene, carbon diselenide, carbon monosulfide, carbon disulfide, carbon subsulfide, carbon monoxide, carbon trioxide, carbon suboxide, and dicarbon monoxide.', 'name': 'Inorganic compounds', 'url': 'http://classyfire.wishartlab.com/tax_nodes/C0000001'}, 'molecular_framework': None, 'predicted_chebi_terms': ['halogen molecular entity (CHEBI:24471)', 'chemical entity (CHEBI:24431)', 'inorganic molecular entity (CHEBI:24835)'], 'predicted_lipidmaps_terms': [], 'smiles': 'BrBr', 'subclass': None, 'substituents': ['Homogeneous halogen'], 'superclass': {'chemont_id': 'CHEMONTID:0000423', 'description': 'Inorganic compounds that contain only metal elements.', 'name': 'Homogeneous non-metal compounds', 'url': 'http://classyfire.wishartlab.com/tax_nodes/C0000423'}}\n"
     ]
    }
   ],
   "source": [
    "import json\n",
    "print(json.load(open('classyfire/0.json')))"
   ],
   "metadata": {
    "collapsed": false,
    "ExecuteTime": {
     "end_time": "2024-03-14T10:20:38.380245Z",
     "start_time": "2024-03-14T10:20:38.369699Z"
    }
   },
   "id": "ff2b7a9dba56ea3"
  },
  {
   "cell_type": "code",
   "execution_count": 1,
   "outputs": [
    {
     "name": "stdout",
     "output_type": "stream",
     "text": [
      "no class name in the first layer for file 41.json\n",
      "no class name in the first layer for file 40.json\n",
      "no class name in the first layer for file 47.json\n",
      "no class name in the first layer for file 43.json\n"
     ]
    },
    {
     "data": {
      "text/plain": "<Figure size 1400x800 with 1 Axes>",
      "image/png": "[encoded data removed]"
     },
     "metadata": {},
     "output_type": "display_data"
    }
   ],
   "source": [
    "from dglchem.utils import num_chart\n",
    "import json\n",
    "import os\n",
    "classes  = dict()\n",
    "path = 'classyfire'\n",
    "for file in os.listdir(path):\n",
    "    file_path = os.path.join(path,file)\n",
    "    try:\n",
    "        class_name = json.load(open(file_path))['class']['name']\n",
    "        if class_name in classes.keys():\n",
    "            classes[class_name] += 1\n",
    "        else:\n",
    "            classes[class_name] = 1\n",
    "    except:\n",
    "        print(f'no class name in the first layer for file {file}')\n",
    "num_chart(num_dict = classes, save_fig=True)"
   ],
   "metadata": {
    "collapsed": false,
    "ExecuteTime": {
     "end_time": "2024-03-14T14:48:20.208878Z",
     "start_time": "2024-03-14T14:48:16.829373Z"
    }
   },
   "id": "8a0954c85d44c126"
  },
  {
   "cell_type": "code",
   "execution_count": 1,
   "outputs": [
    {
     "name": "stdout",
     "output_type": "stream",
     "text": [
      "0, 9\n",
      "1, 8\n",
      "2, 7\n",
      "3, 6\n"
     ]
    }
   ],
   "source": [
    "for i, idx in enumerate([9,8,7,6]):\n",
    "    print(i, idx, sep=', ')"
   ],
   "metadata": {
    "collapsed": false,
    "ExecuteTime": {
     "end_time": "2024-03-13T18:45:11.760436Z",
     "start_time": "2024-03-13T18:45:11.754358Z"
    }
   },
   "id": "ded3b503a6328151"
  },
  {
   "cell_type": "code",
   "execution_count": 1,
   "outputs": [
    {
     "name": "stderr",
     "output_type": "stream",
     "text": [
      "100%|██████████| 1/1 [00:02<00:00,  2.72s/it]\n"
     ]
    },
    {
     "data": {
      "text/plain": "[0]"
     },
     "execution_count": 1,
     "metadata": {},
     "output_type": "execute_result"
    }
   ],
   "source": [],
   "metadata": {
    "collapsed": false,
    "ExecuteTime": {
     "end_time": "2024-03-14T14:41:12.820903Z",
     "start_time": "2024-03-14T14:41:07.112754Z"
    }
   },
   "id": "eb26129edbf0df4"
  },
  {
   "cell_type": "code",
   "execution_count": 1,
   "outputs": [
    {
     "name": "stdout",
     "output_type": "stream",
     "text": [
      "Loaded dataset.\n",
      "Loaded existing log_file. Here is the data head:\n",
      "  filename              smiles\n",
      "0   0.json            CC(C)CCO\n",
      "1   1.json  COC(=O)c1ccc(I)cc1\n",
      "2   3.json               C=CCN\n",
      "CC(C)CCO\n",
      "check true\n",
      "COC(=O)c1ccc(I)cc1\n",
      "check true\n",
      "N#CC=CC#N\n",
      "C=CCN\n",
      "check true\n"
     ]
    },
    {
     "name": "stderr",
     "output_type": "stream",
     "text": [
      "  0%|          | 0/1 [00:00<?, ?it/s]"
     ]
    },
    {
     "name": "stdout",
     "output_type": "stream",
     "text": [
      "KYPOHTVBFVELTG-UHFFFAOYSA-N\n",
      "Failure to retrieve information for SMILE at index 2\n"
     ]
    },
    {
     "name": "stderr",
     "output_type": "stream",
     "text": [
      "100%|██████████| 1/1 [00:01<00:00,  1.47s/it]"
     ]
    },
    {
     "name": "stdout",
     "output_type": "stream",
     "text": [
      "Some InChikeys were not available. Please check \"Missing_ichikeys.txt\" file.\n"
     ]
    },
    {
     "name": "stderr",
     "output_type": "stream",
     "text": [
      "\n"
     ]
    }
   ],
   "source": [
    "from dglchem.utils import classyfire\n",
    "from dglchem.utils import DataSet\n",
    "\n",
    "data = DataSet(file_path='./data/processed/BradleyDoublePlus.pickle')\n",
    "indices = classyfire(data.smiles[178:182], existing_log_file='analysis_results/recorded_SMILES.csv')"
   ],
   "metadata": {
    "collapsed": false,
    "ExecuteTime": {
     "end_time": "2024-03-19T19:40:08.180128Z",
     "start_time": "2024-03-19T19:40:03.785225Z"
    }
   },
   "id": "52a5e07477570b79"
  },
  {
   "cell_type": "code",
   "execution_count": 1,
   "outputs": [
    {
     "name": "stdout",
     "output_type": "stream",
     "text": [
      "SMILES [O-][N+]#N in index 1 does not contain at least one carbon and will be ignored.\n",
      "SMILES FS(F)(=O)=O in index 2 does not contain at least one carbon and will be ignored.\n",
      "SMILES BrBr in index 4 does not contain at least one carbon and will be ignored.\n",
      "SMILES II in index 8 does not contain at least one carbon and will be ignored.\n",
      "SMILES ClS(Cl)(=O)=O in index 79 does not contain at least one carbon and will be ignored.\n",
      "SMILES B(OCC)(OCC)OCC in index 144 contains the atom B that is not permitted and will be ignored.\n",
      "SMILES c1cccn1 in index 308 is not valid.\n",
      "SMILES N#Cc3cncc3c1cccc2OC(F)(F)Oc12 in index 370 is not valid.\n",
      "SMILES CC[Si](CC)(CC)CC in index 519 contains the atom Si that is not permitted and will be ignored.\n",
      "SMILES CC[Si](CC)(Cl)Cl in index 541 contains the atom Si that is not permitted and will be ignored.\n",
      "SMILES [SiH](Cl)(Cl)Cl in index 565 contains the atom Si that is not permitted and will be ignored.\n",
      "SMILES [SiH](Cl)(Cl)Cl in index 565 does not contain at least one carbon and will be ignored.\n",
      "SMILES c1ccc(cc1)[Si](c2ccccc2)(c3ccccc3)c4ccccc4 in index 592 contains the atom Si that is not permitted and will be ignored.\n",
      "SMILES c1ccc(cc1)[Si]2(O[Si](O[Si](O[Si](O2)(c3ccccc3)c4ccccc4)(c5ccccc5)c6ccccc6)(c7ccccc7)c8ccccc8)c9ccccc9 in index 605 contains the atom Si that is not permitted and will be ignored.\n",
      "SMILES c1ccc(cc1)[Si]2(O[Si](O[Si](O[Si](O2)(c3ccccc3)c4ccccc4)(c5ccccc5)c6ccccc6)(c7ccccc7)c8ccccc8)c9ccccc9 in index 605 contains the atom Si that is not permitted and will be ignored.\n",
      "SMILES c1ccc(cc1)[Si]2(O[Si](O[Si](O[Si](O2)(c3ccccc3)c4ccccc4)(c5ccccc5)c6ccccc6)(c7ccccc7)c8ccccc8)c9ccccc9 in index 605 contains the atom Si that is not permitted and will be ignored.\n",
      "SMILES c1ccc(cc1)[Si]2(O[Si](O[Si](O[Si](O2)(c3ccccc3)c4ccccc4)(c5ccccc5)c6ccccc6)(c7ccccc7)c8ccccc8)c9ccccc9 in index 605 contains the atom Si that is not permitted and will be ignored.\n",
      "SMILES C[Si]1(O[Si](O[Si](O[Si](O1)(C)C=C)(C)C=C)(C)C=C)C=C in index 626 contains the atom Si that is not permitted and will be ignored.\n",
      "SMILES C[Si]1(O[Si](O[Si](O[Si](O1)(C)C=C)(C)C=C)(C)C=C)C=C in index 626 contains the atom Si that is not permitted and will be ignored.\n",
      "SMILES C[Si]1(O[Si](O[Si](O[Si](O1)(C)C=C)(C)C=C)(C)C=C)C=C in index 626 contains the atom Si that is not permitted and will be ignored.\n",
      "SMILES C[Si]1(O[Si](O[Si](O[Si](O1)(C)C=C)(C)C=C)(C)C=C)C=C in index 626 contains the atom Si that is not permitted and will be ignored.\n",
      "SMILES COc1cc(cc(OC)c1OC)/C=C/C(=O)O[C@@H]3C[C@@H]4CN5CCc2c6ccc(OC)cc6nc2[C@H]5C[C@@H]4[C@@H]([C@H]3OC)C(=O)OC in index 662 is not valid.\n",
      "SMILES c1cncn1 in index 697 is not valid.\n",
      "SMILES c1cccc2nccc12 in index 698 is not valid.\n",
      "SMILES Cc1cc2nnnc2cc1 in index 728 is not valid.\n",
      "SMILES C[Si]1(C)O[Si](C)(C)O[Si](C)(C)O[Si](C)(C)O1 in index 734 contains the atom Si that is not permitted and will be ignored.\n",
      "SMILES C[Si]1(C)O[Si](C)(C)O[Si](C)(C)O[Si](C)(C)O1 in index 734 contains the atom Si that is not permitted and will be ignored.\n",
      "SMILES C[Si]1(C)O[Si](C)(C)O[Si](C)(C)O[Si](C)(C)O1 in index 734 contains the atom Si that is not permitted and will be ignored.\n",
      "SMILES C[Si]1(C)O[Si](C)(C)O[Si](C)(C)O[Si](C)(C)O1 in index 734 contains the atom Si that is not permitted and will be ignored.\n",
      "SMILES C in index 819 consists of less than 2 heavy atoms and will be ignored.\n",
      "SMILES c1ccc(cc1)[SiH](c2ccccc2)c3ccccc3 in index 842 contains the atom Si that is not permitted and will be ignored.\n",
      "SMILES Br in index 903 consists of less than 2 heavy atoms and will be ignored.\n",
      "SMILES O=S=O in index 905 does not contain at least one carbon and will be ignored.\n",
      "SMILES O=C(OC)[C@@]2(C[C@H]4C[C@@](O)(CC)C[N@@](CCc1c3ccccc3nc12)C4)c5cc9c(cc5OC)N(C=O)[C@@H]6[C@]98CCN7CC=C[C@@](CC)([C@@H](OC(C)=O)[C@]6(O)C(=O)OC)[C@H]78 in index 933 is not valid.\n",
      "SMILES C[Si](C)(C)C in index 935 contains the atom Si that is not permitted and will be ignored.\n",
      "SMILES [O-][N+](=O)c1ccc2ncnc2c1 in index 1305 is not valid.\n",
      "SMILES [O-][N+](=O)c1cnc(C)n1 in index 1364 is not valid.\n",
      "SMILES ClS(Cl)=O in index 1384 does not contain at least one carbon and will be ignored.\n",
      "SMILES C[Si]1(N[Si](N[Si](N[Si](N1)(C)C)(C)C)(C)C)C in index 1732 contains the atom Si that is not permitted and will be ignored.\n",
      "SMILES C[Si]1(N[Si](N[Si](N[Si](N1)(C)C)(C)C)(C)C)C in index 1732 contains the atom Si that is not permitted and will be ignored.\n",
      "SMILES C[Si]1(N[Si](N[Si](N[Si](N1)(C)C)(C)C)(C)C)C in index 1732 contains the atom Si that is not permitted and will be ignored.\n",
      "SMILES C[Si]1(N[Si](N[Si](N[Si](N1)(C)C)(C)C)(C)C)C in index 1732 contains the atom Si that is not permitted and will be ignored.\n",
      "SMILES C[Si](C)(C)[Si](C)(C)C in index 1750 contains the atom Si that is not permitted and will be ignored.\n",
      "SMILES C[Si](C)(C)[Si](C)(C)C in index 1750 contains the atom Si that is not permitted and will be ignored.\n",
      "SMILES c1cccc2ncnc12 in index 1820 is not valid.\n",
      "SMILES B(c1ccccc1)(O)O in index 1983 contains the atom B that is not permitted and will be ignored.\n",
      "SMILES CC[SiH2]CC in index 2256 contains the atom Si that is not permitted and will be ignored.\n",
      "SMILES c1ccc(cc1)[Si](c2ccccc2)(c3ccccc3)Cl in index 2268 contains the atom Si that is not permitted and will be ignored.\n",
      "SMILES CC(=O)O[Si](C)(OC(=O)C)OC(=O)C in index 2316 contains the atom Si that is not permitted and will be ignored.\n",
      "SMILES C[Si](c1ccccc1)(c2ccccc2)c3ccccc3 in index 2325 contains the atom Si that is not permitted and will be ignored.\n",
      "SMILES Cc2cnc1ccccc12 in index 2335 is not valid.\n",
      "SMILES c1ccc(cc1)[Si](c2ccccc2)(c3ccccc3)O in index 2390 contains the atom Si that is not permitted and will be ignored.\n",
      "SMILES c1cccc2nnnc12 in index 2516 is not valid.\n",
      "SMILES B(c1ccccc1C)(O)O in index 2674 contains the atom B that is not permitted and will be ignored.\n",
      "SMILES CCO[Si](OCC)(OCC)OCC in index 2681 contains the atom Si that is not permitted and will be ignored.\n",
      "SMILES n2cnc(NCc1ccccc1)c3ncnc23 in index 2686 is not valid.\n",
      "SMILES B(c1ccccc1)(c2ccccc2)OCCN in index 2741 contains the atom B that is not permitted and will be ignored.\n",
      "SMILES C[Si](C)(C)C#C[Si](C)(C)C in index 2775 contains the atom Si that is not permitted and will be ignored.\n",
      "SMILES C[Si](C)(C)C#C[Si](C)(C)C in index 2775 contains the atom Si that is not permitted and will be ignored.\n",
      "SMILES n1c3ccccc3nc1c2cscn2 in index 2916 is not valid.\n",
      "SMILES COB(OC)OC in index 2935 contains the atom B that is not permitted and will be ignored.\n",
      "SMILES N[C@@H](Cc1cncn1)C(=O)O in index 2944 is not valid.\n",
      "SMILES C[Si]1(C)O[Si](C)(C)O[Si](C)(C)O1 in index 3008 contains the atom Si that is not permitted and will be ignored.\n",
      "SMILES C[Si]1(C)O[Si](C)(C)O[Si](C)(C)O1 in index 3008 contains the atom Si that is not permitted and will be ignored.\n",
      "SMILES C[Si]1(C)O[Si](C)(C)O[Si](C)(C)O1 in index 3008 contains the atom Si that is not permitted and will be ignored.\n",
      "SMILES Sc1nc2ccccc2n1 in index 3018 is not valid.\n",
      "File saved at: ./data/processed/BradleyDoubleGood.pickle\n"
     ]
    }
   ],
   "source": [
    "from dglchem.datasets import BradleyDoublePlus\n",
    "data = BradleyDoublePlus(only_organic=True, log=True)\n",
    "data.save_dataset('BradleyDoubleGood')"
   ],
   "metadata": {
    "collapsed": false,
    "ExecuteTime": {
     "end_time": "2024-03-19T19:39:27.314974Z",
     "start_time": "2024-03-19T19:39:21.789734Z"
    }
   },
   "id": "b11ae686b948c134"
  },
  {
   "cell_type": "code",
   "execution_count": 1,
   "outputs": [
    {
     "name": "stdout",
     "output_type": "stream",
     "text": [
      "Loaded dataset.\n",
      "Data(x=[5, 42], edge_index=[2, 10], edge_attr=[10, 12], y=[1])\n",
      "tensor([[0, 1, 1, 1, 2, 2, 3, 3, 4, 4],\n",
      "        [1, 0, 2, 4, 1, 3, 2, 4, 1, 3]])\n",
      "init\n",
      "x shape:  torch.Size([5, 42])\n",
      "message\n",
      "----------\n",
      "current node: tensor([[1., 0., 0., 0., 0., 0., 0., 0., 0., 0., 0., 0., 1., 0., 0., 0., 0., 0.,\n",
      "         1., 0., 0., 0., 1., 0., 0., 0., 0., 0., 0., 0., 1., 0., 0., 0., 0., 0.,\n",
      "         0., 1., 0., 0., 0., 0.],\n",
      "        [1., 0., 0., 0., 0., 0., 0., 0., 0., 0., 1., 0., 0., 0., 0., 0., 0., 0.,\n",
      "         1., 0., 0., 0., 0., 0., 1., 0., 0., 0., 0., 0., 1., 0., 0., 0., 0., 0.,\n",
      "         0., 1., 0., 0., 0., 0.],\n",
      "        [1., 0., 0., 0., 0., 0., 0., 0., 0., 0., 0., 1., 0., 0., 0., 0., 0., 0.,\n",
      "         1., 0., 0., 0., 0., 1., 0., 0., 0., 0., 0., 0., 1., 0., 0., 0., 0., 0.,\n",
      "         0., 1., 0., 0., 0., 0.],\n",
      "        [1., 0., 0., 0., 0., 0., 0., 0., 0., 0., 0., 1., 0., 0., 0., 0., 0., 0.,\n",
      "         1., 0., 0., 0., 0., 1., 0., 0., 0., 0., 0., 0., 1., 0., 0., 0., 0., 0.,\n",
      "         0., 1., 0., 0., 0., 0.],\n",
      "        [1., 0., 0., 0., 0., 0., 0., 0., 0., 0., 0., 1., 0., 0., 0., 0., 0., 0.,\n",
      "         1., 0., 0., 0., 0., 1., 0., 0., 0., 0., 0., 0., 1., 0., 0., 0., 0., 0.,\n",
      "         0., 1., 0., 0., 0., 0.]])\n",
      "current node shape: torch.Size([5, 42])\n"
     ]
    },
    {
     "ename": "RuntimeError",
     "evalue": "Expected index [10] to be smaller than self [5] apart from dimension 0 and to be smaller size than src [5]",
     "output_type": "error",
     "traceback": [
      "\u001B[0;31m---------------------------------------------------------------------------\u001B[0m",
      "\u001B[0;31mRuntimeError\u001B[0m                              Traceback (most recent call last)",
      "Cell \u001B[0;32mIn[1], line 9\u001B[0m\n\u001B[1;32m      7\u001B[0m \u001B[38;5;28;01mfrom\u001B[39;00m \u001B[38;5;21;01mdglchem\u001B[39;00m\u001B[38;5;21;01m.\u001B[39;00m\u001B[38;5;21;01mmodels\u001B[39;00m\u001B[38;5;21;01m.\u001B[39;00m\u001B[38;5;21;01mlayers\u001B[39;00m \u001B[38;5;28;01mimport\u001B[39;00m DMPNN_t\n\u001B[1;32m      8\u001B[0m layer \u001B[38;5;241m=\u001B[39m DMPNN_t(node_in_feats\u001B[38;5;241m=\u001B[39m\u001B[38;5;28mlen\u001B[39m(data\u001B[38;5;241m.\u001B[39medge_attr))\n\u001B[0;32m----> 9\u001B[0m \u001B[43mlayer\u001B[49m\u001B[43m(\u001B[49m\u001B[43mdata\u001B[49m\u001B[38;5;241;43m.\u001B[39;49m\u001B[43mx\u001B[49m\u001B[43m,\u001B[49m\u001B[43m \u001B[49m\u001B[43mdata\u001B[49m\u001B[38;5;241;43m.\u001B[39;49m\u001B[43medge_index\u001B[49m\u001B[43m,\u001B[49m\u001B[43m \u001B[49m\u001B[43mdata\u001B[49m\u001B[38;5;241;43m.\u001B[39;49m\u001B[43medge_attr\u001B[49m\u001B[43m)\u001B[49m\n",
      "File \u001B[0;32m~/Desktop/dgl_chem/venv/lib/python3.11/site-packages/torch/nn/modules/module.py:1518\u001B[0m, in \u001B[0;36mModule._wrapped_call_impl\u001B[0;34m(self, *args, **kwargs)\u001B[0m\n\u001B[1;32m   1516\u001B[0m     \u001B[38;5;28;01mreturn\u001B[39;00m \u001B[38;5;28mself\u001B[39m\u001B[38;5;241m.\u001B[39m_compiled_call_impl(\u001B[38;5;241m*\u001B[39margs, \u001B[38;5;241m*\u001B[39m\u001B[38;5;241m*\u001B[39mkwargs)  \u001B[38;5;66;03m# type: ignore[misc]\u001B[39;00m\n\u001B[1;32m   1517\u001B[0m \u001B[38;5;28;01melse\u001B[39;00m:\n\u001B[0;32m-> 1518\u001B[0m     \u001B[38;5;28;01mreturn\u001B[39;00m \u001B[38;5;28;43mself\u001B[39;49m\u001B[38;5;241;43m.\u001B[39;49m\u001B[43m_call_impl\u001B[49m\u001B[43m(\u001B[49m\u001B[38;5;241;43m*\u001B[39;49m\u001B[43margs\u001B[49m\u001B[43m,\u001B[49m\u001B[43m \u001B[49m\u001B[38;5;241;43m*\u001B[39;49m\u001B[38;5;241;43m*\u001B[39;49m\u001B[43mkwargs\u001B[49m\u001B[43m)\u001B[49m\n",
      "File \u001B[0;32m~/Desktop/dgl_chem/venv/lib/python3.11/site-packages/torch/nn/modules/module.py:1527\u001B[0m, in \u001B[0;36mModule._call_impl\u001B[0;34m(self, *args, **kwargs)\u001B[0m\n\u001B[1;32m   1522\u001B[0m \u001B[38;5;66;03m# If we don't have any hooks, we want to skip the rest of the logic in\u001B[39;00m\n\u001B[1;32m   1523\u001B[0m \u001B[38;5;66;03m# this function, and just call forward.\u001B[39;00m\n\u001B[1;32m   1524\u001B[0m \u001B[38;5;28;01mif\u001B[39;00m \u001B[38;5;129;01mnot\u001B[39;00m (\u001B[38;5;28mself\u001B[39m\u001B[38;5;241m.\u001B[39m_backward_hooks \u001B[38;5;129;01mor\u001B[39;00m \u001B[38;5;28mself\u001B[39m\u001B[38;5;241m.\u001B[39m_backward_pre_hooks \u001B[38;5;129;01mor\u001B[39;00m \u001B[38;5;28mself\u001B[39m\u001B[38;5;241m.\u001B[39m_forward_hooks \u001B[38;5;129;01mor\u001B[39;00m \u001B[38;5;28mself\u001B[39m\u001B[38;5;241m.\u001B[39m_forward_pre_hooks\n\u001B[1;32m   1525\u001B[0m         \u001B[38;5;129;01mor\u001B[39;00m _global_backward_pre_hooks \u001B[38;5;129;01mor\u001B[39;00m _global_backward_hooks\n\u001B[1;32m   1526\u001B[0m         \u001B[38;5;129;01mor\u001B[39;00m _global_forward_hooks \u001B[38;5;129;01mor\u001B[39;00m _global_forward_pre_hooks):\n\u001B[0;32m-> 1527\u001B[0m     \u001B[38;5;28;01mreturn\u001B[39;00m \u001B[43mforward_call\u001B[49m\u001B[43m(\u001B[49m\u001B[38;5;241;43m*\u001B[39;49m\u001B[43margs\u001B[49m\u001B[43m,\u001B[49m\u001B[43m \u001B[49m\u001B[38;5;241;43m*\u001B[39;49m\u001B[38;5;241;43m*\u001B[39;49m\u001B[43mkwargs\u001B[49m\u001B[43m)\u001B[49m\n\u001B[1;32m   1529\u001B[0m \u001B[38;5;28;01mtry\u001B[39;00m:\n\u001B[1;32m   1530\u001B[0m     result \u001B[38;5;241m=\u001B[39m \u001B[38;5;28;01mNone\u001B[39;00m\n",
      "File \u001B[0;32m~/Desktop/dgl_chem/dglchem/models/layers/DMPNN_layer.py:44\u001B[0m, in \u001B[0;36mDMPNN_t.forward\u001B[0;34m(self, x, edge_index, edge_attr)\u001B[0m\n\u001B[1;32m     40\u001B[0m \u001B[38;5;28;01mdef\u001B[39;00m \u001B[38;5;21mforward\u001B[39m(\u001B[38;5;28mself\u001B[39m, x, edge_index, edge_attr):\n\u001B[1;32m     42\u001B[0m     \u001B[38;5;28mprint\u001B[39m(\u001B[38;5;124m'\u001B[39m\u001B[38;5;124mx shape: \u001B[39m\u001B[38;5;124m'\u001B[39m, x\u001B[38;5;241m.\u001B[39mshape)\n\u001B[0;32m---> 44\u001B[0m     nodes_out \u001B[38;5;241m=\u001B[39m \u001B[38;5;28;43mself\u001B[39;49m\u001B[38;5;241;43m.\u001B[39;49m\u001B[43mpropagate\u001B[49m\u001B[43m(\u001B[49m\u001B[43medge_index\u001B[49m\u001B[38;5;241;43m=\u001B[39;49m\u001B[43medge_index\u001B[49m\u001B[43m,\u001B[49m\u001B[43m \u001B[49m\u001B[43mx\u001B[49m\u001B[38;5;241;43m=\u001B[39;49m\u001B[43mx\u001B[49m\u001B[43m,\u001B[49m\u001B[43m \u001B[49m\u001B[43medge_attr\u001B[49m\u001B[43m \u001B[49m\u001B[38;5;241;43m=\u001B[39;49m\u001B[43m \u001B[49m\u001B[43medge_attr\u001B[49m\u001B[43m)\u001B[49m\n\u001B[1;32m     45\u001B[0m     \u001B[38;5;28mprint\u001B[39m(\u001B[38;5;124m'\u001B[39m\u001B[38;5;124mnodes out shape: \u001B[39m\u001B[38;5;124m'\u001B[39m, nodes_out\u001B[38;5;241m.\u001B[39mshape)\n\u001B[1;32m     47\u001B[0m     \u001B[38;5;28;01mreturn\u001B[39;00m nodes_out\n",
      "File \u001B[0;32m~/Desktop/dgl_chem/venv/lib/python3.11/site-packages/torch_geometric/nn/conv/message_passing.py:480\u001B[0m, in \u001B[0;36mMessagePassing.propagate\u001B[0;34m(self, edge_index, size, **kwargs)\u001B[0m\n\u001B[1;32m    477\u001B[0m     \u001B[38;5;28;01mif\u001B[39;00m res \u001B[38;5;129;01mis\u001B[39;00m \u001B[38;5;129;01mnot\u001B[39;00m \u001B[38;5;28;01mNone\u001B[39;00m:\n\u001B[1;32m    478\u001B[0m         aggr_kwargs \u001B[38;5;241m=\u001B[39m res[\u001B[38;5;241m0\u001B[39m] \u001B[38;5;28;01mif\u001B[39;00m \u001B[38;5;28misinstance\u001B[39m(res, \u001B[38;5;28mtuple\u001B[39m) \u001B[38;5;28;01melse\u001B[39;00m res\n\u001B[0;32m--> 480\u001B[0m out \u001B[38;5;241m=\u001B[39m \u001B[38;5;28;43mself\u001B[39;49m\u001B[38;5;241;43m.\u001B[39;49m\u001B[43maggregate\u001B[49m\u001B[43m(\u001B[49m\u001B[43mout\u001B[49m\u001B[43m,\u001B[49m\u001B[43m \u001B[49m\u001B[38;5;241;43m*\u001B[39;49m\u001B[38;5;241;43m*\u001B[39;49m\u001B[43maggr_kwargs\u001B[49m\u001B[43m)\u001B[49m\n\u001B[1;32m    482\u001B[0m \u001B[38;5;28;01mfor\u001B[39;00m hook \u001B[38;5;129;01min\u001B[39;00m \u001B[38;5;28mself\u001B[39m\u001B[38;5;241m.\u001B[39m_aggregate_forward_hooks\u001B[38;5;241m.\u001B[39mvalues():\n\u001B[1;32m    483\u001B[0m     res \u001B[38;5;241m=\u001B[39m hook(\u001B[38;5;28mself\u001B[39m, (aggr_kwargs, ), out)\n",
      "File \u001B[0;32m~/Desktop/dgl_chem/venv/lib/python3.11/site-packages/torch_geometric/nn/conv/message_passing.py:604\u001B[0m, in \u001B[0;36mMessagePassing.aggregate\u001B[0;34m(self, inputs, index, ptr, dim_size)\u001B[0m\n\u001B[1;32m    591\u001B[0m \u001B[38;5;28;01mdef\u001B[39;00m \u001B[38;5;21maggregate\u001B[39m(\u001B[38;5;28mself\u001B[39m, inputs: Tensor, index: Tensor,\n\u001B[1;32m    592\u001B[0m               ptr: Optional[Tensor] \u001B[38;5;241m=\u001B[39m \u001B[38;5;28;01mNone\u001B[39;00m,\n\u001B[1;32m    593\u001B[0m               dim_size: Optional[\u001B[38;5;28mint\u001B[39m] \u001B[38;5;241m=\u001B[39m \u001B[38;5;28;01mNone\u001B[39;00m) \u001B[38;5;241m-\u001B[39m\u001B[38;5;241m>\u001B[39m Tensor:\n\u001B[1;32m    594\u001B[0m \u001B[38;5;250m    \u001B[39m\u001B[38;5;124mr\u001B[39m\u001B[38;5;124;03m\"\"\"Aggregates messages from neighbors as\u001B[39;00m\n\u001B[1;32m    595\u001B[0m \u001B[38;5;124;03m    :math:`\\bigoplus_{j \\in \\mathcal{N}(i)}`.\u001B[39;00m\n\u001B[1;32m    596\u001B[0m \n\u001B[0;32m   (...)\u001B[0m\n\u001B[1;32m    602\u001B[0m \u001B[38;5;124;03m    as specified in :meth:`__init__` by the :obj:`aggr` argument.\u001B[39;00m\n\u001B[1;32m    603\u001B[0m \u001B[38;5;124;03m    \"\"\"\u001B[39;00m\n\u001B[0;32m--> 604\u001B[0m     \u001B[38;5;28;01mreturn\u001B[39;00m \u001B[38;5;28;43mself\u001B[39;49m\u001B[38;5;241;43m.\u001B[39;49m\u001B[43maggr_module\u001B[49m\u001B[43m(\u001B[49m\u001B[43minputs\u001B[49m\u001B[43m,\u001B[49m\u001B[43m \u001B[49m\u001B[43mindex\u001B[49m\u001B[43m,\u001B[49m\u001B[43m \u001B[49m\u001B[43mptr\u001B[49m\u001B[38;5;241;43m=\u001B[39;49m\u001B[43mptr\u001B[49m\u001B[43m,\u001B[49m\u001B[43m \u001B[49m\u001B[43mdim_size\u001B[49m\u001B[38;5;241;43m=\u001B[39;49m\u001B[43mdim_size\u001B[49m\u001B[43m,\u001B[49m\n\u001B[1;32m    605\u001B[0m \u001B[43m                            \u001B[49m\u001B[43mdim\u001B[49m\u001B[38;5;241;43m=\u001B[39;49m\u001B[38;5;28;43mself\u001B[39;49m\u001B[38;5;241;43m.\u001B[39;49m\u001B[43mnode_dim\u001B[49m\u001B[43m)\u001B[49m\n",
      "File \u001B[0;32m~/Desktop/dgl_chem/venv/lib/python3.11/site-packages/torch_geometric/experimental.py:115\u001B[0m, in \u001B[0;36mdisable_dynamic_shapes.<locals>.decorator.<locals>.wrapper\u001B[0;34m(*args, **kwargs)\u001B[0m\n\u001B[1;32m    112\u001B[0m \u001B[38;5;129m@functools\u001B[39m\u001B[38;5;241m.\u001B[39mwraps(func)\n\u001B[1;32m    113\u001B[0m \u001B[38;5;28;01mdef\u001B[39;00m \u001B[38;5;21mwrapper\u001B[39m(\u001B[38;5;241m*\u001B[39margs, \u001B[38;5;241m*\u001B[39m\u001B[38;5;241m*\u001B[39mkwargs):\n\u001B[1;32m    114\u001B[0m     \u001B[38;5;28;01mif\u001B[39;00m \u001B[38;5;129;01mnot\u001B[39;00m is_experimental_mode_enabled(\u001B[38;5;124m'\u001B[39m\u001B[38;5;124mdisable_dynamic_shapes\u001B[39m\u001B[38;5;124m'\u001B[39m):\n\u001B[0;32m--> 115\u001B[0m         \u001B[38;5;28;01mreturn\u001B[39;00m \u001B[43mfunc\u001B[49m\u001B[43m(\u001B[49m\u001B[38;5;241;43m*\u001B[39;49m\u001B[43margs\u001B[49m\u001B[43m,\u001B[49m\u001B[43m \u001B[49m\u001B[38;5;241;43m*\u001B[39;49m\u001B[38;5;241;43m*\u001B[39;49m\u001B[43mkwargs\u001B[49m\u001B[43m)\u001B[49m\n\u001B[1;32m    117\u001B[0m     \u001B[38;5;28;01mfor\u001B[39;00m required_arg \u001B[38;5;129;01min\u001B[39;00m required_args:\n\u001B[1;32m    118\u001B[0m         index \u001B[38;5;241m=\u001B[39m required_args_pos[required_arg]\n",
      "File \u001B[0;32m~/Desktop/dgl_chem/venv/lib/python3.11/site-packages/torch_geometric/nn/aggr/base.py:133\u001B[0m, in \u001B[0;36mAggregation.__call__\u001B[0;34m(self, x, index, ptr, dim_size, dim, **kwargs)\u001B[0m\n\u001B[1;32m    129\u001B[0m     \u001B[38;5;28;01mif\u001B[39;00m index\u001B[38;5;241m.\u001B[39mnumel() \u001B[38;5;241m>\u001B[39m \u001B[38;5;241m0\u001B[39m \u001B[38;5;129;01mand\u001B[39;00m dim_size \u001B[38;5;241m<\u001B[39m\u001B[38;5;241m=\u001B[39m \u001B[38;5;28mint\u001B[39m(index\u001B[38;5;241m.\u001B[39mmax()):\n\u001B[1;32m    130\u001B[0m         \u001B[38;5;28;01mraise\u001B[39;00m \u001B[38;5;167;01mValueError\u001B[39;00m(\u001B[38;5;124mf\u001B[39m\u001B[38;5;124m\"\u001B[39m\u001B[38;5;124mEncountered invalid \u001B[39m\u001B[38;5;124m'\u001B[39m\u001B[38;5;124mdim_size\u001B[39m\u001B[38;5;124m'\u001B[39m\u001B[38;5;124m (got \u001B[39m\u001B[38;5;124m\"\u001B[39m\n\u001B[1;32m    131\u001B[0m                          \u001B[38;5;124mf\u001B[39m\u001B[38;5;124m\"\u001B[39m\u001B[38;5;124m'\u001B[39m\u001B[38;5;132;01m{\u001B[39;00mdim_size\u001B[38;5;132;01m}\u001B[39;00m\u001B[38;5;124m'\u001B[39m\u001B[38;5;124m but expected \u001B[39m\u001B[38;5;124m\"\u001B[39m\n\u001B[1;32m    132\u001B[0m                          \u001B[38;5;124mf\u001B[39m\u001B[38;5;124m\"\u001B[39m\u001B[38;5;124m>= \u001B[39m\u001B[38;5;124m'\u001B[39m\u001B[38;5;132;01m{\u001B[39;00m\u001B[38;5;28mint\u001B[39m(index\u001B[38;5;241m.\u001B[39mmax())\u001B[38;5;250m \u001B[39m\u001B[38;5;241m+\u001B[39m\u001B[38;5;250m \u001B[39m\u001B[38;5;241m1\u001B[39m\u001B[38;5;132;01m}\u001B[39;00m\u001B[38;5;124m'\u001B[39m\u001B[38;5;124m)\u001B[39m\u001B[38;5;124m\"\u001B[39m)\n\u001B[0;32m--> 133\u001B[0m \u001B[38;5;28;01mraise\u001B[39;00m e\n",
      "File \u001B[0;32m~/Desktop/dgl_chem/venv/lib/python3.11/site-packages/torch_geometric/nn/aggr/base.py:125\u001B[0m, in \u001B[0;36mAggregation.__call__\u001B[0;34m(self, x, index, ptr, dim_size, dim, **kwargs)\u001B[0m\n\u001B[1;32m    122\u001B[0m     dim_size \u001B[38;5;241m=\u001B[39m \u001B[38;5;28mint\u001B[39m(index\u001B[38;5;241m.\u001B[39mmax()) \u001B[38;5;241m+\u001B[39m \u001B[38;5;241m1\u001B[39m \u001B[38;5;28;01mif\u001B[39;00m index\u001B[38;5;241m.\u001B[39mnumel() \u001B[38;5;241m>\u001B[39m \u001B[38;5;241m0\u001B[39m \u001B[38;5;28;01melse\u001B[39;00m \u001B[38;5;241m0\u001B[39m\n\u001B[1;32m    124\u001B[0m \u001B[38;5;28;01mtry\u001B[39;00m:\n\u001B[0;32m--> 125\u001B[0m     \u001B[38;5;28;01mreturn\u001B[39;00m \u001B[38;5;28;43msuper\u001B[39;49m\u001B[43m(\u001B[49m\u001B[43m)\u001B[49m\u001B[38;5;241;43m.\u001B[39;49m\u001B[38;5;21;43m__call__\u001B[39;49m\u001B[43m(\u001B[49m\u001B[43mx\u001B[49m\u001B[43m,\u001B[49m\u001B[43m \u001B[49m\u001B[43mindex\u001B[49m\u001B[38;5;241;43m=\u001B[39;49m\u001B[43mindex\u001B[49m\u001B[43m,\u001B[49m\u001B[43m \u001B[49m\u001B[43mptr\u001B[49m\u001B[38;5;241;43m=\u001B[39;49m\u001B[43mptr\u001B[49m\u001B[43m,\u001B[49m\u001B[43m \u001B[49m\u001B[43mdim_size\u001B[49m\u001B[38;5;241;43m=\u001B[39;49m\u001B[43mdim_size\u001B[49m\u001B[43m,\u001B[49m\n\u001B[1;32m    126\u001B[0m \u001B[43m                            \u001B[49m\u001B[43mdim\u001B[49m\u001B[38;5;241;43m=\u001B[39;49m\u001B[43mdim\u001B[49m\u001B[43m,\u001B[49m\u001B[43m \u001B[49m\u001B[38;5;241;43m*\u001B[39;49m\u001B[38;5;241;43m*\u001B[39;49m\u001B[43mkwargs\u001B[49m\u001B[43m)\u001B[49m\n\u001B[1;32m    127\u001B[0m \u001B[38;5;28;01mexcept\u001B[39;00m (\u001B[38;5;167;01mIndexError\u001B[39;00m, \u001B[38;5;167;01mRuntimeError\u001B[39;00m) \u001B[38;5;28;01mas\u001B[39;00m e:\n\u001B[1;32m    128\u001B[0m     \u001B[38;5;28;01mif\u001B[39;00m index \u001B[38;5;129;01mis\u001B[39;00m \u001B[38;5;129;01mnot\u001B[39;00m \u001B[38;5;28;01mNone\u001B[39;00m:\n",
      "File \u001B[0;32m~/Desktop/dgl_chem/venv/lib/python3.11/site-packages/torch/nn/modules/module.py:1518\u001B[0m, in \u001B[0;36mModule._wrapped_call_impl\u001B[0;34m(self, *args, **kwargs)\u001B[0m\n\u001B[1;32m   1516\u001B[0m     \u001B[38;5;28;01mreturn\u001B[39;00m \u001B[38;5;28mself\u001B[39m\u001B[38;5;241m.\u001B[39m_compiled_call_impl(\u001B[38;5;241m*\u001B[39margs, \u001B[38;5;241m*\u001B[39m\u001B[38;5;241m*\u001B[39mkwargs)  \u001B[38;5;66;03m# type: ignore[misc]\u001B[39;00m\n\u001B[1;32m   1517\u001B[0m \u001B[38;5;28;01melse\u001B[39;00m:\n\u001B[0;32m-> 1518\u001B[0m     \u001B[38;5;28;01mreturn\u001B[39;00m \u001B[38;5;28;43mself\u001B[39;49m\u001B[38;5;241;43m.\u001B[39;49m\u001B[43m_call_impl\u001B[49m\u001B[43m(\u001B[49m\u001B[38;5;241;43m*\u001B[39;49m\u001B[43margs\u001B[49m\u001B[43m,\u001B[49m\u001B[43m \u001B[49m\u001B[38;5;241;43m*\u001B[39;49m\u001B[38;5;241;43m*\u001B[39;49m\u001B[43mkwargs\u001B[49m\u001B[43m)\u001B[49m\n",
      "File \u001B[0;32m~/Desktop/dgl_chem/venv/lib/python3.11/site-packages/torch/nn/modules/module.py:1527\u001B[0m, in \u001B[0;36mModule._call_impl\u001B[0;34m(self, *args, **kwargs)\u001B[0m\n\u001B[1;32m   1522\u001B[0m \u001B[38;5;66;03m# If we don't have any hooks, we want to skip the rest of the logic in\u001B[39;00m\n\u001B[1;32m   1523\u001B[0m \u001B[38;5;66;03m# this function, and just call forward.\u001B[39;00m\n\u001B[1;32m   1524\u001B[0m \u001B[38;5;28;01mif\u001B[39;00m \u001B[38;5;129;01mnot\u001B[39;00m (\u001B[38;5;28mself\u001B[39m\u001B[38;5;241m.\u001B[39m_backward_hooks \u001B[38;5;129;01mor\u001B[39;00m \u001B[38;5;28mself\u001B[39m\u001B[38;5;241m.\u001B[39m_backward_pre_hooks \u001B[38;5;129;01mor\u001B[39;00m \u001B[38;5;28mself\u001B[39m\u001B[38;5;241m.\u001B[39m_forward_hooks \u001B[38;5;129;01mor\u001B[39;00m \u001B[38;5;28mself\u001B[39m\u001B[38;5;241m.\u001B[39m_forward_pre_hooks\n\u001B[1;32m   1525\u001B[0m         \u001B[38;5;129;01mor\u001B[39;00m _global_backward_pre_hooks \u001B[38;5;129;01mor\u001B[39;00m _global_backward_hooks\n\u001B[1;32m   1526\u001B[0m         \u001B[38;5;129;01mor\u001B[39;00m _global_forward_hooks \u001B[38;5;129;01mor\u001B[39;00m _global_forward_pre_hooks):\n\u001B[0;32m-> 1527\u001B[0m     \u001B[38;5;28;01mreturn\u001B[39;00m \u001B[43mforward_call\u001B[49m\u001B[43m(\u001B[49m\u001B[38;5;241;43m*\u001B[39;49m\u001B[43margs\u001B[49m\u001B[43m,\u001B[49m\u001B[43m \u001B[49m\u001B[38;5;241;43m*\u001B[39;49m\u001B[38;5;241;43m*\u001B[39;49m\u001B[43mkwargs\u001B[49m\u001B[43m)\u001B[49m\n\u001B[1;32m   1529\u001B[0m \u001B[38;5;28;01mtry\u001B[39;00m:\n\u001B[1;32m   1530\u001B[0m     result \u001B[38;5;241m=\u001B[39m \u001B[38;5;28;01mNone\u001B[39;00m\n",
      "File \u001B[0;32m~/Desktop/dgl_chem/venv/lib/python3.11/site-packages/torch_geometric/nn/aggr/basic.py:35\u001B[0m, in \u001B[0;36mMeanAggregation.forward\u001B[0;34m(self, x, index, ptr, dim_size, dim)\u001B[0m\n\u001B[1;32m     32\u001B[0m \u001B[38;5;28;01mdef\u001B[39;00m \u001B[38;5;21mforward\u001B[39m(\u001B[38;5;28mself\u001B[39m, x: Tensor, index: Optional[Tensor] \u001B[38;5;241m=\u001B[39m \u001B[38;5;28;01mNone\u001B[39;00m,\n\u001B[1;32m     33\u001B[0m             ptr: Optional[Tensor] \u001B[38;5;241m=\u001B[39m \u001B[38;5;28;01mNone\u001B[39;00m, dim_size: Optional[\u001B[38;5;28mint\u001B[39m] \u001B[38;5;241m=\u001B[39m \u001B[38;5;28;01mNone\u001B[39;00m,\n\u001B[1;32m     34\u001B[0m             dim: \u001B[38;5;28mint\u001B[39m \u001B[38;5;241m=\u001B[39m \u001B[38;5;241m-\u001B[39m\u001B[38;5;241m2\u001B[39m) \u001B[38;5;241m-\u001B[39m\u001B[38;5;241m>\u001B[39m Tensor:\n\u001B[0;32m---> 35\u001B[0m     \u001B[38;5;28;01mreturn\u001B[39;00m \u001B[38;5;28;43mself\u001B[39;49m\u001B[38;5;241;43m.\u001B[39;49m\u001B[43mreduce\u001B[49m\u001B[43m(\u001B[49m\u001B[43mx\u001B[49m\u001B[43m,\u001B[49m\u001B[43m \u001B[49m\u001B[43mindex\u001B[49m\u001B[43m,\u001B[49m\u001B[43m \u001B[49m\u001B[43mptr\u001B[49m\u001B[43m,\u001B[49m\u001B[43m \u001B[49m\u001B[43mdim_size\u001B[49m\u001B[43m,\u001B[49m\u001B[43m \u001B[49m\u001B[43mdim\u001B[49m\u001B[43m,\u001B[49m\u001B[43m \u001B[49m\u001B[43mreduce\u001B[49m\u001B[38;5;241;43m=\u001B[39;49m\u001B[38;5;124;43m'\u001B[39;49m\u001B[38;5;124;43mmean\u001B[39;49m\u001B[38;5;124;43m'\u001B[39;49m\u001B[43m)\u001B[49m\n",
      "File \u001B[0;32m~/Desktop/dgl_chem/venv/lib/python3.11/site-packages/torch_geometric/nn/aggr/base.py:176\u001B[0m, in \u001B[0;36mAggregation.reduce\u001B[0;34m(self, x, index, ptr, dim_size, dim, reduce)\u001B[0m\n\u001B[1;32m    173\u001B[0m     \u001B[38;5;28;01mreturn\u001B[39;00m segment(x, ptr, reduce\u001B[38;5;241m=\u001B[39mreduce)\n\u001B[1;32m    175\u001B[0m \u001B[38;5;28;01massert\u001B[39;00m index \u001B[38;5;129;01mis\u001B[39;00m \u001B[38;5;129;01mnot\u001B[39;00m \u001B[38;5;28;01mNone\u001B[39;00m\n\u001B[0;32m--> 176\u001B[0m \u001B[38;5;28;01mreturn\u001B[39;00m \u001B[43mscatter\u001B[49m\u001B[43m(\u001B[49m\u001B[43mx\u001B[49m\u001B[43m,\u001B[49m\u001B[43m \u001B[49m\u001B[43mindex\u001B[49m\u001B[43m,\u001B[49m\u001B[43m \u001B[49m\u001B[43mdim\u001B[49m\u001B[43m,\u001B[49m\u001B[43m \u001B[49m\u001B[43mdim_size\u001B[49m\u001B[43m,\u001B[49m\u001B[43m \u001B[49m\u001B[43mreduce\u001B[49m\u001B[43m)\u001B[49m\n",
      "File \u001B[0;32m~/Desktop/dgl_chem/venv/lib/python3.11/site-packages/torch_geometric/utils/scatter.py:74\u001B[0m, in \u001B[0;36mscatter\u001B[0;34m(src, index, dim, dim_size, reduce)\u001B[0m\n\u001B[1;32m     72\u001B[0m \u001B[38;5;28;01mif\u001B[39;00m reduce \u001B[38;5;241m==\u001B[39m \u001B[38;5;124m'\u001B[39m\u001B[38;5;124mmean\u001B[39m\u001B[38;5;124m'\u001B[39m:\n\u001B[1;32m     73\u001B[0m     count \u001B[38;5;241m=\u001B[39m src\u001B[38;5;241m.\u001B[39mnew_zeros(dim_size)\n\u001B[0;32m---> 74\u001B[0m     \u001B[43mcount\u001B[49m\u001B[38;5;241;43m.\u001B[39;49m\u001B[43mscatter_add_\u001B[49m\u001B[43m(\u001B[49m\u001B[38;5;241;43m0\u001B[39;49m\u001B[43m,\u001B[49m\u001B[43m \u001B[49m\u001B[43mindex\u001B[49m\u001B[43m,\u001B[49m\u001B[43m \u001B[49m\u001B[43msrc\u001B[49m\u001B[38;5;241;43m.\u001B[39;49m\u001B[43mnew_ones\u001B[49m\u001B[43m(\u001B[49m\u001B[43msrc\u001B[49m\u001B[38;5;241;43m.\u001B[39;49m\u001B[43msize\u001B[49m\u001B[43m(\u001B[49m\u001B[43mdim\u001B[49m\u001B[43m)\u001B[49m\u001B[43m)\u001B[49m\u001B[43m)\u001B[49m\n\u001B[1;32m     75\u001B[0m     count \u001B[38;5;241m=\u001B[39m count\u001B[38;5;241m.\u001B[39mclamp(\u001B[38;5;28mmin\u001B[39m\u001B[38;5;241m=\u001B[39m\u001B[38;5;241m1\u001B[39m)\n\u001B[1;32m     77\u001B[0m     index \u001B[38;5;241m=\u001B[39m broadcast(index, src, dim)\n",
      "\u001B[0;31mRuntimeError\u001B[0m: Expected index [10] to be smaller than self [5] apart from dimension 0 and to be smaller size than src [5]"
     ]
    }
   ],
   "source": [
    "from dglchem.utils import DataSet\n",
    "data = DataSet('./data/processed/BradleyDoublePlus.pickle')\n",
    "data = data[0]\n",
    "print(data)\n",
    "print(data.edge_index)\n",
    "\n",
    "from dglchem.models.layers import DMPNN_t\n",
    "layer = DMPNN_t(node_in_feats=len(data.edge_attr))\n",
    "layer(data.x, data.edge_index, data.edge_attr)"
   ],
   "metadata": {
    "collapsed": false,
    "ExecuteTime": {
     "end_time": "2024-03-15T18:23:59.704686Z",
     "start_time": "2024-03-15T18:23:56.821026Z"
    }
   },
   "id": "288a504413cdda61"
  },
  {
   "cell_type": "code",
   "execution_count": 9,
   "outputs": [
    {
     "name": "stdout",
     "output_type": "stream",
     "text": [
      "Loaded dataset.\n",
      "tensor([[1., 0., 0., 0., 0., 0., 1., 0., 0., 0., 0., 0.],\n",
      "        [1., 0., 0., 0., 0., 0., 1., 0., 0., 0., 0., 0.],\n",
      "        [1., 0., 0., 0., 0., 1., 1., 0., 0., 0., 0., 0.],\n",
      "        [1., 0., 0., 0., 0., 1., 1., 0., 0., 0., 0., 0.],\n",
      "        [1., 0., 0., 0., 0., 1., 1., 0., 0., 0., 0., 0.],\n",
      "        [1., 0., 0., 0., 0., 1., 1., 0., 0., 0., 0., 0.],\n",
      "        [1., 0., 0., 0., 0., 1., 1., 0., 0., 0., 0., 0.],\n",
      "        [1., 0., 0., 0., 0., 1., 1., 0., 0., 0., 0., 0.],\n",
      "        [1., 0., 0., 0., 0., 1., 1., 0., 0., 0., 0., 0.],\n",
      "        [1., 0., 0., 0., 0., 1., 1., 0., 0., 0., 0., 0.]])\n",
      "tensor([[0, 1, 1, 1, 2, 2, 3, 3, 4, 4],\n",
      "        [1, 0, 2, 4, 1, 3, 2, 4, 1, 3]])\n",
      "tensor([0, 1])\n",
      "tensor([[1., 0., 0., 0., 0., 0., 1., 0., 0., 0., 0., 0.],\n",
      "        [1., 0., 0., 0., 0., 0., 1., 0., 0., 0., 0., 0.]])\n",
      "tensor([[0],\n",
      "        [1]])\n",
      "tensor([[1, 1, 1],\n",
      "        [0, 2, 4]])\n",
      "tensor([[2, 2],\n",
      "        [1, 3]])\n",
      "tensor([[3, 3],\n",
      "        [2, 4]])\n",
      "tensor([[4, 4],\n",
      "        [1, 3]])\n",
      "tensor([], size=(2, 0), dtype=torch.int64)\n",
      "tensor([], size=(2, 0), dtype=torch.int64)\n",
      "tensor([], size=(2, 0), dtype=torch.int64)\n",
      "tensor([], size=(2, 0), dtype=torch.int64)\n",
      "tensor([], size=(2, 0), dtype=torch.int64)\n"
     ]
    }
   ],
   "source": [
    "from dglchem.utils import DataSet\n",
    "data = DataSet('./data/processed/BradleyDoublePlus.pickle')\n",
    "data = data[0]\n",
    "x = data.x\n",
    "index = data.edge_index\n",
    "edges = data.edge_attr\n",
    "print(edges)\n",
    "print(index)\n",
    "print(index[:,0])\n",
    "print(edges[index[:,0]])\n",
    "\n",
    "for i in range(len(index[0,:])):\n",
    "    print(index[:,index[0,:]==i])\n"
   ],
   "metadata": {
    "collapsed": false,
    "ExecuteTime": {
     "end_time": "2024-03-16T14:39:13.049383Z",
     "start_time": "2024-03-16T14:39:12.700904Z"
    }
   },
   "id": "72e388f51c92685d"
  },
  {
   "cell_type": "code",
   "execution_count": 15,
   "outputs": [
    {
     "name": "stdout",
     "output_type": "stream",
     "text": [
      "  filename smiles\n",
      "0     Jeff   test\n"
     ]
    }
   ],
   "source": [
    "import pandas as pd\n",
    "data = pd.DataFrame({'filename':[], 'smiles':[]})\n",
    "data = pd.concat([data, pd.DataFrame({'filename':['Jeff'], 'smiles':['test']})], ignore_index=True)\n",
    "print(data)"
   ],
   "metadata": {
    "collapsed": false,
    "ExecuteTime": {
     "end_time": "2024-03-19T19:09:23.392465Z",
     "start_time": "2024-03-19T19:09:23.371748Z"
    }
   },
   "id": "80488c67c875933d"
  },
  {
   "cell_type": "code",
   "execution_count": null,
   "outputs": [],
   "source": [],
   "metadata": {
    "collapsed": false
   },
   "id": "b289cba78dc2e3c"
  }
 ],
 "metadata": {
  "kernelspec": {
   "display_name": "Python 3",
   "language": "python",
   "name": "python3"
  },
  "language_info": {
   "codemirror_mode": {
    "name": "ipython",
    "version": 2
   },
   "file_extension": ".py",
   "mimetype": "text/x-python",
   "name": "python",
   "nbconvert_exporter": "python",
   "pygments_lexer": "ipython2",
   "version": "2.7.6"
  }
 },
 "nbformat": 4,
 "nbformat_minor": 5
}
