{
 "cells": [
  {
   "metadata": {
    "ExecuteTime": {
     "end_time": "2024-05-17T14:58:15.061924Z",
     "start_time": "2024-05-17T14:58:11.839258Z"
    }
   },
   "cell_type": "code",
   "source": [
    "from grape.models import AFP\n",
    "model = AFP(edge_in_dim=12, node_in_dim=44)"
   ],
   "id": "4effd90ea3f64939",
   "outputs": [
    {
     "name": "stdout",
     "output_type": "stream",
     "text": [
      "512\n"
     ]
    }
   ],
   "execution_count": 1
  },
  {
   "metadata": {
    "ExecuteTime": {
     "end_time": "2024-05-17T16:06:48.173734Z",
     "start_time": "2024-05-17T16:06:48.169897Z"
    }
   },
   "cell_type": "code",
   "source": [
    "with open('./results/AFP_optimization_results.txt','a') as file: \n",
    "    for test in range(10):\n",
    "        string = f'{test}\\n'\n",
    "        file.write(string)"
   ],
   "id": "247bf9d294fc7c30",
   "outputs": [],
   "execution_count": 5
  },
  {
   "metadata": {},
   "cell_type": "code",
   "outputs": [],
   "execution_count": null,
   "source": "",
   "id": "97210a4c87c96c4b"
  }
 ],
 "metadata": {
  "kernelspec": {
   "display_name": "Python 3",
   "language": "python",
   "name": "python3"
  },
  "language_info": {
   "codemirror_mode": {
    "name": "ipython",
    "version": 2
   },
   "file_extension": ".py",
   "mimetype": "text/x-python",
   "name": "python",
   "nbconvert_exporter": "python",
   "pygments_lexer": "ipython2",
   "version": "2.7.6"
  }
 },
 "nbformat": 4,
 "nbformat_minor": 5
}
