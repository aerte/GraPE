{
 "cells": [
  {
   "cell_type": "markdown",
   "source": [
    "## Walkthrough of the project"
   ],
   "metadata": {
    "collapsed": false
   },
   "id": "18876b2f50bf6c0c"
  },
  {
   "cell_type": "code",
   "execution_count": 1,
   "id": "initial_id",
   "metadata": {
    "collapsed": true,
    "ExecuteTime": {
     "end_time": "2024-02-16T12:53:46.872712Z",
     "start_time": "2024-02-16T12:53:45.117419Z"
    }
   },
   "outputs": [
    {
     "name": "stdout",
     "output_type": "stream",
     "text": [
      "Error: feature atom_fun_lol is not an accepted feature.\n"
     ]
    }
   ],
   "source": [
    "from rdkit import Chem\n",
    "from dgl_chem.utils import AtomFeaturizer, BondFeaturizer\n",
    "import torch\n",
    "\n",
    "mol = Chem.MolFromSmiles('CCO')\n",
    "atom_featurizer = AtomFeaturizer(atom_data_field='feat')\n",
    "bond_featurizer = BondFeaturizer(bond_data_field='feat')"
   ]
  },
  {
   "cell_type": "code",
   "execution_count": 3,
   "outputs": [
    {
     "name": "stdout",
     "output_type": "stream",
     "text": [
      "tensor([[0., 1., 0., 0., 0., 0., 0., 0., 0., 0., 0., 0., 0., 0., 0., 0., 0., 1.,\n",
      "         0., 0., 0., 0., 0., 0., 0., 0., 1., 0., 0., 0., 0., 0., 0., 0., 1., 0.,\n",
      "         0., 0., 0.],\n",
      "        [0., 1., 0., 0., 0., 0., 0., 0., 0., 0., 0., 0., 0., 0., 0., 0., 0., 0.,\n",
      "         1., 0., 0., 0., 0., 0., 0., 0., 1., 0., 0., 0., 0., 0., 0., 1., 0., 0.,\n",
      "         0., 0., 0.],\n",
      "        [0., 0., 0., 1., 0., 0., 0., 0., 0., 0., 0., 0., 0., 0., 0., 0., 0., 1.,\n",
      "         0., 0., 0., 0., 0., 0., 0., 0., 1., 0., 0., 0., 0., 0., 1., 0., 0., 0.,\n",
      "         0., 0., 0.]])\n",
      "tensor(True)\n",
      "39\n"
     ]
    }
   ],
   "source": [
    "atom_featurizer(mol)\n",
    "print(atom_featurizer(mol)['feat'])\n",
    "ex = {'feat': torch.tensor([[0., 1., 0., 0., 0., 0., 0., 0., 0., 0., 0., 0., 0., 0., 0., 0., 0., 1.,\n",
    "                      0., 0., 0., 0., 0., 0., 0., 0., 1., 0., 0., 0., 0., 0., 0., 0., 1., 0.,\n",
    "                      0., 0., 0.],\n",
    "                     [0., 1., 0., 0., 0., 0., 0., 0., 0., 0., 0., 0., 0., 0., 0., 0., 0., 0.,\n",
    "                      1., 0., 0., 0., 0., 0., 0., 0., 1., 0., 0., 0., 0., 0., 0., 1., 0., 0.,\n",
    "                      0., 0., 0.],\n",
    "                     [0., 0., 0., 1., 0., 0., 0., 0., 0., 0., 0., 0., 0., 0., 0., 0., 0., 1.,\n",
    "                      0., 0., 0., 0., 0., 0., 0., 0., 1., 0., 0., 0., 0., 0., 1., 0., 0., 0.,\n",
    "                      0., 0., 0.]])}\n",
    "print((ex['feat'] == atom_featurizer(mol)['feat']).all())\n",
    "print(atom_featurizer.feat_size('feat'))"
   ],
   "metadata": {
    "collapsed": false,
    "ExecuteTime": {
     "end_time": "2024-02-16T12:54:13.153925Z",
     "start_time": "2024-02-16T12:54:13.148252Z"
    }
   },
   "id": "8f01226e0a66c9b7"
  },
  {
   "cell_type": "code",
   "execution_count": 7,
   "outputs": [
    {
     "name": "stdout",
     "output_type": "stream",
     "text": [
      "tensor(True)\n",
      "39\n"
     ]
    }
   ],
   "source": [
    "print((ex['feat'] == atom_featurizer(mol)['feat']).all())\n",
    "print(atom_featurizer.feat_size('feat'))"
   ],
   "metadata": {
    "collapsed": false,
    "ExecuteTime": {
     "end_time": "2024-02-16T12:06:20.374360Z",
     "start_time": "2024-02-16T12:06:20.365413Z"
    }
   },
   "id": "875a546c77db4224"
  },
  {
   "cell_type": "code",
   "execution_count": 9,
   "outputs": [
    {
     "name": "stdout",
     "output_type": "stream",
     "text": [
      "tensor(True)\n",
      "10\n"
     ]
    }
   ],
   "source": [
    "bond_featurizer(mol)['feat']\n",
    "ex_bond = torch.tensor([[1., 0., 0., 0., 0., 0., 1., 0., 0., 0.],\n",
    "                     [1., 0., 0., 0., 0., 0., 1., 0., 0., 0.],\n",
    "                     [1., 0., 0., 0., 0., 0., 1., 0., 0., 0.],\n",
    "                     [1., 0., 0., 0., 0., 0., 1., 0., 0., 0.]])\n",
    "print((ex_bond == bond_featurizer(mol)['feat']).all())\n",
    "print(bond_featurizer.feat_size('feat'))"
   ],
   "metadata": {
    "collapsed": false,
    "ExecuteTime": {
     "end_time": "2024-02-16T12:57:51.945098Z",
     "start_time": "2024-02-16T12:57:51.935602Z"
    }
   },
   "id": "429f8479ee645c2"
  },
  {
   "cell_type": "markdown",
   "source": [
    "Bonds are saved twice for graph use."
   ],
   "metadata": {
    "collapsed": false
   },
   "id": "1dccb25c3474d4c3"
  },
  {
   "cell_type": "code",
   "execution_count": null,
   "outputs": [],
   "source": [],
   "metadata": {
    "collapsed": false
   },
   "id": "5accd0902682e715"
  }
 ],
 "metadata": {
  "kernelspec": {
   "display_name": "Python 3",
   "language": "python",
   "name": "python3"
  },
  "language_info": {
   "codemirror_mode": {
    "name": "ipython",
    "version": 2
   },
   "file_extension": ".py",
   "mimetype": "text/x-python",
   "name": "python",
   "nbconvert_exporter": "python",
   "pygments_lexer": "ipython2",
   "version": "2.7.6"
  }
 },
 "nbformat": 4,
 "nbformat_minor": 5
}
