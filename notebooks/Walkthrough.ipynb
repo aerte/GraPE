{
 "cells": [
  {
   "cell_type": "markdown",
   "source": [
    "## Walkthrough of the project"
   ],
   "metadata": {
    "collapsed": false
   },
   "id": "18876b2f50bf6c0c"
  },
  {
   "cell_type": "code",
   "execution_count": 2,
   "id": "initial_id",
   "metadata": {
    "collapsed": true,
    "ExecuteTime": {
     "end_time": "2024-02-16T15:26:51.319174Z",
     "start_time": "2024-02-16T15:26:51.312320Z"
    }
   },
   "outputs": [
    {
     "name": "stdout",
     "output_type": "stream",
     "text": [
      "Error: feature atom_fun_lol is not an accepted feature.\n"
     ]
    }
   ],
   "source": [
    "from rdkit import Chem\n",
    "from dgl_chem.utils import AtomFeaturizer, BondFeaturizer\n",
    "import torch\n",
    "\n",
    "mol = Chem.MolFromSmiles('CCO')\n",
    "atom_featurizer = AtomFeaturizer(atom_data_field='feat')\n",
    "bond_featurizer = BondFeaturizer(bond_data_field='feat')"
   ]
  },
  {
   "cell_type": "code",
   "execution_count": 4,
   "outputs": [
    {
     "name": "stdout",
     "output_type": "stream",
     "text": [
      "tensor(True)\n",
      "39\n"
     ]
    }
   ],
   "source": [
    "atom_featurizer(mol)\n",
    "print(atom_featurizer(mol)['feat'])\n",
    "ex = {'feat': torch.tensor([[0., 1., 0., 0., 0., 0., 0., 0., 0., 0., 0., 0., 0., 0., 0., 0., 0., 1.,\n",
    "                      0., 0., 0., 0., 0., 0., 0., 0., 1., 0., 0., 0., 0., 0., 0., 0., 1., 0.,\n",
    "                      0., 0., 0.],\n",
    "                     [0., 1., 0., 0., 0., 0., 0., 0., 0., 0., 0., 0., 0., 0., 0., 0., 0., 0.,\n",
    "                      1., 0., 0., 0., 0., 0., 0., 0., 1., 0., 0., 0., 0., 0., 0., 1., 0., 0.,\n",
    "                      0., 0., 0.],\n",
    "                     [0., 0., 0., 1., 0., 0., 0., 0., 0., 0., 0., 0., 0., 0., 0., 0., 0., 1.,\n",
    "                      0., 0., 0., 0., 0., 0., 0., 0., 1., 0., 0., 0., 0., 0., 1., 0., 0., 0.,\n",
    "                      0., 0., 0.]])}\n",
    "print((ex['feat'] == atom_featurizer(mol)['feat']).all())\n",
    "print(atom_featurizer.feat_size('feat'))"
   ],
   "metadata": {
    "collapsed": false,
    "ExecuteTime": {
     "end_time": "2024-02-16T15:27:09.336043Z",
     "start_time": "2024-02-16T15:27:09.329792Z"
    }
   },
   "id": "8f01226e0a66c9b7"
  },
  {
   "cell_type": "code",
   "execution_count": 5,
   "outputs": [
    {
     "name": "stdout",
     "output_type": "stream",
     "text": [
      "tensor(True)\n",
      "39\n"
     ]
    }
   ],
   "source": [
    "print((ex['feat'] == atom_featurizer(mol)['feat']).all())\n",
    "print(atom_featurizer.feat_size('feat'))"
   ],
   "metadata": {
    "collapsed": false,
    "ExecuteTime": {
     "end_time": "2024-02-16T15:27:11.147767Z",
     "start_time": "2024-02-16T15:27:11.141064Z"
    }
   },
   "id": "875a546c77db4224"
  },
  {
   "cell_type": "code",
   "execution_count": 6,
   "outputs": [
    {
     "name": "stdout",
     "output_type": "stream",
     "text": [
      "tensor(True)\n",
      "10\n"
     ]
    }
   ],
   "source": [
    "bond_featurizer(mol)['feat']\n",
    "ex_bond = torch.tensor([[1., 0., 0., 0., 0., 0., 1., 0., 0., 0.],\n",
    "                     [1., 0., 0., 0., 0., 0., 1., 0., 0., 0.],\n",
    "                     [1., 0., 0., 0., 0., 0., 1., 0., 0., 0.],\n",
    "                     [1., 0., 0., 0., 0., 0., 1., 0., 0., 0.]])\n",
    "print((ex_bond == bond_featurizer(mol)['feat']).all())\n",
    "print(bond_featurizer.feat_size('feat'))"
   ],
   "metadata": {
    "collapsed": false,
    "ExecuteTime": {
     "end_time": "2024-02-16T15:27:12.540336Z",
     "start_time": "2024-02-16T15:27:12.531806Z"
    }
   },
   "id": "429f8479ee645c2"
  },
  {
   "cell_type": "markdown",
   "source": [
    "Bonds are saved twice for graph use."
   ],
   "metadata": {
    "collapsed": false
   },
   "id": "1dccb25c3474d4c3"
  },
  {
   "cell_type": "code",
   "execution_count": 5,
   "outputs": [],
   "source": [
    "from urllib.request import urlretrieve\n",
    "url = 'https://figshare.com/articles/dataset/Jean_Claude_Bradley_Double_Plus_Good_Highly_Curated_and_Validated_Melting_Point_Dataset/1031638'\n",
    "filename = 'data.xlsx'\n",
    "urlretrieve(url, filename)"
   ],
   "metadata": {
    "collapsed": false,
    "ExecuteTime": {
     "end_time": "2024-02-16T14:18:48.722264Z",
     "start_time": "2024-02-16T14:18:48.452441Z"
    }
   },
   "id": "5accd0902682e715"
  },
  {
   "cell_type": "code",
   "execution_count": 6,
   "outputs": [
    {
     "name": "stdout",
     "output_type": "stream",
     "text": [
      "['C', 'O', 'N', 'F', 'S', 'Br', 'Cl', 'I', 'H', 'B', 'P', 'Si']\n"
     ]
    },
    {
     "data": {
      "text/plain": "                                                 smiles\n0                                             C1(CCC1)C\n1                                                   C#C\n2                                           CCCOC(=O)CC\n3                                         CC(=C)OC(=O)C\n4                                               CCCOC=O\n...                                                 ...\n1226                                        CCCC(=O)OCC\n1227                                     c1ccc2CCCCc2c1\n1228                         CC(C)(c1ccc(O)cc1)c2ccccc2\n1229                                        CC(C)(CO)CO\n1230  CC=2CCC[C@](C)(C)C=2/C=CC(C)=CC=CC(C)=CC=CC=C(...\n\n[1231 rows x 1 columns]",
      "text/html": "<div>\n<style scoped>\n    .dataframe tbody tr th:only-of-type {\n        vertical-align: middle;\n    }\n\n    .dataframe tbody tr th {\n        vertical-align: top;\n    }\n\n    .dataframe thead th {\n        text-align: right;\n    }\n</style>\n<table border=\"1\" class=\"dataframe\">\n  <thead>\n    <tr style=\"text-align: right;\">\n      <th></th>\n      <th>smiles</th>\n    </tr>\n  </thead>\n  <tbody>\n    <tr>\n      <th>0</th>\n      <td>C1(CCC1)C</td>\n    </tr>\n    <tr>\n      <th>1</th>\n      <td>C#C</td>\n    </tr>\n    <tr>\n      <th>2</th>\n      <td>CCCOC(=O)CC</td>\n    </tr>\n    <tr>\n      <th>3</th>\n      <td>CC(=C)OC(=O)C</td>\n    </tr>\n    <tr>\n      <th>4</th>\n      <td>CCCOC=O</td>\n    </tr>\n    <tr>\n      <th>...</th>\n      <td>...</td>\n    </tr>\n    <tr>\n      <th>1226</th>\n      <td>CCCC(=O)OCC</td>\n    </tr>\n    <tr>\n      <th>1227</th>\n      <td>c1ccc2CCCCc2c1</td>\n    </tr>\n    <tr>\n      <th>1228</th>\n      <td>CC(C)(c1ccc(O)cc1)c2ccccc2</td>\n    </tr>\n    <tr>\n      <th>1229</th>\n      <td>CC(C)(CO)CO</td>\n    </tr>\n    <tr>\n      <th>1230</th>\n      <td>CC=2CCC[C@](C)(C)C=2/C=CC(C)=CC=CC(C)=CC=CC=C(...</td>\n    </tr>\n  </tbody>\n</table>\n<p>1231 rows × 1 columns</p>\n</div>"
     },
     "execution_count": 6,
     "metadata": {},
     "output_type": "execute_result"
    }
   ],
   "source": [
    "import os\n",
    "import pathlib\n",
    "print(pathlib.Path().absolute())"
   ],
   "metadata": {
    "collapsed": false,
    "ExecuteTime": {
     "end_time": "2024-02-16T14:20:24.711686Z",
     "start_time": "2024-02-16T14:20:24.683534Z"
    }
   },
   "id": "e600556878898d5b"
  },
  {
   "cell_type": "code",
   "execution_count": 16,
   "outputs": [],
   "source": [
    "import pandas as pd\n",
    "df = pd.read_excel('/Users/faerte/Desktop/dgl_chem/data-sets/BradleyDoublePlusGoodMeltingPointDataset.xlsx')"
   ],
   "metadata": {
    "collapsed": false,
    "ExecuteTime": {
     "end_time": "2024-02-16T13:35:16.624364Z",
     "start_time": "2024-02-16T13:35:16.253677Z"
    }
   },
   "id": "ec32a587cb8146b2"
  },
  {
   "cell_type": "code",
   "execution_count": 26,
   "outputs": [
    {
     "name": "stdout",
     "output_type": "stream",
     "text": [
      "['N', 'I', 'B', 'P', 'S', 'C', 'H', 'O', 'F']\n"
     ]
    }
   ],
   "source": [
    "set(df.smiles.sum())\n",
    "\n",
    "all_letters = []\n",
    "al = set(df.smiles.sum())\n",
    "for item in al:\n",
    "    if item.isupper():\n",
    "        all_letters.append(item)\n",
    "\n",
    "print(all_letters)\n"
   ],
   "metadata": {
    "collapsed": false,
    "ExecuteTime": {
     "end_time": "2024-02-16T13:51:28.277889Z",
     "start_time": "2024-02-16T13:51:28.272045Z"
    }
   },
   "id": "50d7c598be0af0a"
  },
  {
   "cell_type": "code",
   "execution_count": 35,
   "outputs": [
    {
     "name": "stdout",
     "output_type": "stream",
     "text": [
      "['C', 'O', 'N', 'F', 'S', 'Br', 'Cl', 'I', 'H', 'B', 'P', 'Si']\n"
     ]
    }
   ],
   "source": [
    "import re\n",
    "list_elements = []\n",
    "for mol in df.smiles:\n",
    "    al = re.findall('[A-Z][a-z]?', mol)\n",
    "    for a in range(len(al)):\n",
    "        al[a] = re.sub('[A-Z]c', '', al[a])\n",
    "        al[a] = re.sub('[A-Z]n', '', al[a])\n",
    "        if not al[a] in list_elements and not al[a]=='':\n",
    "            list_elements.append(al[a])\n",
    "print(list_elements)"
   ],
   "metadata": {
    "collapsed": false,
    "ExecuteTime": {
     "end_time": "2024-02-16T14:09:37.507300Z",
     "start_time": "2024-02-16T14:09:37.502063Z"
    }
   },
   "id": "8472bdd665298fee"
  },
  {
   "cell_type": "code",
   "execution_count": null,
   "outputs": [],
   "source": [],
   "metadata": {
    "collapsed": false
   },
   "id": "72a21e47ce7e21b7"
  }
 ],
 "metadata": {
  "kernelspec": {
   "display_name": "Python 3",
   "language": "python",
   "name": "python3"
  },
  "language_info": {
   "codemirror_mode": {
    "name": "ipython",
    "version": 2
   },
   "file_extension": ".py",
   "mimetype": "text/x-python",
   "name": "python",
   "nbconvert_exporter": "python",
   "pygments_lexer": "ipython2",
   "version": "2.7.6"
  }
 },
 "nbformat": 4,
 "nbformat_minor": 5
}
