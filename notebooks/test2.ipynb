{
 "cells": [
  {
   "cell_type": "code",
   "execution_count": 1,
   "id": "initial_id",
   "metadata": {
    "collapsed": true,
    "ExecuteTime": {
     "end_time": "2024-04-03T20:03:21.239408Z",
     "start_time": "2024-04-03T20:03:17.336262Z"
    }
   },
   "outputs": [
    {
     "name": "stdout",
     "output_type": "stream",
     "text": [
      "Loaded dataset.\n"
     ]
    },
    {
     "name": "stderr",
     "output_type": "stream",
     "text": [
      "epoch=0, training loss= 0.802, validation loss= 0.636: 100%|██████████| 1/1 [00:00<00:00,  1.41it/s]\n",
      "100%|██████████| 10/10 [00:00<00:00, 212.33it/s]\n"
     ]
    },
    {
     "name": "stdout",
     "output_type": "stream",
     "text": [
      "Test loss: 0.712\n"
     ]
    },
    {
     "name": "stderr",
     "output_type": "stream",
     "text": [
      "100%|██████████| 10/10 [00:00<00:00, 206.12it/s]\n"
     ]
    },
    {
     "data": {
      "text/plain": "{'mse': 0.725608113941884}"
     },
     "execution_count": 1,
     "metadata": {},
     "output_type": "execute_result"
    }
   ],
   "source": [
    "from grape.utils import DataSet\n",
    "data = DataSet(file_path='/Users/faerte/Desktop/grape/notebooks/data/processed/BradleyDoublePlus.pickle')\n",
    "train, test, val = data.get_splits()\n",
    "\n",
    "from grape.models import MGConv, SimpleGNN\n",
    "import torch\n",
    "\n",
    "node_hidden_dim = 64\n",
    "batch_size = 32\n",
    "\n",
    "model_message = MGConv(num_layers=5, edge_hidden_dim=64, node_hidden_dim=node_hidden_dim, \n",
    "                node_in_dim=data.num_node_features, edge_in_dim=data.num_edge_features)\n",
    "\n",
    "model = SimpleGNN(model_message=model_message,\n",
    "                      input_pool_size=node_hidden_dim, \n",
    "                      output_size=1)\n",
    "\n",
    "device = torch.device('cpu')\n",
    "\n",
    "from torch import nn\n",
    "\n",
    "loss_func = nn.functional.mse_loss\n",
    "optimizer = torch.optim.Adam(model.parameters(), lr=0.001, weight_decay=5e-4)\n",
    "\n",
    "from grape.utils import train_model\n",
    "\n",
    "train_loss, val_loss = train_model(model = model,\n",
    "                                   loss_func = loss_func,\n",
    "                                   optimizer = optimizer,\n",
    "                                   train_data_loader= train,\n",
    "                                   val_data_loader = val,\n",
    "                                   batch_size=batch_size,\n",
    "                                   epochs=1,\n",
    "                                   early_stopping=True,\n",
    "                                   patience=20)\n",
    "\n",
    "from grape.utils import test_model\n",
    "test_model(model = model,\n",
    "           test_data_loader= test,\n",
    "           loss_func= loss_func);\n",
    "\n",
    "\n",
    "from grape.utils import pred_metric\n",
    "from grape.utils import SubSet, torch_subset_to_SubSet\n",
    "import numpy as np\n",
    "\n",
    "# Generate predictions (we save the latents for later)\n",
    "preds, lats = test_model(model=model,\n",
    "                   test_data_loader=test,\n",
    "                   loss_func=None)\n",
    "\n",
    "test = torch_subset_to_SubSet(test)\n",
    "\n",
    "lats = lats.cpu().detach().numpy()\n",
    "\n",
    "pred_metric(preds, test.y)"
   ]
  },
  {
   "cell_type": "code",
   "execution_count": 2,
   "outputs": [
    {
     "name": "stdout",
     "output_type": "stream",
     "text": [
      "(64, 2)\n",
      "(299, 64)\n",
      "(299, 2)\n"
     ]
    }
   ],
   "source": [
    "from sklearn.decomposition import PCA\n",
    "model_pca = PCA(n_components=2)\n",
    "model_pca.fit(lats)\n",
    "\n",
    "V = model_pca.components_.T\n",
    "print(V.shape)\n",
    "print(lats.shape)\n",
    "projection = lats@V\n",
    "print(projection.shape)"
   ],
   "metadata": {
    "collapsed": false,
    "ExecuteTime": {
     "end_time": "2024-04-03T20:03:21.281967Z",
     "start_time": "2024-04-03T20:03:21.243033Z"
    }
   },
   "id": "ce27add128728ed0"
  },
  {
   "cell_type": "code",
   "execution_count": 3,
   "outputs": [
    {
     "name": "stdout",
     "output_type": "stream",
     "text": [
      "Found log file in working directory.\n",
      "Loaded existing log_file. Here is the data head:\n",
      "  filename                                             smiles\n",
      "0   0.json                                           CC(C)CCO\n",
      "1   1.json                                 COC(=O)c1ccc(I)cc1\n",
      "2   3.json                                              C=CCN\n",
      "3   0.json                                   N#Cc1ccc(C#N)cc1\n",
      "4   1.json  Clc1c(Cl)c(Cl)c(-c2c(Cl)c(Cl)c(Cl)c(Cl)c2Cl)c(...\n",
      "5   2.json                                CCOC(=O)c1ccc(O)cc1\n",
      "6   3.json             O=[N+]([O-])c1ccc(Cl)c([N+](=O)[O-])c1\n",
      "7   4.json                                O=C1CCN(c2ccccc2)N1\n",
      "8   5.json                                         CC=C(C)CCC\n",
      "9   6.json                        O=C(O)c1c(F)c(F)c(F)c(F)c1F\n",
      "Mol 4 in log datafile, so skipping it.\n",
      "Mol 9 in log datafile, so skipping it.\n"
     ]
    },
    {
     "name": "stderr",
     "output_type": "stream",
     "text": [
      "100%|██████████| 8/8 [00:14<00:00,  1.80s/it]\n"
     ]
    }
   ],
   "source": [
    "from grape.utils import classyfire, classyfire_result_analysis\n",
    "ids = classyfire(test.smiles[:10])\n",
    "mols_class, _ = classyfire_result_analysis()"
   ],
   "metadata": {
    "collapsed": false,
    "ExecuteTime": {
     "end_time": "2024-04-03T20:03:35.859585Z",
     "start_time": "2024-04-03T20:03:21.292412Z"
    }
   },
   "id": "26fe1643950c55ea"
  },
  {
   "cell_type": "code",
   "execution_count": 7,
   "outputs": [
    {
     "name": "stdout",
     "output_type": "stream",
     "text": [
      "{833: 'Lipids and lipid-like molecules', 1028: 'Hydrocarbons', 0: 'Benzenoids', 1: 'Organoheterocyclic compounds', 2: 'Hydrocarbons', 3: 'Lipids and lipid-like molecules', 5: 'Benzenoids', 6: 'Benzenoids', 7: 'Benzenoids', 8: 'Organic acids and derivatives'}\n",
      "[2 1 0 4 1 2 0 0 0 3]\n"
     ]
    }
   ],
   "source": [
    "mols_class, _ = classyfire_result_analysis(idx=ids)\n",
    "print(mols_class)\n",
    "from sklearn.preprocessing import LabelEncoder\n",
    "enc = LabelEncoder()\n",
    "labels = enc.fit_transform(list(mols_class.values()))\n",
    "print(labels)"
   ],
   "metadata": {
    "collapsed": false,
    "ExecuteTime": {
     "end_time": "2024-04-03T20:03:50.023098Z",
     "start_time": "2024-04-03T20:03:50.012523Z"
    }
   },
   "id": "7dd16e08014b5d99"
  },
  {
   "cell_type": "code",
   "execution_count": 8,
   "outputs": [
    {
     "data": {
      "text/plain": "<matplotlib.collections.PathCollection at 0x31a3a4e50>"
     },
     "execution_count": 8,
     "metadata": {},
     "output_type": "execute_result"
    },
    {
     "data": {
      "text/plain": "<Figure size 800x800 with 1 Axes>",
      "image/png": "[encoded data removed]"
     },
     "metadata": {},
     "output_type": "display_data"
    }
   ],
   "source": [
    "import matplotlib.pyplot as plt\n",
    "fig, ax = plt.subplots(figsize=(8,8))\n",
    "ax.scatter(projection[:10,0], projection[:10,1], c = labels)\n"
   ],
   "metadata": {
    "collapsed": false,
    "ExecuteTime": {
     "end_time": "2024-04-03T20:04:08.911362Z",
     "start_time": "2024-04-03T20:04:08.820345Z"
    }
   },
   "id": "8a695fd4e804ab3"
  },
  {
   "cell_type": "code",
   "execution_count": null,
   "outputs": [],
   "source": [
    "import os\n",
    "import pandas as pd\n",
    "\n",
    "def file_in_dir(directory, filename):\n",
    "    for root, dirs, files in os.walk(directory):\n",
    "        if filename in files:\n",
    "            return True\n",
    "\n",
    "\n",
    "class classyfire(object):\n",
    "    \"\"\"\n",
    "    \n",
    "    \"\"\"\n",
    "    \n",
    "    def __init__(self, path_to_export: str = None,\n",
    "               record_log_file: bool = True, existing_log_file: str = None):\n",
    "        \n",
    "        if path_to_export is None:\n",
    "\n",
    "            path_to_export = os.getcwd() + '/analysis_results'\n",
    "    \n",
    "            if not os.path.exists(path_to_export):\n",
    "                os.mkdir(path_to_export)\n",
    "    \n",
    "            if existing_log_file is None:\n",
    "                if file_in_dir(path_to_export, 'recorded_SMILES.csv'):\n",
    "                    print('Found log file in working directory.')\n",
    "                    existing_log_file = os.path.join(path_to_export,'recorded_SMILES.csv')\n",
    "                    \n",
    "        if record_log_file and existing_log_file is None:\n",
    "            self.log_file = os.path.join(path_to_export, 'recorded_SMILES.csv')\n",
    "            self.log_frame = pd.DataFrame({'filename':[], 'smiles':[]})\n",
    "        \n",
    "        elif existing_log_file is not None:\n",
    "            try:\n",
    "                self.log_frame = pd.read_csv(existing_log_file)\n",
    "                log_file = existing_log_file\n",
    "                print('Loaded existing log_file. Here is the data head:')\n",
    "                #print(log_frame.head(10))\n",
    "            except:\n",
    "                print('Passed log_file is not valid, creating a new one.')\n",
    "                self.log_file = os.path.join(path_to_export, 'recorded_SMILES.csv')\n",
    "                self.log_frame = pd.DataFrame({'filename': [], 'smiles': []})\n",
    "        \n",
    "    #def retrieve_classyfiles(self):\n",
    "        \n"
   ],
   "metadata": {
    "collapsed": false,
    "ExecuteTime": {
     "end_time": "2024-04-03T20:03:36.440511Z",
     "start_time": "2024-04-03T20:03:36.435930Z"
    }
   },
   "id": "3440f748ea3f775"
  },
  {
   "cell_type": "code",
   "execution_count": 1,
   "outputs": [
    {
     "name": "stdout",
     "output_type": "stream",
     "text": [
      "Number of single molecule clusters: 124 and the ratio is: 0.432 of single molecule clusters.\n"
     ]
    }
   ],
   "source": [
    "from grape.datasets import BradleyDoublePlus\n",
    "from grape.utils.data_splitting import taylor_butina_clustering\n",
    "data = BradleyDoublePlus()\n",
    "\n",
    "train, val, test = taylor_butina_clustering(data, threshold=0.8, radius=3)"
   ],
   "metadata": {
    "collapsed": false,
    "ExecuteTime": {
     "end_time": "2024-04-04T07:08:16.338732Z",
     "start_time": "2024-04-04T07:08:10.782273Z"
    }
   },
   "id": "7358c6fff531beea"
  },
  {
   "cell_type": "code",
   "execution_count": 4,
   "outputs": [
    {
     "name": "stdout",
     "output_type": "stream",
     "text": [
      "Data(x=[9, 42], edge_index=[2, 18], edge_attr=[18, 12], y=[1])\n"
     ]
    }
   ],
   "source": [
    "print(train[0])"
   ],
   "metadata": {
    "collapsed": false,
    "ExecuteTime": {
     "end_time": "2024-04-04T07:08:37.911542Z",
     "start_time": "2024-04-04T07:08:37.900505Z"
    }
   },
   "id": "d6cc30169757d12c"
  },
  {
   "cell_type": "code",
   "execution_count": null,
   "outputs": [],
   "source": [],
   "metadata": {
    "collapsed": false
   },
   "id": "2ee3607da0a505a8"
  }
 ],
 "metadata": {
  "kernelspec": {
   "display_name": "Python 3",
   "language": "python",
   "name": "python3"
  },
  "language_info": {
   "codemirror_mode": {
    "name": "ipython",
    "version": 2
   },
   "file_extension": ".py",
   "mimetype": "text/x-python",
   "name": "python",
   "nbconvert_exporter": "python",
   "pygments_lexer": "ipython2",
   "version": "2.7.6"
  }
 },
 "nbformat": 4,
 "nbformat_minor": 5
}
