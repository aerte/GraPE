{
 "cells": [
  {
   "metadata": {},
   "cell_type": "markdown",
   "source": "# Overview",
   "id": "b167ebc4245cb13c"
  },
  {
   "metadata": {},
   "cell_type": "markdown",
   "source": "The goal of this notebook is to demonstrate how ``GraPE`` for a more advanced workflow and in the context of hyperparameter optimization. Specifically, we will have a look at global features and demonstrating how we used the **BOHB** (Bayesian Optimization with HyperBand) by [1] as implemented in ``Ray-Tune``.",
   "id": "4da6634ab4d126b"
  },
  {
   "metadata": {},
   "cell_type": "markdown",
   "source": "# Using Global Features",
   "id": "61c84329e042ba3e"
  },
  {
   "metadata": {},
   "cell_type": "markdown",
   "source": [
    "A global feature is a type of data that, in the context of molecules and graphs, describes extra, graph level information. Specifically, global features *are not* the target of whatever problem a GNN tries to solve. For instance, if we use the ``QM9`` dataset ([link](https://pytorch-geometric.readthedocs.io/en/latest/generated/torch_geometric.datasets.QM9.html)), we could use the *heat capacity* as our primary target and the *Dipole moment* as our global feature. These global features are then concatenated to the (last) latent representation of the GNN (after read-out). This simple introduction of the global features to the system has been shown to yield higher performance [2] without any new cost. \n",
    "\n",
    "In the following, we will train a simple MPNN on the QM9 dataset using the heat capacity as our target and and the Dipole moment as a global feature."
   ],
   "id": "1e25bfd0bab3bb09"
  },
  {
   "metadata": {
    "ExecuteTime": {
     "end_time": "2024-06-02T13:19:40.408615Z",
     "start_time": "2024-06-02T13:18:19.111436Z"
    }
   },
   "cell_type": "code",
   "source": [
    "from grape.datasets import QM9\n",
    "\n",
    "# The ids are based on the way it is stored in PyG\n",
    "data = QM9(target_id=5, global_feature_id=0)"
   ],
   "id": "17b9a615c98678b6",
   "outputs": [],
   "execution_count": 1
  },
  {
   "metadata": {
    "ExecuteTime": {
     "end_time": "2024-06-02T13:19:40.413093Z",
     "start_time": "2024-06-02T13:19:40.409642Z"
    }
   },
   "cell_type": "code",
   "source": [
    "print('Some example features:\\n')\n",
    "print('SMILES: ', data.smiles[:10], '\\n')\n",
    "print('Heat capacity: ', data.target[:10], '\\n')\n",
    "print('Dipole moment: ',data.global_features[:10], '\\n')"
   ],
   "id": "c4f99e4a27469702",
   "outputs": [
    {
     "name": "stdout",
     "output_type": "stream",
     "text": [
      "Some example features:\n",
      "\n",
      "SMILES:  ['C#C' 'C#N' 'C=O' 'CC' 'CO' 'C#CC' 'CC#N' 'CC=O' 'NC=O' 'CCC'] \n",
      "\n",
      "Heat capacity:  [ 59.5248  48.7476  59.9891 109.5031  83.794  177.1963 160.7223 166.9728\n",
      " 145.3078 227.1361] \n",
      "\n",
      "Dipole moment:  tensor([0.0000, 1.6256, 1.8511, 0.0000, 2.8937, 2.1089, 0.0000, 1.5258, 0.7156,\n",
      "        3.8266]) \n",
      "\n"
     ]
    }
   ],
   "execution_count": 2
  },
  {
   "metadata": {},
   "cell_type": "markdown",
   "source": "To reduce the computation time for this example, we will only consider a subset of 3000 SMILES from QM9. However, one can just skip the following step if the whole dataset is to be used:",
   "id": "8fc799be0d3b73f6"
  },
  {
   "metadata": {
    "ExecuteTime": {
     "end_time": "2024-06-02T13:19:41.733168Z",
     "start_time": "2024-06-02T13:19:40.413680Z"
    }
   },
   "cell_type": "code",
   "source": [
    "from grape.utils import DataSet\n",
    "\n",
    "\n",
    "data = DataSet(smiles=data.smiles[:3000], target=data.target[:3000],\n",
    "                           global_features=data.global_features[:3000])"
   ],
   "id": "c699fe675609d9b4",
   "outputs": [],
   "execution_count": 3
  },
  {
   "metadata": {},
   "cell_type": "markdown",
   "source": "We now prepare the data as usual:",
   "id": "5941504d0a1c5627"
  },
  {
   "metadata": {
    "ExecuteTime": {
     "end_time": "2024-06-02T13:19:42.622447Z",
     "start_time": "2024-06-02T13:19:41.734690Z"
    }
   },
   "cell_type": "code",
   "source": "train, val, test = data.split_and_scale(scale=True, split_type='random', seed=1234)",
   "id": "3040c854630c00e5",
   "outputs": [],
   "execution_count": 4
  },
  {
   "metadata": {},
   "cell_type": "markdown",
   "source": "Initializing the model:",
   "id": "19a9e50b8f86bc8d"
  },
  {
   "metadata": {
    "ExecuteTime": {
     "end_time": "2024-06-02T13:19:42.651616Z",
     "start_time": "2024-06-02T13:19:42.623131Z"
    }
   },
   "cell_type": "code",
   "source": [
    "from grape.models import MPNN\n",
    "\n",
    "model = MPNN(node_in_dim=data.num_node_features, edge_in_dim=data.num_edge_features, num_global_feats=1)"
   ],
   "id": "1cb5cd995b706d55",
   "outputs": [],
   "execution_count": 5
  },
  {
   "metadata": {},
   "cell_type": "markdown",
   "source": "**Note that we must now specify how many global features we are adding,** in addition to how many node and edge features we have. But the rest stays the same.",
   "id": "d18ef8f7dd625e76"
  },
  {
   "metadata": {},
   "cell_type": "markdown",
   "source": "Let us now specify all the required training elements:",
   "id": "782efdd2cb4bc244"
  },
  {
   "metadata": {
    "ExecuteTime": {
     "end_time": "2024-06-02T13:19:42.654912Z",
     "start_time": "2024-06-02T13:19:42.652411Z"
    }
   },
   "cell_type": "code",
   "source": [
    "import torch\n",
    "from grape.utils import EarlyStopping\n",
    "from torch.optim import lr_scheduler\n",
    "\n",
    "# optimizer\n",
    "optimizer = torch.optim.Adam(model.parameters(), lr=1e-3, weight_decay=1e-6)\n",
    "\n",
    "\n",
    "# Early stopper\n",
    "early_stopper = EarlyStopping(patience=30, model_name='best_model')\n",
    "\n",
    "# Learning rate scheduler\n",
    "scheduler = lr_scheduler.ReduceLROnPlateau(optimizer, mode='min', factor=0.9, min_lr=0.0000000000001, patience=15)"
   ],
   "id": "ebf013ec734007a5",
   "outputs": [],
   "execution_count": 6
  },
  {
   "metadata": {},
   "cell_type": "markdown",
   "source": "We now train and plot the training/validation loss:",
   "id": "e9dc571ad546399"
  },
  {
   "metadata": {
    "ExecuteTime": {
     "end_time": "2024-06-02T13:21:59.332020Z",
     "start_time": "2024-06-02T13:19:42.655578Z"
    }
   },
   "cell_type": "code",
   "source": [
    "from grape.utils import train_model\n",
    "\n",
    "train_loss, val_loss = train_model(model = model,\n",
    "                                  loss_func = 'mse',\n",
    "                                  optimizer = optimizer,\n",
    "                                  train_data_loader= train,\n",
    "                                  val_data_loader = val,\n",
    "                                  batch_size=300,\n",
    "                                  epochs=300,\n",
    "                                  early_stopper=early_stopper,\n",
    "                                   scheduler=scheduler)\n",
    "\n",
    "model.load_state_dict(torch.load('best_model.pt'))\n",
    "\n",
    "from grape.plots import loss_plot\n",
    "loss_plot([train_loss, val_loss], ['train loss', 'test loss'], early_stopper.stop_epoch)"
   ],
   "id": "2db9687f781c8d52",
   "outputs": [
    {
     "name": "stderr",
     "output_type": "stream",
     "text": [
      "epoch=238, training loss= 0.018, validation loss= 0.068:  79%|███████▉  | 238/300 [02:16<00:35,  1.74it/s]"
     ]
    },
    {
     "name": "stdout",
     "output_type": "stream",
     "text": [
      "Early stopping reached with best validation loss 0.0609\n",
      "Model saved at: best_model.pt\n"
     ]
    },
    {
     "name": "stderr",
     "output_type": "stream",
     "text": [
      "\n"
     ]
    },
    {
     "data": {
      "text/plain": [
       "<Figure size 1000x500 with 1 Axes>"
      ],
      "image/png": "[encoded data removed]"
     },
     "metadata": {},
     "output_type": "display_data"
    }
   ],
   "execution_count": 7
  },
  {
   "metadata": {},
   "cell_type": "markdown",
   "source": [
    "As one might be able to tell from the above code, the only two things that changed was (1) we need to initialize/use data that has a valid global feature and (2) we need to specify how many global features we are adding to the model.\n",
    "\n",
    "If global features are available, it is worth adding them! "
   ],
   "id": "985e31e7a19e9a43"
  },
  {
   "metadata": {},
   "cell_type": "markdown",
   "source": "",
   "id": "ef730a00f5d16399"
  },
  {
   "metadata": {},
   "cell_type": "markdown",
   "source": "# BOHB and Hyperparameter Optimization",
   "id": "95562d59fd033945"
  },
  {
   "metadata": {},
   "cell_type": "markdown",
   "source": [
    "In this second part of the advanced demonstration, we will have a look at hyperparameter optimization, how GraPE fits in and Ray-Tune. Note that for this, we need to install the packages:\n",
    "\n",
    "``ray``, ``ConfigSpace==0.4.18`` and ``hpbandster==0.7.4``.\n",
    "\n",
    "Let us briefly review what the core of the BOHB algorithm is. Essentially, it consists of two parts: Bayesian Optimization [3] (BO-) and HyperBand [4] (-HB), each acting as the search algorithm and a trial scheduler respectively. Bayesian optimization leverages Gaussian processes to sample the search space in a 'smart' way that optimizes the evaluation metric, and while it is very powerful, it can take a long time. To offset this, BOHB adds HyperBand, which is a bandit-based trial scheduler, capable of terminating and restarting trials to maximize trial run-time efficiency. Together, these two algorithm profit from each others strengths.\n",
    "\n",
    "\n",
    "For more information on the algorithm itself please see their GitHub repo ([github](https://github.com/automl/HpBandSter.git)) or their blog post reviewing their paper ([blog-post](https://www.automl.org/blog_bohb/))."
   ],
   "id": "f606e6fe49a7a5c0"
  },
  {
   "metadata": {},
   "cell_type": "markdown",
   "source": [
    "## Ray Tune\n",
    "\n",
    "Ray (https://github.com/ray-project/ray) and specifically Ray Tune is a package offers streamlined hyperparameter optimization. For hyperparameter optimization using it, we need three things:\n",
    "* a parameter search space\n",
    "* an objective function which contains training and validation\n",
    "* a ray tuner\n",
    "\n",
    "For more information on how to use BOHB with ray-tune please check out ([using BOHB](https://docs.ray.io/en/latest/tune/examples/bohb_example.html)) and ([using checkpoints](https://docs.ray.io/en/latest/train/user-guides/checkpoints.html#train-checkpointing)).\n",
    "\n",
    "The model we will be using is AFP and the dataset is FreeSolv. As for hyperparameters, let us optimize the learning rate, the hidden (node) representation size and the number of hidden output (MLP) layers.\n",
    "\n",
    "Let us start with defining the search space:"
   ],
   "id": "d1268f7fed6e3039"
  },
  {
   "metadata": {
    "ExecuteTime": {
     "end_time": "2024-06-02T14:17:51.613244Z",
     "start_time": "2024-06-02T14:17:51.608894Z"
    }
   },
   "cell_type": "code",
   "source": [
    "import ConfigSpace as CS\n",
    "config_space = CS.ConfigurationSpace()\n",
    "config_space.add_hyperparameter(CS.UniformIntegerHyperparameter(\"mlp_out\", lower=1, upper=5))\n",
    "config_space.add_hyperparameter(CS.UniformIntegerHyperparameter(\"gnn_hidden_dim\", lower=32, upper=256))\n",
    "config_space.add_hyperparameter(CS.UniformFloatHyperparameter('initial_lr', lower=1e-5, upper=1e-1));"
   ],
   "id": "29fd10bf0ed254c9",
   "outputs": [],
   "execution_count": 11
  },
  {
   "metadata": {},
   "cell_type": "markdown",
   "source": "Now we need to define an objective function. Specifically, this function needs to (1) take a configuration dictionary ``config`` holding the trial hyperparameters, (2) load a model based on that config-dictionary and (3) load the correct data. All of this needs to happen **inside** the function, as Tune will need to load multiple different instances of data and models.",
   "id": "51dbf6a6512ba9ba"
  },
  {
   "metadata": {
    "ExecuteTime": {
     "end_time": "2024-06-02T14:48:57.151831Z",
     "start_time": "2024-06-02T14:48:57.139130Z"
    }
   },
   "cell_type": "code",
   "source": [
    "import os\n",
    "import tempfile\n",
    "from grape.models import AFP\n",
    "from grape.datasets import FreeSolv\n",
    "from grape.utils import return_hidden_layers, train_epoch, val_epoch, set_seed\n",
    "from torch_geometric.loader import DataLoader\n",
    "from ray.train import Checkpoint\n",
    "\n",
    "# Seed everything\n",
    "set_seed(42)\n",
    "\n",
    "def trainable(config: dict, device:torch.device):\n",
    "        \"\"\" The trainable for Ray-Tune.\n",
    "\n",
    "        Parameters\n",
    "        -----------\n",
    "            config: dict\n",
    "                A ConfigSpace dictionary adhering to the required parameters in the trainable. Defines the search space of the HO.\n",
    "            device: torch.device\n",
    "        \"\"\"\n",
    "        \n",
    "        ################ load the data ##############\n",
    "        data = FreeSolv()\n",
    "        train_set, val_set, _ = data.split_and_scale(scale=True, split_type='random')\n",
    "        train_data = DataLoader(train_set, batch_size = 300)\n",
    "        val_data = DataLoader(val_set, batch_size = 300)\n",
    "        \n",
    "        ################ load the model ##############\n",
    "        \n",
    "        # Get mlp hidden layers\n",
    "        mlp = return_hidden_layers(config['mlp_out'])\n",
    "        \n",
    "        # Define the model\n",
    "        model = AFP(node_in_dim=data.num_node_features,edge_in_dim=data.num_edge_features, hidden_dim=config['gnn_hidden_dim'], mlp_out_hidden=mlp)\n",
    "        model.to(device=device)\n",
    "\n",
    "        \n",
    "        # We define training stuff\n",
    "        optimizer = torch.optim.Adam(model.parameters(), lr=config['initial_lr'], weight_decay=1e-6)\n",
    "        early_Stopper = EarlyStopping(patience=30, model_name='random', skip_save=True)\n",
    "        scheduler = lr_scheduler.ReduceLROnPlateau(optimizer, mode='min', factor=0.999, min_lr=1e-10, patience=10)\n",
    "        loss_function = torch.nn.functional.l1_loss\n",
    "\n",
    "        iterations = 300\n",
    "\n",
    "        start_epoch = 0\n",
    "        \n",
    "        # HyperBand uses checkpoint, so we need to check whether to load one\n",
    "        checkpoint = train.get_checkpoint()\n",
    "\n",
    "        if checkpoint:\n",
    "            with checkpoint.as_directory() as checkpoint_dir:\n",
    "                model_state_dict = torch.load(\n",
    "                    os.path.join(checkpoint_dir, \"model.pt\"),\n",
    "                    # map_location=...,  # Load onto a different device if needed.\n",
    "                )\n",
    "                model.module.load_state_dict(model_state_dict)\n",
    "                optimizer.load_state_dict(\n",
    "                    torch.load(os.path.join(checkpoint_dir, \"optimizer.pt\"))\n",
    "                )\n",
    "                start_epoch = (\n",
    "                    torch.load(os.path.join(checkpoint_dir, \"extra_state.pt\"))[\"epoch\"] + 1\n",
    "                )\n",
    "        \n",
    "        model.train()\n",
    "\n",
    "        for i in range(start_epoch, iterations):\n",
    "            # We take a training step\n",
    "            train_loss = train_epoch(model=model, loss_func=loss_function, optimizer=optimizer,train_loader=train_data, device=device)\n",
    "            # Then we validate that step\n",
    "            val_loss = val_epoch(model=model, loss_func=loss_function, val_loader=val_data, device=device)\n",
    "            scheduler.step(val_loss)\n",
    "            \n",
    "            # We check if we reached early stopping, and if so break out of the loop\n",
    "            early_Stopper(val_loss=val_loss, model=model)\n",
    "            if early_Stopper.stop:\n",
    "                train.report({\"mae_loss\": val_loss})\n",
    "                break\n",
    "            \n",
    "            with tempfile.TemporaryDirectory() as temp_checkpoint_dir:\n",
    "                checkpoint = None\n",
    "                \n",
    "                # We save a checkpoint if we don't early stop and are on n*15 epoch\n",
    "                should_checkpoint = i % config.get(\"checkpoint_freq\", 15) == 0\n",
    "                # In standard DDP training, where the model is the same across all ranks,\n",
    "                # only the global rank 0 worker needs to save and report the checkpoint\n",
    "                if train.get_context().get_world_rank() == 0 and should_checkpoint:\n",
    "                    # === Make sure to save all state needed for resuming training ===\n",
    "                    torch.save(\n",
    "                        model.module.state_dict(),  # NOTE: Unwrap the model.\n",
    "                        os.path.join(temp_checkpoint_dir, \"model.pt\"),\n",
    "                    )\n",
    "                    torch.save(\n",
    "                        optimizer.state_dict(),\n",
    "                        os.path.join(temp_checkpoint_dir, \"optimizer.pt\"),\n",
    "                    )\n",
    "                    torch.save(\n",
    "                        {\"epoch\": i},\n",
    "                        os.path.join(temp_checkpoint_dir, \"extra_state.pt\"),\n",
    "                    )\n",
    "                    # ================================================================\n",
    "                    checkpoint = Checkpoint.from_directory(temp_checkpoint_dir)\n",
    "                \n",
    "                # We report the training criteria\n",
    "                train.report({\"mae_loss\": val_loss}, checkpoint=checkpoint)"
   ],
   "id": "2fbbef80356c2eee",
   "outputs": [
    {
     "name": "stderr",
     "output_type": "stream",
     "text": [
      "[W ParallelNative.cpp:230] Warning: Cannot set number of intraop threads after parallel work has started or after set_num_threads call when using native parallel backend (function set_num_threads)\n"
     ]
    }
   ],
   "execution_count": 26
  },
  {
   "metadata": {},
   "cell_type": "markdown",
   "source": "The warning above is because we are working in the jupyter environment. The final building block to optimize is the ``Tuner``, essentially the object that controls the training procedure:",
   "id": "fef2f73ac24b60dd"
  },
  {
   "metadata": {
    "ExecuteTime": {
     "end_time": "2024-06-02T14:51:21.879732Z",
     "start_time": "2024-06-02T14:51:21.865286Z"
    }
   },
   "cell_type": "code",
   "source": [
    "from functools import partial\n",
    "from ray import tune, train\n",
    "from ray.tune.search.bohb import TuneBOHB\n",
    "from ray.tune.schedulers.hb_bohb import HyperBandForBOHB\n",
    "\n",
    "if torch.cuda.is_available():\n",
    "    device = torch.device(\"cuda\")\n",
    "    gpu = 1\n",
    "else:\n",
    "    device = torch.device(\"cpu\")\n",
    "    gpu = 0\n",
    "    \n",
    "# Partially initialize the trainable\n",
    "my_trainable = partial(trainable, device=device)\n",
    "\n",
    "# Give the tuner CPU and GPU resources\n",
    "trainable_with_resources = tune.with_resources(my_trainable, {\"cpu\":1, \"gpu\":gpu})\n",
    "\n",
    "### Define search algorithm to be BOHB\n",
    "algo = TuneBOHB(config_space,mode='min', metric=\"mae_loss\",)\n",
    "\n",
    "## Get the trial control algorithm\n",
    "scheduler = HyperBandForBOHB(\n",
    "    time_attr=\"training_iteration\",\n",
    "    max_t=10, # The iterations allowed per instance\n",
    "    )\n",
    "\n",
    "n_samples = 5 # These are the number of trials, ie. we should increase this for better results.\n",
    "\n",
    "## Initialize the tuner\n",
    "tuner = tune.Tuner(trainable_with_resources,\n",
    "              tune_config=tune.TuneConfig(\n",
    "                                        scheduler=scheduler,\n",
    "                                        search_alg=algo,\n",
    "                                        mode='min',\n",
    "                                        metric=\"mae_loss\",\n",
    "                                        num_samples=n_samples),\n",
    "              run_config=train.RunConfig(\n",
    "                                        name=\"bo_exp\",\n",
    "                                        stop={\"training_iteration\": 100}),\n",
    ")"
   ],
   "id": "2281501a0af68c06",
   "outputs": [],
   "execution_count": 35
  },
  {
   "metadata": {},
   "cell_type": "markdown",
   "source": [
    "That's it! The above code is (mostly) dataset and model agnostic, so we can freely change them around. Furthermore, we can either run this locally or remote (HPC) and scale it up as much as we want. But we have to be a bit careful if we want to switch out the algorithm or scheduler, as this will change some small details.\n",
    "\n",
    "Let us run the optimizer:"
   ],
   "id": "c9aec927c299929"
  },
  {
   "metadata": {},
   "cell_type": "code",
   "source": "result = tuner.fit(); # We suppress the output because it is quite long, but feel free to have a look yourself.",
   "id": "f10b91d0d5b77ea5",
   "execution_count": 36,
   "outputs": [
    {
     "data": {
      "text/plain": [
       "<IPython.core.display.HTML object>"
      ],
      "text/html": [
       "<div class=\"tuneStatus\">\n",
       "  <div style=\"display: flex;flex-direction: row\">\n",
       "    <div style=\"display: flex;flex-direction: column;\">\n",
       "      <h3>Tune Status</h3>\n",
       "      <table>\n",
       "<tbody>\n",
       "<tr><td>Current time:</td><td>2024-06-02 16:51:55</td></tr>\n",
       "<tr><td>Running for: </td><td>00:00:32.40        </td></tr>\n",
       "<tr><td>Memory:      </td><td>11.1/16.0 GiB      </td></tr>\n",
       "</tbody>\n",
       "</table>\n",
       "    </div>\n",
       "    <div class=\"vDivider\"></div>\n",
       "    <div class=\"systemInfo\">\n",
       "      <h3>System Info</h3>\n",
       "      Using HyperBand: num_stopped=4 total_brackets=1<br>Round #0:<br>  Bracket(Max Size (n)=1, Milestone (r)=9, completed=100.0%): {TERMINATED: 5} <br>Logical resource usage: 1.0/8 CPUs, 0/0 GPUs\n",
       "    </div>\n",
       "    \n",
       "  </div>\n",
       "  <div class=\"hDivider\"></div>\n",
       "  <div class=\"trialStatus\">\n",
       "    <h3>Trial Status</h3>\n",
       "    <table>\n",
       "<thead>\n",
       "<tr><th>Trial name        </th><th>status    </th><th>loc           </th><th style=\"text-align: right;\">  gnn_hidden_dim</th><th style=\"text-align: right;\">  initial_lr</th><th style=\"text-align: right;\">  mlp_out</th><th style=\"text-align: right;\">  iter</th><th style=\"text-align: right;\">  total time (s)</th><th style=\"text-align: right;\">   mae_loss</th></tr>\n",
       "</thead>\n",
       "<tbody>\n",
       "<tr><td>trainable_c1dc2e58</td><td>TERMINATED</td><td>127.0.0.1:5598</td><td style=\"text-align: right;\">             233</td><td style=\"text-align: right;\">   0.0980885</td><td style=\"text-align: right;\">        3</td><td style=\"text-align: right;\">     3</td><td style=\"text-align: right;\">         1.82239</td><td style=\"text-align: right;\">  17.5234  </td></tr>\n",
       "<tr><td>trainable_616f6126</td><td>TERMINATED</td><td>127.0.0.1:5581</td><td style=\"text-align: right;\">             173</td><td style=\"text-align: right;\">   0.0960087</td><td style=\"text-align: right;\">        5</td><td style=\"text-align: right;\">     1</td><td style=\"text-align: right;\">         2.0776 </td><td style=\"text-align: right;\">8746.58    </td></tr>\n",
       "<tr><td>trainable_d35f641e</td><td>TERMINATED</td><td>127.0.0.1:5606</td><td style=\"text-align: right;\">             106</td><td style=\"text-align: right;\">   0.0922371</td><td style=\"text-align: right;\">        1</td><td style=\"text-align: right;\">     9</td><td style=\"text-align: right;\">         1.97605</td><td style=\"text-align: right;\">   0.682645</td></tr>\n",
       "<tr><td>trainable_ee168c8a</td><td>TERMINATED</td><td>127.0.0.1:5603</td><td style=\"text-align: right;\">              82</td><td style=\"text-align: right;\">   0.0532304</td><td style=\"text-align: right;\">        4</td><td style=\"text-align: right;\">     3</td><td style=\"text-align: right;\">         0.94741</td><td style=\"text-align: right;\">   9.85959 </td></tr>\n",
       "<tr><td>trainable_f5492a64</td><td>TERMINATED</td><td>127.0.0.1:5596</td><td style=\"text-align: right;\">              95</td><td style=\"text-align: right;\">   0.0759375</td><td style=\"text-align: right;\">        4</td><td style=\"text-align: right;\">     1</td><td style=\"text-align: right;\">         1.58243</td><td style=\"text-align: right;\"> 288.643   </td></tr>\n",
       "</tbody>\n",
       "</table>\n",
       "  </div>\n",
       "</div>\n",
       "<style>\n",
       ".tuneStatus {\n",
       "  color: var(--jp-ui-font-color1);\n",
       "}\n",
       ".tuneStatus .systemInfo {\n",
       "  display: flex;\n",
       "  flex-direction: column;\n",
       "}\n",
       ".tuneStatus td {\n",
       "  white-space: nowrap;\n",
       "}\n",
       ".tuneStatus .trialStatus {\n",
       "  display: flex;\n",
       "  flex-direction: column;\n",
       "}\n",
       ".tuneStatus h3 {\n",
       "  font-weight: bold;\n",
       "}\n",
       ".tuneStatus .hDivider {\n",
       "  border-bottom-width: var(--jp-border-width);\n",
       "  border-bottom-color: var(--jp-border-color0);\n",
       "  border-bottom-style: solid;\n",
       "}\n",
       ".tuneStatus .vDivider {\n",
       "  border-left-width: var(--jp-border-width);\n",
       "  border-left-color: var(--jp-border-color0);\n",
       "  border-left-style: solid;\n",
       "  margin: 0.5em 1em 0.5em 1em;\n",
       "}\n",
       "</style>\n"
      ]
     },
     "metadata": {},
     "output_type": "display_data"
    },
    {
     "name": "stderr",
     "output_type": "stream",
     "text": [
      "2024-06-02 16:51:44,171\tINFO hyperband.py:543 -- Restoring from a previous point in time. Previous=1; Now=1\n",
      "2024-06-02 16:51:47,072\tINFO hyperband.py:543 -- Restoring from a previous point in time. Previous=1; Now=1\n",
      "2024-06-02 16:51:50,262\tINFO hyperband.py:543 -- Restoring from a previous point in time. Previous=1; Now=1\n",
      "2024-06-02 16:51:54,269\tINFO hyperband.py:543 -- Restoring from a previous point in time. Previous=3; Now=1\n",
      "2024-06-02 16:51:55,442\tWARNING experiment_state.py:205 -- Experiment state snapshotting has been triggered multiple times in the last 5.0 seconds. A snapshot is forced if `CheckpointConfig(num_to_keep)` is set, and a trial has checkpointed >= `num_to_keep` times since the last snapshot.\n",
      "You may want to consider increasing the `CheckpointConfig(num_to_keep)` or decreasing the frequency of saving checkpoints.\n",
      "You can suppress this error by setting the environment variable TUNE_WARN_EXCESSIVE_EXPERIMENT_CHECKPOINT_SYNC_THRESHOLD_S to a smaller value than the current threshold (5.0).\n",
      "2024-06-02 16:51:55,445\tINFO tune.py:1007 -- Wrote the latest version of all result files and experiment state to '/Users/faerte/ray_results/bo_exp' in 0.0045s.\n",
      "2024-06-02 16:51:55,448\tINFO tune.py:1039 -- Total run time: 32.41 seconds (32.40 seconds for the tuning loop).\n"
     ]
    }
   ]
  },
  {
   "metadata": {
    "ExecuteTime": {
     "end_time": "2024-06-02T14:52:01.503666Z",
     "start_time": "2024-06-02T14:52:01.500741Z"
    }
   },
   "cell_type": "code",
   "source": "print('Best config is: ', result.get_best_result().config)",
   "id": "6c5c92d57af25b1b",
   "outputs": [
    {
     "name": "stdout",
     "output_type": "stream",
     "text": [
      "Best config is:  {'gnn_hidden_dim': 106, 'initial_lr': 0.0922370639167152, 'mlp_out': 1}\n"
     ]
    }
   ],
   "execution_count": 38
  },
  {
   "metadata": {},
   "cell_type": "markdown",
   "source": "And that is our best set of hyperparameters for this (small) set of trials! Like mentioned, we expect the result to get better and better (up to a certain point) as we increase the number of trials.",
   "id": "fee3cc6089126e"
  },
  {
   "metadata": {},
   "cell_type": "markdown",
   "source": "",
   "id": "bb1a9fc33984d430"
  },
  {
   "metadata": {},
   "cell_type": "markdown",
   "source": [
    "# References:\n",
    "\n",
    "[1] Falkner, S., Klein, A., & Hutter, F. (2018). Bohb: Robust and efficient hyperparameter optimization at scale.\n",
    "\n",
    "[2] Na, G. S., Kim, H. W., & Chang, H. (2020). Costless performance improvement in machine learning for graph-based molecular analysis [PMID: 31928003]. Journal of Chemical Information and Modeling, 60 (3), 1137–1145. https://doi.org/10.1021/acs.jcim.9b00816\n",
    "\n",
    "[3] Shahriari, B., Swersky, K., Wang, Z., Adams, R. P., & de Freitas, N. (2016). Taking the human out of the loop: A review of bayesian optimization. Proceedings of the IEEE, 104 (1), 148–175. https://doi.org/10.1109/JPROC.2015.2494218\n",
    "\n",
    "[4] Li, L., Jamieson, K., DeSalvo, G., Rostamizadeh, A., & Talwalkar, A. (2018). Hyperband: A novel bandit-based approach to hyperparameter optimization."
   ],
   "id": "7fd5a2ef46408147"
  },
  {
   "metadata": {
    "ExecuteTime": {
     "end_time": "2024-06-02T15:12:36.075574Z",
     "start_time": "2024-06-02T15:12:28.839200Z"
    }
   },
   "cell_type": "code",
   "source": [
    "!export PATH=/Library/TeX/texbin:$PATH\n",
    "!jupyter nbconvert 'Advanced GraPE Demonstration.ipynb' --to pdf --no-prompt"
   ],
   "id": "5c4fb208fd8dd680",
   "outputs": [
    {
     "name": "stdout",
     "output_type": "stream",
     "text": [
      "[NbConvertApp] Converting notebook Advanced GraPE Demonstration.ipynb to pdf\r\n",
      "[NbConvertApp] Support files will be in Advanced GraPE Demonstration_files/\r\n",
      "[NbConvertApp] Making directory ./Advanced GraPE Demonstration_files\r\n",
      "[NbConvertApp] Writing 55278 bytes to notebook.tex\r\n",
      "[NbConvertApp] Building PDF\r\n",
      "[NbConvertApp] Running xelatex 3 times: ['xelatex', 'notebook.tex', '-quiet']\r\n",
      "[NbConvertApp] Running bibtex 1 time: ['bibtex', 'notebook']\r\n",
      "[NbConvertApp] WARNING | bibtex had problems, most likely because there were no citations\r\n",
      "[NbConvertApp] PDF successfully created\r\n",
      "[NbConvertApp] Writing 113050 bytes to Advanced GraPE Demonstration.pdf\r\n"
     ]
    }
   ],
   "execution_count": 44
  },
  {
   "metadata": {},
   "cell_type": "code",
   "outputs": [],
   "execution_count": null,
   "source": "",
   "id": "aab088e5405d51b5"
  }
 ],
 "metadata": {
  "kernelspec": {
   "display_name": "Python 3",
   "language": "python",
   "name": "python3"
  },
  "language_info": {
   "codemirror_mode": {
    "name": "ipython",
    "version": 2
   },
   "file_extension": ".py",
   "mimetype": "text/x-python",
   "name": "python",
   "nbconvert_exporter": "python",
   "pygments_lexer": "ipython2",
   "version": "2.7.6"
  }
 },
 "nbformat": 4,
 "nbformat_minor": 5
}
