{
 "cells": [
  {
   "cell_type": "code",
   "execution_count": 1,
   "id": "initial_id",
   "metadata": {
    "collapsed": true,
    "ExecuteTime": {
     "end_time": "2024-02-25T12:42:13.062069Z",
     "start_time": "2024-02-25T12:42:09.239592Z"
    }
   },
   "outputs": [],
   "source": [
    "import pandas as pd\n",
    "from dglchem.utils.data import MakeGraphDataSet, DataSet\n",
    "\n",
    "df = pd.read_excel('/Users/faerte/Desktop/dgl_chem/data-sets/BradleyDoublePlusGoodMeltingPointDataset.xlsx')\n",
    "\n",
    "# Making a graph dataset\n",
    "data = MakeGraphDataSet(smiles = df.smiles, target = df.mpC, log=False)\n",
    "#%timeit MakeGraphDataSet(smiles = df.smiles, target = df.mpC, log=False)"
   ]
  },
  {
   "cell_type": "code",
   "execution_count": 2,
   "outputs": [
    {
     "ename": "NameError",
     "evalue": "name 'data' is not defined",
     "output_type": "error",
     "traceback": [
      "\u001B[0;31m---------------------------------------------------------------------------\u001B[0m",
      "\u001B[0;31mNameError\u001B[0m                                 Traceback (most recent call last)",
      "Cell \u001B[0;32mIn[2], line 1\u001B[0m\n\u001B[0;32m----> 1\u001B[0m \u001B[43mdata\u001B[49m\u001B[38;5;241m.\u001B[39mget_smiles()\n",
      "\u001B[0;31mNameError\u001B[0m: name 'data' is not defined"
     ]
    }
   ],
   "source": [
    "print(len(data.train))\n",
    "print(len(data.test))\n",
    "print(len(data.val))"
   ],
   "metadata": {
    "collapsed": false,
    "ExecuteTime": {
     "end_time": "2024-02-23T17:36:49.969217Z",
     "start_time": "2024-02-23T17:36:49.948999Z"
    }
   },
   "id": "b80a49f48dad8336"
  },
  {
   "cell_type": "code",
   "execution_count": 3,
   "outputs": [
    {
     "data": {
      "text/plain": "                                                 smiles     mpC\n0                                             C1(CCC1)C -161.51\n1                                            [O-][N+]#N  -90.80\n2                                           FS(F)(=O)=O -135.80\n3            CC(C)N(CCC(c1ccccn1)(c2ccccc2)C(N)=O)C(C)C   94.80\n4                                                  BrBr   -7.20\n...                                                 ...     ...\n3036                    C1=CC(=CC=C1C(=O)O)[N+](=O)[O-]  240.00\n3037             C1CC(=O)NC(=O)C1N2C(=O)C3=CC=CC=C3C2=O  275.00\n3038  C[C@]12CC[C@H]3[C@H]([C@@H]1CC[C@@H]2O)CCC4=C3...  176.00\n3039                           C1=C(C=C(C(=C1Cl)O)Cl)Cl   65.00\n3040                              c1ccc(c(c1)C(F)(F)F)N  -34.00\n\n[3041 rows x 2 columns]",
      "text/html": "<div>\n<style scoped>\n    .dataframe tbody tr th:only-of-type {\n        vertical-align: middle;\n    }\n\n    .dataframe tbody tr th {\n        vertical-align: top;\n    }\n\n    .dataframe thead th {\n        text-align: right;\n    }\n</style>\n<table border=\"1\" class=\"dataframe\">\n  <thead>\n    <tr style=\"text-align: right;\">\n      <th></th>\n      <th>smiles</th>\n      <th>mpC</th>\n    </tr>\n  </thead>\n  <tbody>\n    <tr>\n      <th>0</th>\n      <td>C1(CCC1)C</td>\n      <td>-161.51</td>\n    </tr>\n    <tr>\n      <th>1</th>\n      <td>[O-][N+]#N</td>\n      <td>-90.80</td>\n    </tr>\n    <tr>\n      <th>2</th>\n      <td>FS(F)(=O)=O</td>\n      <td>-135.80</td>\n    </tr>\n    <tr>\n      <th>3</th>\n      <td>CC(C)N(CCC(c1ccccn1)(c2ccccc2)C(N)=O)C(C)C</td>\n      <td>94.80</td>\n    </tr>\n    <tr>\n      <th>4</th>\n      <td>BrBr</td>\n      <td>-7.20</td>\n    </tr>\n    <tr>\n      <th>...</th>\n      <td>...</td>\n      <td>...</td>\n    </tr>\n    <tr>\n      <th>3036</th>\n      <td>C1=CC(=CC=C1C(=O)O)[N+](=O)[O-]</td>\n      <td>240.00</td>\n    </tr>\n    <tr>\n      <th>3037</th>\n      <td>C1CC(=O)NC(=O)C1N2C(=O)C3=CC=CC=C3C2=O</td>\n      <td>275.00</td>\n    </tr>\n    <tr>\n      <th>3038</th>\n      <td>C[C@]12CC[C@H]3[C@H]([C@@H]1CC[C@@H]2O)CCC4=C3...</td>\n      <td>176.00</td>\n    </tr>\n    <tr>\n      <th>3039</th>\n      <td>C1=C(C=C(C(=C1Cl)O)Cl)Cl</td>\n      <td>65.00</td>\n    </tr>\n    <tr>\n      <th>3040</th>\n      <td>c1ccc(c(c1)C(F)(F)F)N</td>\n      <td>-34.00</td>\n    </tr>\n  </tbody>\n</table>\n<p>3041 rows × 2 columns</p>\n</div>"
     },
     "execution_count": 3,
     "metadata": {},
     "output_type": "execute_result"
    }
   ],
   "source": [
    "import pandas as pd\n",
    "from dglchem.utils.data import DataSet\n",
    "\n",
    "df = pd.read_excel('/Users/faerte/Desktop/dgl_chem/data-sets/BradleyDoublePlusGoodMeltingPointDataset.xlsx')\n",
    "\n",
    "# Making a graph dataset\n",
    "df[['smiles','mpC']]"
   ],
   "metadata": {
    "collapsed": false,
    "ExecuteTime": {
     "end_time": "2024-02-25T13:25:16.425689Z",
     "start_time": "2024-02-25T13:25:16.174424Z"
    }
   },
   "id": "2a791db6d9f029f1"
  },
  {
   "cell_type": "code",
   "execution_count": null,
   "outputs": [],
   "source": [
    "from torch_geometric.loader import DataLoader\n",
    "batch_size = 32\n",
    "train = DataLoader(data.train, batch_size=batch_size)\n",
    "test = DataLoader(data.test, batch_size=batch_size)\n",
    "val = DataLoader(data.val, batch_size=batch_size)"
   ],
   "metadata": {
    "collapsed": false,
    "ExecuteTime": {
     "start_time": "2024-02-23T16:32:06.684572Z"
    }
   },
   "id": "b2cec52f7d85fd7"
  },
  {
   "cell_type": "code",
   "execution_count": 8,
   "outputs": [
    {
     "name": "stdout",
     "output_type": "stream",
     "text": [
      "<torch_geometric.loader.dataloader.DataLoader object at 0x286d089d0>\n",
      "<torch_geometric.loader.dataloader.DataLoader object at 0x28cdd1510>\n",
      "<torch_geometric.loader.dataloader.DataLoader object at 0x286c5e850>\n"
     ]
    }
   ],
   "source": [
    "print(train)\n",
    "print(test)\n",
    "print(val)"
   ],
   "metadata": {
    "collapsed": false,
    "ExecuteTime": {
     "end_time": "2024-02-21T15:09:40.914418Z",
     "start_time": "2024-02-21T15:09:40.899002Z"
    }
   },
   "id": "822e29c3db09aee3"
  },
  {
   "cell_type": "markdown",
   "source": [
    "Comparing my atom featurizer speed to the DGL LifeSci one:"
   ],
   "metadata": {
    "collapsed": false
   },
   "id": "af87a361af2b0619"
  },
  {
   "cell_type": "code",
   "execution_count": 1,
   "outputs": [
    {
     "name": "stdout",
     "output_type": "stream",
     "text": [
      "16.2 µs ± 53.3 ns per loop (mean ± std. dev. of 7 runs, 100,000 loops each)\n",
      "15.9 µs ± 30.6 ns per loop (mean ± std. dev. of 7 runs, 100,000 loops each)\n"
     ]
    }
   ],
   "source": [
    "from dglchem.utils.featurizer import AtomFeaturizer\n",
    "from dglchem.utils.featurizer_old import AtomFeaturizerOld\n",
    "from rdkit import Chem\n",
    "feats = ['atom_type_one_hot','atom_degree_one_hot']\n",
    "mol = Chem.MolFromSmiles('COO')\n",
    "featurizer = AtomFeaturizer(atom_feature_list=feats)\n",
    "featurizerold = AtomFeaturizerOld(atom_feature_list=feats)\n",
    "\n",
    "assert((featurizer(mol)==featurizerold(mol)['h']).all())\n",
    "\n",
    "%timeit featurizer(mol)\n",
    "%timeit featurizerold(mol)"
   ],
   "metadata": {
    "collapsed": false,
    "ExecuteTime": {
     "end_time": "2024-02-23T14:19:08.497175Z",
     "start_time": "2024-02-23T14:18:40.449887Z"
    }
   },
   "id": "f823814282293fff"
  },
  {
   "cell_type": "markdown",
   "source": [
    "My implementation of the featurizer is only marginally slower than the DGL LifeSci one"
   ],
   "metadata": {
    "collapsed": false
   },
   "id": "36c612096062e404"
  },
  {
   "cell_type": "code",
   "execution_count": 1,
   "outputs": [
    {
     "name": "stdout",
     "output_type": "stream",
     "text": [
      "12.8 µs ± 22.4 ns per loop (mean ± std. dev. of 7 runs, 100,000 loops each)\n",
      "12.1 µs ± 19.4 ns per loop (mean ± std. dev. of 7 runs, 100,000 loops each)\n"
     ]
    }
   ],
   "source": [
    "from dglchem.utils.featurizer import BondFeaturizer\n",
    "from dglchem.utils.featurizer_old import BondFeaturizerOld\n",
    "from rdkit import Chem\n",
    "feats = ['bond_type_one_hot','bond_is_conjugated_one_hot']\n",
    "mol = Chem.MolFromSmiles('COO')\n",
    "featurizer = BondFeaturizer(bond_feature_list=feats)\n",
    "featurizerold = BondFeaturizerOld(bond_feature_list=feats)\n",
    "\n",
    "assert((featurizer(mol)==featurizerold(mol)['e']).all())\n",
    "\n",
    "%timeit featurizer(mol)\n",
    "%timeit featurizerold(mol)"
   ],
   "metadata": {
    "collapsed": false,
    "ExecuteTime": {
     "end_time": "2024-02-23T14:18:12.356380Z",
     "start_time": "2024-02-23T14:17:49.764441Z"
    }
   },
   "id": "9ae9c83c2914e16d"
  },
  {
   "cell_type": "code",
   "execution_count": null,
   "outputs": [],
   "source": [],
   "metadata": {
    "collapsed": false
   },
   "id": "27f618a5984f9a9d"
  },
  {
   "cell_type": "code",
   "execution_count": 5,
   "outputs": [
    {
     "name": "stderr",
     "output_type": "stream",
     "text": [
      "Downloading https://figshare.com/ndownloader/files/1503991\n"
     ]
    },
    {
     "data": {
      "text/plain": "'./data/bradley.xlsx'"
     },
     "execution_count": 5,
     "metadata": {},
     "output_type": "execute_result"
    }
   ],
   "source": [
    "from torch_geometric.data import download_url\n",
    "download_url('https://figshare.com/ndownloader/files/1503991', filename='bradley.xlsx', folder='./data', log=True)"
   ],
   "metadata": {
    "collapsed": false,
    "ExecuteTime": {
     "end_time": "2024-02-25T11:35:19.853189Z",
     "start_time": "2024-02-25T11:35:19.256135Z"
    }
   },
   "id": "d5a2bbdc859586d4"
  },
  {
   "cell_type": "code",
   "execution_count": 1,
   "outputs": [
    {
     "name": "stderr",
     "output_type": "stream",
     "text": [
      "Downloading https://figshare.com/ndownloader/files/1503991\n"
     ]
    }
   ],
   "source": [
    "from dglchem.data import BradleyDoublePlus\n",
    "data = BradleyDoublePlus(target='mpC')"
   ],
   "metadata": {
    "collapsed": false,
    "ExecuteTime": {
     "end_time": "2024-02-25T14:08:17.136173Z",
     "start_time": "2024-02-25T14:08:13.107751Z"
    }
   },
   "id": "a01eb8ed978e409b"
  },
  {
   "cell_type": "code",
   "execution_count": null,
   "outputs": [],
   "source": [],
   "metadata": {
    "collapsed": false
   },
   "id": "292ac81c1eeb5fe1"
  },
  {
   "cell_type": "code",
   "execution_count": 2,
   "outputs": [
    {
     "name": "stdout",
     "output_type": "stream",
     "text": [
      "File saved at: ./data/processed/save_test.pickle\n"
     ]
    }
   ],
   "source": [
    "data.save_test('save_test')"
   ],
   "metadata": {
    "collapsed": false,
    "ExecuteTime": {
     "end_time": "2024-02-25T14:08:27.898503Z",
     "start_time": "2024-02-25T14:08:27.712452Z"
    }
   },
   "id": "f4b6b6f35ee5f81e"
  },
  {
   "cell_type": "code",
   "execution_count": null,
   "outputs": [],
   "source": [],
   "metadata": {
    "collapsed": false
   },
   "id": "575017fc570534af"
  }
 ],
 "metadata": {
  "kernelspec": {
   "display_name": "Python 3",
   "language": "python",
   "name": "python3"
  },
  "language_info": {
   "codemirror_mode": {
    "name": "ipython",
    "version": 2
   },
   "file_extension": ".py",
   "mimetype": "text/x-python",
   "name": "python",
   "nbconvert_exporter": "python",
   "pygments_lexer": "ipython2",
   "version": "2.7.6"
  }
 },
 "nbformat": 4,
 "nbformat_minor": 5
}
