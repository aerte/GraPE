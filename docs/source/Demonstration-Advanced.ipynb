{
 "cells": [
  {
   "metadata": {},
   "cell_type": "markdown",
   "source": [
    "## Advanced Features\n",
    "\n",
    "This notebook serves as an introduction to some of the advanced features of GraPE, such as a RayTune wrapper and other hybrid models."
   ],
   "id": "747bac5bdc78ac58"
  },
  {
   "metadata": {},
   "cell_type": "markdown",
   "source": [
    "### Ray Tune\n",
    "\n",
    "Ray (https://github.com/ray-project/ray) and specifically Ray Tune is a package offers streamlined hyperparameter optimization. We include a simple wrapper in our package that can aide in fast implementation.\n",
    "\n",
    "For hyperparameter optimization, we need three things:\n",
    "* a parameter search space\n",
    "* an objective function which contains training and validation\n",
    "* a ray tuner\n",
    "\n",
    "We begin with loading our data and initializing model:"
   ],
   "id": "d1268f7fed6e3039"
  },
  {
   "metadata": {
    "ExecuteTime": {
     "end_time": "2024-04-17T11:33:06.703194Z",
     "start_time": "2024-04-17T11:33:00.961266Z"
    }
   },
   "cell_type": "code",
   "source": [
    "from torch import nn\n",
    "from grape.datasets import BradleyDoublePlus\n",
    "from grape.models import MGConv, SimpleGNN\n",
    "\n",
    "# loading our data and splitting it\n",
    "data = BradleyDoublePlus(split_type='random')\n",
    "train_data, val_data, test_data = data.train, data.val, data.test\n",
    "\n",
    "node_hidden_dim = 128\n",
    "batch_size = 32\n",
    "\n",
    "# Weave Message Passing NN\n",
    "model_message = MGConv(edge_hidden_dim=128, node_hidden_dim=node_hidden_dim, node_in_dim=data.num_node_features, edge_in_dim=data.num_edge_features)\n",
    "\n",
    "# output MLP\n",
    "out_model = nn.Sequential(\n",
    "    nn.Linear(node_hidden_dim, 128),\n",
    "    nn.ReLU(),\n",
    "    nn.Linear(128, 1)\n",
    ")\n",
    "\n",
    "\n",
    "model = lambda : SimpleGNN(model_message=model_message,\n",
    "                  out_model=out_model)"
   ],
   "id": "8bd376e41be4573e",
   "outputs": [],
   "execution_count": 1
  },
  {
   "metadata": {},
   "cell_type": "markdown",
   "source": "In the following, we will be optimizing the parameters of our Adam optimizer. To do so, we use the adam optimizer objective from the toolbox as well as a default search space:",
   "id": "c46463bf9da24c60"
  },
  {
   "metadata": {
    "ExecuteTime": {
     "end_time": "2024-04-17T11:33:06.706230Z",
     "start_time": "2024-04-17T11:33:06.704232Z"
    }
   },
   "cell_type": "code",
   "source": [
    "from grape.optim import adam_objective, adam_default_search_space\n",
    "search_space = adam_default_search_space()\n",
    "objective = adam_objective"
   ],
   "id": "2dafa2f74bcf03f0",
   "outputs": [],
   "execution_count": 2
  },
  {
   "metadata": {},
   "cell_type": "markdown",
   "source": "Now we need to initialize our Ray Tuner. The objective function usually needs to be self-contained, so loading, training and testing in one function, as we are re-initializing our model during optimization. Our pre-defined objectives take care of that, however.",
   "id": "d7daf70c102c78b6"
  },
  {
   "metadata": {
    "ExecuteTime": {
     "end_time": "2024-04-17T11:33:06.956853Z",
     "start_time": "2024-04-17T11:33:06.707130Z"
    }
   },
   "cell_type": "code",
   "source": [
    "from grape.utils import RayTuner\n",
    "from ray.tune.search.bayesopt import BayesOptSearch\n",
    "\n",
    "tuner = RayTuner(search_space=search_space, objective=objective, \n",
    "                 train_loader=train_data, val_loader=val_data, model=model,\n",
    "                 search_algo=BayesOptSearch,train_iterations=150)"
   ],
   "id": "1e384ddf409340d4",
   "outputs": [],
   "execution_count": 3
  },
  {
   "metadata": {},
   "cell_type": "markdown",
   "source": "We are using the BayesOpt search algorithm (https://github.com/bayesian-optimization/BayesianOptimization), but any search algorithm compatible with Ray Tune can be used (https://docs.ray.io/en/latest/tune/api/suggestion.html):",
   "id": "df1c573c296f3721"
  },
  {
   "metadata": {},
   "cell_type": "code",
   "source": "tuner.fit()",
   "id": "9e8e81a2bdb9bcda",
   "execution_count": 5,
   "outputs": [
    {
     "data": {
      "text/plain": [
       "<IPython.core.display.HTML object>"
      ],
      "text/html": [
       "<div class=\"tuneStatus\">\n",
       "  <div style=\"display: flex;flex-direction: row\">\n",
       "    <div style=\"display: flex;flex-direction: column;\">\n",
       "      <h3>Tune Status</h3>\n",
       "      <table>\n",
       "<tbody>\n",
       "<tr><td>Current time:</td><td>2024-04-17 13:34:56</td></tr>\n",
       "<tr><td>Running for: </td><td>00:01:47.33        </td></tr>\n",
       "<tr><td>Memory:      </td><td>10.4/16.0 GiB      </td></tr>\n",
       "</tbody>\n",
       "</table>\n",
       "    </div>\n",
       "    <div class=\"vDivider\"></div>\n",
       "    <div class=\"systemInfo\">\n",
       "      <h3>System Info</h3>\n",
       "      Using FIFO scheduling algorithm.<br>Logical resource usage: 1.0/8 CPUs, 0/0 GPUs\n",
       "    </div>\n",
       "    \n",
       "  </div>\n",
       "  <div class=\"hDivider\"></div>\n",
       "  <div class=\"trialStatus\">\n",
       "    <h3>Trial Status</h3>\n",
       "    <table>\n",
       "<thead>\n",
       "<tr><th>Trial name             </th><th>status  </th><th>loc            </th><th style=\"text-align: right;\">        lr</th><th style=\"text-align: right;\">  weight_decay</th><th style=\"text-align: right;\">  iter</th><th style=\"text-align: right;\">  total time (s)</th><th style=\"text-align: right;\">  mean_squared_error</th></tr>\n",
       "</thead>\n",
       "<tbody>\n",
       "<tr><td>adam_objective_521d5a2f</td><td>RUNNING </td><td>127.0.0.1:78381</td><td style=\"text-align: right;\">0.00380795</td><td style=\"text-align: right;\">    0.00951207</td><td style=\"text-align: right;\">   148</td><td style=\"text-align: right;\">         101.958</td><td style=\"text-align: right;\">            0.892687</td></tr>\n",
       "</tbody>\n",
       "</table>\n",
       "  </div>\n",
       "</div>\n",
       "<style>\n",
       ".tuneStatus {\n",
       "  color: var(--jp-ui-font-color1);\n",
       "}\n",
       ".tuneStatus .systemInfo {\n",
       "  display: flex;\n",
       "  flex-direction: column;\n",
       "}\n",
       ".tuneStatus td {\n",
       "  white-space: nowrap;\n",
       "}\n",
       ".tuneStatus .trialStatus {\n",
       "  display: flex;\n",
       "  flex-direction: column;\n",
       "}\n",
       ".tuneStatus h3 {\n",
       "  font-weight: bold;\n",
       "}\n",
       ".tuneStatus .hDivider {\n",
       "  border-bottom-width: var(--jp-border-width);\n",
       "  border-bottom-color: var(--jp-border-color0);\n",
       "  border-bottom-style: solid;\n",
       "}\n",
       ".tuneStatus .vDivider {\n",
       "  border-left-width: var(--jp-border-width);\n",
       "  border-left-color: var(--jp-border-color0);\n",
       "  border-left-style: solid;\n",
       "  margin: 0.5em 1em 0.5em 1em;\n",
       "}\n",
       "</style>\n"
      ]
     },
     "metadata": {},
     "output_type": "display_data"
    },
    {
     "data": {
      "text/plain": [
       "<IPython.core.display.HTML object>"
      ],
      "text/html": [
       "<div class=\"tuneStatus\">\n",
       "  <div style=\"display: flex;flex-direction: row\">\n",
       "    <div style=\"display: flex;flex-direction: column;\">\n",
       "      <h3>Tune Status</h3>\n",
       "      <table>\n",
       "<tbody>\n",
       "<tr><td>Current time:</td><td>2024-04-17 13:34:58</td></tr>\n",
       "<tr><td>Running for: </td><td>00:01:48.56        </td></tr>\n",
       "<tr><td>Memory:      </td><td>10.5/16.0 GiB      </td></tr>\n",
       "</tbody>\n",
       "</table>\n",
       "    </div>\n",
       "    <div class=\"vDivider\"></div>\n",
       "    <div class=\"systemInfo\">\n",
       "      <h3>System Info</h3>\n",
       "      Using FIFO scheduling algorithm.<br>Logical resource usage: 1.0/8 CPUs, 0/0 GPUs\n",
       "    </div>\n",
       "    \n",
       "  </div>\n",
       "  <div class=\"hDivider\"></div>\n",
       "  <div class=\"trialStatus\">\n",
       "    <h3>Trial Status</h3>\n",
       "    <table>\n",
       "<thead>\n",
       "<tr><th>Trial name             </th><th>status    </th><th>loc            </th><th style=\"text-align: right;\">        lr</th><th style=\"text-align: right;\">  weight_decay</th><th style=\"text-align: right;\">  iter</th><th style=\"text-align: right;\">  total time (s)</th><th style=\"text-align: right;\">  mean_squared_error</th></tr>\n",
       "</thead>\n",
       "<tbody>\n",
       "<tr><td>adam_objective_521d5a2f</td><td>TERMINATED</td><td>127.0.0.1:78381</td><td style=\"text-align: right;\">0.00380795</td><td style=\"text-align: right;\">    0.00951207</td><td style=\"text-align: right;\">   150</td><td style=\"text-align: right;\">         103.387</td><td style=\"text-align: right;\">            0.892746</td></tr>\n",
       "</tbody>\n",
       "</table>\n",
       "  </div>\n",
       "</div>\n",
       "<style>\n",
       ".tuneStatus {\n",
       "  color: var(--jp-ui-font-color1);\n",
       "}\n",
       ".tuneStatus .systemInfo {\n",
       "  display: flex;\n",
       "  flex-direction: column;\n",
       "}\n",
       ".tuneStatus td {\n",
       "  white-space: nowrap;\n",
       "}\n",
       ".tuneStatus .trialStatus {\n",
       "  display: flex;\n",
       "  flex-direction: column;\n",
       "}\n",
       ".tuneStatus h3 {\n",
       "  font-weight: bold;\n",
       "}\n",
       ".tuneStatus .hDivider {\n",
       "  border-bottom-width: var(--jp-border-width);\n",
       "  border-bottom-color: var(--jp-border-color0);\n",
       "  border-bottom-style: solid;\n",
       "}\n",
       ".tuneStatus .vDivider {\n",
       "  border-left-width: var(--jp-border-width);\n",
       "  border-left-color: var(--jp-border-color0);\n",
       "  border-left-style: solid;\n",
       "  margin: 0.5em 1em 0.5em 1em;\n",
       "}\n",
       "</style>\n"
      ]
     },
     "metadata": {},
     "output_type": "display_data"
    },
    {
     "name": "stderr",
     "output_type": "stream",
     "text": [
      "2024-04-17 13:34:58,021\tINFO tune.py:1048 -- Total run time: 108.87 seconds (108.56 seconds for the tuning loop).\n"
     ]
    },
    {
     "name": "stdout",
     "output_type": "stream",
     "text": [
      "Best config is:  {'lr': 0.003807947176588889, 'weight_decay': 0.00951207163345817}\n"
     ]
    }
   ]
  },
  {
   "metadata": {
    "ExecuteTime": {
     "end_time": "2024-04-17T11:34:58.032476Z",
     "start_time": "2024-04-17T11:34:58.029074Z"
    }
   },
   "cell_type": "code",
   "source": "print('Best config is: ', tuner.results.get_best_result().config)",
   "id": "6c5c92d57af25b1b",
   "outputs": [
    {
     "name": "stdout",
     "output_type": "stream",
     "text": [
      "Best config is:  {'lr': 0.003807947176588889, 'weight_decay': 0.00951207163345817}\n"
     ]
    }
   ],
   "execution_count": 6
  }
 ],
 "metadata": {
  "kernelspec": {
   "display_name": "Python 3",
   "language": "python",
   "name": "python3"
  },
  "language_info": {
   "codemirror_mode": {
    "name": "ipython",
    "version": 2
   },
   "file_extension": ".py",
   "mimetype": "text/x-python",
   "name": "python",
   "nbconvert_exporter": "python",
   "pygments_lexer": "ipython2",
   "version": "2.7.6"
  }
 },
 "nbformat": 4,
 "nbformat_minor": 5
}
