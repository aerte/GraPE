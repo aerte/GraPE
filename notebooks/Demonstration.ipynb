{
 "cells": [
  {
   "cell_type": "markdown",
   "source": [
    "### LogP dataset:"
   ],
   "metadata": {
    "collapsed": false
   },
   "id": "680bb6f3843262a8"
  },
  {
   "cell_type": "code",
   "execution_count": null,
   "outputs": [],
   "source": [
    "import torch.optim\n",
    "\n",
    "from dglchem.datasets import LogP\n",
    "data = LogP(log=True) "
   ],
   "metadata": {
    "collapsed": false
   },
   "id": "40b87729a56143b0"
  },
  {
   "cell_type": "markdown",
   "source": [
    "### Example outputs:"
   ],
   "metadata": {
    "collapsed": false
   },
   "id": "1616bf48e437484f"
  },
  {
   "cell_type": "code",
   "execution_count": null,
   "outputs": [],
   "source": [
    "data.draw_smile(10)"
   ],
   "metadata": {
    "collapsed": false
   },
   "id": "8b6e2b7e2131b649"
  },
  {
   "cell_type": "markdown",
   "source": [
    "### Analysis:"
   ],
   "metadata": {
    "collapsed": false
   },
   "id": "6a04c4c7803e241e"
  },
  {
   "cell_type": "code",
   "execution_count": null,
   "outputs": [],
   "source": [
    "from dglchem.utils import DataSet\n",
    "from dglchem.utils import compound_nums_chart\n",
    "\n",
    "data = DataSet(file_path='/Users/faerte/Desktop/dgl_chem/notebooks/data/processed/BradleyDoublePlus.pickle')\n",
    "compound_nums_chart(data.smiles, fig_size=(10,4))"
   ],
   "metadata": {
    "collapsed": false
   },
   "id": "c0d69bc29aa101f2"
  },
  {
   "cell_type": "code",
   "execution_count": null,
   "outputs": [],
   "source": [
    "from dglchem.utils import DataSet\n",
    "data = DataSet(file_path='/Users/faerte/Desktop/dgl_chem/notebooks/data/processed/BradleyDoublePlus.pickle')\n",
    "data.weight_vs_target_plot(pre_standardization=True)"
   ],
   "metadata": {
    "collapsed": false
   },
   "id": "1613bab246b6385c"
  },
  {
   "cell_type": "code",
   "execution_count": null,
   "outputs": [],
   "source": [
    "%matplotlib inline\n",
    "\n",
    "from dglchem.utils import DataSet\n",
    "data = DataSet(file_path='/Users/faerte/Desktop/dgl_chem/notebooks/data/processed/BradleyDoublePlus.pickle')\n",
    "data.weight_vs_target_plot(fig_height=3, save_fig=True)"
   ],
   "metadata": {
    "collapsed": false
   },
   "id": "b9a3de30520ebcc5"
  },
  {
   "cell_type": "code",
   "execution_count": null,
   "outputs": [],
   "source": [
    "%matplotlib inline\n",
    "\n",
    "from dglchem.utils import DataSet\n",
    "data = DataSet(file_path='/Users/faerte/Desktop/dgl_chem/notebooks/data/processed/BradleyDoublePlus.pickle')\n",
    "\n",
    "results, figures = data.analysis(download=True, plots=['atom_type_frequency','total_num_h_frequency'], fig_size=[8,4])"
   ],
   "metadata": {
    "collapsed": false
   },
   "id": "5437924d04dac980"
  },
  {
   "cell_type": "markdown",
   "source": [
    "### Butina clustering:"
   ],
   "metadata": {
    "collapsed": false
   },
   "id": "84a049270e99b664"
  },
  {
   "cell_type": "code",
   "execution_count": null,
   "outputs": [],
   "source": [
    "from dglchem.datasets import BradleyDoublePlus\n",
    "from dglchem.utils.data_splitting import taylor_butina_clustering\n",
    "data = BradleyDoublePlus()\n",
    "\n",
    "clusters = taylor_butina_clustering(data, threshold=0.5)"
   ],
   "metadata": {
    "collapsed": false
   },
   "id": "5df530c0cc23508b"
  },
  {
   "cell_type": "markdown",
   "source": [
    "## GNN Model:"
   ],
   "metadata": {
    "collapsed": false
   },
   "id": "e913e5bc4798f9ef"
  },
  {
   "cell_type": "code",
   "execution_count": null,
   "outputs": [],
   "source": [
    "from dglchem.utils import DataSet\n",
    "\n",
    "data = DataSet(file_path='/Users/faerte/Desktop/dgl_chem/notebooks/data/processed/BradleyDoublePlus.pickle')\n",
    "\n",
    "train, test, val = data.get_splits()\n",
    "print(train[1:10])"
   ],
   "metadata": {
    "collapsed": false
   },
   "id": "c4829f56630a4618"
  },
  {
   "cell_type": "code",
   "execution_count": null,
   "outputs": [],
   "source": [
    "print(f'Node feature dimension: {data.num_node_features}')\n",
    "print(f'Edge feature dimension: {data.num_edge_features}')"
   ],
   "metadata": {
    "collapsed": false
   },
   "id": "91049a58b3749087"
  },
  {
   "cell_type": "markdown",
   "source": [],
   "metadata": {
    "collapsed": false
   },
   "id": "6508992775c5d21c"
  },
  {
   "cell_type": "markdown",
   "source": [
    "### Model definition:"
   ],
   "metadata": {
    "collapsed": false
   },
   "id": "ce878f1e8b4f2b86"
  },
  {
   "cell_type": "code",
   "execution_count": null,
   "outputs": [],
   "source": [
    "from dglchem.utils import DataSet\n",
    "from dglchem.models import MGConv\n",
    "import torch\n",
    "\n",
    "model = MGConv(num_layers=5, edge_hidden_dim=64, node_hidden_dim=64, \n",
    "               node_dim=data.num_node_features, edge_dim=data.num_edge_features)\n",
    "print(model)\n",
    "\n",
    "device = torch.device('cpu')"
   ],
   "metadata": {
    "collapsed": false
   },
   "id": "6b87928b7fb78303"
  },
  {
   "cell_type": "markdown",
   "source": [
    "### Loss and Optimizer"
   ],
   "metadata": {
    "collapsed": false
   },
   "id": "93ab2bf27c0de8c1"
  },
  {
   "cell_type": "code",
   "execution_count": null,
   "outputs": [],
   "source": [
    "from torch import nn\n",
    "\n",
    "loss_func = nn.functional.mse_loss\n",
    "optimizer = torch.optim.Adam(model.parameters(), lr=0.001, weight_decay=5e-4)"
   ],
   "metadata": {
    "collapsed": false
   },
   "id": "5743f7dc3819597d"
  },
  {
   "cell_type": "markdown",
   "source": [
    "### Training"
   ],
   "metadata": {
    "collapsed": false
   },
   "id": "a5852438c8a78fac"
  },
  {
   "cell_type": "code",
   "execution_count": null,
   "outputs": [],
   "source": [
    "from dglchem.utils import train_model\n",
    "\n",
    "train_loss, val_loss = train_model(model = model,\n",
    "                                   loss_func = loss_func,\n",
    "                                   optimizer = optimizer,\n",
    "                                   train_data_loader= train,\n",
    "                                   val_data_loader = val,\n",
    "                                   epochs=100,\n",
    "                                   early_stopping=True,\n",
    "                                   patience=3)"
   ],
   "metadata": {
    "collapsed": false
   },
   "id": "41cc06988f38d09e"
  },
  {
   "cell_type": "markdown",
   "source": [
    "### Loss plot"
   ],
   "metadata": {
    "collapsed": false
   },
   "id": "361ba640a7929d0b"
  },
  {
   "cell_type": "code",
   "execution_count": null,
   "outputs": [],
   "source": [
    "from dglchem.utils import loss_plot\n",
    "loss_plot([train_loss, val_loss], ['train loss', 'test loss'])"
   ],
   "metadata": {
    "collapsed": false
   },
   "id": "c3656398b457a429"
  },
  {
   "cell_type": "markdown",
   "source": [
    "### Testing"
   ],
   "metadata": {
    "collapsed": false
   },
   "id": "7b095569f9d4b79"
  },
  {
   "cell_type": "code",
   "execution_count": null,
   "outputs": [],
   "source": [
    "from dglchem.utils import test_model\n",
    "test_model(model = model,\n",
    "           test_data_loader= test,\n",
    "           loss_func= loss_func)"
   ],
   "metadata": {
    "collapsed": false
   },
   "id": "d5202dad8c2fb06c"
  },
  {
   "cell_type": "code",
   "execution_count": null,
   "outputs": [],
   "source": [],
   "metadata": {
    "collapsed": false
   },
   "id": "a5ba284871e469b1"
  }
 ],
 "metadata": {
  "kernelspec": {
   "display_name": "Python 3",
   "language": "python",
   "name": "python3"
  },
  "language_info": {
   "codemirror_mode": {
    "name": "ipython",
    "version": 2
   },
   "file_extension": ".py",
   "mimetype": "text/x-python",
   "name": "python",
   "nbconvert_exporter": "python",
   "pygments_lexer": "ipython2",
   "version": "2.7.6"
  }
 },
 "nbformat": 4,
 "nbformat_minor": 5
}
