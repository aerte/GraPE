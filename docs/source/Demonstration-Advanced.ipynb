{
 "cells": [
  {
   "metadata": {},
   "cell_type": "markdown",
   "source": "# Advanced Demonstration",
   "id": "747bac5bdc78ac58"
  },
  {
   "metadata": {},
   "cell_type": "markdown",
   "source": "The goal of this notebook is to demonstrate how ``GraPE`` for a more advanced workflow and in the context of hyperparameter optimization. Specifically, we will have a look at global features and demonstrating how we used the **BOHB** (Bayesian Optimization with HyperBand) by [1] as implemented in ``Ray-Tune``.",
   "id": "4da6634ab4d126b"
  },
  {
   "metadata": {},
   "cell_type": "markdown",
   "source": "## Global Features",
   "id": "61c84329e042ba3e"
  },
  {
   "metadata": {},
   "cell_type": "markdown",
   "source": "A global feature is a type of data that, in the context of molecules and graphs, describes extra, graph level information. Specifically, global features *are not* the target of whatever problem a GNN ",
   "id": "1e25bfd0bab3bb09"
  },
  {
   "metadata": {},
   "cell_type": "markdown",
   "source": "## BOHB and Hyperparameter Optimization",
   "id": "95562d59fd033945"
  },
  {
   "metadata": {},
   "cell_type": "markdown",
   "source": [
    "To give a brief overview of the algorithm itself.\n",
    "\n",
    "For more information on the algorithm itself please see their GitHub repo (https://github.com/automl/HpBandSter.git) or their blog post reviewing their paper (https://www.automl.org/blog_bohb/)."
   ],
   "id": "f606e6fe49a7a5c0"
  },
  {
   "metadata": {},
   "cell_type": "markdown",
   "source": [
    "## Ray Tune\n",
    "\n",
    "Ray (https://github.com/ray-project/ray) and specifically Ray Tune is a package offers streamlined hyperparameter optimization. We include a simple wrapper in our package that can aide in fast implementation.\n",
    "\n",
    "For hyperparameter optimization, we need three things:\n",
    "* a parameter search space\n",
    "* an objective function which contains training and validation\n",
    "* a ray tuner\n",
    "\n",
    "We begin with loading our data and initializing model:"
   ],
   "id": "d1268f7fed6e3039"
  },
  {
   "metadata": {
    "ExecuteTime": {
     "end_time": "2024-04-17T11:34:58.032476Z",
     "start_time": "2024-04-17T11:34:58.029074Z"
    }
   },
   "cell_type": "code",
   "source": "print('Best config is: ', tuner.results.get_best_result().config)",
   "id": "6c5c92d57af25b1b",
   "outputs": [
    {
     "name": "stdout",
     "output_type": "stream",
     "text": [
      "Best config is:  {'lr': 0.003807947176588889, 'weight_decay': 0.00951207163345817}\n"
     ]
    }
   ],
   "execution_count": 6
  },
  {
   "metadata": {},
   "cell_type": "markdown",
   "source": [
    "## References:\n",
    "\n",
    "[1] Falkner, S., Klein, A., & Hutter, F. (2018). Bohb: Robust and efficient hyperparameter optimization at scale.\n",
    "\n",
    "[2] Na, G. S., Kim, H. W., & Chang, H. (2020). Costless performance improvement in machine learning for graph-based molecular analysis [PMID: 31928003]. Journal of Chemical Information and Modeling, 60 (3), 1137–1145. https://doi.org/10.1021/acs.jcim.9b00816\n",
    "\n",
    "[2] Shahriari, B., Swersky, K., Wang, Z., Adams, R. P., & de Freitas, N. (2016). Taking the human out of the loop: A review of bayesian optimization. Proceedings of the IEEE, 104 (1), 148–175. https://doi.org/10.1109/JPROC.2015.2494218\n",
    "\n",
    "[3] Li, L., Jamieson, K., DeSalvo, G., Rostamizadeh, A., & Talwalkar, A. (2018). Hyperband: A novel bandit-based approach to hyperparameter optimization."
   ],
   "id": "7fd5a2ef46408147"
  },
  {
   "metadata": {},
   "cell_type": "code",
   "outputs": [],
   "execution_count": null,
   "source": "",
   "id": "5c4fb208fd8dd680"
  }
 ],
 "metadata": {
  "kernelspec": {
   "display_name": "Python 3",
   "language": "python",
   "name": "python3"
  },
  "language_info": {
   "codemirror_mode": {
    "name": "ipython",
    "version": 2
   },
   "file_extension": ".py",
   "mimetype": "text/x-python",
   "name": "python",
   "nbconvert_exporter": "python",
   "pygments_lexer": "ipython2",
   "version": "2.7.6"
  }
 },
 "nbformat": 4,
 "nbformat_minor": 5
}
