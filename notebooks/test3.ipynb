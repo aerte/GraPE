{
 "cells": [
  {
   "metadata": {
    "ExecuteTime": {
     "end_time": "2024-04-16T10:09:25.274072Z",
     "start_time": "2024-04-16T10:09:22.771932Z"
    }
   },
   "cell_type": "code",
   "source": [
    "import torch\n",
    "\n",
    "from grape.datasets import BradleyDoublePlus\n",
    "\n",
    "from grape.models import SimpleGNN, MGConv\n",
    "from torch import nn\n",
    "import torch\n",
    "\n",
    "data = BradleyDoublePlus(split_type='random')\n",
    "\n",
    "node_hidden_dim = 128\n",
    "batch_size = 32\n",
    "\n",
    "#model_message = MPNN(num_layers=2, edge_hidden_dim=128, node_hidden_dim=node_hidden_dim, \n",
    "#                node_in_dim=data.num_node_features, edge_in_dim=data.num_edge_features,\n",
    "#                num_gru_layers=1)\n",
    "\n",
    "model_message = MGConv(edge_hidden_dim=128, node_hidden_dim=node_hidden_dim, node_in_dim=data.num_node_features, edge_in_dim=data.num_edge_features)\n",
    "\n",
    "out_model = nn.Sequential(\n",
    "    nn.Linear(node_hidden_dim, 128),\n",
    "    nn.ReLU(),\n",
    "    nn.Linear(128, 1)\n",
    ")\n",
    "\n",
    "\n",
    "model = SimpleGNN(model_message=model_message,\n",
    "                  out_model=out_model)\n",
    "\n",
    "train, val, test = data.train, data.val, data.test\n",
    "\n",
    "from grape.utils import RayTuner\n",
    "from grape.optim import adam_objective, adam_default_search_space\n",
    "\n",
    "\n",
    "objective = adam_objective\n",
    "search_space = adam_default_search_space()\n",
    "\n",
    "optimizer = RayTuner(adam_objective, search_space=search_space,train_loader=train, val_loader=val, model=model)\n",
    "\n"
   ],
   "id": "404346707522bd31",
   "outputs": [],
   "execution_count": 3
  },
  {
   "metadata": {
    "ExecuteTime": {
     "end_time": "2024-04-16T10:09:25.279816Z",
     "start_time": "2024-04-16T10:09:25.276676Z"
    }
   },
   "cell_type": "code",
   "source": [
    "from grape.utils import split_data\n",
    "print(split_data.__module__)"
   ],
   "id": "398ade9eb27c7478",
   "outputs": [
    {
     "name": "stdout",
     "output_type": "stream",
     "text": [
      "grape.utils.split_utils\n"
     ]
    }
   ],
   "execution_count": 4
  },
  {
   "metadata": {
    "ExecuteTime": {
     "end_time": "2024-04-16T10:09:28.006235Z",
     "start_time": "2024-04-16T10:09:25.281670Z"
    }
   },
   "cell_type": "code",
   "source": "optimizer.fit()",
   "id": "13f2a90015d0ab1",
   "outputs": [
    {
     "name": "stderr",
     "output_type": "stream",
     "text": [
      "2024-04-16 12:09:27,012\tINFO worker.py:1752 -- Started a local Ray instance.\n",
      "2024-04-16 12:09:27,540\tINFO tune.py:263 -- Initializing Ray automatically. For cluster usage or custom Ray initialization, call `ray.init(...)` before `Tuner(...)`.\n",
      "2024-04-16 12:09:27,542\tINFO tune.py:613 -- [output] This uses the legacy output and progress reporter, as Jupyter notebooks are not supported by the new engine, yet. For more information, please see https://github.com/ray-project/ray/issues/36949\n"
     ]
    },
    {
     "ename": "TypeError",
     "evalue": "BayesOptSearch.set_search_properties() missing 1 required positional argument: 'config'",
     "output_type": "error",
     "traceback": [
      "\u001B[0;31m---------------------------------------------------------------------------\u001B[0m",
      "\u001B[0;31mTypeError\u001B[0m                                 Traceback (most recent call last)",
      "Cell \u001B[0;32mIn[5], line 1\u001B[0m\n\u001B[0;32m----> 1\u001B[0m \u001B[43moptimizer\u001B[49m\u001B[38;5;241;43m.\u001B[39;49m\u001B[43mfit\u001B[49m\u001B[43m(\u001B[49m\u001B[43m)\u001B[49m\n",
      "File \u001B[0;32m~/Desktop/grape/grape/utils/opt_utils.py:41\u001B[0m, in \u001B[0;36mRayTuner.fit\u001B[0;34m(self)\u001B[0m\n\u001B[1;32m     40\u001B[0m \u001B[38;5;28;01mdef\u001B[39;00m \u001B[38;5;21mfit\u001B[39m(\u001B[38;5;28mself\u001B[39m):\n\u001B[0;32m---> 41\u001B[0m     \u001B[38;5;28mself\u001B[39m\u001B[38;5;241m.\u001B[39mresults \u001B[38;5;241m=\u001B[39m \u001B[38;5;28;43mself\u001B[39;49m\u001B[38;5;241;43m.\u001B[39;49m\u001B[43mtuner\u001B[49m\u001B[38;5;241;43m.\u001B[39;49m\u001B[43mfit\u001B[49m\u001B[43m(\u001B[49m\u001B[43m)\u001B[49m\n\u001B[1;32m     42\u001B[0m     \u001B[38;5;28mprint\u001B[39m(\u001B[38;5;124m'\u001B[39m\u001B[38;5;124mBest config is: \u001B[39m\u001B[38;5;124m'\u001B[39m, \u001B[38;5;28mself\u001B[39m\u001B[38;5;241m.\u001B[39mresults\u001B[38;5;241m.\u001B[39mget_best_result()\u001B[38;5;241m.\u001B[39mconfig)\n",
      "File \u001B[0;32m~/Desktop/grape/venv/lib/python3.11/site-packages/ray/tune/tuner.py:379\u001B[0m, in \u001B[0;36mTuner.fit\u001B[0;34m(self)\u001B[0m\n\u001B[1;32m    347\u001B[0m \u001B[38;5;250m\u001B[39m\u001B[38;5;124;03m\"\"\"Executes hyperparameter tuning job as configured and returns result.\u001B[39;00m\n\u001B[1;32m    348\u001B[0m \n\u001B[1;32m    349\u001B[0m \u001B[38;5;124;03mFailure handling:\u001B[39;00m\n\u001B[0;32m   (...)\u001B[0m\n\u001B[1;32m    375\u001B[0m \u001B[38;5;124;03m    RayTaskError: If user-provided trainable raises an exception\u001B[39;00m\n\u001B[1;32m    376\u001B[0m \u001B[38;5;124;03m\"\"\"\u001B[39;00m\n\u001B[1;32m    378\u001B[0m \u001B[38;5;28;01mif\u001B[39;00m \u001B[38;5;129;01mnot\u001B[39;00m \u001B[38;5;28mself\u001B[39m\u001B[38;5;241m.\u001B[39m_is_ray_client:\n\u001B[0;32m--> 379\u001B[0m     \u001B[38;5;28;01mreturn\u001B[39;00m \u001B[38;5;28;43mself\u001B[39;49m\u001B[38;5;241;43m.\u001B[39;49m\u001B[43m_local_tuner\u001B[49m\u001B[38;5;241;43m.\u001B[39;49m\u001B[43mfit\u001B[49m\u001B[43m(\u001B[49m\u001B[43m)\u001B[49m\n\u001B[1;32m    380\u001B[0m \u001B[38;5;28;01melse\u001B[39;00m:\n\u001B[1;32m    381\u001B[0m     (\n\u001B[1;32m    382\u001B[0m         progress_reporter,\n\u001B[1;32m    383\u001B[0m         string_queue,\n\u001B[1;32m    384\u001B[0m     ) \u001B[38;5;241m=\u001B[39m \u001B[38;5;28mself\u001B[39m\u001B[38;5;241m.\u001B[39m_prepare_remote_tuner_for_jupyter_progress_reporting()\n",
      "File \u001B[0;32m~/Desktop/grape/venv/lib/python3.11/site-packages/ray/tune/impl/tuner_internal.py:477\u001B[0m, in \u001B[0;36mTunerInternal.fit\u001B[0;34m(self)\u001B[0m\n\u001B[1;32m    475\u001B[0m param_space \u001B[38;5;241m=\u001B[39m copy\u001B[38;5;241m.\u001B[39mdeepcopy(\u001B[38;5;28mself\u001B[39m\u001B[38;5;241m.\u001B[39mparam_space)\n\u001B[1;32m    476\u001B[0m \u001B[38;5;28;01mif\u001B[39;00m \u001B[38;5;129;01mnot\u001B[39;00m \u001B[38;5;28mself\u001B[39m\u001B[38;5;241m.\u001B[39m_is_restored:\n\u001B[0;32m--> 477\u001B[0m     analysis \u001B[38;5;241m=\u001B[39m \u001B[38;5;28;43mself\u001B[39;49m\u001B[38;5;241;43m.\u001B[39;49m\u001B[43m_fit_internal\u001B[49m\u001B[43m(\u001B[49m\u001B[43mtrainable\u001B[49m\u001B[43m,\u001B[49m\u001B[43m \u001B[49m\u001B[43mparam_space\u001B[49m\u001B[43m)\u001B[49m\n\u001B[1;32m    478\u001B[0m \u001B[38;5;28;01melse\u001B[39;00m:\n\u001B[1;32m    479\u001B[0m     analysis \u001B[38;5;241m=\u001B[39m \u001B[38;5;28mself\u001B[39m\u001B[38;5;241m.\u001B[39m_fit_resume(trainable, param_space)\n",
      "File \u001B[0;32m~/Desktop/grape/venv/lib/python3.11/site-packages/ray/tune/impl/tuner_internal.py:596\u001B[0m, in \u001B[0;36mTunerInternal._fit_internal\u001B[0;34m(self, trainable, param_space)\u001B[0m\n\u001B[1;32m    583\u001B[0m \u001B[38;5;250m\u001B[39m\u001B[38;5;124;03m\"\"\"Fitting for a fresh Tuner.\"\"\"\u001B[39;00m\n\u001B[1;32m    584\u001B[0m args \u001B[38;5;241m=\u001B[39m {\n\u001B[1;32m    585\u001B[0m     \u001B[38;5;241m*\u001B[39m\u001B[38;5;241m*\u001B[39m\u001B[38;5;28mself\u001B[39m\u001B[38;5;241m.\u001B[39m_get_tune_run_arguments(trainable),\n\u001B[1;32m    586\u001B[0m     \u001B[38;5;241m*\u001B[39m\u001B[38;5;241m*\u001B[39m\u001B[38;5;28mdict\u001B[39m(\n\u001B[0;32m   (...)\u001B[0m\n\u001B[1;32m    594\u001B[0m     \u001B[38;5;241m*\u001B[39m\u001B[38;5;241m*\u001B[39m\u001B[38;5;28mself\u001B[39m\u001B[38;5;241m.\u001B[39m_tuner_kwargs,\n\u001B[1;32m    595\u001B[0m }\n\u001B[0;32m--> 596\u001B[0m analysis \u001B[38;5;241m=\u001B[39m \u001B[43mrun\u001B[49m\u001B[43m(\u001B[49m\n\u001B[1;32m    597\u001B[0m \u001B[43m    \u001B[49m\u001B[38;5;241;43m*\u001B[39;49m\u001B[38;5;241;43m*\u001B[39;49m\u001B[43margs\u001B[49m\u001B[43m,\u001B[49m\n\u001B[1;32m    598\u001B[0m \u001B[43m\u001B[49m\u001B[43m)\u001B[49m\n\u001B[1;32m    599\u001B[0m \u001B[38;5;28mself\u001B[39m\u001B[38;5;241m.\u001B[39mclear_remote_string_queue()\n\u001B[1;32m    600\u001B[0m \u001B[38;5;28;01mreturn\u001B[39;00m analysis\n",
      "File \u001B[0;32m~/Desktop/grape/venv/lib/python3.11/site-packages/ray/tune/tune.py:841\u001B[0m, in \u001B[0;36mrun\u001B[0;34m(run_or_experiment, name, metric, mode, stop, time_budget_s, config, resources_per_trial, num_samples, storage_path, storage_filesystem, search_alg, scheduler, checkpoint_config, verbose, progress_reporter, log_to_file, trial_name_creator, trial_dirname_creator, sync_config, export_formats, max_failures, fail_fast, restore, resume, resume_config, reuse_actors, raise_on_failed_trial, callbacks, max_concurrent_trials, keep_checkpoints_num, checkpoint_score_attr, checkpoint_freq, checkpoint_at_end, chdir_to_trial_dir, local_dir, _remote, _remote_string_queue, _entrypoint)\u001B[0m\n\u001B[1;32m    838\u001B[0m \u001B[38;5;28;01mif\u001B[39;00m \u001B[38;5;28misinstance\u001B[39m(search_alg, Searcher):\n\u001B[1;32m    839\u001B[0m     search_alg \u001B[38;5;241m=\u001B[39m SearchGenerator(search_alg)\n\u001B[0;32m--> 841\u001B[0m \u001B[38;5;28;01mif\u001B[39;00m config \u001B[38;5;129;01mand\u001B[39;00m \u001B[38;5;129;01mnot\u001B[39;00m \u001B[43msearcher_set_search_props\u001B[49m\u001B[43m(\u001B[49m\n\u001B[1;32m    842\u001B[0m \u001B[43m    \u001B[49m\u001B[43msearch_alg\u001B[49m\u001B[38;5;241;43m.\u001B[39;49m\u001B[43mset_search_properties\u001B[49m\u001B[43m,\u001B[49m\n\u001B[1;32m    843\u001B[0m \u001B[43m    \u001B[49m\u001B[43mmetric\u001B[49m\u001B[43m,\u001B[49m\n\u001B[1;32m    844\u001B[0m \u001B[43m    \u001B[49m\u001B[43mmode\u001B[49m\u001B[43m,\u001B[49m\n\u001B[1;32m    845\u001B[0m \u001B[43m    \u001B[49m\u001B[43mconfig\u001B[49m\u001B[43m,\u001B[49m\n\u001B[1;32m    846\u001B[0m \u001B[43m    \u001B[49m\u001B[38;5;241;43m*\u001B[39;49m\u001B[38;5;241;43m*\u001B[39;49m\u001B[43mexperiments\u001B[49m\u001B[43m[\u001B[49m\u001B[38;5;241;43m0\u001B[39;49m\u001B[43m]\u001B[49m\u001B[38;5;241;43m.\u001B[39;49m\u001B[43mpublic_spec\u001B[49m\u001B[43m,\u001B[49m\n\u001B[1;32m    847\u001B[0m \u001B[43m\u001B[49m\u001B[43m)\u001B[49m:\n\u001B[1;32m    848\u001B[0m     \u001B[38;5;28;01mif\u001B[39;00m _has_unresolved_values(config):\n\u001B[1;32m    849\u001B[0m         \u001B[38;5;28;01mraise\u001B[39;00m \u001B[38;5;167;01mValueError\u001B[39;00m(\n\u001B[1;32m    850\u001B[0m             \u001B[38;5;124mf\u001B[39m\u001B[38;5;124m\"\u001B[39m\u001B[38;5;124mYou passed a `\u001B[39m\u001B[38;5;132;01m{\u001B[39;00merror_message_map[\u001B[38;5;124m'\u001B[39m\u001B[38;5;124msearch_space_arg\u001B[39m\u001B[38;5;124m'\u001B[39m]\u001B[38;5;132;01m}\u001B[39;00m\u001B[38;5;124m` parameter to \u001B[39m\u001B[38;5;124m\"\u001B[39m\n\u001B[1;32m    851\u001B[0m             \u001B[38;5;124mf\u001B[39m\u001B[38;5;124m\"\u001B[39m\u001B[38;5;124m`\u001B[39m\u001B[38;5;132;01m{\u001B[39;00merror_message_map[\u001B[38;5;124m'\u001B[39m\u001B[38;5;124mentrypoint\u001B[39m\u001B[38;5;124m'\u001B[39m]\u001B[38;5;132;01m}\u001B[39;00m\u001B[38;5;124m` with \u001B[39m\u001B[38;5;124m\"\u001B[39m\n\u001B[0;32m   (...)\u001B[0m\n\u001B[1;32m    855\u001B[0m             \u001B[38;5;124m\"\u001B[39m\u001B[38;5;124mthem in the search algorithm\u001B[39m\u001B[38;5;124m'\u001B[39m\u001B[38;5;124ms search space if necessary.\u001B[39m\u001B[38;5;124m\"\u001B[39m\n\u001B[1;32m    856\u001B[0m         )\n",
      "File \u001B[0;32m~/Desktop/grape/venv/lib/python3.11/site-packages/ray/tune/search/util.py:31\u001B[0m, in \u001B[0;36m_set_search_properties_backwards_compatible\u001B[0;34m(set_search_properties_func, metric, mode, config, **spec)\u001B[0m\n\u001B[1;32m     29\u001B[0m     \u001B[38;5;28;01mreturn\u001B[39;00m set_search_properties_func(metric, mode, config)\n\u001B[1;32m     30\u001B[0m \u001B[38;5;28;01melse\u001B[39;00m:\n\u001B[0;32m---> 31\u001B[0m     \u001B[38;5;28;01mraise\u001B[39;00m e\n",
      "File \u001B[0;32m~/Desktop/grape/venv/lib/python3.11/site-packages/ray/tune/search/util.py:19\u001B[0m, in \u001B[0;36m_set_search_properties_backwards_compatible\u001B[0;34m(set_search_properties_func, metric, mode, config, **spec)\u001B[0m\n\u001B[1;32m     14\u001B[0m \u001B[38;5;250m\u001B[39m\u001B[38;5;124;03m\"\"\"Wraps around set_search_properties() so that it is backward compatible.\u001B[39;00m\n\u001B[1;32m     15\u001B[0m \n\u001B[1;32m     16\u001B[0m \u001B[38;5;124;03mAlso outputs a warning to encourage custom searchers to be updated.\u001B[39;00m\n\u001B[1;32m     17\u001B[0m \u001B[38;5;124;03m\"\"\"\u001B[39;00m\n\u001B[1;32m     18\u001B[0m \u001B[38;5;28;01mtry\u001B[39;00m:\n\u001B[0;32m---> 19\u001B[0m     \u001B[38;5;28;01mreturn\u001B[39;00m \u001B[43mset_search_properties_func\u001B[49m\u001B[43m(\u001B[49m\u001B[43mmetric\u001B[49m\u001B[43m,\u001B[49m\u001B[43m \u001B[49m\u001B[43mmode\u001B[49m\u001B[43m,\u001B[49m\u001B[43m \u001B[49m\u001B[43mconfig\u001B[49m\u001B[43m,\u001B[49m\u001B[43m \u001B[49m\u001B[38;5;241;43m*\u001B[39;49m\u001B[38;5;241;43m*\u001B[39;49m\u001B[43mspec\u001B[49m\u001B[43m)\u001B[49m\n\u001B[1;32m     20\u001B[0m \u001B[38;5;28;01mexcept\u001B[39;00m \u001B[38;5;167;01mTypeError\u001B[39;00m \u001B[38;5;28;01mas\u001B[39;00m e:\n\u001B[1;32m     21\u001B[0m     \u001B[38;5;28;01mif\u001B[39;00m \u001B[38;5;28mstr\u001B[39m(e)\u001B[38;5;241m.\u001B[39mstartswith(\n\u001B[1;32m     22\u001B[0m         \u001B[38;5;124m\"\u001B[39m\u001B[38;5;124mset_search_properties() got an unexpected keyword argument\u001B[39m\u001B[38;5;124m\"\u001B[39m\n\u001B[1;32m     23\u001B[0m     ):\n",
      "\u001B[0;31mTypeError\u001B[0m: BayesOptSearch.set_search_properties() missing 1 required positional argument: 'config'"
     ]
    }
   ],
   "execution_count": 5
  },
  {
   "metadata": {},
   "cell_type": "code",
   "outputs": [],
   "execution_count": null,
   "source": "",
   "id": "db2ea0301f44e1c5"
  }
 ],
 "metadata": {
  "kernelspec": {
   "display_name": "Python 3",
   "language": "python",
   "name": "python3"
  },
  "language_info": {
   "codemirror_mode": {
    "name": "ipython",
    "version": 2
   },
   "file_extension": ".py",
   "mimetype": "text/x-python",
   "name": "python",
   "nbconvert_exporter": "python",
   "pygments_lexer": "ipython2",
   "version": "2.7.6"
  }
 },
 "nbformat": 4,
 "nbformat_minor": 5
}
