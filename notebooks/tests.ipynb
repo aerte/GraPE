{
 "cells": [
  {
   "cell_type": "code",
   "execution_count": null,
   "id": "initial_id",
   "metadata": {
    "collapsed": true,
    "is_executing": true,
    "ExecuteTime": {
     "start_time": "2024-03-01T17:23:52.528945Z"
    }
   },
   "outputs": [
    {
     "name": "stdout",
     "output_type": "stream",
     "text": [
      "Featurizers are fine!\n",
      "174 µs ± 4.3 µs per loop (mean ± std. dev. of 7 runs, 10,000 loops each)\n",
      "81.2 µs ± 380 ns per loop (mean ± std. dev. of 7 runs, 10,000 loops each)\n",
      "33.9 µs ± 68.9 ns per loop (mean ± std. dev. of 7 runs, 10,000 loops each)\n"
     ]
    }
   ],
   "source": [
    "from dglchem.utils import featurizer as fe\n",
    "from dglchem.utils import featurizer_old as fo\n",
    "from rdkit import Chem\n",
    "\n",
    "mol = Chem.MolFromSmiles('COO')\n",
    "feat = fe.AtomFeaturizer()\n",
    "feat_old = fo.AtomFeaturizerOld()\n",
    "\n",
    "bond = fe.BondFeaturizer()\n",
    "bond_old = fo.BondFeaturizer()\n",
    "\n",
    "assert (feat(mol)[0] == feat_old(mol)['h'][0]).all()\n",
    "assert (bond(mol)[0] == bond_old(mol)['e'][0]).all()\n",
    "print('Featurizers are fine!')\n",
    "\n",
    "%timeit feat(mol)\n",
    "%timeit feat_old(mol)\n",
    "%timeit bond(mol)\n",
    "%timeit bond_old(mol)"
   ]
  },
  {
   "cell_type": "markdown",
   "source": [],
   "metadata": {
    "collapsed": false
   },
   "id": "d1beabe02110806a"
  },
  {
   "cell_type": "code",
   "execution_count": 1,
   "outputs": [],
   "source": [
    "from dglchem.data import BradleyDoublePlus\n",
    "data = BradleyDoublePlus()"
   ],
   "metadata": {
    "collapsed": false,
    "ExecuteTime": {
     "end_time": "2024-03-01T16:49:31.309476Z",
     "start_time": "2024-03-01T16:49:27.460968Z"
    }
   },
   "id": "d43e53d0da2fea5"
  },
  {
   "cell_type": "code",
   "execution_count": null,
   "outputs": [],
   "source": [],
   "metadata": {
    "collapsed": false
   },
   "id": "d68757835fc3f4d"
  }
 ],
 "metadata": {
  "kernelspec": {
   "display_name": "Python 3",
   "language": "python",
   "name": "python3"
  },
  "language_info": {
   "codemirror_mode": {
    "name": "ipython",
    "version": 2
   },
   "file_extension": ".py",
   "mimetype": "text/x-python",
   "name": "python",
   "nbconvert_exporter": "python",
   "pygments_lexer": "ipython2",
   "version": "2.7.6"
  }
 },
 "nbformat": 4,
 "nbformat_minor": 5
}
